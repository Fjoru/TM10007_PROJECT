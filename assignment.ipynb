{
  "nbformat": 4,
  "nbformat_minor": 0,
  "metadata": {
    "colab": {
      "name": "assignment.ipynb",
      "provenance": [],
      "collapsed_sections": [],
      "include_colab_link": true
    },
    "kernelspec": {
      "name": "python3",
      "display_name": "Python 3"
    },
    "language_info": {
      "codemirror_mode": {
        "name": "ipython",
        "version": 3
      },
      "file_extension": ".py",
      "mimetype": "text/x-python",
      "name": "python",
      "nbconvert_exporter": "python",
      "pygments_lexer": "ipython3",
      "version": "3.7.4-final"
    },
    "accelerator": "GPU"
  },
  "cells": [
    {
      "cell_type": "markdown",
      "metadata": {
        "id": "view-in-github",
        "colab_type": "text"
      },
      "source": [
        "<a href=\"https://colab.research.google.com/github/Fjoru/TM10007_PROJECT/blob/Erik/assignment.ipynb\" target=\"_parent\"><img src=\"https://colab.research.google.com/assets/colab-badge.svg\" alt=\"Open In Colab\"/></a>"
      ]
    },
    {
      "cell_type": "markdown",
      "metadata": {
        "colab_type": "text",
        "id": "7SXpaKwwGe5x"
      },
      "source": [
        "# TM10007 Assignment Prediction of tumor grade in brain cancer\n",
        "By Jessica Barends, Gonnie van Erp, Erik Kemper en Carlijn Oerlemans"
      ]
    },
    {
      "cell_type": "code",
      "metadata": {
        "id": "3Xw_qQnScF4p",
        "colab_type": "code",
        "outputId": "99a0c06e-38e5-4fd4-ff6f-a2607864df4d",
        "colab": {
          "base_uri": "https://localhost:8080/",
          "height": 807
        }
      },
      "source": [
        "# Run install for use in colab environment\n",
        "!pip install --upgrade pip\n",
        "!pip install -q --upgrade git+https://github.com/Fjoru/TM10007_PROJECT\n",
        "!pip install ipdb -q\n",
        "!pip install seaborn\n",
        "!pip install tensorflow"
      ],
      "execution_count": 1,
      "outputs": [
        {
          "output_type": "stream",
          "text": [
            "Collecting pip\n",
            "\u001b[?25l  Downloading https://files.pythonhosted.org/packages/54/0c/d01aa759fdc501a58f431eb594a17495f15b88da142ce14b5845662c13f3/pip-20.0.2-py2.py3-none-any.whl (1.4MB)\n",
            "\r\u001b[K     |▎                               | 10kB 32.5MB/s eta 0:00:01\r\u001b[K     |▌                               | 20kB 5.8MB/s eta 0:00:01\r\u001b[K     |▊                               | 30kB 7.3MB/s eta 0:00:01\r\u001b[K     |█                               | 40kB 5.5MB/s eta 0:00:01\r\u001b[K     |█▏                              | 51kB 6.0MB/s eta 0:00:01\r\u001b[K     |█▍                              | 61kB 7.0MB/s eta 0:00:01\r\u001b[K     |█▋                              | 71kB 7.6MB/s eta 0:00:01\r\u001b[K     |█▉                              | 81kB 8.0MB/s eta 0:00:01\r\u001b[K     |██                              | 92kB 8.8MB/s eta 0:00:01\r\u001b[K     |██▎                             | 102kB 9.1MB/s eta 0:00:01\r\u001b[K     |██▌                             | 112kB 9.1MB/s eta 0:00:01\r\u001b[K     |██▊                             | 122kB 9.1MB/s eta 0:00:01\r\u001b[K     |███                             | 133kB 9.1MB/s eta 0:00:01\r\u001b[K     |███▏                            | 143kB 9.1MB/s eta 0:00:01\r\u001b[K     |███▍                            | 153kB 9.1MB/s eta 0:00:01\r\u001b[K     |███▋                            | 163kB 9.1MB/s eta 0:00:01\r\u001b[K     |███▉                            | 174kB 9.1MB/s eta 0:00:01\r\u001b[K     |████                            | 184kB 9.1MB/s eta 0:00:01\r\u001b[K     |████▎                           | 194kB 9.1MB/s eta 0:00:01\r\u001b[K     |████▌                           | 204kB 9.1MB/s eta 0:00:01\r\u001b[K     |████▊                           | 215kB 9.1MB/s eta 0:00:01\r\u001b[K     |█████                           | 225kB 9.1MB/s eta 0:00:01\r\u001b[K     |█████▎                          | 235kB 9.1MB/s eta 0:00:01\r\u001b[K     |█████▌                          | 245kB 9.1MB/s eta 0:00:01\r\u001b[K     |█████▊                          | 256kB 9.1MB/s eta 0:00:01\r\u001b[K     |██████                          | 266kB 9.1MB/s eta 0:00:01\r\u001b[K     |██████▏                         | 276kB 9.1MB/s eta 0:00:01\r\u001b[K     |██████▍                         | 286kB 9.1MB/s eta 0:00:01\r\u001b[K     |██████▋                         | 296kB 9.1MB/s eta 0:00:01\r\u001b[K     |██████▉                         | 307kB 9.1MB/s eta 0:00:01\r\u001b[K     |███████                         | 317kB 9.1MB/s eta 0:00:01\r\u001b[K     |███████▎                        | 327kB 9.1MB/s eta 0:00:01\r\u001b[K     |███████▌                        | 337kB 9.1MB/s eta 0:00:01\r\u001b[K     |███████▊                        | 348kB 9.1MB/s eta 0:00:01\r\u001b[K     |████████                        | 358kB 9.1MB/s eta 0:00:01\r\u001b[K     |████████▏                       | 368kB 9.1MB/s eta 0:00:01\r\u001b[K     |████████▍                       | 378kB 9.1MB/s eta 0:00:01\r\u001b[K     |████████▋                       | 389kB 9.1MB/s eta 0:00:01\r\u001b[K     |████████▉                       | 399kB 9.1MB/s eta 0:00:01\r\u001b[K     |█████████                       | 409kB 9.1MB/s eta 0:00:01\r\u001b[K     |█████████▎                      | 419kB 9.1MB/s eta 0:00:01\r\u001b[K     |█████████▌                      | 430kB 9.1MB/s eta 0:00:01\r\u001b[K     |█████████▉                      | 440kB 9.1MB/s eta 0:00:01\r\u001b[K     |██████████                      | 450kB 9.1MB/s eta 0:00:01\r\u001b[K     |██████████▎                     | 460kB 9.1MB/s eta 0:00:01\r\u001b[K     |██████████▌                     | 471kB 9.1MB/s eta 0:00:01\r\u001b[K     |██████████▊                     | 481kB 9.1MB/s eta 0:00:01\r\u001b[K     |███████████                     | 491kB 9.1MB/s eta 0:00:01\r\u001b[K     |███████████▏                    | 501kB 9.1MB/s eta 0:00:01\r\u001b[K     |███████████▍                    | 512kB 9.1MB/s eta 0:00:01\r\u001b[K     |███████████▋                    | 522kB 9.1MB/s eta 0:00:01\r\u001b[K     |███████████▉                    | 532kB 9.1MB/s eta 0:00:01\r\u001b[K     |████████████                    | 542kB 9.1MB/s eta 0:00:01\r\u001b[K     |████████████▎                   | 552kB 9.1MB/s eta 0:00:01\r\u001b[K     |████████████▌                   | 563kB 9.1MB/s eta 0:00:01\r\u001b[K     |████████████▊                   | 573kB 9.1MB/s eta 0:00:01\r\u001b[K     |█████████████                   | 583kB 9.1MB/s eta 0:00:01\r\u001b[K     |█████████████▏                  | 593kB 9.1MB/s eta 0:00:01\r\u001b[K     |█████████████▍                  | 604kB 9.1MB/s eta 0:00:01\r\u001b[K     |█████████████▋                  | 614kB 9.1MB/s eta 0:00:01\r\u001b[K     |█████████████▉                  | 624kB 9.1MB/s eta 0:00:01\r\u001b[K     |██████████████                  | 634kB 9.1MB/s eta 0:00:01\r\u001b[K     |██████████████▎                 | 645kB 9.1MB/s eta 0:00:01\r\u001b[K     |██████████████▌                 | 655kB 9.1MB/s eta 0:00:01\r\u001b[K     |██████████████▉                 | 665kB 9.1MB/s eta 0:00:01\r\u001b[K     |███████████████                 | 675kB 9.1MB/s eta 0:00:01\r\u001b[K     |███████████████▎                | 686kB 9.1MB/s eta 0:00:01\r\u001b[K     |███████████████▌                | 696kB 9.1MB/s eta 0:00:01\r\u001b[K     |███████████████▊                | 706kB 9.1MB/s eta 0:00:01\r\u001b[K     |████████████████                | 716kB 9.1MB/s eta 0:00:01\r\u001b[K     |████████████████▏               | 727kB 9.1MB/s eta 0:00:01\r\u001b[K     |████████████████▍               | 737kB 9.1MB/s eta 0:00:01\r\u001b[K     |████████████████▋               | 747kB 9.1MB/s eta 0:00:01\r\u001b[K     |████████████████▉               | 757kB 9.1MB/s eta 0:00:01\r\u001b[K     |█████████████████               | 768kB 9.1MB/s eta 0:00:01\r\u001b[K     |█████████████████▎              | 778kB 9.1MB/s eta 0:00:01\r\u001b[K     |█████████████████▌              | 788kB 9.1MB/s eta 0:00:01\r\u001b[K     |█████████████████▊              | 798kB 9.1MB/s eta 0:00:01\r\u001b[K     |██████████████████              | 808kB 9.1MB/s eta 0:00:01\r\u001b[K     |██████████████████▏             | 819kB 9.1MB/s eta 0:00:01\r\u001b[K     |██████████████████▍             | 829kB 9.1MB/s eta 0:00:01\r\u001b[K     |██████████████████▋             | 839kB 9.1MB/s eta 0:00:01\r\u001b[K     |██████████████████▉             | 849kB 9.1MB/s eta 0:00:01\r\u001b[K     |███████████████████             | 860kB 9.1MB/s eta 0:00:01\r\u001b[K     |███████████████████▎            | 870kB 9.1MB/s eta 0:00:01\r\u001b[K     |███████████████████▋            | 880kB 9.1MB/s eta 0:00:01\r\u001b[K     |███████████████████▉            | 890kB 9.1MB/s eta 0:00:01\r\u001b[K     |████████████████████            | 901kB 9.1MB/s eta 0:00:01\r\u001b[K     |████████████████████▎           | 911kB 9.1MB/s eta 0:00:01\r\u001b[K     |████████████████████▌           | 921kB 9.1MB/s eta 0:00:01\r\u001b[K     |████████████████████▊           | 931kB 9.1MB/s eta 0:00:01\r\u001b[K     |█████████████████████           | 942kB 9.1MB/s eta 0:00:01\r\u001b[K     |█████████████████████▏          | 952kB 9.1MB/s eta 0:00:01\r\u001b[K     |█████████████████████▍          | 962kB 9.1MB/s eta 0:00:01\r\u001b[K     |█████████████████████▋          | 972kB 9.1MB/s eta 0:00:01\r\u001b[K     |█████████████████████▉          | 983kB 9.1MB/s eta 0:00:01\r\u001b[K     |██████████████████████          | 993kB 9.1MB/s eta 0:00:01\r\u001b[K     |██████████████████████▎         | 1.0MB 9.1MB/s eta 0:00:01\r\u001b[K     |██████████████████████▌         | 1.0MB 9.1MB/s eta 0:00:01\r\u001b[K     |██████████████████████▊         | 1.0MB 9.1MB/s eta 0:00:01\r\u001b[K     |███████████████████████         | 1.0MB 9.1MB/s eta 0:00:01\r\u001b[K     |███████████████████████▏        | 1.0MB 9.1MB/s eta 0:00:01\r\u001b[K     |███████████████████████▍        | 1.1MB 9.1MB/s eta 0:00:01\r\u001b[K     |███████████████████████▋        | 1.1MB 9.1MB/s eta 0:00:01\r\u001b[K     |███████████████████████▉        | 1.1MB 9.1MB/s eta 0:00:01\r\u001b[K     |████████████████████████        | 1.1MB 9.1MB/s eta 0:00:01\r\u001b[K     |████████████████████████▎       | 1.1MB 9.1MB/s eta 0:00:01\r\u001b[K     |████████████████████████▋       | 1.1MB 9.1MB/s eta 0:00:01\r\u001b[K     |████████████████████████▉       | 1.1MB 9.1MB/s eta 0:00:01\r\u001b[K     |█████████████████████████       | 1.1MB 9.1MB/s eta 0:00:01\r\u001b[K     |█████████████████████████▎      | 1.1MB 9.1MB/s eta 0:00:01\r\u001b[K     |█████████████████████████▌      | 1.1MB 9.1MB/s eta 0:00:01\r\u001b[K     |█████████████████████████▊      | 1.2MB 9.1MB/s eta 0:00:01\r\u001b[K     |██████████████████████████      | 1.2MB 9.1MB/s eta 0:00:01\r\u001b[K     |██████████████████████████▏     | 1.2MB 9.1MB/s eta 0:00:01\r\u001b[K     |██████████████████████████▍     | 1.2MB 9.1MB/s eta 0:00:01\r\u001b[K     |██████████████████████████▋     | 1.2MB 9.1MB/s eta 0:00:01\r\u001b[K     |██████████████████████████▉     | 1.2MB 9.1MB/s eta 0:00:01\r\u001b[K     |███████████████████████████     | 1.2MB 9.1MB/s eta 0:00:01\r\u001b[K     |███████████████████████████▎    | 1.2MB 9.1MB/s eta 0:00:01\r\u001b[K     |███████████████████████████▌    | 1.2MB 9.1MB/s eta 0:00:01\r\u001b[K     |███████████████████████████▊    | 1.2MB 9.1MB/s eta 0:00:01\r\u001b[K     |████████████████████████████    | 1.3MB 9.1MB/s eta 0:00:01\r\u001b[K     |████████████████████████████▏   | 1.3MB 9.1MB/s eta 0:00:01\r\u001b[K     |████████████████████████████▍   | 1.3MB 9.1MB/s eta 0:00:01\r\u001b[K     |████████████████████████████▋   | 1.3MB 9.1MB/s eta 0:00:01\r\u001b[K     |████████████████████████████▉   | 1.3MB 9.1MB/s eta 0:00:01\r\u001b[K     |█████████████████████████████   | 1.3MB 9.1MB/s eta 0:00:01\r\u001b[K     |█████████████████████████████▍  | 1.3MB 9.1MB/s eta 0:00:01\r\u001b[K     |█████████████████████████████▋  | 1.3MB 9.1MB/s eta 0:00:01\r\u001b[K     |█████████████████████████████▉  | 1.3MB 9.1MB/s eta 0:00:01\r\u001b[K     |██████████████████████████████  | 1.4MB 9.1MB/s eta 0:00:01\r\u001b[K     |██████████████████████████████▎ | 1.4MB 9.1MB/s eta 0:00:01\r\u001b[K     |██████████████████████████████▌ | 1.4MB 9.1MB/s eta 0:00:01\r\u001b[K     |██████████████████████████████▊ | 1.4MB 9.1MB/s eta 0:00:01\r\u001b[K     |███████████████████████████████ | 1.4MB 9.1MB/s eta 0:00:01\r\u001b[K     |███████████████████████████████▏| 1.4MB 9.1MB/s eta 0:00:01\r\u001b[K     |███████████████████████████████▍| 1.4MB 9.1MB/s eta 0:00:01\r\u001b[K     |███████████████████████████████▋| 1.4MB 9.1MB/s eta 0:00:01\r\u001b[K     |███████████████████████████████▉| 1.4MB 9.1MB/s eta 0:00:01\r\u001b[K     |████████████████████████████████| 1.4MB 9.1MB/s \n",
            "\u001b[?25hInstalling collected packages: pip\n",
            "  Found existing installation: pip 19.3.1\n",
            "    Uninstalling pip-19.3.1:\n",
            "      Successfully uninstalled pip-19.3.1\n",
            "Successfully installed pip-20.0.2\n",
            "  Building wheel for brats (setup.py) ... \u001b[?25l\u001b[?25hdone\n",
            "  Building wheel for ipdb (setup.py) ... \u001b[?25l\u001b[?25hdone\n",
            "Requirement already satisfied: seaborn in /usr/local/lib/python3.6/dist-packages (0.10.0)\n",
            "Requirement already satisfied: scipy>=1.0.1 in /usr/local/lib/python3.6/dist-packages (from seaborn) (1.4.1)\n",
            "Requirement already satisfied: matplotlib>=2.1.2 in /usr/local/lib/python3.6/dist-packages (from seaborn) (3.2.1)\n",
            "Requirement already satisfied: numpy>=1.13.3 in /usr/local/lib/python3.6/dist-packages (from seaborn) (1.18.2)\n",
            "Requirement already satisfied: pandas>=0.22.0 in /usr/local/lib/python3.6/dist-packages (from seaborn) (0.25.3)\n",
            "Requirement already satisfied: cycler>=0.10 in /usr/local/lib/python3.6/dist-packages (from matplotlib>=2.1.2->seaborn) (0.10.0)\n",
            "Requirement already satisfied: kiwisolver>=1.0.1 in /usr/local/lib/python3.6/dist-packages (from matplotlib>=2.1.2->seaborn) (1.1.0)\n",
            "Requirement already satisfied: python-dateutil>=2.1 in /usr/local/lib/python3.6/dist-packages (from matplotlib>=2.1.2->seaborn) (2.8.1)\n",
            "Requirement already satisfied: pyparsing!=2.0.4,!=2.1.2,!=2.1.6,>=2.0.1 in /usr/local/lib/python3.6/dist-packages (from matplotlib>=2.1.2->seaborn) (2.4.6)\n",
            "Requirement already satisfied: pytz>=2017.2 in /usr/local/lib/python3.6/dist-packages (from pandas>=0.22.0->seaborn) (2018.9)\n",
            "Requirement already satisfied: six in /usr/local/lib/python3.6/dist-packages (from cycler>=0.10->matplotlib>=2.1.2->seaborn) (1.12.0)\n",
            "Requirement already satisfied: setuptools in /usr/local/lib/python3.6/dist-packages (from kiwisolver>=1.0.1->matplotlib>=2.1.2->seaborn) (46.0.0)\n",
            "Requirement already satisfied: tensorflow in /tensorflow-1.15.0/python3.6 (1.15.0)\n",
            "Requirement already satisfied: gast==0.2.2 in /usr/local/lib/python3.6/dist-packages (from tensorflow) (0.2.2)\n",
            "Requirement already satisfied: grpcio>=1.8.6 in /usr/local/lib/python3.6/dist-packages (from tensorflow) (1.24.3)\n",
            "Requirement already satisfied: keras-applications>=1.0.8 in /usr/local/lib/python3.6/dist-packages (from tensorflow) (1.0.8)\n",
            "Requirement already satisfied: numpy<2.0,>=1.16.0 in /usr/local/lib/python3.6/dist-packages (from tensorflow) (1.18.2)\n",
            "Requirement already satisfied: tensorboard<1.16.0,>=1.15.0 in /tensorflow-1.15.0/python3.6 (from tensorflow) (1.15.0)\n",
            "Requirement already satisfied: wheel>=0.26 in /usr/local/lib/python3.6/dist-packages (from tensorflow) (0.34.2)\n",
            "Requirement already satisfied: keras-preprocessing>=1.0.5 in /usr/local/lib/python3.6/dist-packages (from tensorflow) (1.1.0)\n",
            "Requirement already satisfied: opt-einsum>=2.3.2 in /usr/local/lib/python3.6/dist-packages (from tensorflow) (3.2.0)\n",
            "Requirement already satisfied: termcolor>=1.1.0 in /usr/local/lib/python3.6/dist-packages (from tensorflow) (1.1.0)\n",
            "Requirement already satisfied: google-pasta>=0.1.6 in /usr/local/lib/python3.6/dist-packages (from tensorflow) (0.2.0)\n",
            "Requirement already satisfied: six>=1.10.0 in /usr/local/lib/python3.6/dist-packages (from tensorflow) (1.12.0)\n",
            "Requirement already satisfied: astor>=0.6.0 in /usr/local/lib/python3.6/dist-packages (from tensorflow) (0.8.1)\n",
            "Requirement already satisfied: tensorflow-estimator==1.15.1 in /tensorflow-1.15.0/python3.6 (from tensorflow) (1.15.1)\n",
            "Requirement already satisfied: absl-py>=0.7.0 in /usr/local/lib/python3.6/dist-packages (from tensorflow) (0.9.0)\n",
            "Requirement already satisfied: wrapt>=1.11.1 in /usr/local/lib/python3.6/dist-packages (from tensorflow) (1.12.1)\n",
            "Requirement already satisfied: protobuf>=3.6.1 in /usr/local/lib/python3.6/dist-packages (from tensorflow) (3.10.0)\n",
            "Requirement already satisfied: h5py in /usr/local/lib/python3.6/dist-packages (from keras-applications>=1.0.8->tensorflow) (2.8.0)\n",
            "Requirement already satisfied: werkzeug>=0.11.15 in /usr/local/lib/python3.6/dist-packages (from tensorboard<1.16.0,>=1.15.0->tensorflow) (1.0.0)\n",
            "Requirement already satisfied: setuptools>=41.0.0 in /usr/local/lib/python3.6/dist-packages (from tensorboard<1.16.0,>=1.15.0->tensorflow) (46.0.0)\n",
            "Requirement already satisfied: markdown>=2.6.8 in /usr/local/lib/python3.6/dist-packages (from tensorboard<1.16.0,>=1.15.0->tensorflow) (3.2.1)\n"
          ],
          "name": "stdout"
        }
      ]
    },
    {
      "cell_type": "markdown",
      "metadata": {
        "id": "MF9cuHLcdguY",
        "colab_type": "text"
      },
      "source": [
        "## Import section\n"
      ]
    },
    {
      "cell_type": "code",
      "metadata": {
        "id": "-6pgvYp3dGOO",
        "colab_type": "code",
        "colab": {}
      },
      "source": [
        "import ipdb\n",
        "import pandas as pd\n",
        "import seaborn as sns\n",
        "import numpy as np\n",
        "# import tensorflow as tf\n",
        "\n",
        "# Classifiers\n",
        "from sklearn import preprocessing\n",
        "from sklearn import model_selection\n",
        "from sklearn import metrics"
      ],
      "execution_count": 0,
      "outputs": []
    },
    {
      "cell_type": "markdown",
      "metadata": {
        "id": "LQ-dUjXUpFAG",
        "colab_type": "text"
      },
      "source": [
        "## preprocessing"
      ]
    },
    {
      "cell_type": "code",
      "metadata": {
        "id": "YyRkeYMXnkN-",
        "colab_type": "code",
        "colab": {}
      },
      "source": [
        "def Replace(i):\n",
        "    if isinstance(i, int):\n",
        "          return i\n",
        "    try:\n",
        "        float(i)\n",
        "        return float(i)\n",
        "    except:\n",
        "        return np.nan\n",
        "\n",
        "def preprocessing_steps(data):\n",
        "    # remove strings from data\n",
        "    data_X = data_X.applymap(func=Replace)\n",
        "\n",
        "    # set 0.0 as NaN\n",
        "\n",
        "    # set Inf as NaN\n",
        "    pd.options.mode.use_inf_as_na = True # inf waardes zien als nan\n",
        "\n",
        "    # remove features with less than 60% values\n",
        "    data_X = data_X.dropna(thresh=round(len(data_X)*0.8), axis='columns')\n",
        "\n",
        "    # remove sample with less than 60% values\n",
        "    #labels\n",
        "    #waardes\n",
        "\n",
        "    # Add missing value's \n",
        "    data_X = data_X.fillna(0)\n",
        "\n",
        "    # normalisation of values\n",
        "    data_X = pd.DataFrame(preprocessing.normalize(data_X.T, norm='l2'), columns=data_X.index, index=data_X.columns )\n",
        "    data_X = data_X.T\n",
        "\n",
        "    return data_X, data_Y"
      ],
      "execution_count": 0,
      "outputs": []
    },
    {
      "cell_type": "markdown",
      "metadata": {
        "colab_type": "text",
        "id": "jCKzUBX7rpOj"
      },
      "source": [
        "## Run Pipeline\n",
        "\n",
        "run all predefined steps"
      ]
    },
    {
      "cell_type": "code",
      "metadata": {
        "id": "1IYk4DjwcF48",
        "colab_type": "code",
        "outputId": "8b2f2130-2587-431f-d8c2-587763ba9559",
        "colab": {
          "base_uri": "https://localhost:8080/",
          "height": 54
        }
      },
      "source": [
        "# Data loading functions.\n",
        "from brats.load_data import load_data\n",
        "\n",
        "data = load_data()\n",
        "print(f'The number of samples: {len(data.index)}')\n",
        "print(f'The number of columns: {len(data.columns)}')\n",
        "data = pd.DataFrame(data)\n",
        "\n",
        "# split labels and values\n",
        "data_X = data.drop(columns=['label'])\n",
        "data_Y = data[['label']]\n",
        "\n",
        "# data split index forming\n",
        "Test_split = model_selection.StratifiedKFold(n_splits=10)\n",
        "\n",
        "# save data to csv for manual check\n",
        "#data_X.to_csv('data_X.csv')\n",
        "#data_Y.to_csv('data_Y.csv')\n",
        "\n",
        "# change data to numpy format\n",
        "data_X = np.array(data_X)\n",
        "data_Y = np.array(data_Y)\n",
        "\n",
        "for design_index, test_index in Test_split.split(data_X, data_Y):\n",
        "    X_design = data_X[design_index]\n",
        "    Y_design = data_Y[design_index]\n",
        "    \n",
        "    X_test = data_X[test_index]\n",
        "    Y_test = data_Y[test_index]\n",
        "\n",
        "    # run preprocessing step\n",
        "    X_design, Y_design = preprocessing_steps(X_design, Y_design)\n"
      ],
      "execution_count": 5,
      "outputs": [
        {
          "output_type": "stream",
          "text": [
            "The number of samples: 167\n",
            "The number of columns: 725\n"
          ],
          "name": "stdout"
        }
      ]
    }
  ]
}