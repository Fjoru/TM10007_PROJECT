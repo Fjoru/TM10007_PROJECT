{
  "nbformat": 4,
  "nbformat_minor": 0,
  "metadata": {
    "colab": {
      "name": "assignment.ipynb",
      "provenance": [],
      "collapsed_sections": [],
      "toc_visible": true,
      "include_colab_link": true
    },
    "kernelspec": {
      "name": "python3",
      "display_name": "Python 3"
    },
    "language_info": {
      "codemirror_mode": {
        "name": "ipython",
        "version": 3
      },
      "file_extension": ".py",
      "mimetype": "text/x-python",
      "name": "python",
      "nbconvert_exporter": "python",
      "pygments_lexer": "ipython3",
      "version": "3.7.4-final"
    }
  },
  "cells": [
    {
      "cell_type": "markdown",
      "metadata": {
        "id": "view-in-github",
        "colab_type": "text"
      },
      "source": [
        "<a href=\"https://colab.research.google.com/github/Fjoru/TM10007_PROJECT/blob/master/assignment.ipynb\" target=\"_parent\"><img src=\"https://colab.research.google.com/assets/colab-badge.svg\" alt=\"Open In Colab\"/></a>"
      ]
    },
    {
      "cell_type": "markdown",
      "metadata": {
        "colab_type": "text",
        "id": "7SXpaKwwGe5x"
      },
      "source": [
        "# TM10007 Assignment Prediction of tumor grade in brain cancer\n",
        "By Jessica Barends, Gonnie van Erp, Erik Kemper en Carlijn Oerlemans\n",
        "\n"
      ]
    },
    {
      "cell_type": "markdown",
      "metadata": {
        "id": "ZcXbVrrHA1sC",
        "colab_type": "text"
      },
      "source": [
        "## Set-up\n",
        "Getting the dataset and used packages."
      ]
    },
    {
      "cell_type": "code",
      "metadata": {
        "id": "3Xw_qQnScF4p",
        "colab_type": "code",
        "outputId": "7b44c0af-fb97-49fe-bc9e-b4d45674a414",
        "colab": {
          "base_uri": "https://localhost:8080/",
          "height": 919
        }
      },
      "source": [
        "# Run install for use in colab environment\n",
        "!pip install --upgrade pip\n",
        "!pip install -q --upgrade git+https://github.com/Fjoru/TM10007_PROJECT\n",
        "!pip install ipdb -q\n",
        "!pip install seaborn\n",
        "!pip install tensorflow"
      ],
      "execution_count": 108,
      "outputs": [
        {
          "output_type": "stream",
          "text": [
            "Requirement already up-to-date: pip in /usr/local/lib/python3.6/dist-packages (20.0.2)\n",
            "  Building wheel for brats (setup.py) ... \u001b[?25l\u001b[?25hdone\n",
            "Requirement already satisfied: seaborn in /usr/local/lib/python3.6/dist-packages (0.10.0)\n",
            "Requirement already satisfied: matplotlib>=2.1.2 in /usr/local/lib/python3.6/dist-packages (from seaborn) (3.2.1)\n",
            "Requirement already satisfied: numpy>=1.13.3 in /usr/local/lib/python3.6/dist-packages (from seaborn) (1.18.2)\n",
            "Requirement already satisfied: pandas>=0.22.0 in /usr/local/lib/python3.6/dist-packages (from seaborn) (1.0.3)\n",
            "Requirement already satisfied: scipy>=1.0.1 in /usr/local/lib/python3.6/dist-packages (from seaborn) (1.4.1)\n",
            "Requirement already satisfied: python-dateutil>=2.1 in /usr/local/lib/python3.6/dist-packages (from matplotlib>=2.1.2->seaborn) (2.8.1)\n",
            "Requirement already satisfied: cycler>=0.10 in /usr/local/lib/python3.6/dist-packages (from matplotlib>=2.1.2->seaborn) (0.10.0)\n",
            "Requirement already satisfied: kiwisolver>=1.0.1 in /usr/local/lib/python3.6/dist-packages (from matplotlib>=2.1.2->seaborn) (1.2.0)\n",
            "Requirement already satisfied: pyparsing!=2.0.4,!=2.1.2,!=2.1.6,>=2.0.1 in /usr/local/lib/python3.6/dist-packages (from matplotlib>=2.1.2->seaborn) (2.4.6)\n",
            "Requirement already satisfied: pytz>=2017.2 in /usr/local/lib/python3.6/dist-packages (from pandas>=0.22.0->seaborn) (2018.9)\n",
            "Requirement already satisfied: six>=1.5 in /usr/local/lib/python3.6/dist-packages (from python-dateutil>=2.1->matplotlib>=2.1.2->seaborn) (1.12.0)\n",
            "Requirement already satisfied: tensorflow in /usr/local/lib/python3.6/dist-packages (2.2.0rc2)\n",
            "Requirement already satisfied: protobuf>=3.8.0 in /usr/local/lib/python3.6/dist-packages (from tensorflow) (3.10.0)\n",
            "Requirement already satisfied: tensorflow-estimator<2.3.0,>=2.2.0rc0 in /usr/local/lib/python3.6/dist-packages (from tensorflow) (2.2.0rc0)\n",
            "Requirement already satisfied: gast==0.3.3 in /usr/local/lib/python3.6/dist-packages (from tensorflow) (0.3.3)\n",
            "Requirement already satisfied: absl-py>=0.7.0 in /usr/local/lib/python3.6/dist-packages (from tensorflow) (0.9.0)\n",
            "Requirement already satisfied: tensorboard<2.3.0,>=2.2.0 in /usr/local/lib/python3.6/dist-packages (from tensorflow) (2.2.0)\n",
            "Requirement already satisfied: astunparse==1.6.3 in /usr/local/lib/python3.6/dist-packages (from tensorflow) (1.6.3)\n",
            "Requirement already satisfied: termcolor>=1.1.0 in /usr/local/lib/python3.6/dist-packages (from tensorflow) (1.1.0)\n",
            "Requirement already satisfied: h5py<2.11.0,>=2.10.0 in /usr/local/lib/python3.6/dist-packages (from tensorflow) (2.10.0)\n",
            "Requirement already satisfied: grpcio>=1.8.6 in /usr/local/lib/python3.6/dist-packages (from tensorflow) (1.27.2)\n",
            "Requirement already satisfied: google-pasta>=0.1.8 in /usr/local/lib/python3.6/dist-packages (from tensorflow) (0.2.0)\n",
            "Requirement already satisfied: wheel>=0.26; python_version >= \"3\" in /usr/local/lib/python3.6/dist-packages (from tensorflow) (0.34.2)\n",
            "Requirement already satisfied: keras-preprocessing>=1.1.0 in /usr/local/lib/python3.6/dist-packages (from tensorflow) (1.1.0)\n",
            "Requirement already satisfied: wrapt>=1.11.1 in /usr/local/lib/python3.6/dist-packages (from tensorflow) (1.12.1)\n",
            "Requirement already satisfied: scipy==1.4.1; python_version >= \"3\" in /usr/local/lib/python3.6/dist-packages (from tensorflow) (1.4.1)\n",
            "Requirement already satisfied: opt-einsum>=2.3.2 in /usr/local/lib/python3.6/dist-packages (from tensorflow) (3.2.0)\n",
            "Requirement already satisfied: six>=1.12.0 in /usr/local/lib/python3.6/dist-packages (from tensorflow) (1.12.0)\n",
            "Requirement already satisfied: numpy<2.0,>=1.16.0 in /usr/local/lib/python3.6/dist-packages (from tensorflow) (1.18.2)\n",
            "Requirement already satisfied: setuptools in /usr/local/lib/python3.6/dist-packages (from protobuf>=3.8.0->tensorflow) (46.1.3)\n",
            "Requirement already satisfied: tensorboard-plugin-wit>=1.6.0 in /usr/local/lib/python3.6/dist-packages (from tensorboard<2.3.0,>=2.2.0->tensorflow) (1.6.0.post2)\n",
            "Requirement already satisfied: requests<3,>=2.21.0 in /usr/local/lib/python3.6/dist-packages (from tensorboard<2.3.0,>=2.2.0->tensorflow) (2.21.0)\n",
            "Requirement already satisfied: google-auth-oauthlib<0.5,>=0.4.1 in /usr/local/lib/python3.6/dist-packages (from tensorboard<2.3.0,>=2.2.0->tensorflow) (0.4.1)\n",
            "Requirement already satisfied: markdown>=2.6.8 in /usr/local/lib/python3.6/dist-packages (from tensorboard<2.3.0,>=2.2.0->tensorflow) (3.2.1)\n",
            "Requirement already satisfied: google-auth<2,>=1.6.3 in /usr/local/lib/python3.6/dist-packages (from tensorboard<2.3.0,>=2.2.0->tensorflow) (1.7.2)\n",
            "Requirement already satisfied: werkzeug>=0.11.15 in /usr/local/lib/python3.6/dist-packages (from tensorboard<2.3.0,>=2.2.0->tensorflow) (1.0.1)\n",
            "Requirement already satisfied: certifi>=2017.4.17 in /usr/local/lib/python3.6/dist-packages (from requests<3,>=2.21.0->tensorboard<2.3.0,>=2.2.0->tensorflow) (2019.11.28)\n",
            "Requirement already satisfied: chardet<3.1.0,>=3.0.2 in /usr/local/lib/python3.6/dist-packages (from requests<3,>=2.21.0->tensorboard<2.3.0,>=2.2.0->tensorflow) (3.0.4)\n",
            "Requirement already satisfied: idna<2.9,>=2.5 in /usr/local/lib/python3.6/dist-packages (from requests<3,>=2.21.0->tensorboard<2.3.0,>=2.2.0->tensorflow) (2.8)\n",
            "Requirement already satisfied: urllib3<1.25,>=1.21.1 in /usr/local/lib/python3.6/dist-packages (from requests<3,>=2.21.0->tensorboard<2.3.0,>=2.2.0->tensorflow) (1.24.3)\n",
            "Requirement already satisfied: requests-oauthlib>=0.7.0 in /usr/local/lib/python3.6/dist-packages (from google-auth-oauthlib<0.5,>=0.4.1->tensorboard<2.3.0,>=2.2.0->tensorflow) (1.3.0)\n",
            "Requirement already satisfied: rsa<4.1,>=3.1.4 in /usr/local/lib/python3.6/dist-packages (from google-auth<2,>=1.6.3->tensorboard<2.3.0,>=2.2.0->tensorflow) (4.0)\n",
            "Requirement already satisfied: pyasn1-modules>=0.2.1 in /usr/local/lib/python3.6/dist-packages (from google-auth<2,>=1.6.3->tensorboard<2.3.0,>=2.2.0->tensorflow) (0.2.8)\n",
            "Requirement already satisfied: cachetools<3.2,>=2.0.0 in /usr/local/lib/python3.6/dist-packages (from google-auth<2,>=1.6.3->tensorboard<2.3.0,>=2.2.0->tensorflow) (3.1.1)\n",
            "Requirement already satisfied: oauthlib>=3.0.0 in /usr/local/lib/python3.6/dist-packages (from requests-oauthlib>=0.7.0->google-auth-oauthlib<0.5,>=0.4.1->tensorboard<2.3.0,>=2.2.0->tensorflow) (3.1.0)\n",
            "Requirement already satisfied: pyasn1>=0.1.3 in /usr/local/lib/python3.6/dist-packages (from rsa<4.1,>=3.1.4->google-auth<2,>=1.6.3->tensorboard<2.3.0,>=2.2.0->tensorflow) (0.4.8)\n"
          ],
          "name": "stdout"
        }
      ]
    },
    {
      "cell_type": "markdown",
      "metadata": {
        "id": "MF9cuHLcdguY",
        "colab_type": "text"
      },
      "source": [
        "### Import section\n"
      ]
    },
    {
      "cell_type": "code",
      "metadata": {
        "id": "-6pgvYp3dGOO",
        "colab_type": "code",
        "colab": {}
      },
      "source": [
        "import ipdb\n",
        "import pandas as pd\n",
        "import seaborn as sns\n",
        "import numpy as np\n",
        "import matplotlib.pyplot as plt\n",
        "from time import time\n",
        "import itertools\n",
        "\n",
        "# General\n",
        "from sklearn.model_selection import StratifiedKFold\n",
        "\n",
        "# Preprocessing\n",
        "from sklearn.preprocessing import RobustScaler\n",
        "from sklearn.experimental import enable_iterative_imputer\n",
        "from sklearn.impute import IterativeImputer\n",
        "\n",
        "# Feature selection\n",
        "from sklearn.feature_selection import RFECV\n",
        "\n",
        "# Feature extraction\n",
        "from sklearn.decomposition import PCA\n",
        "from sklearn.decomposition import KernelPCA\n",
        "from sklearn.decomposition import TruncatedSVD\n",
        "import umap\n",
        "\n",
        "# Classifiers used in random search\n",
        "from sklearn import svm\n",
        "from sklearn.discriminant_analysis import LinearDiscriminantAnalysis\n",
        "from sklearn.ensemble import RandomForestClassifier\n",
        "from sklearn.neighbors import KNeighborsClassifier\n",
        "from sklearn.model_selection import RandomizedSearchCV\n",
        "\n",
        "# Evaluation metrics used\n",
        "from sklearn.metrics import accuracy_score\n",
        "from sklearn.metrics import f1_score\n",
        "from sklearn.metrics import roc_auc_score\n",
        "from sklearn.metrics import make_scorer\n",
        "\n",
        "# Optional \n",
        "#from pprint import pprint\n",
        "#import tensorflow as tf\n",
        "#from sklearn import preprocessing\n",
        "#from sklearn.ensemble import ExtraTreesClassifier\n",
        "#from sklearn.feature_selection import SelectFromModel\n",
        "#from sklearn.model_selection import cross_validate\n",
        "#from sklearn.model_selection import GridSearchCV\n",
        "#from sklearn.pipeline import Pipeline\n",
        "#from sklearn import model_selection"
      ],
      "execution_count": 0,
      "outputs": []
    },
    {
      "cell_type": "markdown",
      "metadata": {
        "id": "hRkslrxO-_mY",
        "colab_type": "text"
      },
      "source": [
        "### General definitions"
      ]
    },
    {
      "cell_type": "code",
      "metadata": {
        "id": "H5EOPRcBdErp",
        "colab_type": "code",
        "colab": {}
      },
      "source": [
        "def colorplot(clf, ax, x, y, h=100, precomputer=None):\n",
        "    '''\n",
        "    Overlay the decision areas as colors in an axes.\n",
        "    \n",
        "    Input:\n",
        "        clf: trained classifier\n",
        "        ax: axis to overlay color mesh on\n",
        "        x: feature on x-axis\n",
        "        y: feature on y-axis\n",
        "        h(optional): steps in the mesh\n",
        "    '''\n",
        "    # Create a meshgrid the size of the axis\n",
        "    xstep = (x.max() - x.min() ) / 20.0\n",
        "    ystep = (y.max() - y.min() ) / 20.0\n",
        "    x_min, x_max = x.min() - xstep, x.max() + xstep\n",
        "    y_min, y_max = y.min() - ystep, y.max() + ystep\n",
        "    h = max((x_max - x_min, y_max - y_min))/h\n",
        "    xx, yy = np.meshgrid(np.arange(x_min, x_max, h),\n",
        "                         np.arange(y_min, y_max, h))\n",
        "\n",
        "    features = np.c_[xx.ravel(), yy.ravel()]\n",
        "    if precomputer is not None:\n",
        "        if type(precomputer) is RBFSampler:\n",
        "            features = precomputer.transform(features)\n",
        "        elif precomputer is rbf_kernel:\n",
        "            features = rbf_kernel(features, X)\n",
        "            \n",
        "    # Plot the decision boundary. For that, we will assign a color to each\n",
        "    # point in the mesh [x_min, x_max]x[y_min, y_max].\n",
        "    if hasattr(clf, \"decision_function\"):\n",
        "        Z = clf.decision_function(features)\n",
        "    else:\n",
        "        Z = clf.predict_proba(features)\n",
        "    if len(Z.shape) > 1:\n",
        "        Z = Z[:, 1]\n",
        "    \n",
        "    # Put the result into a color plot\n",
        "    cm = plt.cm.RdBu_r\n",
        "    Z = Z.reshape(xx.shape)\n",
        "    ax.contourf(xx, yy, Z, cmap=cm, alpha=.8)\n",
        "    del xx, yy, x_min, x_max, y_min, y_max, Z, cm"
      ],
      "execution_count": 0,
      "outputs": []
    },
    {
      "cell_type": "markdown",
      "metadata": {
        "id": "115eK7LmEnpQ",
        "colab_type": "text"
      },
      "source": [
        "## Dataset processing\n",
        "Filter the dataset for better classification results."
      ]
    },
    {
      "cell_type": "markdown",
      "metadata": {
        "id": "Yuy9j8RkOv1D",
        "colab_type": "text"
      },
      "source": [
        "### Definition set\n",
        "Contains all used definitions for the prepocessing of the dataset."
      ]
    },
    {
      "cell_type": "markdown",
      "metadata": {
        "id": "MxniZ92VFN6n",
        "colab_type": "text"
      },
      "source": [
        "Load dataset"
      ]
    },
    {
      "cell_type": "code",
      "metadata": {
        "id": "a8emRaZt_jdS",
        "colab_type": "code",
        "colab": {}
      },
      "source": [
        "def load_data(splits):\n",
        "  '''\n",
        "  load brats database and split values from labels\n",
        "\n",
        "  '''\n",
        "  # Data loading functions.\n",
        "  from brats.load_data import load_data\n",
        "\n",
        "  data = load_data()\n",
        "  print('data loaded')\n",
        "  print(f'The number of samples: {len(data.index)}')\n",
        "  print(f'The number of columns: {len(data.columns)}')\n",
        "  data = pd.DataFrame(data)\n",
        "\n",
        "  # split labels and values\n",
        "  data_X = data.drop(columns=['label'])\n",
        "  data_Y = data[['label']]\n",
        "  \n",
        "  # data split index forming\n",
        "  Test_split = StratifiedKFold(n_splits=splits)\n",
        "  \n",
        "  return data_X, data_Y, Test_split"
      ],
      "execution_count": 0,
      "outputs": []
    },
    {
      "cell_type": "markdown",
      "metadata": {
        "id": "UhSsbH8KF2NX",
        "colab_type": "text"
      },
      "source": [
        "remove strings from data"
      ]
    },
    {
      "cell_type": "code",
      "metadata": {
        "id": "n35sNcHfBCoB",
        "colab_type": "code",
        "colab": {}
      },
      "source": [
        "def replace_str(i):\n",
        "    '''Function to set strings into NaN within a matrix'''\n",
        "\n",
        "    if isinstance(i, int):\n",
        "          return i\n",
        "    try:\n",
        "        float(i)\n",
        "        return float(i)\n",
        "    except:\n",
        "        return np.nan"
      ],
      "execution_count": 0,
      "outputs": []
    },
    {
      "cell_type": "markdown",
      "metadata": {
        "id": "C67a-vPzF5VX",
        "colab_type": "text"
      },
      "source": [
        "remove zeros and Inf from matrix"
      ]
    },
    {
      "cell_type": "code",
      "metadata": {
        "id": "vnV-w_kxGAlK",
        "colab_type": "code",
        "colab": {}
      },
      "source": [
        "def replace_inf(X_data):\n",
        "    # set 0.0 as NaN\n",
        "    X_data.replace(0, np.nan, inplace=True)\n",
        "\n",
        "    # set Inf as NaN\n",
        "    X_data.replace([np.inf, -np.inf], np.nan, inplace=True)\n",
        "    \n",
        "    return X_data"
      ],
      "execution_count": 0,
      "outputs": []
    },
    {
      "cell_type": "markdown",
      "metadata": {
        "id": "_SI_xLIAGpCT",
        "colab_type": "text"
      },
      "source": [
        "remove samples with less than 60% values"
      ]
    },
    {
      "cell_type": "code",
      "metadata": {
        "id": "ZQ95SKYvL2V_",
        "colab_type": "code",
        "colab": {}
      },
      "source": [
        "def remove_sample(X_data, Y_data, n_value):\n",
        "    # remove sample with less than n% values\n",
        "    X_data = X_data.dropna(thresh=round(X_data.shape[1]*n_value))\n",
        "    Y_data = Y_data.loc[X_data.index]\n",
        "\n",
        "    return X_data, Y_data"
      ],
      "execution_count": 0,
      "outputs": []
    },
    {
      "cell_type": "markdown",
      "metadata": {
        "id": "IgwiMUofHbEV",
        "colab_type": "text"
      },
      "source": [
        "remove samples without a label"
      ]
    },
    {
      "cell_type": "code",
      "metadata": {
        "id": "SIEGTSl7HfIU",
        "colab_type": "code",
        "colab": {}
      },
      "source": [
        "def remove_labeless(X_data, Y_data):\n",
        "    # remove samples without a label\n",
        "    Y_data['label'].replace(np.nan, '', inplace=True)\n",
        "    Y_data = Y_data[Y_data['label'].astype(bool)]\n",
        "    X_data = X_data.loc[Y_data.index]\n",
        "\n",
        "    return X_data, Y_data"
      ],
      "execution_count": 0,
      "outputs": []
    },
    {
      "cell_type": "markdown",
      "metadata": {
        "id": "HsyekXDuH9n2",
        "colab_type": "text"
      },
      "source": [
        "Impute missing value's"
      ]
    },
    {
      "cell_type": "code",
      "metadata": {
        "id": "Q_-jkYTdICrN",
        "colab_type": "code",
        "colab": {}
      },
      "source": [
        "def impute_data(X_data):\n",
        "    # Add missing value's \n",
        "    Imputer = IterativeImputer(sample_posterior=True, n_nearest_features=20, random_state=0)\n",
        "    X_data = Imputer.fit_transform(X_data)\n",
        "\n",
        "    return X_data, Imputer"
      ],
      "execution_count": 0,
      "outputs": []
    },
    {
      "cell_type": "markdown",
      "metadata": {
        "id": "Qbt7ql2IIkSD",
        "colab_type": "text"
      },
      "source": [
        "Scale value's"
      ]
    },
    {
      "cell_type": "code",
      "metadata": {
        "id": "l1vwgVLnIomF",
        "colab_type": "code",
        "colab": {}
      },
      "source": [
        "def scale_data(X_data):\n",
        "    # scaling of values\n",
        "    Scaler = RobustScaler()\n",
        "    X_data = Scaler.fit_transform(X_data)\n",
        "\n",
        "    return X_data, Scaler"
      ],
      "execution_count": 0,
      "outputs": []
    },
    {
      "cell_type": "markdown",
      "metadata": {
        "id": "liGM3L88KFlf",
        "colab_type": "text"
      },
      "source": [
        "### preform dataset processing\n",
        "Run all preset definitions."
      ]
    },
    {
      "cell_type": "code",
      "metadata": {
        "id": "YyRkeYMXnkN-",
        "colab_type": "code",
        "colab": {}
      },
      "source": [
        "def preprocessing_data(X_design, Y_design, X_test, Y_test):\n",
        "    '''\n",
        "    Preprocessing step Hyperparameters:\n",
        "    - Feature removal percentage\n",
        "    - Sample removal percentage\n",
        "    - Value imputer type\n",
        "    - Normalizer type\n",
        "    '''\n",
        "\n",
        "    # remove strings from data\n",
        "    X_design = X_design.applymap(func=replace_str)\n",
        "    X_test = X_test.applymap(func=replace_str)\n",
        "\n",
        "    # remove 0.0 and Inf from data\n",
        "    X_design = replace_inf(X_design)\n",
        "    X_test = replace_inf(X_test)\n",
        "    print('unusefull values removed')\n",
        "\n",
        "    # remove features with less than 60% values\n",
        "    X_design = X_design.dropna(thresh=round(X_design.shape[0]*0.6), axis='columns')\n",
        "    X_test = X_test[X_design.columns]\n",
        "\n",
        "    # remove features and samples with less than 60% values\n",
        "    X_design, Y_design = remove_sample(X_design, Y_design, n_value=0.6)\n",
        "    X_test, Y_test = remove_sample(X_test, Y_test, n_value=0.6)\n",
        "    print('features and samples with to little information removed')\n",
        "\n",
        "    # remove samples without a label\n",
        "    X_design, Y_design = remove_labeless(X_design, Y_design)    \n",
        "    X_test, Y_test = remove_labeless(X_test, Y_test)\n",
        "    print('labeless samples removed')\n",
        "\n",
        "    # impute missing data\n",
        "    X_design_imput, imputer = impute_data(X_design)\n",
        "    X_test_imput = imputer.transform(X_test)\n",
        "    print('remaining missing data imputed')\n",
        "\n",
        "    # scale the data\n",
        "    X_design_scaled, scaler = scale_data(X_design_imput)\n",
        "    X_test_scaled = scaler.transform(X_test_imput)\n",
        "    print('data scaled')\n",
        "\n",
        "    # Getting back to Dataframe \n",
        "    X_design = pd.DataFrame(X_design_scaled, columns=X_design.columns, index=X_design.index)\n",
        "    X_test = pd.DataFrame(X_test_scaled, columns=X_test.columns, index=X_test.index)\n",
        "    print('preprocessing finished')\n",
        "    print(f'The number of samples: {len(X_design.index)+len(X_test.index)}')\n",
        "    print(f'The number of columns: {len(X_design.columns)}')\n",
        "\n",
        "    return X_design, Y_design, X_test, Y_test"
      ],
      "execution_count": 0,
      "outputs": []
    },
    {
      "cell_type": "markdown",
      "metadata": {
        "id": "I_wDK0aC_Xa2",
        "colab_type": "text"
      },
      "source": [
        "## Experimental feature orientation\n",
        "Determine possible options for feature selection and extraction"
      ]
    },
    {
      "cell_type": "markdown",
      "metadata": {
        "id": "ypidmjSURy-R",
        "colab_type": "text"
      },
      "source": [
        "### Load part of dataset\n",
        "Getting the design set of the data."
      ]
    },
    {
      "cell_type": "code",
      "metadata": {
        "id": "msYercldCfhv",
        "colab_type": "code",
        "outputId": "ef9d53db-0e95-4a86-cd3e-535352a8998c",
        "colab": {
          "base_uri": "https://localhost:8080/",
          "height": 182
        }
      },
      "source": [
        "#load dataset\n",
        "data_X, data_Y, Test_split = load_data(splits=10)\n",
        "\n",
        "i = 0\n",
        "\n",
        "for design_index, test_index in Test_split.split(data_X, data_Y):\n",
        "\n",
        "    if i:\n",
        "      continue\n",
        "    i = 1\n",
        "\n",
        "    X_design = data_X.iloc[design_index]\n",
        "    Y_design = data_Y.iloc[design_index]\n",
        "    \n",
        "    X_test = data_X.iloc[test_index]\n",
        "    Y_test = data_Y.iloc[test_index]\n",
        "\n",
        "X_design, Y_design, X_test, Y_test = preprocessing_data(X_design, Y_design, X_test, Y_test)"
      ],
      "execution_count": 119,
      "outputs": [
        {
          "output_type": "stream",
          "text": [
            "data loaded\n",
            "The number of samples: 167\n",
            "The number of columns: 725\n",
            "unusefull values removed\n",
            "features and samples with to little information removed\n",
            "labeless samples removed\n",
            "remaining missing data imputed\n",
            "data scaled\n",
            "preprocessing finished\n"
          ],
          "name": "stdout"
        }
      ]
    },
    {
      "cell_type": "code",
      "metadata": {
        "id": "I9YWm7p2VYdw",
        "colab_type": "code",
        "colab": {}
      },
      "source": [
        "print(X_design, Y_design)\n"
      ],
      "execution_count": 0,
      "outputs": []
    },
    {
      "cell_type": "markdown",
      "metadata": {
        "id": "KOyP-3v2aNK-",
        "colab_type": "text"
      },
      "source": [
        "### Feature test definitions\n",
        "Pre-set definitions to preform the experiments."
      ]
    },
    {
      "cell_type": "markdown",
      "metadata": {
        "id": "o971Z1NDNI89",
        "colab_type": "text"
      },
      "source": [
        "Pre-sets"
      ]
    },
    {
      "cell_type": "code",
      "metadata": {
        "id": "ZoDDIR8LMwic",
        "colab_type": "code",
        "colab": {}
      },
      "source": [
        "# Set paramters\n",
        "RFE_split = 5\n",
        "Train_split = 5\n",
        "\n",
        "# make labels binary\n",
        "Y_design_bin = Y_design.replace(['GBM', 'LGG'], [1, 0])\n",
        "\n",
        "# set validation-training split\n",
        "train_splitter = StratifiedKFold(n_splits=Train_split)"
      ],
      "execution_count": 0,
      "outputs": []
    },
    {
      "cell_type": "markdown",
      "metadata": {
        "id": "e0uXBFWaM-7z",
        "colab_type": "text"
      },
      "source": [
        "Selector"
      ]
    },
    {
      "cell_type": "code",
      "metadata": {
        "id": "FWfn_UAbMxHd",
        "colab_type": "code",
        "colab": {}
      },
      "source": [
        "# RFE estimator\n",
        "svc_linear = svm.SVC(kernel=\"linear\")\n",
        "\n",
        "# RFE type\n",
        "rfecv_svc = RFECV(\n",
        "                  estimator=svc_linear, step=1, \n",
        "                  cv=StratifiedKFold(n_splits=RFE_split), \n",
        "                  scoring='roc_auc')           "
      ],
      "execution_count": 0,
      "outputs": []
    },
    {
      "cell_type": "markdown",
      "metadata": {
        "id": "Zrm9YW3xNA2W",
        "colab_type": "text"
      },
      "source": [
        "Extractors"
      ]
    },
    {
      "cell_type": "code",
      "metadata": {
        "id": "xcUhoKfsNDJg",
        "colab_type": "code",
        "colab": {}
      },
      "source": [
        "# extractors\n",
        "pca_lin = KernelPCA(kernel='linear')\n",
        "pca_poly = KernelPCA(kernel='poly')\n",
        "pca_rbf = KernelPCA(kernel='rbf')\n",
        "umapper_3 = umap.UMAP(n_neighbors=3)\n",
        "umapper_5 = umap.UMAP(n_neighbors=5)\n",
        "umapper_6 = umap.UMAP(n_neighbors=6)\n",
        "umapper_15 = umap.UMAP(n_neighbors=15)\n",
        "umapper_30 = umap.UMAP(n_neighbors=30)\n",
        "tsvd = TruncatedSVD()"
      ],
      "execution_count": 0,
      "outputs": []
    },
    {
      "cell_type": "markdown",
      "metadata": {
        "id": "pn4Fs3COaVBc",
        "colab_type": "text"
      },
      "source": [
        "Cross-validation test"
      ]
    },
    {
      "cell_type": "code",
      "metadata": {
        "id": "A4kzQnzJYkIQ",
        "colab_type": "code",
        "colab": {}
      },
      "source": [
        "def run_feature_test(X_design, Y_design_bin, train_splitter, para_options, extractors, selector):\n",
        "    # predefine variables\n",
        "    results = list()\n",
        "    i = 1\n",
        "    t0 = time()\n",
        "\n",
        "    # RFE types list                  \n",
        "    selectors = {'no_rfecv': 0, 'rfecv': 1}\n",
        "    \n",
        "    # create standard classifier\n",
        "    clf = svm.SVC()\n",
        "    \n",
        "    # run cross-validation validate, train set\n",
        "    for train_index, validate_index in train_splitter.split(X_design, Y_design_bin):\n",
        "        X_train = X_design.iloc[train_index]\n",
        "        Y_train = Y_design_bin.iloc[train_index]\n",
        "    \n",
        "        X_validate = X_design.iloc[validate_index]\n",
        "        Y_validate = Y_design_bin.iloc[validate_index]\n",
        "        Y_validate = np.array(Y_validate)\n",
        "        print(f'running split {i} of {Train_split}')\n",
        "        i += 1\n",
        "\n",
        "        # Run RFECV on split\n",
        "        X_train_selected = selector.fit_transform(X_train, Y_train['label'])\n",
        "        X_validate_selected = selector.transform(X_validate)\n",
        "        print(f'{X_train_selected.shape[1]} features left after selection')\n",
        "\n",
        "        for indez, row in para_options.iterrows():\n",
        "            extractor=extractors[row[1]]\n",
        "            component=row[2]\n",
        "        \n",
        "            # use selected or unselected data\n",
        "            if selectors[row[0]] and X_train_selected.shape[1] > component:\n",
        "                X_train_try = X_train_selected\n",
        "                X_validate_try = X_validate_selected\n",
        "                #print(f'rfecv done {extractor, component}')\n",
        "\n",
        "            else:\n",
        "                X_train_try = X_train\n",
        "                X_validate_try = X_validate\n",
        "                #print(f'no rfecv done {extractor, component}')\n",
        "          \n",
        "            # run selected extractor\n",
        "            extractor.set_params(n_components=component)\n",
        "            X_train_extracted = extractor.fit_transform(X_train_try)\n",
        "            X_validate_extracted = extractor.transform(X_validate_try)\n",
        "        \n",
        "            # fitting standard classifier\n",
        "            clf.fit(X_train_extracted, Y_train['label'])\n",
        "\n",
        "            # Test the classifier on the test data\n",
        "            scores = clf.predict(X_validate_extracted)\n",
        "\n",
        "            # Gettin accuracy, AUC and f1-score\n",
        "            accuracy = accuracy_score(Y_validate, scores)\n",
        "            auc = roc_auc_score(Y_validate, scores)\n",
        "            f1 = f1_score(Y_validate, scores)\n",
        "            results.append({\n",
        "                'accuracy': accuracy,\n",
        "                'AUC': auc,\n",
        "                'f1-score': f1,\n",
        "                'set': f'{indez}_test'\n",
        "            })\n",
        "\n",
        "            # Test the classifier on the training data\n",
        "            scores_training = clf.predict(X_train_extracted)\n",
        "\n",
        "            # Getting the accuracy, AUC and f1-score\n",
        "            accuracy = accuracy_score(Y_train, scores_training)\n",
        "            auc = roc_auc_score(Y_train, scores_training)\n",
        "            f1 = f1_score(Y_train, scores_training)\n",
        "            results.append({\n",
        "                'accuracy': accuracy,\n",
        "                'AUC': auc,\n",
        "                'f1-score': f1,\n",
        "                'set': f'{indez}_training'\n",
        "            })\n",
        "        print(f'calulated options')\n",
        "\n",
        "    # Create results dataframe\n",
        "    results = pd.DataFrame(results)\n",
        "    print(\"finished in %0.3fs\" % (time() - t0))\n",
        "    return results"
      ],
      "execution_count": 0,
      "outputs": []
    },
    {
      "cell_type": "markdown",
      "metadata": {
        "id": "fhVBSfiG3spL",
        "colab_type": "text"
      },
      "source": [
        "Calculate mean and std from cross-validation"
      ]
    },
    {
      "cell_type": "code",
      "metadata": {
        "id": "go1BHO3pAUfD",
        "colab_type": "code",
        "colab": {}
      },
      "source": [
        "def cal_means(data, stats):\n",
        "    stats.append({\n",
        "    'ac mean': data[\"accuracy\"].mean(),\n",
        "    'ac std': data[\"accuracy\"].std(),\n",
        "    'AUC mean': data[\"AUC\"].mean(),\n",
        "    'AUC std': data[\"AUC\"].std(),\n",
        "    'f1 mean': data[\"f1-score\"].mean(),\n",
        "    'f1 std': data[\"f1-score\"].std()\n",
        "    })\n",
        "    \n",
        "    return stats"
      ],
      "execution_count": 0,
      "outputs": []
    },
    {
      "cell_type": "markdown",
      "metadata": {
        "id": "79v9EUDcaZ_C",
        "colab_type": "text"
      },
      "source": [
        "### Orientational Experiment\n",
        "Experiment with a wide variety of chosen extractors and parameters to find optima."
      ]
    },
    {
      "cell_type": "markdown",
      "metadata": {
        "id": "JgfZd2mYbIwb",
        "colab_type": "text"
      },
      "source": [
        "selected options"
      ]
    },
    {
      "cell_type": "code",
      "metadata": {
        "id": "ZrysKyfvbNME",
        "colab_type": "code",
        "colab": {}
      },
      "source": [
        "# extractor list\n",
        "extractors = {'umap_3': umapper_3, 'umap_5': umapper_5, 'umap_15': umapper_15, 'umap_30': umapper_30, 'pca_lin': pca_lin, 'pca_poly': pca_poly, 'pca_rbf': pca_rbf, 'tsvd': tsvd}\n",
        "\n",
        "#component parameters\n",
        "extract_components = (2, 6, 12, 24, 48, 92)"
      ],
      "execution_count": 0,
      "outputs": []
    },
    {
      "cell_type": "markdown",
      "metadata": {
        "id": "PRb1hVIGNbob",
        "colab_type": "text"
      },
      "source": [
        "preform feature selection and extraction test"
      ]
    },
    {
      "cell_type": "code",
      "metadata": {
        "id": "AReSukYSn2a0",
        "colab_type": "code",
        "outputId": "e9b17fd2-ae35-4093-cfa0-deca4b8674a6",
        "colab": {
          "base_uri": "https://localhost:8080/",
          "height": 733
        }
      },
      "source": [
        "#all options to test\n",
        "para_options = pd.DataFrame(list(itertools.product(selectors, extractors, extract_components)))\n",
        "print(f'{para_options.shape[0]} options to try')\n",
        "\n",
        "# Run experiment\n",
        "results = run_feature_test(X_design, Y_design_bin, train_splitter, para_options, extractors, rfecv_svc)"
      ],
      "execution_count": 133,
      "outputs": [
        {
          "output_type": "stream",
          "text": [
            "96 options to try\n",
            "running split 1 of 5\n",
            "126 features left after selection\n"
          ],
          "name": "stdout"
        },
        {
          "output_type": "stream",
          "text": [
            "/usr/local/lib/python3.6/dist-packages/umap/spectral.py:229: UserWarning: Embedding a total of 2 separate connected components using meta-embedding (experimental)\n",
            "  n_components\n",
            "/usr/local/lib/python3.6/dist-packages/umap/spectral.py:229: UserWarning: Embedding a total of 2 separate connected components using meta-embedding (experimental)\n",
            "  n_components\n",
            "/usr/local/lib/python3.6/dist-packages/umap/spectral.py:229: UserWarning: Embedding a total of 2 separate connected components using meta-embedding (experimental)\n",
            "  n_components\n",
            "/usr/local/lib/python3.6/dist-packages/umap/spectral.py:229: UserWarning: Embedding a total of 2 separate connected components using meta-embedding (experimental)\n",
            "  n_components\n",
            "/usr/local/lib/python3.6/dist-packages/umap/spectral.py:229: UserWarning: Embedding a total of 2 separate connected components using meta-embedding (experimental)\n",
            "  n_components\n",
            "/usr/local/lib/python3.6/dist-packages/umap/spectral.py:229: UserWarning: Embedding a total of 2 separate connected components using meta-embedding (experimental)\n",
            "  n_components\n"
          ],
          "name": "stderr"
        },
        {
          "output_type": "stream",
          "text": [
            "calulated options\n",
            "running split 2 of 5\n",
            "64 features left after selection\n"
          ],
          "name": "stdout"
        },
        {
          "output_type": "stream",
          "text": [
            "/usr/local/lib/python3.6/dist-packages/umap/spectral.py:229: UserWarning: Embedding a total of 2 separate connected components using meta-embedding (experimental)\n",
            "  n_components\n",
            "/usr/local/lib/python3.6/dist-packages/umap/spectral.py:229: UserWarning: Embedding a total of 2 separate connected components using meta-embedding (experimental)\n",
            "  n_components\n",
            "/usr/local/lib/python3.6/dist-packages/umap/spectral.py:229: UserWarning: Embedding a total of 2 separate connected components using meta-embedding (experimental)\n",
            "  n_components\n",
            "/usr/local/lib/python3.6/dist-packages/umap/spectral.py:229: UserWarning: Embedding a total of 2 separate connected components using meta-embedding (experimental)\n",
            "  n_components\n",
            "/usr/local/lib/python3.6/dist-packages/umap/spectral.py:229: UserWarning: Embedding a total of 2 separate connected components using meta-embedding (experimental)\n",
            "  n_components\n"
          ],
          "name": "stderr"
        },
        {
          "output_type": "stream",
          "text": [
            "calulated options\n",
            "running split 3 of 5\n",
            "114 features left after selection\n",
            "calulated options\n",
            "running split 4 of 5\n",
            "84 features left after selection\n",
            "calulated options\n",
            "running split 5 of 5\n",
            "55 features left after selection\n",
            "calulated options\n",
            "finished in 305.291s\n"
          ],
          "name": "stdout"
        }
      ]
    },
    {
      "cell_type": "markdown",
      "metadata": {
        "id": "TJEsMCyOQ3kI",
        "colab_type": "text"
      },
      "source": [
        "Plot results"
      ]
    },
    {
      "cell_type": "code",
      "metadata": {
        "id": "ni-788XftFEv",
        "colab_type": "code",
        "outputId": "25e7eb90-633f-4017-c16a-2ad2e0144eed",
        "colab": {
          "base_uri": "https://localhost:8080/",
          "height": 1000
        }
      },
      "source": [
        "# plot resulting data\n",
        "print('legend')\n",
        "print(para_options)\n",
        "\n",
        "f, axes = plt.subplots(3, 1, figsize=(30, 40))\n",
        "sns.boxplot(y='AUC', x='set', data=results, ax=axes[0])\n",
        "sns.boxplot(y='accuracy', x='set', data=results, ax=axes[1])\n",
        "sns.boxplot(y='f1-score', x='set', data=results, ax=axes[2])"
      ],
      "execution_count": 134,
      "outputs": [
        {
          "output_type": "stream",
          "text": [
            "legend\n",
            "           0       1   2\n",
            "0   no_rfecv  umap_3   2\n",
            "1   no_rfecv  umap_3   6\n",
            "2   no_rfecv  umap_3  12\n",
            "3   no_rfecv  umap_3  24\n",
            "4   no_rfecv  umap_3  48\n",
            "..       ...     ...  ..\n",
            "91     rfecv    tsvd   6\n",
            "92     rfecv    tsvd  12\n",
            "93     rfecv    tsvd  24\n",
            "94     rfecv    tsvd  48\n",
            "95     rfecv    tsvd  92\n",
            "\n",
            "[96 rows x 3 columns]\n"
          ],
          "name": "stdout"
        },
        {
          "output_type": "execute_result",
          "data": {
            "text/plain": [
              "<matplotlib.axes._subplots.AxesSubplot at 0x7f8298789c18>"
            ]
          },
          "metadata": {
            "tags": []
          },
          "execution_count": 134
        },
        {
          "output_type": "display_data",
          "data": {
            "image/png": "[encoded data removed]",
            "text/plain": [
              "<Figure size 2160x2880 with 3 Axes>"
            ]
          },
          "metadata": {
            "tags": []
          }
        }
      ]
    },
    {
      "cell_type": "markdown",
      "metadata": {
        "id": "dWGm2rSRQ9mN",
        "colab_type": "text"
      },
      "source": [
        "Determ the best options"
      ]
    },
    {
      "cell_type": "code",
      "metadata": {
        "id": "RoOLPIr7-GLB",
        "colab_type": "code",
        "outputId": "6aab0568-1949-4402-eb70-5dcc7cb8c2d9",
        "colab": {
          "base_uri": "https://localhost:8080/",
          "height": 458
        }
      },
      "source": [
        "# calculate the mean and std of each option\n",
        "test_result_stat = list()\n",
        "train_result_stat = list()\n",
        "\n",
        "for i in range(0, para_options.shape[0]):\n",
        "\n",
        "    test_result = results[results['set'] == f'{i}_test']\n",
        "    test_result_stat = cal_means(test_result, test_result_stat)\n",
        "\n",
        "    train_result = results[results['set'] == f'{i}_train']\n",
        "    train_result_stat = cal_means(train_result, train_result_stat)\n",
        "\n",
        "test_result_stat = pd.DataFrame(test_result_stat)\n",
        "train_result_stat = pd.DataFrame(train_result_stat)\n",
        "\n",
        "# order the results on AUC, accuracy and f1-score\n",
        "test_result_stat.sort_values(by=['AUC mean', 'ac mean', 'f1 mean'],ascending=False, inplace=True)\n",
        "test_result_stat = test_result_stat.join(para_options)\n",
        "print('Top 20 best scoring results')\n",
        "print(test_result_stat.iloc[range(0,20)])\n",
        "\n",
        "    #'clf__max_iter': (20,),\n",
        "    #'clf__alpha': (0.00001, 0.000001),\n",
        "    #'clf__penalty': ('l2', 'elasticnet'),"
      ],
      "execution_count": 135,
      "outputs": [
        {
          "output_type": "stream",
          "text": [
            "Top 20 best scoring results\n",
            "     ac mean    ac std  AUC mean   AUC std  ...    f1 std         0        1   2\n",
            "37  0.793333  0.095452  0.802605  0.090520  ...  0.094680  no_rfecv  pca_rbf   6\n",
            "76  0.820000  0.069121  0.782323  0.071361  ...  0.054611     rfecv  pca_lin  48\n",
            "94  0.820000  0.069121  0.782323  0.071361  ...  0.054611     rfecv     tsvd  48\n",
            "39  0.760000  0.082999  0.778190  0.084340  ...  0.084339  no_rfecv  pca_rbf  24\n",
            "38  0.766667  0.091287  0.777140  0.090065  ...  0.092765  no_rfecv  pca_rbf  12\n",
            "75  0.813333  0.069121  0.772475  0.081581  ...  0.052165     rfecv  pca_lin  24\n",
            "77  0.813333  0.076739  0.769192  0.086333  ...  0.053102     rfecv  pca_lin  92\n",
            "95  0.813333  0.076739  0.769192  0.086333  ...  0.053102     rfecv     tsvd  92\n",
            "85  0.740000  0.109036  0.768129  0.109841  ...  0.115048     rfecv  pca_rbf   6\n",
            "87  0.733333  0.084984  0.765351  0.084366  ...  0.098555     rfecv  pca_rbf  24\n",
            "93  0.806667  0.072265  0.764141  0.084744  ...  0.054086     rfecv     tsvd  24\n",
            "74  0.800000  0.062361  0.755808  0.074219  ...  0.047554     rfecv  pca_lin  12\n",
            "92  0.793333  0.064118  0.747475  0.075415  ...  0.048751     rfecv     tsvd  12\n",
            "73  0.786667  0.069121  0.745455  0.073540  ...  0.054135     rfecv  pca_lin   6\n",
            "91  0.786667  0.069121  0.745455  0.073540  ...  0.054135     rfecv     tsvd   6\n",
            "86  0.713333  0.080277  0.738836  0.078165  ...  0.092251     rfecv  pca_rbf  12\n",
            "9   0.786667  0.038006  0.738171  0.051239  ...  0.022451  no_rfecv   umap_5  24\n",
            "59  0.786667  0.050553  0.736656  0.065025  ...  0.033686     rfecv   umap_5  92\n",
            "8   0.786667  0.064979  0.735101  0.069418  ...  0.046825  no_rfecv   umap_5  12\n",
            "7   0.780000  0.029814  0.732908  0.034766  ...  0.022120  no_rfecv   umap_5   6\n",
            "\n",
            "[20 rows x 9 columns]\n"
          ],
          "name": "stdout"
        }
      ]
    },
    {
      "cell_type": "code",
      "metadata": {
        "id": "fnel9IKOr5HF",
        "colab_type": "code",
        "colab": {
          "base_uri": "https://localhost:8080/",
          "height": 109
        },
        "outputId": "0b4e73e8-a4a1-4929-f2e7-f88bc9828492"
      },
      "source": [
        "optimal_comb = para_options.loc[test_result_stat.index[9]]\n",
        "print(\"The optimal combination =\")\n",
        "print(optimal_comb)"
      ],
      "execution_count": 65,
      "outputs": [
        {
          "output_type": "stream",
          "text": [
            "The optimal combination =\n",
            "0      rfecv\n",
            "1    pca_rbf\n",
            "2         24\n",
            "Name: 87, dtype: object\n"
          ],
          "name": "stdout"
        }
      ]
    },
    {
      "cell_type": "markdown",
      "metadata": {
        "id": "UgErjNWFftnv",
        "colab_type": "text"
      },
      "source": [
        "After running the code above, the following conclusions where drawn:\n",
        "- There is difference between feature and no feature selection, but not similar for each option\n",
        "- the PCA with a rbf kernel and no rfecv provides the highest scores, but with a high std\n",
        "- the PCA with a linear kernel and rfecv also provide high scores and lower std, but only with more components\n",
        "- the UMAP with 5 neighbors provides second best scores, but with a smaller std\n",
        "- there is a optimum in the amount of components around the 6 and 12\n",
        "\n",
        "With this in mind the parameter for the second test are chosen."
      ]
    },
    {
      "cell_type": "markdown",
      "metadata": {
        "id": "6GFBpgwoa1ly",
        "colab_type": "text"
      },
      "source": [
        "### Localized Experiment\n",
        "Experiment with selected extractors and parameters around promising results of the Orientational Experiment."
      ]
    },
    {
      "cell_type": "markdown",
      "metadata": {
        "colab_type": "text",
        "id": "5meYru3udMGY"
      },
      "source": [
        "selected options"
      ]
    },
    {
      "cell_type": "code",
      "metadata": {
        "colab_type": "code",
        "id": "uEy802ukdMGp",
        "colab": {}
      },
      "source": [
        "# extractor list\n",
        "extractors = {'umap_5': umapper_5, 'pca_lin': pca_lin, 'pca_rbf': pca_rbf}\n",
        "\n",
        "#parameters\n",
        "extract_components = (4, 6, 8, 12, 45, 48, 52, 56)"
      ],
      "execution_count": 0,
      "outputs": []
    },
    {
      "cell_type": "markdown",
      "metadata": {
        "colab_type": "text",
        "id": "O7139y5fdMG-"
      },
      "source": [
        "preform feature selection and extraction test"
      ]
    },
    {
      "cell_type": "code",
      "metadata": {
        "colab_type": "code",
        "id": "YuMUX9dhdMHB",
        "outputId": "ff337db3-bcf7-44f8-cd2d-d542d036e17e",
        "colab": {
          "base_uri": "https://localhost:8080/",
          "height": 329
        }
      },
      "source": [
        "#all options to test\n",
        "para_options = pd.DataFrame(list(itertools.product(selectors, extractors, extract_components)))\n",
        "para_options = para_options.loc[[0,1,2,3,16,17,18,19,36,37,38,39]]\n",
        "para_options = para_options.reset_index(drop=True)\n",
        "print(f'{para_options.shape[0]} options to try')\n",
        "\n",
        "# Run experiment\n",
        "results = run_feature_test(X_design, Y_design_bin, train_splitter, para_options, extractors, rfecv_svc)"
      ],
      "execution_count": 137,
      "outputs": [
        {
          "output_type": "stream",
          "text": [
            "12 options to try\n",
            "running split 1 of 5\n",
            "126 features left after selection\n",
            "calulated options\n",
            "running split 2 of 5\n",
            "64 features left after selection\n",
            "calulated options\n",
            "running split 3 of 5\n",
            "114 features left after selection\n",
            "calulated options\n",
            "running split 4 of 5\n",
            "84 features left after selection\n",
            "calulated options\n",
            "running split 5 of 5\n",
            "55 features left after selection\n",
            "calulated options\n",
            "finished in 165.527s\n"
          ],
          "name": "stdout"
        }
      ]
    },
    {
      "cell_type": "markdown",
      "metadata": {
        "colab_type": "text",
        "id": "d374FPQgdMHQ"
      },
      "source": [
        "Plot results"
      ]
    },
    {
      "cell_type": "code",
      "metadata": {
        "colab_type": "code",
        "id": "-I_dMH8VdMHT",
        "outputId": "f3fa792e-6415-4015-ab7b-248e48d3f45a",
        "colab": {
          "base_uri": "https://localhost:8080/",
          "height": 1000
        }
      },
      "source": [
        "# plot resulting data\n",
        "print('legend')\n",
        "print(para_options)\n",
        "\n",
        "f, axes = plt.subplots(3, 1, figsize=(30, 40))\n",
        "sns.boxplot(y='AUC', x='set', data=results, ax=axes[0])\n",
        "sns.boxplot(y='accuracy', x='set', data=results, ax=axes[1])\n",
        "sns.boxplot(y='f1-score', x='set', data=results, ax=axes[2])"
      ],
      "execution_count": 138,
      "outputs": [
        {
          "output_type": "stream",
          "text": [
            "legend\n",
            "           0        1   2\n",
            "0   no_rfecv   umap_5   4\n",
            "1   no_rfecv   umap_5   6\n",
            "2   no_rfecv   umap_5   8\n",
            "3   no_rfecv   umap_5  12\n",
            "4   no_rfecv  pca_rbf   4\n",
            "5   no_rfecv  pca_rbf   6\n",
            "6   no_rfecv  pca_rbf   8\n",
            "7   no_rfecv  pca_rbf  12\n",
            "8      rfecv  pca_lin  45\n",
            "9      rfecv  pca_lin  48\n",
            "10     rfecv  pca_lin  52\n",
            "11     rfecv  pca_lin  56\n"
          ],
          "name": "stdout"
        },
        {
          "output_type": "execute_result",
          "data": {
            "text/plain": [
              "<matplotlib.axes._subplots.AxesSubplot at 0x7f82953512e8>"
            ]
          },
          "metadata": {
            "tags": []
          },
          "execution_count": 138
        },
        {
          "output_type": "display_data",
          "data": {
            "image/png": "[encoded data removed]",
            "text/plain": [
              "<Figure size 2160x2880 with 3 Axes>"
            ]
          },
          "metadata": {
            "tags": []
          }
        }
      ]
    },
    {
      "cell_type": "markdown",
      "metadata": {
        "colab_type": "text",
        "id": "q3oGRYoNdMHi"
      },
      "source": [
        "Determ the best options"
      ]
    },
    {
      "cell_type": "code",
      "metadata": {
        "colab_type": "code",
        "id": "nz_aUeCadMHs",
        "outputId": "3d9db8cd-aea5-4648-ad36-4bf539c8bd6e",
        "colab": {
          "base_uri": "https://localhost:8080/",
          "height": 256
        }
      },
      "source": [
        "# calculate the mean and std of each option\n",
        "test_result_stat = list()\n",
        "train_result_stat = list()\n",
        "\n",
        "\n",
        "for i in range(0, para_options.shape[0]):\n",
        "\n",
        "    test_result = results[results['set'] == f'{i}_test']\n",
        "    test_result_stat = cal_means(test_result, test_result_stat)\n",
        "\n",
        "    train_result = results[results['set'] == f'{i}_train']\n",
        "    train_result_stat = cal_means(train_result, train_result_stat)\n",
        "\n",
        "test_result_stat = pd.DataFrame(test_result_stat)\n",
        "train_result_stat = pd.DataFrame(train_result_stat)\n",
        "\n",
        "# order the results on AUC, accuracy and f1-score\n",
        "test_result_stat.sort_values(by=['AUC mean', 'ac mean', 'f1 mean',],ascending=False, inplace=True)\n",
        "print(test_result_stat)\n",
        "\n",
        "    #'clf__max_iter': (20,),\n",
        "    #'clf__alpha': (0.00001, 0.000001),\n",
        "    #'clf__penalty': ('l2', 'elasticnet'),"
      ],
      "execution_count": 107,
      "outputs": [
        {
          "output_type": "stream",
          "text": [
            "     ac mean    ac std  AUC mean   AUC std   f1 mean    f1 std\n",
            "6   0.800000  0.100000  0.808161  0.099661  0.820678  0.095796\n",
            "5   0.793333  0.095452  0.802605  0.090520  0.812460  0.094680\n",
            "10  0.826667  0.072265  0.791414  0.072716  0.869316  0.057155\n",
            "9   0.820000  0.069121  0.782323  0.071361  0.865108  0.054611\n",
            "4   0.773333  0.092496  0.777605  0.085302  0.797198  0.093156\n",
            "7   0.766667  0.091287  0.777140  0.090065  0.787522  0.092765\n",
            "11  0.813333  0.069121  0.774747  0.070213  0.860745  0.054558\n",
            "8   0.813333  0.069121  0.773232  0.075655  0.861091  0.053629\n",
            "3   0.786667  0.044721  0.735101  0.043879  0.847238  0.034325\n",
            "2   0.773333  0.043461  0.721505  0.048621  0.838117  0.030853\n",
            "1   0.766667  0.040825  0.719312  0.041069  0.830493  0.032448\n",
            "0   0.740000  0.036515  0.682150  0.045599  0.816970  0.023700\n"
          ],
          "name": "stdout"
        }
      ]
    },
    {
      "cell_type": "markdown",
      "metadata": {
        "id": "sVoNGV8DjNNf",
        "colab_type": "text"
      },
      "source": [
        "Based on these results the following is concluded:\n",
        "- the PCA with rbf kernal and 6 or 8 components has the best AUC score, but still a high std\n",
        "- the PCA with linear kernal and 48/52 components has the best Accuracy and f1-score, with a lower std\n",
        "- the UMAP with 5 neighbors and 6 or 8 components has similar score for accuracy and f1, but a lower score for AUC and similar the std as the linear PCA.\n",
        "\n"
      ]
    },
    {
      "cell_type": "markdown",
      "metadata": {
        "id": "ktMWp3Y_lQ3e",
        "colab_type": "text"
      },
      "source": [
        "### Conclusion\n",
        "\n",
        "We will let the model optimization choose from:\n",
        "- PCA (Kernel:linear, Components:48/52, rfecv)\n",
        "- PCA (Kernel:rbf, Components:6/8)\n",
        "- UMAP (Neigbors:5, Components:8/12)"
      ]
    },
    {
      "cell_type": "markdown",
      "metadata": {
        "id": "LQ-dUjXUpFAG",
        "colab_type": "text"
      },
      "source": [
        "## Final machine learning pipeline\n",
        "Our resulting machine learning model for tumor grading in brain cancer.\n",
        "\n",
        "As described in the enclosed document are the following steps en parameter settings the by us found most optimale for optimising and classifing the given dataset."
      ]
    },
    {
      "cell_type": "markdown",
      "metadata": {
        "id": "ClBXawKAVfGD",
        "colab_type": "text"
      },
      "source": [
        "### Feature extraction\n",
        "\n",
        "Feature extraction with hyperparameters based on previous experiments"
      ]
    },
    {
      "cell_type": "markdown",
      "metadata": {
        "id": "hsqJmyjIvjkw",
        "colab_type": "text"
      },
      "source": [
        "Feature extraction"
      ]
    },
    {
      "cell_type": "code",
      "metadata": {
        "id": "i8o6DTQGVvjX",
        "colab_type": "code",
        "colab": {}
      },
      "source": [
        "def feature_extraction(X_design, Y_design, X_test, Y_test):\n",
        "    '''\n",
        "    Feature steps Hyperparameters:\n",
        "    Feature extraction:\n",
        "    - UMAP\n",
        "      - numb of resulting features\n",
        "      - numb of used neighbors\n",
        "    '''\n",
        "\n",
        "    # generate binary labels \n",
        "    Y_design_bin = Y_design.replace(['GBM', 'LGG'], [1, 0])\n",
        "    Y_test_bin = Y_design.replace(['GBM', 'LGG'], [1, 0])\n",
        "    \n",
        "    # Create extraction models\n",
        "    Umapper_8 = umap.UMAP(n_neighbors=5, n_components=8)\n",
        "    Umapper_12 = umap.UMAP(n_neighbors=5, n_components=12)\n",
        "    pca_6 = KernelPCA(kernel='rbf', n_components=6)\n",
        "    pca_8 = KernelPCA(kernel='rbf', n_components=8)\n",
        "    pca_48 = KernelPCA(kernel='linear', n_components=48)\n",
        "    pca_52 = KernelPCA(kernel='linear', n_components=52)\n",
        "\n",
        "    extractors = {'Umapper_8': Umapper_8, 'Umapper_12': Umapper_12, 'pca_6': pca_6, 'pca_8': pca_8, 'pca_48': pca_48, 'pca_52': pca_52}\n",
        "\n",
        "    # Set paramters\n",
        "    RFE_split = 5\n",
        "    Train_split = 5\n",
        "\n",
        "    # RFE estimator\n",
        "    svc_linear = svm.SVC(kernel=\"linear\")\n",
        "\n",
        "    # RFE type\n",
        "    rfecv_svc = RFECV(\n",
        "                      estimator=svc_linear, step=1, \n",
        "                      cv=StratifiedKFold(n_splits=RFE_split), \n",
        "                      scoring='roc_auc')           \n",
        "\n",
        "    # set validation-training split\n",
        "    train_splitter = StratifiedKFold(n_splits=Train_split)\n",
        "\n",
        "    # list extraction options\n",
        "    para_options = list()\n",
        "    para_options.append({'rfecv': 'no_rfecv', 'model': 'Umapper_8', 'component': 8})\n",
        "    para_options.append({'rfecv': 'no_rfecv', 'model': 'Umapper_12', 'component': 12})\n",
        "    para_options.append({'rfecv': 'no_rfecv', 'model': 'pca_6', 'component': 6})\n",
        "    para_options.append({'rfecv': 'no_rfecv', 'model': 'pca_8', 'component': 8})\n",
        "    para_options.append({'rfecv': 'rfecv', 'model': 'pca_48', 'component': 48})\n",
        "    para_options.append({'rfecv': 'rfecv', 'model': 'pca_52', 'component': 52})\n",
        "    para_options = pd.DataFrame(para_options)\n",
        "    print(f'{para_options.shape[0]} options to try')\n",
        "\n",
        "    # Run experiment\n",
        "    results = run_feature_test(X_design, Y_design_bin, train_splitter, para_options, extractors, rfecv_svc)\n",
        "\n",
        "    # calculate the mean and std of each option\n",
        "    test_result_stat = list()\n",
        "    train_result_stat = list()\n",
        "\n",
        "    for i in range(0, para_options.shape[0]):\n",
        "\n",
        "        test_result = results[results['set'] == f'{i}_test']\n",
        "        test_result_stat = cal_means(test_result, test_result_stat)\n",
        "\n",
        "        train_result = results[results['set'] == f'{i}_train']\n",
        "        train_result_stat = cal_means(train_result, train_result_stat)\n",
        "\n",
        "    test_result_stat = pd.DataFrame(test_result_stat)\n",
        "    train_result_stat = pd.DataFrame(train_result_stat)\n",
        "\n",
        "\n",
        "    # order the results on AUC, accuracy and f1-score\n",
        "    test_result_stat.sort_values(by=['AUC mean', 'ac mean', 'f1 mean'],ascending=False, inplace=True)\n",
        "    test_result_stat = test_result_stat.join(para_options)\n",
        "    print(test_result_stat)\n",
        "\n",
        "    # select best extractor\n",
        "    best_extractor = test_result_stat.iloc[0]\n",
        "    extractor = extractors[best_extractor['model']]\n",
        "    print(best_extractor)\n",
        "\n",
        "    if best_extractor['rfecv'] == 'rfecv':\n",
        "      X_design = rfecv_svc.fit_transform(X_design)\n",
        "      X_test = rfecv_svc.transform(X_test)\n",
        "      print('rfecv done')\n",
        "\n",
        "\n",
        "    # Preform model fitting and transformation\n",
        "    X_design = extractor.fit_transform(X_design)\n",
        "    X_design = pd.DataFrame(X_design, index=Y_design.index)\n",
        "\n",
        "    X_test = extractor.transform(X_test)\n",
        "    X_test = pd.DataFrame(X_test, index=Y_test.index)\n",
        "\n",
        "    return X_design, Y_design_bin, X_test, Y_test_bin, best_extractor"
      ],
      "execution_count": 0,
      "outputs": []
    },
    {
      "cell_type": "markdown",
      "metadata": {
        "id": "QA8t3CO44WUt",
        "colab_type": "text"
      },
      "source": [
        "### Classifier"
      ]
    },
    {
      "cell_type": "code",
      "metadata": {
        "id": "xEWggJTqLWIn",
        "colab_type": "code",
        "colab": {}
      },
      "source": [
        "def classifiers (X_design, Y_design, X_test, Y_test):\n",
        "    global results\n",
        "    global best_parameters\n",
        "   \n",
        "    ## Example for Classifier hyperparameters selecting\n",
        "    clfs = {svm.SVC(probability=True): {'kernel': ['linear', 'poly', 'rbf', 'sigmoid'], 'degree': range(1,5,1)},\n",
        "            RandomForestClassifier(): {'n_estimators':range(1,400,5)},\n",
        "            KNeighborsClassifier() : {'n_neighbors': range(1,100,2), 'weights': ['uniform', 'distance']},\n",
        "            LinearDiscriminantAnalysis():{}\n",
        "            }\n",
        "    names = ['SVC', 'RandomForest', 'KNN', 'LinearDiscriminant']\n",
        "    n = 0\n",
        "  \n",
        "    for clf, parameters in clfs.items():\n",
        "        scoring = {'AUC': 'roc_auc', 'Accuracy': make_scorer(accuracy_score), 'f1-score': make_scorer(f1_score)}\n",
        "\n",
        "        random_search = RandomizedSearchCV(clf, parameters, scoring=scoring, refit='AUC', cv=None) ## hierin zit al de crossvalidatie, dus opnieuw een k-fold split hoeft niet #keuze om score voor alle classifiers gelijk te houden of per classifier te definieren\n",
        "        random_search.fit(X_design, Y_design)\n",
        "\n",
        "        # Get resulting classifier\n",
        "        clf_best = random_search.best_estimator_\n",
        "        print(f'Best classifier: parameters={random_search.best_params_}')\n",
        "        best_parameters.append(random_search.best_params_)   #per fold best classifier will be appended\n",
        "        scores = random_search.best_score_\n",
        "        print(random_search.cv_results_)\n",
        "        print (scores)\n",
        "\n",
        "        if n == 0:\n",
        "          clf_name = names[0]\n",
        "        elif n % 4 == 1:\n",
        "          clf_name = names[1]\n",
        "        elif n % 4 == 2:\n",
        "          clf_name = names[2]\n",
        "        elif n % 4 == 3:\n",
        "          clf_name = names[3]\n",
        "        elif n % 4 == 0:\n",
        "          clf_name = names[0]\n",
        "        n += 1 \n",
        "    \n",
        "        # Getting the accuracy, AUC and f1-score\n",
        "        accuracy = random_search.cv_results_['mean_test_Accuracy'][random_search.best_index_]\n",
        "        auc = random_search.cv_results_['mean_test_AUC'][random_search.best_index_]\n",
        "        f1 = random_search.cv_results_['mean_test_f1-score'][random_search.best_index_]\n",
        "        mean_score = (accuracy + auc + f1)/3\n",
        "        results.append({\n",
        "            'accuracy': accuracy,\n",
        "            'AUC': auc,\n",
        "            'f1-score': f1,\n",
        "            'mean_score': mean_score,\n",
        "            'clf_name': clf_name,\n",
        "            'clf': clf_best, \n",
        "            'parameters': random_search.best_params_,\n",
        "            'set': 'validation'\n",
        "              })\n",
        "        \n",
        "    # Create results dataframe and plot it\n",
        "    results = pd.DataFrame(results)\n",
        "    print(results)\n",
        "    sns.boxplot(y='AUC', x='clf_name', data=results)\n",
        "    sns.boxplot(y='accuracy', x='clf_name', data=results)\n",
        "    sns.boxplot(y='f1-score', x='clf_name', data=results)\n",
        "\n",
        "    index_best_classifier = results[['mean_score']].idxmax() \n",
        "    print(f'index_best_classifier={index_best_classifier}')\n",
        "    best_classifier_name = results['clf_name'][index_best_classifier]\n",
        "    best_classifier_name = best_classifier_name.tolist()\n",
        "    best_classifier = results['clf'][index_best_classifier]   \n",
        "    best_classifier = best_classifier.tolist()\n",
        "    print(f'best_classifier={best_classifier}')\n",
        "\n",
        "    # Train best classifier on total testdata\n",
        "    classifier_optimized = best_classifier[0].fit(X_design,Y_design)\n",
        "    pred_train = classifier_optimized.predict(X_design)\n",
        "\n",
        "    #Gettin accuracy, AUC and f1-score\n",
        "    accuracy_train = accuracy_score(Y_design, pred_train)\n",
        "    auc_train = roc_auc_score(Y_design, pred_train)\n",
        "    f1_train = f1_score(Y_design, pred_train)\n",
        "    results_outer.append({\n",
        "        'accuracy': accuracy_train,\n",
        "        'AUC': auc_train,\n",
        "        'f1-score': f1_train,\n",
        "        'clf': best_classifier[0],\n",
        "        'clf_name': best_classifier_name[0],\n",
        "        'set': 'training'\n",
        "        })\n",
        "    \n",
        "    #Test the classifier on the test data\n",
        "    pred_test = classifier_optimized.predict(X_test)\n",
        "\n",
        "    #Gettin accuracy, AUC and f1-score\n",
        "    accuracy_test = accuracy_score(Y_test, pred_test)\n",
        "    auc_test = roc_auc_score(Y_test, pred_test)\n",
        "    f1_test = f1_score(Y_test, pred_test)\n",
        "    results_outer.append({\n",
        "        'accuracy': accuracy_test,\n",
        "        'AUC': auc_test,\n",
        "        'f1-score': f1_test,\n",
        "        'clf': best_classifier[0],\n",
        "        'clf_name': best_classifier_name[0],\n",
        "        'set': 'testing'\n",
        "        })\n",
        "\n",
        "    \n",
        "    return results, results_outer"
      ],
      "execution_count": 0,
      "outputs": []
    },
    {
      "cell_type": "markdown",
      "metadata": {
        "colab_type": "text",
        "id": "jCKzUBX7rpOj"
      },
      "source": [
        "### Pipeline"
      ]
    },
    {
      "cell_type": "code",
      "metadata": {
        "id": "1IYk4DjwcF48",
        "colab_type": "code",
        "colab": {
          "base_uri": "https://localhost:8080/",
          "height": 1000
        },
        "outputId": "cf4230a5-42ab-4561-967d-a7ae5f15cee2"
      },
      "source": [
        "#load dataset\n",
        "data_X, data_Y, Test_split = load_data(splits=10)\n",
        "\n",
        "results = list()\n",
        "best_parameters = list()\n",
        "results_outer = list()\n",
        "i=0\n",
        "for design_index, test_index in Test_split.split(data_X, data_Y):\n",
        "    if i:\n",
        "      continue\n",
        "    i += 1\n",
        "\n",
        "    X_design = data_X.iloc[design_index]\n",
        "    Y_design = data_Y.iloc[design_index]\n",
        "    \n",
        "    X_test = data_X.iloc[test_index]\n",
        "    Y_test = data_Y.iloc[test_index]\n",
        "\n",
        "    # run preprocessing\n",
        "    X_design, Y_design, X_test, Y_test = preprocessing_data(X_design, Y_design, X_test, Y_test)\n",
        "\n",
        "    #run feature extraction\n",
        "    X_design, Y_design_bin, X_test, Y_test_bin, feature_extractor = feature_extraction(X_design, Y_design, X_test, Y_test)\n",
        "    print(f'after feature extraction {X_test.shape[0]} columns left')\n",
        "\n",
        "    # run classifier\n",
        "    results, results_outer = classifiers (X_design, Y_design_bin, X_test, Y_test_bin)\n",
        "  \n",
        "# Selecting best overall classifier   \n",
        "results_outer = pd.DataFrame(results_outer)\n",
        "print(results_outer)\n",
        "\n",
        "optimal_classifier = str(results_outer.median['clf_name'])\n",
        "print(f\"The optimal classifier={optimal_classifier}\")\n",
        "\n",
        "# save data to csv for manual check\n",
        "#X_design.to_csv('data_X.csv')\n",
        "#Y_design.to_csv('data_Y.csv')\n",
        "\n"
      ],
      "execution_count": 168,
      "outputs": [
        {
          "output_type": "stream",
          "text": [
            "data loaded\n",
            "The number of samples: 167\n",
            "The number of columns: 725\n",
            "unusefull values removed\n",
            "features and samples with to little information removed\n",
            "labeless samples removed\n",
            "remaining missing data imputed\n",
            "data scaled\n",
            "preprocessing finished\n",
            "The number of samples: 167\n",
            "The number of columns: 698\n",
            "6 options to try\n",
            "      rfecv       model  component\n",
            "0  no_rfecv   Umapper_8          8\n",
            "1  no_rfecv  Umapper_12         12\n",
            "2  no_rfecv       pca_6          6\n",
            "3  no_rfecv       pca_8          8\n",
            "4     rfecv      pca_48         48\n",
            "5     rfecv      pca_52         52\n",
            "running split 1 of 5\n",
            "126 features left after selection\n",
            "no rfecv done (UMAP(a=None, angular_rp_forest=False, b=None, init='spectral',\n",
            "     learning_rate=1.0, local_connectivity=1.0, metric='euclidean',\n",
            "     metric_kwds=None, min_dist=0.1, n_components=8, n_epochs=None,\n",
            "     n_neighbors=5, negative_sample_rate=5, random_state=None,\n",
            "     repulsion_strength=1.0, set_op_mix_ratio=1.0, spread=1.0,\n",
            "     target_metric='categorical', target_metric_kwds=None,\n",
            "     target_n_neighbors=-1, target_weight=0.5, transform_queue_size=4.0,\n",
            "     transform_seed=42, verbose=False), 8)\n",
            "no rfecv done (UMAP(a=None, angular_rp_forest=False, b=None, init='spectral',\n",
            "     learning_rate=1.0, local_connectivity=1.0, metric='euclidean',\n",
            "     metric_kwds=None, min_dist=0.1, n_components=12, n_epochs=None,\n",
            "     n_neighbors=5, negative_sample_rate=5, random_state=None,\n",
            "     repulsion_strength=1.0, set_op_mix_ratio=1.0, spread=1.0,\n",
            "     target_metric='categorical', target_metric_kwds=None,\n",
            "     target_n_neighbors=-1, target_weight=0.5, transform_queue_size=4.0,\n",
            "     transform_seed=42, verbose=False), 12)\n",
            "no rfecv done (KernelPCA(alpha=1.0, coef0=1, copy_X=True, degree=3, eigen_solver='auto',\n",
            "          fit_inverse_transform=False, gamma=None, kernel='rbf',\n",
            "          kernel_params=None, max_iter=None, n_components=6, n_jobs=None,\n",
            "          random_state=None, remove_zero_eig=False, tol=0), 6)\n",
            "no rfecv done (KernelPCA(alpha=1.0, coef0=1, copy_X=True, degree=3, eigen_solver='auto',\n",
            "          fit_inverse_transform=False, gamma=None, kernel='rbf',\n",
            "          kernel_params=None, max_iter=None, n_components=8, n_jobs=None,\n",
            "          random_state=None, remove_zero_eig=False, tol=0), 8)\n",
            "rfecv done (KernelPCA(alpha=1.0, coef0=1, copy_X=True, degree=3, eigen_solver='auto',\n",
            "          fit_inverse_transform=False, gamma=None, kernel='linear',\n",
            "          kernel_params=None, max_iter=None, n_components=48, n_jobs=None,\n",
            "          random_state=None, remove_zero_eig=False, tol=0), 48)\n",
            "rfecv done (KernelPCA(alpha=1.0, coef0=1, copy_X=True, degree=3, eigen_solver='auto',\n",
            "          fit_inverse_transform=False, gamma=None, kernel='linear',\n",
            "          kernel_params=None, max_iter=None, n_components=52, n_jobs=None,\n",
            "          random_state=None, remove_zero_eig=False, tol=0), 52)\n",
            "calulated options\n",
            "running split 2 of 5\n",
            "64 features left after selection\n",
            "no rfecv done (UMAP(a=None, angular_rp_forest=False, b=None, init='spectral',\n",
            "     learning_rate=1.0, local_connectivity=1.0, metric='euclidean',\n",
            "     metric_kwds=None, min_dist=0.1, n_components=8, n_epochs=None,\n",
            "     n_neighbors=5, negative_sample_rate=5, random_state=None,\n",
            "     repulsion_strength=1.0, set_op_mix_ratio=1.0, spread=1.0,\n",
            "     target_metric='categorical', target_metric_kwds=None,\n",
            "     target_n_neighbors=-1, target_weight=0.5, transform_queue_size=4.0,\n",
            "     transform_seed=42, verbose=False), 8)\n",
            "no rfecv done (UMAP(a=None, angular_rp_forest=False, b=None, init='spectral',\n",
            "     learning_rate=1.0, local_connectivity=1.0, metric='euclidean',\n",
            "     metric_kwds=None, min_dist=0.1, n_components=12, n_epochs=None,\n",
            "     n_neighbors=5, negative_sample_rate=5, random_state=None,\n",
            "     repulsion_strength=1.0, set_op_mix_ratio=1.0, spread=1.0,\n",
            "     target_metric='categorical', target_metric_kwds=None,\n",
            "     target_n_neighbors=-1, target_weight=0.5, transform_queue_size=4.0,\n",
            "     transform_seed=42, verbose=False), 12)\n",
            "no rfecv done (KernelPCA(alpha=1.0, coef0=1, copy_X=True, degree=3, eigen_solver='auto',\n",
            "          fit_inverse_transform=False, gamma=None, kernel='rbf',\n",
            "          kernel_params=None, max_iter=None, n_components=6, n_jobs=None,\n",
            "          random_state=None, remove_zero_eig=False, tol=0), 6)\n",
            "no rfecv done (KernelPCA(alpha=1.0, coef0=1, copy_X=True, degree=3, eigen_solver='auto',\n",
            "          fit_inverse_transform=False, gamma=None, kernel='rbf',\n",
            "          kernel_params=None, max_iter=None, n_components=8, n_jobs=None,\n",
            "          random_state=None, remove_zero_eig=False, tol=0), 8)\n",
            "rfecv done (KernelPCA(alpha=1.0, coef0=1, copy_X=True, degree=3, eigen_solver='auto',\n",
            "          fit_inverse_transform=False, gamma=None, kernel='linear',\n",
            "          kernel_params=None, max_iter=None, n_components=48, n_jobs=None,\n",
            "          random_state=None, remove_zero_eig=False, tol=0), 48)\n",
            "rfecv done (KernelPCA(alpha=1.0, coef0=1, copy_X=True, degree=3, eigen_solver='auto',\n",
            "          fit_inverse_transform=False, gamma=None, kernel='linear',\n",
            "          kernel_params=None, max_iter=None, n_components=52, n_jobs=None,\n",
            "          random_state=None, remove_zero_eig=False, tol=0), 52)\n",
            "calulated options\n",
            "running split 3 of 5\n",
            "114 features left after selection\n",
            "no rfecv done (UMAP(a=None, angular_rp_forest=False, b=None, init='spectral',\n",
            "     learning_rate=1.0, local_connectivity=1.0, metric='euclidean',\n",
            "     metric_kwds=None, min_dist=0.1, n_components=8, n_epochs=None,\n",
            "     n_neighbors=5, negative_sample_rate=5, random_state=None,\n",
            "     repulsion_strength=1.0, set_op_mix_ratio=1.0, spread=1.0,\n",
            "     target_metric='categorical', target_metric_kwds=None,\n",
            "     target_n_neighbors=-1, target_weight=0.5, transform_queue_size=4.0,\n",
            "     transform_seed=42, verbose=False), 8)\n",
            "no rfecv done (UMAP(a=None, angular_rp_forest=False, b=None, init='spectral',\n",
            "     learning_rate=1.0, local_connectivity=1.0, metric='euclidean',\n",
            "     metric_kwds=None, min_dist=0.1, n_components=12, n_epochs=None,\n",
            "     n_neighbors=5, negative_sample_rate=5, random_state=None,\n",
            "     repulsion_strength=1.0, set_op_mix_ratio=1.0, spread=1.0,\n",
            "     target_metric='categorical', target_metric_kwds=None,\n",
            "     target_n_neighbors=-1, target_weight=0.5, transform_queue_size=4.0,\n",
            "     transform_seed=42, verbose=False), 12)\n",
            "no rfecv done (KernelPCA(alpha=1.0, coef0=1, copy_X=True, degree=3, eigen_solver='auto',\n",
            "          fit_inverse_transform=False, gamma=None, kernel='rbf',\n",
            "          kernel_params=None, max_iter=None, n_components=6, n_jobs=None,\n",
            "          random_state=None, remove_zero_eig=False, tol=0), 6)\n",
            "no rfecv done (KernelPCA(alpha=1.0, coef0=1, copy_X=True, degree=3, eigen_solver='auto',\n",
            "          fit_inverse_transform=False, gamma=None, kernel='rbf',\n",
            "          kernel_params=None, max_iter=None, n_components=8, n_jobs=None,\n",
            "          random_state=None, remove_zero_eig=False, tol=0), 8)\n",
            "rfecv done (KernelPCA(alpha=1.0, coef0=1, copy_X=True, degree=3, eigen_solver='auto',\n",
            "          fit_inverse_transform=False, gamma=None, kernel='linear',\n",
            "          kernel_params=None, max_iter=None, n_components=48, n_jobs=None,\n",
            "          random_state=None, remove_zero_eig=False, tol=0), 48)\n",
            "rfecv done (KernelPCA(alpha=1.0, coef0=1, copy_X=True, degree=3, eigen_solver='auto',\n",
            "          fit_inverse_transform=False, gamma=None, kernel='linear',\n",
            "          kernel_params=None, max_iter=None, n_components=52, n_jobs=None,\n",
            "          random_state=None, remove_zero_eig=False, tol=0), 52)\n",
            "calulated options\n",
            "running split 4 of 5\n",
            "84 features left after selection\n",
            "no rfecv done (UMAP(a=None, angular_rp_forest=False, b=None, init='spectral',\n",
            "     learning_rate=1.0, local_connectivity=1.0, metric='euclidean',\n",
            "     metric_kwds=None, min_dist=0.1, n_components=8, n_epochs=None,\n",
            "     n_neighbors=5, negative_sample_rate=5, random_state=None,\n",
            "     repulsion_strength=1.0, set_op_mix_ratio=1.0, spread=1.0,\n",
            "     target_metric='categorical', target_metric_kwds=None,\n",
            "     target_n_neighbors=-1, target_weight=0.5, transform_queue_size=4.0,\n",
            "     transform_seed=42, verbose=False), 8)\n",
            "no rfecv done (UMAP(a=None, angular_rp_forest=False, b=None, init='spectral',\n",
            "     learning_rate=1.0, local_connectivity=1.0, metric='euclidean',\n",
            "     metric_kwds=None, min_dist=0.1, n_components=12, n_epochs=None,\n",
            "     n_neighbors=5, negative_sample_rate=5, random_state=None,\n",
            "     repulsion_strength=1.0, set_op_mix_ratio=1.0, spread=1.0,\n",
            "     target_metric='categorical', target_metric_kwds=None,\n",
            "     target_n_neighbors=-1, target_weight=0.5, transform_queue_size=4.0,\n",
            "     transform_seed=42, verbose=False), 12)\n",
            "no rfecv done (KernelPCA(alpha=1.0, coef0=1, copy_X=True, degree=3, eigen_solver='auto',\n",
            "          fit_inverse_transform=False, gamma=None, kernel='rbf',\n",
            "          kernel_params=None, max_iter=None, n_components=6, n_jobs=None,\n",
            "          random_state=None, remove_zero_eig=False, tol=0), 6)\n",
            "no rfecv done (KernelPCA(alpha=1.0, coef0=1, copy_X=True, degree=3, eigen_solver='auto',\n",
            "          fit_inverse_transform=False, gamma=None, kernel='rbf',\n",
            "          kernel_params=None, max_iter=None, n_components=8, n_jobs=None,\n",
            "          random_state=None, remove_zero_eig=False, tol=0), 8)\n",
            "rfecv done (KernelPCA(alpha=1.0, coef0=1, copy_X=True, degree=3, eigen_solver='auto',\n",
            "          fit_inverse_transform=False, gamma=None, kernel='linear',\n",
            "          kernel_params=None, max_iter=None, n_components=48, n_jobs=None,\n",
            "          random_state=None, remove_zero_eig=False, tol=0), 48)\n",
            "rfecv done (KernelPCA(alpha=1.0, coef0=1, copy_X=True, degree=3, eigen_solver='auto',\n",
            "          fit_inverse_transform=False, gamma=None, kernel='linear',\n",
            "          kernel_params=None, max_iter=None, n_components=52, n_jobs=None,\n",
            "          random_state=None, remove_zero_eig=False, tol=0), 52)\n",
            "calulated options\n",
            "running split 5 of 5\n",
            "55 features left after selection\n",
            "no rfecv done (UMAP(a=None, angular_rp_forest=False, b=None, init='spectral',\n",
            "     learning_rate=1.0, local_connectivity=1.0, metric='euclidean',\n",
            "     metric_kwds=None, min_dist=0.1, n_components=8, n_epochs=None,\n",
            "     n_neighbors=5, negative_sample_rate=5, random_state=None,\n",
            "     repulsion_strength=1.0, set_op_mix_ratio=1.0, spread=1.0,\n",
            "     target_metric='categorical', target_metric_kwds=None,\n",
            "     target_n_neighbors=-1, target_weight=0.5, transform_queue_size=4.0,\n",
            "     transform_seed=42, verbose=False), 8)\n",
            "no rfecv done (UMAP(a=None, angular_rp_forest=False, b=None, init='spectral',\n",
            "     learning_rate=1.0, local_connectivity=1.0, metric='euclidean',\n",
            "     metric_kwds=None, min_dist=0.1, n_components=12, n_epochs=None,\n",
            "     n_neighbors=5, negative_sample_rate=5, random_state=None,\n",
            "     repulsion_strength=1.0, set_op_mix_ratio=1.0, spread=1.0,\n",
            "     target_metric='categorical', target_metric_kwds=None,\n",
            "     target_n_neighbors=-1, target_weight=0.5, transform_queue_size=4.0,\n",
            "     transform_seed=42, verbose=False), 12)\n",
            "no rfecv done (KernelPCA(alpha=1.0, coef0=1, copy_X=True, degree=3, eigen_solver='auto',\n",
            "          fit_inverse_transform=False, gamma=None, kernel='rbf',\n",
            "          kernel_params=None, max_iter=None, n_components=6, n_jobs=None,\n",
            "          random_state=None, remove_zero_eig=False, tol=0), 6)\n",
            "no rfecv done (KernelPCA(alpha=1.0, coef0=1, copy_X=True, degree=3, eigen_solver='auto',\n",
            "          fit_inverse_transform=False, gamma=None, kernel='rbf',\n",
            "          kernel_params=None, max_iter=None, n_components=8, n_jobs=None,\n",
            "          random_state=None, remove_zero_eig=False, tol=0), 8)\n",
            "rfecv done (KernelPCA(alpha=1.0, coef0=1, copy_X=True, degree=3, eigen_solver='auto',\n",
            "          fit_inverse_transform=False, gamma=None, kernel='linear',\n",
            "          kernel_params=None, max_iter=None, n_components=48, n_jobs=None,\n",
            "          random_state=None, remove_zero_eig=False, tol=0), 48)\n",
            "rfecv done (KernelPCA(alpha=1.0, coef0=1, copy_X=True, degree=3, eigen_solver='auto',\n",
            "          fit_inverse_transform=False, gamma=None, kernel='linear',\n",
            "          kernel_params=None, max_iter=None, n_components=52, n_jobs=None,\n",
            "          random_state=None, remove_zero_eig=False, tol=0), 52)\n",
            "calulated options\n",
            "finished in 162.192s\n",
            "    ac mean    ac std  AUC mean  ...     rfecv       model  component\n",
            "3  0.800000  0.100000  0.808161  ...  no_rfecv       pca_8          8\n",
            "2  0.793333  0.095452  0.802605  ...  no_rfecv       pca_6          6\n",
            "5  0.826667  0.072265  0.791414  ...     rfecv      pca_52         52\n",
            "4  0.820000  0.069121  0.782323  ...     rfecv      pca_48         48\n",
            "0  0.786667  0.038006  0.738171  ...  no_rfecv   Umapper_8          8\n",
            "1  0.760000  0.059628  0.707908  ...  no_rfecv  Umapper_12         12\n",
            "\n",
            "[6 rows x 9 columns]\n",
            "KernelPCA(alpha=1.0, coef0=1, copy_X=True, degree=3, eigen_solver='auto',\n",
            "          fit_inverse_transform=False, gamma=None, kernel='rbf',\n",
            "          kernel_params=None, max_iter=None, n_components=8, n_jobs=None,\n",
            "          random_state=None, remove_zero_eig=False, tol=0)\n"
          ],
          "name": "stdout"
        },
        {
          "output_type": "stream",
          "text": [
            "/usr/local/lib/python3.6/dist-packages/sklearn/utils/validation.py:760: DataConversionWarning: A column-vector y was passed when a 1d array was expected. Please change the shape of y to (n_samples, ), for example using ravel().\n",
            "  y = column_or_1d(y, warn=True)\n",
            "/usr/local/lib/python3.6/dist-packages/sklearn/utils/validation.py:760: DataConversionWarning: A column-vector y was passed when a 1d array was expected. Please change the shape of y to (n_samples, ), for example using ravel().\n",
            "  y = column_or_1d(y, warn=True)\n",
            "/usr/local/lib/python3.6/dist-packages/sklearn/utils/validation.py:760: DataConversionWarning: A column-vector y was passed when a 1d array was expected. Please change the shape of y to (n_samples, ), for example using ravel().\n",
            "  y = column_or_1d(y, warn=True)\n",
            "/usr/local/lib/python3.6/dist-packages/sklearn/utils/validation.py:760: DataConversionWarning: A column-vector y was passed when a 1d array was expected. Please change the shape of y to (n_samples, ), for example using ravel().\n",
            "  y = column_or_1d(y, warn=True)\n",
            "/usr/local/lib/python3.6/dist-packages/sklearn/utils/validation.py:760: DataConversionWarning: A column-vector y was passed when a 1d array was expected. Please change the shape of y to (n_samples, ), for example using ravel().\n",
            "  y = column_or_1d(y, warn=True)\n",
            "/usr/local/lib/python3.6/dist-packages/sklearn/utils/validation.py:760: DataConversionWarning: A column-vector y was passed when a 1d array was expected. Please change the shape of y to (n_samples, ), for example using ravel().\n",
            "  y = column_or_1d(y, warn=True)\n",
            "/usr/local/lib/python3.6/dist-packages/sklearn/utils/validation.py:760: DataConversionWarning: A column-vector y was passed when a 1d array was expected. Please change the shape of y to (n_samples, ), for example using ravel().\n",
            "  y = column_or_1d(y, warn=True)\n",
            "/usr/local/lib/python3.6/dist-packages/sklearn/utils/validation.py:760: DataConversionWarning: A column-vector y was passed when a 1d array was expected. Please change the shape of y to (n_samples, ), for example using ravel().\n",
            "  y = column_or_1d(y, warn=True)\n",
            "/usr/local/lib/python3.6/dist-packages/sklearn/utils/validation.py:760: DataConversionWarning: A column-vector y was passed when a 1d array was expected. Please change the shape of y to (n_samples, ), for example using ravel().\n",
            "  y = column_or_1d(y, warn=True)\n",
            "/usr/local/lib/python3.6/dist-packages/sklearn/utils/validation.py:760: DataConversionWarning: A column-vector y was passed when a 1d array was expected. Please change the shape of y to (n_samples, ), for example using ravel().\n",
            "  y = column_or_1d(y, warn=True)\n",
            "/usr/local/lib/python3.6/dist-packages/sklearn/utils/validation.py:760: DataConversionWarning: A column-vector y was passed when a 1d array was expected. Please change the shape of y to (n_samples, ), for example using ravel().\n",
            "  y = column_or_1d(y, warn=True)\n",
            "/usr/local/lib/python3.6/dist-packages/sklearn/utils/validation.py:760: DataConversionWarning: A column-vector y was passed when a 1d array was expected. Please change the shape of y to (n_samples, ), for example using ravel().\n",
            "  y = column_or_1d(y, warn=True)\n",
            "/usr/local/lib/python3.6/dist-packages/sklearn/utils/validation.py:760: DataConversionWarning: A column-vector y was passed when a 1d array was expected. Please change the shape of y to (n_samples, ), for example using ravel().\n",
            "  y = column_or_1d(y, warn=True)\n",
            "/usr/local/lib/python3.6/dist-packages/sklearn/utils/validation.py:760: DataConversionWarning: A column-vector y was passed when a 1d array was expected. Please change the shape of y to (n_samples, ), for example using ravel().\n",
            "  y = column_or_1d(y, warn=True)\n",
            "/usr/local/lib/python3.6/dist-packages/sklearn/utils/validation.py:760: DataConversionWarning: A column-vector y was passed when a 1d array was expected. Please change the shape of y to (n_samples, ), for example using ravel().\n",
            "  y = column_or_1d(y, warn=True)\n",
            "/usr/local/lib/python3.6/dist-packages/sklearn/utils/validation.py:760: DataConversionWarning: A column-vector y was passed when a 1d array was expected. Please change the shape of y to (n_samples, ), for example using ravel().\n",
            "  y = column_or_1d(y, warn=True)\n",
            "/usr/local/lib/python3.6/dist-packages/sklearn/utils/validation.py:760: DataConversionWarning: A column-vector y was passed when a 1d array was expected. Please change the shape of y to (n_samples, ), for example using ravel().\n",
            "  y = column_or_1d(y, warn=True)\n",
            "/usr/local/lib/python3.6/dist-packages/sklearn/utils/validation.py:760: DataConversionWarning: A column-vector y was passed when a 1d array was expected. Please change the shape of y to (n_samples, ), for example using ravel().\n",
            "  y = column_or_1d(y, warn=True)\n",
            "/usr/local/lib/python3.6/dist-packages/sklearn/utils/validation.py:760: DataConversionWarning: A column-vector y was passed when a 1d array was expected. Please change the shape of y to (n_samples, ), for example using ravel().\n",
            "  y = column_or_1d(y, warn=True)\n",
            "/usr/local/lib/python3.6/dist-packages/sklearn/utils/validation.py:760: DataConversionWarning: A column-vector y was passed when a 1d array was expected. Please change the shape of y to (n_samples, ), for example using ravel().\n",
            "  y = column_or_1d(y, warn=True)\n",
            "/usr/local/lib/python3.6/dist-packages/sklearn/utils/validation.py:760: DataConversionWarning: A column-vector y was passed when a 1d array was expected. Please change the shape of y to (n_samples, ), for example using ravel().\n",
            "  y = column_or_1d(y, warn=True)\n",
            "/usr/local/lib/python3.6/dist-packages/sklearn/utils/validation.py:760: DataConversionWarning: A column-vector y was passed when a 1d array was expected. Please change the shape of y to (n_samples, ), for example using ravel().\n",
            "  y = column_or_1d(y, warn=True)\n",
            "/usr/local/lib/python3.6/dist-packages/sklearn/utils/validation.py:760: DataConversionWarning: A column-vector y was passed when a 1d array was expected. Please change the shape of y to (n_samples, ), for example using ravel().\n",
            "  y = column_or_1d(y, warn=True)\n",
            "/usr/local/lib/python3.6/dist-packages/sklearn/utils/validation.py:760: DataConversionWarning: A column-vector y was passed when a 1d array was expected. Please change the shape of y to (n_samples, ), for example using ravel().\n",
            "  y = column_or_1d(y, warn=True)\n",
            "/usr/local/lib/python3.6/dist-packages/sklearn/utils/validation.py:760: DataConversionWarning: A column-vector y was passed when a 1d array was expected. Please change the shape of y to (n_samples, ), for example using ravel().\n",
            "  y = column_or_1d(y, warn=True)\n",
            "/usr/local/lib/python3.6/dist-packages/sklearn/utils/validation.py:760: DataConversionWarning: A column-vector y was passed when a 1d array was expected. Please change the shape of y to (n_samples, ), for example using ravel().\n",
            "  y = column_or_1d(y, warn=True)\n",
            "/usr/local/lib/python3.6/dist-packages/sklearn/utils/validation.py:760: DataConversionWarning: A column-vector y was passed when a 1d array was expected. Please change the shape of y to (n_samples, ), for example using ravel().\n",
            "  y = column_or_1d(y, warn=True)\n",
            "/usr/local/lib/python3.6/dist-packages/sklearn/utils/validation.py:760: DataConversionWarning: A column-vector y was passed when a 1d array was expected. Please change the shape of y to (n_samples, ), for example using ravel().\n",
            "  y = column_or_1d(y, warn=True)\n",
            "/usr/local/lib/python3.6/dist-packages/sklearn/utils/validation.py:760: DataConversionWarning: A column-vector y was passed when a 1d array was expected. Please change the shape of y to (n_samples, ), for example using ravel().\n",
            "  y = column_or_1d(y, warn=True)\n",
            "/usr/local/lib/python3.6/dist-packages/sklearn/utils/validation.py:760: DataConversionWarning: A column-vector y was passed when a 1d array was expected. Please change the shape of y to (n_samples, ), for example using ravel().\n",
            "  y = column_or_1d(y, warn=True)\n",
            "/usr/local/lib/python3.6/dist-packages/sklearn/utils/validation.py:760: DataConversionWarning: A column-vector y was passed when a 1d array was expected. Please change the shape of y to (n_samples, ), for example using ravel().\n",
            "  y = column_or_1d(y, warn=True)\n",
            "/usr/local/lib/python3.6/dist-packages/sklearn/utils/validation.py:760: DataConversionWarning: A column-vector y was passed when a 1d array was expected. Please change the shape of y to (n_samples, ), for example using ravel().\n",
            "  y = column_or_1d(y, warn=True)\n",
            "/usr/local/lib/python3.6/dist-packages/sklearn/utils/validation.py:760: DataConversionWarning: A column-vector y was passed when a 1d array was expected. Please change the shape of y to (n_samples, ), for example using ravel().\n",
            "  y = column_or_1d(y, warn=True)\n",
            "/usr/local/lib/python3.6/dist-packages/sklearn/utils/validation.py:760: DataConversionWarning: A column-vector y was passed when a 1d array was expected. Please change the shape of y to (n_samples, ), for example using ravel().\n",
            "  y = column_or_1d(y, warn=True)\n",
            "/usr/local/lib/python3.6/dist-packages/sklearn/utils/validation.py:760: DataConversionWarning: A column-vector y was passed when a 1d array was expected. Please change the shape of y to (n_samples, ), for example using ravel().\n",
            "  y = column_or_1d(y, warn=True)\n",
            "/usr/local/lib/python3.6/dist-packages/sklearn/utils/validation.py:760: DataConversionWarning: A column-vector y was passed when a 1d array was expected. Please change the shape of y to (n_samples, ), for example using ravel().\n",
            "  y = column_or_1d(y, warn=True)\n",
            "/usr/local/lib/python3.6/dist-packages/sklearn/utils/validation.py:760: DataConversionWarning: A column-vector y was passed when a 1d array was expected. Please change the shape of y to (n_samples, ), for example using ravel().\n",
            "  y = column_or_1d(y, warn=True)\n",
            "/usr/local/lib/python3.6/dist-packages/sklearn/utils/validation.py:760: DataConversionWarning: A column-vector y was passed when a 1d array was expected. Please change the shape of y to (n_samples, ), for example using ravel().\n",
            "  y = column_or_1d(y, warn=True)\n",
            "/usr/local/lib/python3.6/dist-packages/sklearn/utils/validation.py:760: DataConversionWarning: A column-vector y was passed when a 1d array was expected. Please change the shape of y to (n_samples, ), for example using ravel().\n",
            "  y = column_or_1d(y, warn=True)\n",
            "/usr/local/lib/python3.6/dist-packages/sklearn/utils/validation.py:760: DataConversionWarning: A column-vector y was passed when a 1d array was expected. Please change the shape of y to (n_samples, ), for example using ravel().\n",
            "  y = column_or_1d(y, warn=True)\n",
            "/usr/local/lib/python3.6/dist-packages/sklearn/utils/validation.py:760: DataConversionWarning: A column-vector y was passed when a 1d array was expected. Please change the shape of y to (n_samples, ), for example using ravel().\n",
            "  y = column_or_1d(y, warn=True)\n",
            "/usr/local/lib/python3.6/dist-packages/sklearn/utils/validation.py:760: DataConversionWarning: A column-vector y was passed when a 1d array was expected. Please change the shape of y to (n_samples, ), for example using ravel().\n",
            "  y = column_or_1d(y, warn=True)\n",
            "/usr/local/lib/python3.6/dist-packages/sklearn/utils/validation.py:760: DataConversionWarning: A column-vector y was passed when a 1d array was expected. Please change the shape of y to (n_samples, ), for example using ravel().\n",
            "  y = column_or_1d(y, warn=True)\n",
            "/usr/local/lib/python3.6/dist-packages/sklearn/utils/validation.py:760: DataConversionWarning: A column-vector y was passed when a 1d array was expected. Please change the shape of y to (n_samples, ), for example using ravel().\n",
            "  y = column_or_1d(y, warn=True)\n",
            "/usr/local/lib/python3.6/dist-packages/sklearn/utils/validation.py:760: DataConversionWarning: A column-vector y was passed when a 1d array was expected. Please change the shape of y to (n_samples, ), for example using ravel().\n",
            "  y = column_or_1d(y, warn=True)\n",
            "/usr/local/lib/python3.6/dist-packages/sklearn/utils/validation.py:760: DataConversionWarning: A column-vector y was passed when a 1d array was expected. Please change the shape of y to (n_samples, ), for example using ravel().\n",
            "  y = column_or_1d(y, warn=True)\n",
            "/usr/local/lib/python3.6/dist-packages/sklearn/utils/validation.py:760: DataConversionWarning: A column-vector y was passed when a 1d array was expected. Please change the shape of y to (n_samples, ), for example using ravel().\n",
            "  y = column_or_1d(y, warn=True)\n",
            "/usr/local/lib/python3.6/dist-packages/sklearn/utils/validation.py:760: DataConversionWarning: A column-vector y was passed when a 1d array was expected. Please change the shape of y to (n_samples, ), for example using ravel().\n",
            "  y = column_or_1d(y, warn=True)\n",
            "/usr/local/lib/python3.6/dist-packages/sklearn/utils/validation.py:760: DataConversionWarning: A column-vector y was passed when a 1d array was expected. Please change the shape of y to (n_samples, ), for example using ravel().\n",
            "  y = column_or_1d(y, warn=True)\n",
            "/usr/local/lib/python3.6/dist-packages/sklearn/utils/validation.py:760: DataConversionWarning: A column-vector y was passed when a 1d array was expected. Please change the shape of y to (n_samples, ), for example using ravel().\n",
            "  y = column_or_1d(y, warn=True)\n",
            "/usr/local/lib/python3.6/dist-packages/sklearn/utils/validation.py:760: DataConversionWarning: A column-vector y was passed when a 1d array was expected. Please change the shape of y to (n_samples, ), for example using ravel().\n",
            "  y = column_or_1d(y, warn=True)\n",
            "/usr/local/lib/python3.6/dist-packages/sklearn/model_selection/_validation.py:515: DataConversionWarning: A column-vector y was passed when a 1d array was expected. Please change the shape of y to (n_samples,), for example using ravel().\n",
            "  estimator.fit(X_train, y_train, **fit_params)\n"
          ],
          "name": "stderr"
        },
        {
          "output_type": "stream",
          "text": [
            "Best classifier: parameters={'kernel': 'rbf', 'degree': 4}\n",
            "{'mean_fit_time': array([0.0052382 , 0.00752296, 0.00365849, 0.0053762 , 0.00517731,\n",
            "       0.00520844, 0.00403886, 0.00345907, 0.00475554, 0.00501041]), 'std_fit_time': array([3.43742333e-04, 3.44407913e-03, 9.29565147e-05, 6.51353128e-04,\n",
            "       2.83490434e-04, 4.78512833e-04, 8.61650682e-05, 6.19883904e-05,\n",
            "       1.27773100e-03, 2.24222573e-04]), 'mean_score_time': array([0.00652809, 0.00576458, 0.00444989, 0.00473623, 0.00436845,\n",
            "       0.00469861, 0.0040266 , 0.00422726, 0.00462627, 0.00416155]), 'std_score_time': array([2.86135489e-04, 1.21252656e-03, 2.94050881e-04, 5.80062268e-04,\n",
            "       1.51879679e-04, 4.82772570e-04, 7.21532618e-05, 5.08466212e-04,\n",
            "       8.52452032e-04, 7.33563098e-05]), 'param_kernel': masked_array(data=['linear', 'rbf', 'linear', 'sigmoid', 'sigmoid',\n",
            "                   'sigmoid', 'poly', 'linear', 'poly', 'sigmoid'],\n",
            "             mask=[False, False, False, False, False, False, False, False,\n",
            "                   False, False],\n",
            "       fill_value='?',\n",
            "            dtype=object), 'param_degree': masked_array(data=[2, 4, 1, 1, 3, 2, 2, 3, 1, 4],\n",
            "             mask=[False, False, False, False, False, False, False, False,\n",
            "                   False, False],\n",
            "       fill_value='?',\n",
            "            dtype=object), 'params': [{'kernel': 'linear', 'degree': 2}, {'kernel': 'rbf', 'degree': 4}, {'kernel': 'linear', 'degree': 1}, {'kernel': 'sigmoid', 'degree': 1}, {'kernel': 'sigmoid', 'degree': 3}, {'kernel': 'sigmoid', 'degree': 2}, {'kernel': 'poly', 'degree': 2}, {'kernel': 'linear', 'degree': 3}, {'kernel': 'poly', 'degree': 1}, {'kernel': 'sigmoid', 'degree': 4}], 'split0_test_AUC': array([0.97129187, 0.9569378 , 0.97129187, 0.94258373, 0.94258373,\n",
            "       0.94258373, 0.8277512 , 0.97129187, 0.9569378 , 0.94258373]), 'split1_test_AUC': array([0.66203704, 0.81018519, 0.66203704, 0.68518519, 0.68518519,\n",
            "       0.68518519, 0.68981481, 0.66203704, 0.62962963, 0.68518519]), 'split2_test_AUC': array([0.91666667, 0.97685185, 0.91666667, 0.9212963 , 0.9212963 ,\n",
            "       0.9212963 , 0.97685185, 0.91666667, 0.95833333, 0.9212963 ]), 'split3_test_AUC': array([0.82638889, 0.75925926, 0.82638889, 0.85648148, 0.85648148,\n",
            "       0.85648148, 0.6712963 , 0.82638889, 0.82175926, 0.85648148]), 'split4_test_AUC': array([0.85648148, 0.8287037 , 0.85648148, 0.81481481, 0.81481481,\n",
            "       0.81481481, 0.85185185, 0.85648148, 0.8287037 , 0.81481481]), 'mean_test_AUC': array([0.84657319, 0.86638756, 0.84657319, 0.8440723 , 0.8440723 ,\n",
            "       0.8440723 , 0.8035132 , 0.84657319, 0.83907274, 0.8440723 ]), 'std_test_AUC': array([0.10490664, 0.08538965, 0.10490664, 0.09156763, 0.09156763,\n",
            "       0.09156763, 0.11258688, 0.10490664, 0.12032369, 0.09156763]), 'rank_test_AUC': array([ 2,  1,  2,  5,  5,  5, 10,  2,  9,  5], dtype=int32), 'split0_test_Accuracy': array([0.9       , 0.83333333, 0.9       , 0.86666667, 0.86666667,\n",
            "       0.86666667, 0.73333333, 0.9       , 0.9       , 0.86666667]), 'split1_test_Accuracy': array([0.63333333, 0.66666667, 0.63333333, 0.63333333, 0.63333333,\n",
            "       0.63333333, 0.6       , 0.63333333, 0.63333333, 0.63333333]), 'split2_test_Accuracy': array([0.8       , 0.93333333, 0.8       , 0.86666667, 0.86666667,\n",
            "       0.86666667, 0.83333333, 0.8       , 0.9       , 0.86666667]), 'split3_test_Accuracy': array([0.76666667, 0.76666667, 0.76666667, 0.76666667, 0.76666667,\n",
            "       0.76666667, 0.56666667, 0.76666667, 0.73333333, 0.76666667]), 'split4_test_Accuracy': array([0.73333333, 0.8       , 0.73333333, 0.83333333, 0.83333333,\n",
            "       0.83333333, 0.8       , 0.73333333, 0.73333333, 0.83333333]), 'mean_test_Accuracy': array([0.76666667, 0.8       , 0.76666667, 0.79333333, 0.79333333,\n",
            "       0.79333333, 0.70666667, 0.76666667, 0.78      , 0.79333333]), 'std_test_Accuracy': array([0.0869227 , 0.0869227 , 0.0869227 , 0.08793937, 0.08793937,\n",
            "       0.08793937, 0.10624918, 0.0869227 , 0.10456258, 0.08793937]), 'rank_test_Accuracy': array([ 7,  1,  7,  2,  2,  2, 10,  7,  6,  2], dtype=int32), 'split0_test_f1-score': array([0.91891892, 0.86486486, 0.91891892, 0.88888889, 0.88888889,\n",
            "       0.88888889, 0.76470588, 0.91891892, 0.91891892, 0.88888889]), 'split1_test_f1-score': array([0.64516129, 0.6875    , 0.64516129, 0.64516129, 0.64516129,\n",
            "       0.64516129, 0.57142857, 0.64516129, 0.64516129, 0.64516129]), 'split2_test_f1-score': array([0.8       , 0.94117647, 0.8       , 0.875     , 0.875     ,\n",
            "       0.875     , 0.83870968, 0.8       , 0.90909091, 0.875     ]), 'split3_test_f1-score': array([0.77419355, 0.8       , 0.77419355, 0.77419355, 0.77419355,\n",
            "       0.77419355, 0.60606061, 0.77419355, 0.75      , 0.77419355]), 'split4_test_f1-score': array([0.75      , 0.83333333, 0.75      , 0.85714286, 0.85714286,\n",
            "       0.85714286, 0.82352941, 0.75      , 0.76470588, 0.85714286]), 'mean_test_f1-score': array([0.77765475, 0.82537493, 0.77765475, 0.80807732, 0.80807732,\n",
            "       0.80807732, 0.72088683, 0.77765475, 0.7975754 , 0.80807732]), 'std_test_f1-score': array([0.08807515, 0.08329006, 0.08807515, 0.09067119, 0.09067119,\n",
            "       0.09067119, 0.11123009, 0.08807515, 0.10366662, 0.09067119]), 'rank_test_f1-score': array([ 7,  1,  7,  2,  2,  2, 10,  7,  6,  2], dtype=int32)}\n",
            "0.8663875598086126\n"
          ],
          "name": "stdout"
        },
        {
          "output_type": "stream",
          "text": [
            "/usr/local/lib/python3.6/dist-packages/sklearn/model_selection/_validation.py:515: DataConversionWarning: A column-vector y was passed when a 1d array was expected. Please change the shape of y to (n_samples,), for example using ravel().\n",
            "  estimator.fit(X_train, y_train, **fit_params)\n",
            "/usr/local/lib/python3.6/dist-packages/sklearn/model_selection/_validation.py:515: DataConversionWarning: A column-vector y was passed when a 1d array was expected. Please change the shape of y to (n_samples,), for example using ravel().\n",
            "  estimator.fit(X_train, y_train, **fit_params)\n",
            "/usr/local/lib/python3.6/dist-packages/sklearn/model_selection/_validation.py:515: DataConversionWarning: A column-vector y was passed when a 1d array was expected. Please change the shape of y to (n_samples,), for example using ravel().\n",
            "  estimator.fit(X_train, y_train, **fit_params)\n",
            "/usr/local/lib/python3.6/dist-packages/sklearn/model_selection/_validation.py:515: DataConversionWarning: A column-vector y was passed when a 1d array was expected. Please change the shape of y to (n_samples,), for example using ravel().\n",
            "  estimator.fit(X_train, y_train, **fit_params)\n",
            "/usr/local/lib/python3.6/dist-packages/sklearn/model_selection/_validation.py:515: DataConversionWarning: A column-vector y was passed when a 1d array was expected. Please change the shape of y to (n_samples,), for example using ravel().\n",
            "  estimator.fit(X_train, y_train, **fit_params)\n",
            "/usr/local/lib/python3.6/dist-packages/sklearn/model_selection/_validation.py:515: DataConversionWarning: A column-vector y was passed when a 1d array was expected. Please change the shape of y to (n_samples,), for example using ravel().\n",
            "  estimator.fit(X_train, y_train, **fit_params)\n",
            "/usr/local/lib/python3.6/dist-packages/sklearn/model_selection/_validation.py:515: DataConversionWarning: A column-vector y was passed when a 1d array was expected. Please change the shape of y to (n_samples,), for example using ravel().\n",
            "  estimator.fit(X_train, y_train, **fit_params)\n",
            "/usr/local/lib/python3.6/dist-packages/sklearn/model_selection/_validation.py:515: DataConversionWarning: A column-vector y was passed when a 1d array was expected. Please change the shape of y to (n_samples,), for example using ravel().\n",
            "  estimator.fit(X_train, y_train, **fit_params)\n",
            "/usr/local/lib/python3.6/dist-packages/sklearn/model_selection/_validation.py:515: DataConversionWarning: A column-vector y was passed when a 1d array was expected. Please change the shape of y to (n_samples,), for example using ravel().\n",
            "  estimator.fit(X_train, y_train, **fit_params)\n",
            "/usr/local/lib/python3.6/dist-packages/sklearn/model_selection/_validation.py:515: DataConversionWarning: A column-vector y was passed when a 1d array was expected. Please change the shape of y to (n_samples,), for example using ravel().\n",
            "  estimator.fit(X_train, y_train, **fit_params)\n",
            "/usr/local/lib/python3.6/dist-packages/sklearn/model_selection/_validation.py:515: DataConversionWarning: A column-vector y was passed when a 1d array was expected. Please change the shape of y to (n_samples,), for example using ravel().\n",
            "  estimator.fit(X_train, y_train, **fit_params)\n",
            "/usr/local/lib/python3.6/dist-packages/sklearn/model_selection/_validation.py:515: DataConversionWarning: A column-vector y was passed when a 1d array was expected. Please change the shape of y to (n_samples,), for example using ravel().\n",
            "  estimator.fit(X_train, y_train, **fit_params)\n",
            "/usr/local/lib/python3.6/dist-packages/sklearn/model_selection/_validation.py:515: DataConversionWarning: A column-vector y was passed when a 1d array was expected. Please change the shape of y to (n_samples,), for example using ravel().\n",
            "  estimator.fit(X_train, y_train, **fit_params)\n",
            "/usr/local/lib/python3.6/dist-packages/sklearn/model_selection/_validation.py:515: DataConversionWarning: A column-vector y was passed when a 1d array was expected. Please change the shape of y to (n_samples,), for example using ravel().\n",
            "  estimator.fit(X_train, y_train, **fit_params)\n",
            "/usr/local/lib/python3.6/dist-packages/sklearn/model_selection/_validation.py:515: DataConversionWarning: A column-vector y was passed when a 1d array was expected. Please change the shape of y to (n_samples,), for example using ravel().\n",
            "  estimator.fit(X_train, y_train, **fit_params)\n",
            "/usr/local/lib/python3.6/dist-packages/sklearn/model_selection/_validation.py:515: DataConversionWarning: A column-vector y was passed when a 1d array was expected. Please change the shape of y to (n_samples,), for example using ravel().\n",
            "  estimator.fit(X_train, y_train, **fit_params)\n",
            "/usr/local/lib/python3.6/dist-packages/sklearn/model_selection/_validation.py:515: DataConversionWarning: A column-vector y was passed when a 1d array was expected. Please change the shape of y to (n_samples,), for example using ravel().\n",
            "  estimator.fit(X_train, y_train, **fit_params)\n",
            "/usr/local/lib/python3.6/dist-packages/sklearn/model_selection/_validation.py:515: DataConversionWarning: A column-vector y was passed when a 1d array was expected. Please change the shape of y to (n_samples,), for example using ravel().\n",
            "  estimator.fit(X_train, y_train, **fit_params)\n",
            "/usr/local/lib/python3.6/dist-packages/sklearn/model_selection/_validation.py:515: DataConversionWarning: A column-vector y was passed when a 1d array was expected. Please change the shape of y to (n_samples,), for example using ravel().\n",
            "  estimator.fit(X_train, y_train, **fit_params)\n",
            "/usr/local/lib/python3.6/dist-packages/sklearn/model_selection/_validation.py:515: DataConversionWarning: A column-vector y was passed when a 1d array was expected. Please change the shape of y to (n_samples,), for example using ravel().\n",
            "  estimator.fit(X_train, y_train, **fit_params)\n",
            "/usr/local/lib/python3.6/dist-packages/sklearn/model_selection/_validation.py:515: DataConversionWarning: A column-vector y was passed when a 1d array was expected. Please change the shape of y to (n_samples,), for example using ravel().\n",
            "  estimator.fit(X_train, y_train, **fit_params)\n",
            "/usr/local/lib/python3.6/dist-packages/sklearn/model_selection/_validation.py:515: DataConversionWarning: A column-vector y was passed when a 1d array was expected. Please change the shape of y to (n_samples,), for example using ravel().\n",
            "  estimator.fit(X_train, y_train, **fit_params)\n",
            "/usr/local/lib/python3.6/dist-packages/sklearn/model_selection/_validation.py:515: DataConversionWarning: A column-vector y was passed when a 1d array was expected. Please change the shape of y to (n_samples,), for example using ravel().\n",
            "  estimator.fit(X_train, y_train, **fit_params)\n",
            "/usr/local/lib/python3.6/dist-packages/sklearn/model_selection/_validation.py:515: DataConversionWarning: A column-vector y was passed when a 1d array was expected. Please change the shape of y to (n_samples,), for example using ravel().\n",
            "  estimator.fit(X_train, y_train, **fit_params)\n",
            "/usr/local/lib/python3.6/dist-packages/sklearn/model_selection/_validation.py:515: DataConversionWarning: A column-vector y was passed when a 1d array was expected. Please change the shape of y to (n_samples,), for example using ravel().\n",
            "  estimator.fit(X_train, y_train, **fit_params)\n",
            "/usr/local/lib/python3.6/dist-packages/sklearn/model_selection/_validation.py:515: DataConversionWarning: A column-vector y was passed when a 1d array was expected. Please change the shape of y to (n_samples,), for example using ravel().\n",
            "  estimator.fit(X_train, y_train, **fit_params)\n",
            "/usr/local/lib/python3.6/dist-packages/sklearn/model_selection/_validation.py:515: DataConversionWarning: A column-vector y was passed when a 1d array was expected. Please change the shape of y to (n_samples,), for example using ravel().\n",
            "  estimator.fit(X_train, y_train, **fit_params)\n",
            "/usr/local/lib/python3.6/dist-packages/sklearn/model_selection/_validation.py:515: DataConversionWarning: A column-vector y was passed when a 1d array was expected. Please change the shape of y to (n_samples,), for example using ravel().\n",
            "  estimator.fit(X_train, y_train, **fit_params)\n",
            "/usr/local/lib/python3.6/dist-packages/sklearn/model_selection/_validation.py:515: DataConversionWarning: A column-vector y was passed when a 1d array was expected. Please change the shape of y to (n_samples,), for example using ravel().\n",
            "  estimator.fit(X_train, y_train, **fit_params)\n",
            "/usr/local/lib/python3.6/dist-packages/sklearn/model_selection/_validation.py:515: DataConversionWarning: A column-vector y was passed when a 1d array was expected. Please change the shape of y to (n_samples,), for example using ravel().\n",
            "  estimator.fit(X_train, y_train, **fit_params)\n",
            "/usr/local/lib/python3.6/dist-packages/sklearn/model_selection/_validation.py:515: DataConversionWarning: A column-vector y was passed when a 1d array was expected. Please change the shape of y to (n_samples,), for example using ravel().\n",
            "  estimator.fit(X_train, y_train, **fit_params)\n",
            "/usr/local/lib/python3.6/dist-packages/sklearn/model_selection/_validation.py:515: DataConversionWarning: A column-vector y was passed when a 1d array was expected. Please change the shape of y to (n_samples,), for example using ravel().\n",
            "  estimator.fit(X_train, y_train, **fit_params)\n",
            "/usr/local/lib/python3.6/dist-packages/sklearn/model_selection/_validation.py:515: DataConversionWarning: A column-vector y was passed when a 1d array was expected. Please change the shape of y to (n_samples,), for example using ravel().\n",
            "  estimator.fit(X_train, y_train, **fit_params)\n",
            "/usr/local/lib/python3.6/dist-packages/sklearn/model_selection/_validation.py:515: DataConversionWarning: A column-vector y was passed when a 1d array was expected. Please change the shape of y to (n_samples,), for example using ravel().\n",
            "  estimator.fit(X_train, y_train, **fit_params)\n",
            "/usr/local/lib/python3.6/dist-packages/sklearn/model_selection/_validation.py:515: DataConversionWarning: A column-vector y was passed when a 1d array was expected. Please change the shape of y to (n_samples,), for example using ravel().\n",
            "  estimator.fit(X_train, y_train, **fit_params)\n",
            "/usr/local/lib/python3.6/dist-packages/sklearn/model_selection/_validation.py:515: DataConversionWarning: A column-vector y was passed when a 1d array was expected. Please change the shape of y to (n_samples,), for example using ravel().\n",
            "  estimator.fit(X_train, y_train, **fit_params)\n",
            "/usr/local/lib/python3.6/dist-packages/sklearn/model_selection/_validation.py:515: DataConversionWarning: A column-vector y was passed when a 1d array was expected. Please change the shape of y to (n_samples,), for example using ravel().\n",
            "  estimator.fit(X_train, y_train, **fit_params)\n",
            "/usr/local/lib/python3.6/dist-packages/sklearn/model_selection/_validation.py:515: DataConversionWarning: A column-vector y was passed when a 1d array was expected. Please change the shape of y to (n_samples,), for example using ravel().\n",
            "  estimator.fit(X_train, y_train, **fit_params)\n",
            "/usr/local/lib/python3.6/dist-packages/sklearn/model_selection/_validation.py:515: DataConversionWarning: A column-vector y was passed when a 1d array was expected. Please change the shape of y to (n_samples,), for example using ravel().\n",
            "  estimator.fit(X_train, y_train, **fit_params)\n",
            "/usr/local/lib/python3.6/dist-packages/sklearn/model_selection/_validation.py:515: DataConversionWarning: A column-vector y was passed when a 1d array was expected. Please change the shape of y to (n_samples,), for example using ravel().\n",
            "  estimator.fit(X_train, y_train, **fit_params)\n",
            "/usr/local/lib/python3.6/dist-packages/sklearn/model_selection/_validation.py:515: DataConversionWarning: A column-vector y was passed when a 1d array was expected. Please change the shape of y to (n_samples,), for example using ravel().\n",
            "  estimator.fit(X_train, y_train, **fit_params)\n",
            "/usr/local/lib/python3.6/dist-packages/sklearn/model_selection/_validation.py:515: DataConversionWarning: A column-vector y was passed when a 1d array was expected. Please change the shape of y to (n_samples,), for example using ravel().\n",
            "  estimator.fit(X_train, y_train, **fit_params)\n",
            "/usr/local/lib/python3.6/dist-packages/sklearn/model_selection/_validation.py:515: DataConversionWarning: A column-vector y was passed when a 1d array was expected. Please change the shape of y to (n_samples,), for example using ravel().\n",
            "  estimator.fit(X_train, y_train, **fit_params)\n",
            "/usr/local/lib/python3.6/dist-packages/sklearn/model_selection/_validation.py:515: DataConversionWarning: A column-vector y was passed when a 1d array was expected. Please change the shape of y to (n_samples,), for example using ravel().\n",
            "  estimator.fit(X_train, y_train, **fit_params)\n",
            "/usr/local/lib/python3.6/dist-packages/sklearn/model_selection/_validation.py:515: DataConversionWarning: A column-vector y was passed when a 1d array was expected. Please change the shape of y to (n_samples,), for example using ravel().\n",
            "  estimator.fit(X_train, y_train, **fit_params)\n",
            "/usr/local/lib/python3.6/dist-packages/sklearn/model_selection/_validation.py:515: DataConversionWarning: A column-vector y was passed when a 1d array was expected. Please change the shape of y to (n_samples,), for example using ravel().\n",
            "  estimator.fit(X_train, y_train, **fit_params)\n",
            "/usr/local/lib/python3.6/dist-packages/sklearn/model_selection/_validation.py:515: DataConversionWarning: A column-vector y was passed when a 1d array was expected. Please change the shape of y to (n_samples,), for example using ravel().\n",
            "  estimator.fit(X_train, y_train, **fit_params)\n",
            "/usr/local/lib/python3.6/dist-packages/sklearn/model_selection/_validation.py:515: DataConversionWarning: A column-vector y was passed when a 1d array was expected. Please change the shape of y to (n_samples,), for example using ravel().\n",
            "  estimator.fit(X_train, y_train, **fit_params)\n",
            "/usr/local/lib/python3.6/dist-packages/sklearn/model_selection/_validation.py:515: DataConversionWarning: A column-vector y was passed when a 1d array was expected. Please change the shape of y to (n_samples,), for example using ravel().\n",
            "  estimator.fit(X_train, y_train, **fit_params)\n",
            "/usr/local/lib/python3.6/dist-packages/sklearn/model_selection/_search.py:739: DataConversionWarning: A column-vector y was passed when a 1d array was expected. Please change the shape of y to (n_samples,), for example using ravel().\n",
            "  self.best_estimator_.fit(X, y, **fit_params)\n",
            "/usr/local/lib/python3.6/dist-packages/sklearn/model_selection/_validation.py:515: DataConversionWarning: A column-vector y was passed when a 1d array was expected. Please change the shape of y to (n_samples, ), for example using ravel().\n",
            "  estimator.fit(X_train, y_train, **fit_params)\n",
            "/usr/local/lib/python3.6/dist-packages/sklearn/model_selection/_validation.py:515: DataConversionWarning: A column-vector y was passed when a 1d array was expected. Please change the shape of y to (n_samples, ), for example using ravel().\n",
            "  estimator.fit(X_train, y_train, **fit_params)\n",
            "/usr/local/lib/python3.6/dist-packages/sklearn/model_selection/_validation.py:515: DataConversionWarning: A column-vector y was passed when a 1d array was expected. Please change the shape of y to (n_samples, ), for example using ravel().\n",
            "  estimator.fit(X_train, y_train, **fit_params)\n",
            "/usr/local/lib/python3.6/dist-packages/sklearn/model_selection/_validation.py:515: DataConversionWarning: A column-vector y was passed when a 1d array was expected. Please change the shape of y to (n_samples, ), for example using ravel().\n",
            "  estimator.fit(X_train, y_train, **fit_params)\n",
            "/usr/local/lib/python3.6/dist-packages/sklearn/model_selection/_validation.py:515: DataConversionWarning: A column-vector y was passed when a 1d array was expected. Please change the shape of y to (n_samples, ), for example using ravel().\n",
            "  estimator.fit(X_train, y_train, **fit_params)\n",
            "/usr/local/lib/python3.6/dist-packages/sklearn/model_selection/_validation.py:515: DataConversionWarning: A column-vector y was passed when a 1d array was expected. Please change the shape of y to (n_samples, ), for example using ravel().\n",
            "  estimator.fit(X_train, y_train, **fit_params)\n",
            "/usr/local/lib/python3.6/dist-packages/sklearn/model_selection/_validation.py:515: DataConversionWarning: A column-vector y was passed when a 1d array was expected. Please change the shape of y to (n_samples, ), for example using ravel().\n",
            "  estimator.fit(X_train, y_train, **fit_params)\n",
            "/usr/local/lib/python3.6/dist-packages/sklearn/model_selection/_validation.py:515: DataConversionWarning: A column-vector y was passed when a 1d array was expected. Please change the shape of y to (n_samples, ), for example using ravel().\n",
            "  estimator.fit(X_train, y_train, **fit_params)\n",
            "/usr/local/lib/python3.6/dist-packages/sklearn/model_selection/_validation.py:515: DataConversionWarning: A column-vector y was passed when a 1d array was expected. Please change the shape of y to (n_samples, ), for example using ravel().\n",
            "  estimator.fit(X_train, y_train, **fit_params)\n",
            "/usr/local/lib/python3.6/dist-packages/sklearn/model_selection/_validation.py:515: DataConversionWarning: A column-vector y was passed when a 1d array was expected. Please change the shape of y to (n_samples, ), for example using ravel().\n",
            "  estimator.fit(X_train, y_train, **fit_params)\n"
          ],
          "name": "stderr"
        },
        {
          "output_type": "stream",
          "text": [
            "Best classifier: parameters={'n_estimators': 76}\n",
            "{'mean_fit_time': array([0.14141459, 0.10321283, 0.39062099, 0.28169937, 0.18701067,\n",
            "       0.14660878, 0.40710316, 0.50075088, 0.29894867, 0.21180511]), 'std_fit_time': array([0.0052148 , 0.00532434, 0.00924248, 0.00631258, 0.0068549 ,\n",
            "       0.0037212 , 0.00653839, 0.01181526, 0.00402373, 0.00221735]), 'mean_score_time': array([0.02129526, 0.01612544, 0.05022812, 0.03619351, 0.02742705,\n",
            "       0.0218513 , 0.05252213, 0.06055107, 0.03792863, 0.03067861]), 'std_score_time': array([0.00068452, 0.00062134, 0.00207282, 0.00151802, 0.00323938,\n",
            "       0.00128403, 0.00418047, 0.00168664, 0.00095647, 0.00461212]), 'param_n_estimators': masked_array(data=[101, 76, 291, 206, 136, 106, 306, 381, 226, 161],\n",
            "             mask=[False, False, False, False, False, False, False, False,\n",
            "                   False, False],\n",
            "       fill_value='?',\n",
            "            dtype=object), 'params': [{'n_estimators': 101}, {'n_estimators': 76}, {'n_estimators': 291}, {'n_estimators': 206}, {'n_estimators': 136}, {'n_estimators': 106}, {'n_estimators': 306}, {'n_estimators': 381}, {'n_estimators': 226}, {'n_estimators': 161}], 'split0_test_AUC': array([0.83253589, 0.86124402, 0.83253589, 0.85167464, 0.85645933,\n",
            "       0.84210526, 0.86602871, 0.86124402, 0.85167464, 0.82296651]), 'split1_test_AUC': array([0.75231481, 0.77546296, 0.77546296, 0.76388889, 0.77083333,\n",
            "       0.78472222, 0.77546296, 0.77083333, 0.77083333, 0.77546296]), 'split2_test_AUC': array([0.99074074, 0.98148148, 0.99074074, 0.97222222, 0.98611111,\n",
            "       0.97685185, 0.98611111, 0.98611111, 0.98148148, 0.97685185]), 'split3_test_AUC': array([0.87037037, 0.875     , 0.86574074, 0.87037037, 0.87037037,\n",
            "       0.88194444, 0.86342593, 0.87037037, 0.86574074, 0.87962963]), 'split4_test_AUC': array([0.84722222, 0.87962963, 0.8587963 , 0.86342593, 0.84953704,\n",
            "       0.84953704, 0.87268519, 0.86805556, 0.83564815, 0.87268519]), 'mean_test_AUC': array([0.85863681, 0.87456362, 0.86465533, 0.86431641, 0.86666224,\n",
            "       0.86703216, 0.87274278, 0.87132288, 0.86107567, 0.86551923]), 'std_test_AUC': array([0.07707794, 0.0655067 , 0.07059741, 0.06622176, 0.06908304,\n",
            "       0.06322198, 0.06700392, 0.06839247, 0.06840751, 0.06718076]), 'rank_test_AUC': array([10,  1,  7,  8,  5,  4,  2,  3,  9,  6], dtype=int32), 'split0_test_Accuracy': array([0.83333333, 0.83333333, 0.83333333, 0.83333333, 0.83333333,\n",
            "       0.83333333, 0.8       , 0.83333333, 0.83333333, 0.83333333]), 'split1_test_Accuracy': array([0.66666667, 0.66666667, 0.66666667, 0.66666667, 0.66666667,\n",
            "       0.7       , 0.66666667, 0.66666667, 0.66666667, 0.66666667]), 'split2_test_Accuracy': array([0.93333333, 0.9       , 0.93333333, 0.86666667, 0.9       ,\n",
            "       0.9       , 0.9       , 0.9       , 0.93333333, 0.93333333]), 'split3_test_Accuracy': array([0.8, 0.8, 0.8, 0.8, 0.8, 0.8, 0.8, 0.8, 0.8, 0.8]), 'split4_test_Accuracy': array([0.8       , 0.83333333, 0.83333333, 0.8       , 0.8       ,\n",
            "       0.8       , 0.83333333, 0.83333333, 0.8       , 0.8       ]), 'mean_test_Accuracy': array([0.80666667, 0.80666667, 0.81333333, 0.79333333, 0.8       ,\n",
            "       0.80666667, 0.8       , 0.80666667, 0.80666667, 0.80666667]), 'std_test_Accuracy': array([0.08537499, 0.07717225, 0.08589399, 0.06798693, 0.0760117 ,\n",
            "       0.06463573, 0.0760117 , 0.07717225, 0.08537499, 0.08537499]), 'rank_test_Accuracy': array([ 2,  2,  1, 10,  8,  2,  8,  2,  2,  2], dtype=int32), 'split0_test_f1-score': array([0.87804878, 0.87804878, 0.87804878, 0.87804878, 0.87804878,\n",
            "       0.87804878, 0.85      , 0.87804878, 0.87804878, 0.87804878]), 'split1_test_f1-score': array([0.72222222, 0.72222222, 0.72222222, 0.72222222, 0.72222222,\n",
            "       0.75675676, 0.72222222, 0.72222222, 0.72222222, 0.72222222]), 'split2_test_f1-score': array([0.94444444, 0.91891892, 0.94444444, 0.89473684, 0.91891892,\n",
            "       0.91891892, 0.91891892, 0.91891892, 0.94444444, 0.94444444]), 'split3_test_f1-score': array([0.83333333, 0.83333333, 0.83333333, 0.83333333, 0.83333333,\n",
            "       0.83333333, 0.83333333, 0.83333333, 0.83333333, 0.83333333]), 'split4_test_f1-score': array([0.83333333, 0.86486486, 0.86486486, 0.83333333, 0.83333333,\n",
            "       0.83333333, 0.86486486, 0.86486486, 0.83333333, 0.83333333]), 'mean_test_f1-score': array([0.84227642, 0.84347762, 0.84858273, 0.8323349 , 0.83717132,\n",
            "       0.84407822, 0.83786787, 0.84347762, 0.84227642, 0.84227642]), 'std_test_f1-score': array([0.07251336, 0.06655787, 0.07283179, 0.06018398, 0.06572122,\n",
            "       0.05405751, 0.0645597 , 0.06655787, 0.07251336, 0.07251336]), 'rank_test_f1-score': array([ 5,  3,  1, 10,  9,  2,  8,  3,  5,  5], dtype=int32)}\n",
            "0.874563618642566\n"
          ],
          "name": "stdout"
        },
        {
          "output_type": "stream",
          "text": [
            "/usr/local/lib/python3.6/dist-packages/sklearn/model_selection/_validation.py:515: DataConversionWarning: A column-vector y was passed when a 1d array was expected. Please change the shape of y to (n_samples, ), for example using ravel().\n",
            "  estimator.fit(X_train, y_train, **fit_params)\n",
            "/usr/local/lib/python3.6/dist-packages/sklearn/model_selection/_validation.py:515: DataConversionWarning: A column-vector y was passed when a 1d array was expected. Please change the shape of y to (n_samples, ), for example using ravel().\n",
            "  estimator.fit(X_train, y_train, **fit_params)\n",
            "/usr/local/lib/python3.6/dist-packages/sklearn/model_selection/_validation.py:515: DataConversionWarning: A column-vector y was passed when a 1d array was expected. Please change the shape of y to (n_samples, ), for example using ravel().\n",
            "  estimator.fit(X_train, y_train, **fit_params)\n",
            "/usr/local/lib/python3.6/dist-packages/sklearn/model_selection/_validation.py:515: DataConversionWarning: A column-vector y was passed when a 1d array was expected. Please change the shape of y to (n_samples, ), for example using ravel().\n",
            "  estimator.fit(X_train, y_train, **fit_params)\n",
            "/usr/local/lib/python3.6/dist-packages/sklearn/model_selection/_validation.py:515: DataConversionWarning: A column-vector y was passed when a 1d array was expected. Please change the shape of y to (n_samples, ), for example using ravel().\n",
            "  estimator.fit(X_train, y_train, **fit_params)\n",
            "/usr/local/lib/python3.6/dist-packages/sklearn/model_selection/_validation.py:515: DataConversionWarning: A column-vector y was passed when a 1d array was expected. Please change the shape of y to (n_samples, ), for example using ravel().\n",
            "  estimator.fit(X_train, y_train, **fit_params)\n",
            "/usr/local/lib/python3.6/dist-packages/sklearn/model_selection/_validation.py:515: DataConversionWarning: A column-vector y was passed when a 1d array was expected. Please change the shape of y to (n_samples, ), for example using ravel().\n",
            "  estimator.fit(X_train, y_train, **fit_params)\n",
            "/usr/local/lib/python3.6/dist-packages/sklearn/model_selection/_validation.py:515: DataConversionWarning: A column-vector y was passed when a 1d array was expected. Please change the shape of y to (n_samples, ), for example using ravel().\n",
            "  estimator.fit(X_train, y_train, **fit_params)\n",
            "/usr/local/lib/python3.6/dist-packages/sklearn/model_selection/_validation.py:515: DataConversionWarning: A column-vector y was passed when a 1d array was expected. Please change the shape of y to (n_samples, ), for example using ravel().\n",
            "  estimator.fit(X_train, y_train, **fit_params)\n",
            "/usr/local/lib/python3.6/dist-packages/sklearn/model_selection/_validation.py:515: DataConversionWarning: A column-vector y was passed when a 1d array was expected. Please change the shape of y to (n_samples, ), for example using ravel().\n",
            "  estimator.fit(X_train, y_train, **fit_params)\n",
            "/usr/local/lib/python3.6/dist-packages/sklearn/model_selection/_validation.py:515: DataConversionWarning: A column-vector y was passed when a 1d array was expected. Please change the shape of y to (n_samples, ), for example using ravel().\n",
            "  estimator.fit(X_train, y_train, **fit_params)\n",
            "/usr/local/lib/python3.6/dist-packages/sklearn/model_selection/_validation.py:515: DataConversionWarning: A column-vector y was passed when a 1d array was expected. Please change the shape of y to (n_samples, ), for example using ravel().\n",
            "  estimator.fit(X_train, y_train, **fit_params)\n",
            "/usr/local/lib/python3.6/dist-packages/sklearn/model_selection/_validation.py:515: DataConversionWarning: A column-vector y was passed when a 1d array was expected. Please change the shape of y to (n_samples, ), for example using ravel().\n",
            "  estimator.fit(X_train, y_train, **fit_params)\n",
            "/usr/local/lib/python3.6/dist-packages/sklearn/model_selection/_validation.py:515: DataConversionWarning: A column-vector y was passed when a 1d array was expected. Please change the shape of y to (n_samples, ), for example using ravel().\n",
            "  estimator.fit(X_train, y_train, **fit_params)\n",
            "/usr/local/lib/python3.6/dist-packages/sklearn/model_selection/_validation.py:515: DataConversionWarning: A column-vector y was passed when a 1d array was expected. Please change the shape of y to (n_samples, ), for example using ravel().\n",
            "  estimator.fit(X_train, y_train, **fit_params)\n",
            "/usr/local/lib/python3.6/dist-packages/sklearn/model_selection/_validation.py:515: DataConversionWarning: A column-vector y was passed when a 1d array was expected. Please change the shape of y to (n_samples, ), for example using ravel().\n",
            "  estimator.fit(X_train, y_train, **fit_params)\n",
            "/usr/local/lib/python3.6/dist-packages/sklearn/model_selection/_validation.py:515: DataConversionWarning: A column-vector y was passed when a 1d array was expected. Please change the shape of y to (n_samples, ), for example using ravel().\n",
            "  estimator.fit(X_train, y_train, **fit_params)\n",
            "/usr/local/lib/python3.6/dist-packages/sklearn/model_selection/_validation.py:515: DataConversionWarning: A column-vector y was passed when a 1d array was expected. Please change the shape of y to (n_samples, ), for example using ravel().\n",
            "  estimator.fit(X_train, y_train, **fit_params)\n",
            "/usr/local/lib/python3.6/dist-packages/sklearn/model_selection/_validation.py:515: DataConversionWarning: A column-vector y was passed when a 1d array was expected. Please change the shape of y to (n_samples, ), for example using ravel().\n",
            "  estimator.fit(X_train, y_train, **fit_params)\n",
            "/usr/local/lib/python3.6/dist-packages/sklearn/model_selection/_validation.py:515: DataConversionWarning: A column-vector y was passed when a 1d array was expected. Please change the shape of y to (n_samples, ), for example using ravel().\n",
            "  estimator.fit(X_train, y_train, **fit_params)\n",
            "/usr/local/lib/python3.6/dist-packages/sklearn/model_selection/_validation.py:515: DataConversionWarning: A column-vector y was passed when a 1d array was expected. Please change the shape of y to (n_samples, ), for example using ravel().\n",
            "  estimator.fit(X_train, y_train, **fit_params)\n",
            "/usr/local/lib/python3.6/dist-packages/sklearn/model_selection/_validation.py:515: DataConversionWarning: A column-vector y was passed when a 1d array was expected. Please change the shape of y to (n_samples, ), for example using ravel().\n",
            "  estimator.fit(X_train, y_train, **fit_params)\n",
            "/usr/local/lib/python3.6/dist-packages/sklearn/model_selection/_validation.py:515: DataConversionWarning: A column-vector y was passed when a 1d array was expected. Please change the shape of y to (n_samples, ), for example using ravel().\n",
            "  estimator.fit(X_train, y_train, **fit_params)\n",
            "/usr/local/lib/python3.6/dist-packages/sklearn/model_selection/_validation.py:515: DataConversionWarning: A column-vector y was passed when a 1d array was expected. Please change the shape of y to (n_samples, ), for example using ravel().\n",
            "  estimator.fit(X_train, y_train, **fit_params)\n",
            "/usr/local/lib/python3.6/dist-packages/sklearn/model_selection/_validation.py:515: DataConversionWarning: A column-vector y was passed when a 1d array was expected. Please change the shape of y to (n_samples, ), for example using ravel().\n",
            "  estimator.fit(X_train, y_train, **fit_params)\n",
            "/usr/local/lib/python3.6/dist-packages/sklearn/model_selection/_validation.py:515: DataConversionWarning: A column-vector y was passed when a 1d array was expected. Please change the shape of y to (n_samples, ), for example using ravel().\n",
            "  estimator.fit(X_train, y_train, **fit_params)\n",
            "/usr/local/lib/python3.6/dist-packages/sklearn/model_selection/_validation.py:515: DataConversionWarning: A column-vector y was passed when a 1d array was expected. Please change the shape of y to (n_samples, ), for example using ravel().\n",
            "  estimator.fit(X_train, y_train, **fit_params)\n",
            "/usr/local/lib/python3.6/dist-packages/sklearn/model_selection/_validation.py:515: DataConversionWarning: A column-vector y was passed when a 1d array was expected. Please change the shape of y to (n_samples, ), for example using ravel().\n",
            "  estimator.fit(X_train, y_train, **fit_params)\n",
            "/usr/local/lib/python3.6/dist-packages/sklearn/model_selection/_validation.py:515: DataConversionWarning: A column-vector y was passed when a 1d array was expected. Please change the shape of y to (n_samples, ), for example using ravel().\n",
            "  estimator.fit(X_train, y_train, **fit_params)\n",
            "/usr/local/lib/python3.6/dist-packages/sklearn/model_selection/_validation.py:515: DataConversionWarning: A column-vector y was passed when a 1d array was expected. Please change the shape of y to (n_samples, ), for example using ravel().\n",
            "  estimator.fit(X_train, y_train, **fit_params)\n",
            "/usr/local/lib/python3.6/dist-packages/sklearn/model_selection/_validation.py:515: DataConversionWarning: A column-vector y was passed when a 1d array was expected. Please change the shape of y to (n_samples, ), for example using ravel().\n",
            "  estimator.fit(X_train, y_train, **fit_params)\n",
            "/usr/local/lib/python3.6/dist-packages/sklearn/model_selection/_validation.py:515: DataConversionWarning: A column-vector y was passed when a 1d array was expected. Please change the shape of y to (n_samples, ), for example using ravel().\n",
            "  estimator.fit(X_train, y_train, **fit_params)\n",
            "/usr/local/lib/python3.6/dist-packages/sklearn/model_selection/_validation.py:515: DataConversionWarning: A column-vector y was passed when a 1d array was expected. Please change the shape of y to (n_samples, ), for example using ravel().\n",
            "  estimator.fit(X_train, y_train, **fit_params)\n",
            "/usr/local/lib/python3.6/dist-packages/sklearn/model_selection/_validation.py:515: DataConversionWarning: A column-vector y was passed when a 1d array was expected. Please change the shape of y to (n_samples, ), for example using ravel().\n",
            "  estimator.fit(X_train, y_train, **fit_params)\n",
            "/usr/local/lib/python3.6/dist-packages/sklearn/model_selection/_validation.py:515: DataConversionWarning: A column-vector y was passed when a 1d array was expected. Please change the shape of y to (n_samples, ), for example using ravel().\n",
            "  estimator.fit(X_train, y_train, **fit_params)\n",
            "/usr/local/lib/python3.6/dist-packages/sklearn/model_selection/_validation.py:515: DataConversionWarning: A column-vector y was passed when a 1d array was expected. Please change the shape of y to (n_samples, ), for example using ravel().\n",
            "  estimator.fit(X_train, y_train, **fit_params)\n",
            "/usr/local/lib/python3.6/dist-packages/sklearn/model_selection/_validation.py:515: DataConversionWarning: A column-vector y was passed when a 1d array was expected. Please change the shape of y to (n_samples, ), for example using ravel().\n",
            "  estimator.fit(X_train, y_train, **fit_params)\n",
            "/usr/local/lib/python3.6/dist-packages/sklearn/model_selection/_validation.py:515: DataConversionWarning: A column-vector y was passed when a 1d array was expected. Please change the shape of y to (n_samples, ), for example using ravel().\n",
            "  estimator.fit(X_train, y_train, **fit_params)\n",
            "/usr/local/lib/python3.6/dist-packages/sklearn/model_selection/_validation.py:515: DataConversionWarning: A column-vector y was passed when a 1d array was expected. Please change the shape of y to (n_samples, ), for example using ravel().\n",
            "  estimator.fit(X_train, y_train, **fit_params)\n",
            "/usr/local/lib/python3.6/dist-packages/sklearn/model_selection/_validation.py:515: DataConversionWarning: A column-vector y was passed when a 1d array was expected. Please change the shape of y to (n_samples, ), for example using ravel().\n",
            "  estimator.fit(X_train, y_train, **fit_params)\n",
            "/usr/local/lib/python3.6/dist-packages/sklearn/model_selection/_search.py:739: DataConversionWarning: A column-vector y was passed when a 1d array was expected. Please change the shape of y to (n_samples, ), for example using ravel().\n",
            "  self.best_estimator_.fit(X, y, **fit_params)\n",
            "/usr/local/lib/python3.6/dist-packages/sklearn/model_selection/_search.py:281: UserWarning: The total space of parameters 1 is smaller than n_iter=10. Running 1 iterations. For exhaustive searches, use GridSearchCV.\n",
            "  % (grid_size, self.n_iter, grid_size), UserWarning)\n",
            "/usr/local/lib/python3.6/dist-packages/sklearn/utils/validation.py:760: DataConversionWarning: A column-vector y was passed when a 1d array was expected. Please change the shape of y to (n_samples, ), for example using ravel().\n",
            "  y = column_or_1d(y, warn=True)\n",
            "/usr/local/lib/python3.6/dist-packages/sklearn/utils/validation.py:760: DataConversionWarning: A column-vector y was passed when a 1d array was expected. Please change the shape of y to (n_samples, ), for example using ravel().\n",
            "  y = column_or_1d(y, warn=True)\n"
          ],
          "name": "stderr"
        },
        {
          "output_type": "stream",
          "text": [
            "Best classifier: parameters={'weights': 'uniform', 'n_neighbors': 15}\n",
            "{'mean_fit_time': array([0.00399728, 0.00259609, 0.00276771, 0.00271964, 0.0028255 ,\n",
            "       0.00273199, 0.00306845, 0.00262794, 0.00275335, 0.00240388]), 'std_fit_time': array([1.92009045e-03, 2.06690917e-04, 1.05749173e-04, 1.28702934e-04,\n",
            "       1.50981885e-04, 1.19091968e-04, 7.70410835e-04, 8.01702955e-05,\n",
            "       1.93433600e-04, 6.14579281e-05]), 'mean_score_time': array([0.00600905, 0.00719228, 0.00619283, 0.00728936, 0.00674458,\n",
            "       0.00637236, 0.00675159, 0.00616283, 0.00622749, 0.00582132]), 'std_score_time': array([9.69364162e-04, 1.40234305e-03, 2.61358035e-04, 1.59691510e-03,\n",
            "       1.64821811e-04, 3.42286041e-04, 1.06814078e-03, 8.87856704e-05,\n",
            "       3.25396591e-04, 1.28777783e-04]), 'param_weights': masked_array(data=['distance', 'distance', 'distance', 'distance',\n",
            "                   'uniform', 'distance', 'uniform', 'uniform', 'uniform',\n",
            "                   'distance'],\n",
            "             mask=[False, False, False, False, False, False, False, False,\n",
            "                   False, False],\n",
            "       fill_value='?',\n",
            "            dtype=object), 'param_n_neighbors': masked_array(data=[3, 99, 43, 97, 15, 75, 17, 29, 7, 69],\n",
            "             mask=[False, False, False, False, False, False, False, False,\n",
            "                   False, False],\n",
            "       fill_value='?',\n",
            "            dtype=object), 'params': [{'weights': 'distance', 'n_neighbors': 3}, {'weights': 'distance', 'n_neighbors': 99}, {'weights': 'distance', 'n_neighbors': 43}, {'weights': 'distance', 'n_neighbors': 97}, {'weights': 'uniform', 'n_neighbors': 15}, {'weights': 'distance', 'n_neighbors': 75}, {'weights': 'uniform', 'n_neighbors': 17}, {'weights': 'uniform', 'n_neighbors': 29}, {'weights': 'uniform', 'n_neighbors': 7}, {'weights': 'distance', 'n_neighbors': 69}], 'split0_test_AUC': array([0.87559809, 0.9569378 , 0.97607656, 0.9569378 , 0.94019139,\n",
            "       0.96172249, 0.94736842, 0.97368421, 0.87799043, 0.96172249]), 'split1_test_AUC': array([0.75      , 0.75462963, 0.75      , 0.75462963, 0.76157407,\n",
            "       0.74537037, 0.75462963, 0.78703704, 0.78240741, 0.74537037]), 'split2_test_AUC': array([1.        , 0.875     , 0.86111111, 0.87962963, 0.90046296,\n",
            "       0.93981481, 0.88888889, 0.82407407, 0.95833333, 0.93981481]), 'split3_test_AUC': array([0.7662037 , 0.79398148, 0.81944444, 0.79398148, 0.81944444,\n",
            "       0.8125    , 0.81712963, 0.7962963 , 0.80787037, 0.80324074]), 'split4_test_AUC': array([0.8287037 , 0.81018519, 0.84722222, 0.81944444, 0.90277778,\n",
            "       0.81944444, 0.87962963, 0.84027778, 0.87731481, 0.7962963 ]), 'mean_test_AUC': array([0.8441011 , 0.83814682, 0.85077087, 0.8409246 , 0.86489013,\n",
            "       0.85577042, 0.85752924, 0.84427388, 0.86078327, 0.84928894]), 'std_test_AUC': array([0.0899518 , 0.07096056, 0.07342635, 0.07080822, 0.06497799,\n",
            "       0.08206019, 0.06597483, 0.06745212, 0.06168945, 0.08551487]), 'rank_test_AUC': array([ 8, 10,  5,  9,  1,  4,  3,  7,  2,  6], dtype=int32), 'split0_test_Accuracy': array([0.83333333, 0.9       , 0.93333333, 0.9       , 0.86666667,\n",
            "       0.86666667, 0.86666667, 0.9       , 0.8       , 0.9       ]), 'split1_test_Accuracy': array([0.66666667, 0.66666667, 0.56666667, 0.66666667, 0.63333333,\n",
            "       0.63333333, 0.63333333, 0.63333333, 0.7       , 0.6       ]), 'split2_test_Accuracy': array([0.93333333, 0.7       , 0.73333333, 0.76666667, 0.8       ,\n",
            "       0.83333333, 0.73333333, 0.7       , 0.93333333, 0.8       ]), 'split3_test_Accuracy': array([0.7       , 0.66666667, 0.73333333, 0.66666667, 0.7       ,\n",
            "       0.7       , 0.7       , 0.76666667, 0.76666667, 0.7       ]), 'split4_test_Accuracy': array([0.76666667, 0.76666667, 0.63333333, 0.76666667, 0.76666667,\n",
            "       0.76666667, 0.76666667, 0.7       , 0.8       , 0.76666667]), 'mean_test_Accuracy': array([0.78      , 0.74      , 0.72      , 0.75333333, 0.75333333,\n",
            "       0.76      , 0.74      , 0.74      , 0.8       , 0.75333333]), 'std_test_Accuracy': array([0.09568467, 0.08793937, 0.12400717, 0.08589399, 0.08055364,\n",
            "       0.08537499, 0.07717225, 0.09043107, 0.0760117 , 0.10022198]), 'rank_test_Accuracy': array([ 2,  7, 10,  4,  4,  3,  7,  7,  1,  4], dtype=int32), 'split0_test_f1-score': array([0.87179487, 0.92307692, 0.94444444, 0.92307692, 0.88888889,\n",
            "       0.88235294, 0.88888889, 0.91891892, 0.83333333, 0.91428571]), 'split1_test_f1-score': array([0.6875    , 0.70588235, 0.58064516, 0.70588235, 0.66666667,\n",
            "       0.64516129, 0.66666667, 0.66666667, 0.72727273, 0.6       ]), 'split2_test_f1-score': array([0.94117647, 0.76923077, 0.75      , 0.81081081, 0.83333333,\n",
            "       0.83870968, 0.77777778, 0.72727273, 0.94117647, 0.8       ]), 'split3_test_f1-score': array([0.75675676, 0.70588235, 0.73333333, 0.70588235, 0.72727273,\n",
            "       0.68965517, 0.72727273, 0.77419355, 0.8       , 0.68965517]), 'split4_test_f1-score': array([0.81081081, 0.8       , 0.62068966, 0.8       , 0.8       ,\n",
            "       0.8       , 0.8       , 0.70967742, 0.83333333, 0.78787879]), 'mean_test_f1-score': array([0.81360778, 0.78081448, 0.72582252, 0.78913049, 0.78323232,\n",
            "       0.77117582, 0.77212121, 0.75934586, 0.82702317, 0.75836393]), 'std_test_f1-score': array([0.08809375, 0.07996314, 0.1269377 , 0.08048644, 0.07832446,\n",
            "       0.0897522 , 0.07426434, 0.0869127 , 0.06897973, 0.10650476]), 'rank_test_f1-score': array([ 2,  5, 10,  3,  4,  7,  6,  8,  1,  9], dtype=int32)}\n",
            "0.8648901293638136\n",
            "Best classifier: parameters={}\n",
            "{'mean_fit_time': array([0.00355177]), 'std_fit_time': array([0.00085083]), 'mean_score_time': array([0.00564728]), 'std_score_time': array([0.00159486]), 'params': [{}], 'split0_test_AUC': array([0.89952153]), 'split1_test_AUC': array([0.62962963]), 'split2_test_AUC': array([1.]), 'split3_test_AUC': array([0.82407407]), 'split4_test_AUC': array([0.85185185]), 'mean_test_AUC': array([0.84101542]), 'std_test_AUC': array([0.12148041]), 'rank_test_AUC': array([1], dtype=int32), 'split0_test_Accuracy': array([0.83333333]), 'split1_test_Accuracy': array([0.63333333]), 'split2_test_Accuracy': array([0.86666667]), 'split3_test_Accuracy': array([0.7]), 'split4_test_Accuracy': array([0.73333333]), 'mean_test_Accuracy': array([0.75333333]), 'std_test_Accuracy': array([0.08589399]), 'rank_test_Accuracy': array([1], dtype=int32), 'split0_test_f1-score': array([0.86486486]), 'split1_test_f1-score': array([0.64516129]), 'split2_test_f1-score': array([0.875]), 'split3_test_f1-score': array([0.72727273]), 'split4_test_f1-score': array([0.76470588]), 'mean_test_f1-score': array([0.77540095]), 'std_test_f1-score': array([0.08639079]), 'rank_test_f1-score': array([1], dtype=int32)}\n",
            "0.8410154173312069\n",
            "   accuracy       AUC  ...                                 parameters         set\n",
            "0  0.800000  0.866388  ...             {'kernel': 'rbf', 'degree': 4}  validation\n",
            "1  0.806667  0.874564  ...                       {'n_estimators': 76}  validation\n",
            "2  0.753333  0.864890  ...  {'weights': 'uniform', 'n_neighbors': 15}  validation\n",
            "3  0.753333  0.841015  ...                                         {}  validation\n",
            "\n",
            "[4 rows x 8 columns]\n"
          ],
          "name": "stdout"
        },
        {
          "output_type": "stream",
          "text": [
            "/usr/local/lib/python3.6/dist-packages/sklearn/utils/validation.py:760: DataConversionWarning: A column-vector y was passed when a 1d array was expected. Please change the shape of y to (n_samples, ), for example using ravel().\n",
            "  y = column_or_1d(y, warn=True)\n",
            "/usr/local/lib/python3.6/dist-packages/sklearn/utils/validation.py:760: DataConversionWarning: A column-vector y was passed when a 1d array was expected. Please change the shape of y to (n_samples, ), for example using ravel().\n",
            "  y = column_or_1d(y, warn=True)\n",
            "/usr/local/lib/python3.6/dist-packages/sklearn/utils/validation.py:760: DataConversionWarning: A column-vector y was passed when a 1d array was expected. Please change the shape of y to (n_samples, ), for example using ravel().\n",
            "  y = column_or_1d(y, warn=True)\n",
            "/usr/local/lib/python3.6/dist-packages/sklearn/utils/validation.py:760: DataConversionWarning: A column-vector y was passed when a 1d array was expected. Please change the shape of y to (n_samples, ), for example using ravel().\n",
            "  y = column_or_1d(y, warn=True)\n",
            "/usr/local/lib/python3.6/dist-packages/ipykernel_launcher.py:72: DataConversionWarning: A column-vector y was passed when a 1d array was expected. Please change the shape of y to (n_samples,), for example using ravel().\n"
          ],
          "name": "stderr"
        },
        {
          "output_type": "stream",
          "text": [
            "index_best_classifier=mean_score    1\n",
            "dtype: int64\n",
            "best_classifier=[RandomForestClassifier(bootstrap=True, ccp_alpha=0.0, class_weight=None,\n",
            "                       criterion='gini', max_depth=None, max_features='auto',\n",
            "                       max_leaf_nodes=None, max_samples=None,\n",
            "                       min_impurity_decrease=0.0, min_impurity_split=None,\n",
            "                       min_samples_leaf=1, min_samples_split=2,\n",
            "                       min_weight_fraction_leaf=0.0, n_estimators=76,\n",
            "                       n_jobs=None, oob_score=False, random_state=None,\n",
            "                       verbose=0, warm_start=False)]\n"
          ],
          "name": "stdout"
        },
        {
          "output_type": "error",
          "ename": "ValueError",
          "evalue": "ignored",
          "traceback": [
            "\u001b[0;31m---------------------------------------------------------------------------\u001b[0m",
            "\u001b[0;31mValueError\u001b[0m                                Traceback (most recent call last)",
            "\u001b[0;32m<ipython-input-168-dfb357c64401>\u001b[0m in \u001b[0;36m<module>\u001b[0;34m()\u001b[0m\n\u001b[1;32m     23\u001b[0m \u001b[0;34m\u001b[0m\u001b[0m\n\u001b[1;32m     24\u001b[0m     \u001b[0;31m# run classifier\u001b[0m\u001b[0;34m\u001b[0m\u001b[0;34m\u001b[0m\u001b[0;34m\u001b[0m\u001b[0m\n\u001b[0;32m---> 25\u001b[0;31m     \u001b[0mresults\u001b[0m\u001b[0;34m,\u001b[0m \u001b[0mresults_outer\u001b[0m \u001b[0;34m=\u001b[0m \u001b[0mclassifiers\u001b[0m \u001b[0;34m(\u001b[0m\u001b[0mX_design\u001b[0m\u001b[0;34m,\u001b[0m \u001b[0mY_design_bin\u001b[0m\u001b[0;34m,\u001b[0m \u001b[0mX_test\u001b[0m\u001b[0;34m,\u001b[0m \u001b[0mY_test_bin\u001b[0m\u001b[0;34m)\u001b[0m\u001b[0;34m\u001b[0m\u001b[0;34m\u001b[0m\u001b[0m\n\u001b[0m\u001b[1;32m     26\u001b[0m \u001b[0;34m\u001b[0m\u001b[0m\n\u001b[1;32m     27\u001b[0m \u001b[0;31m# Selecting best overall classifier\u001b[0m\u001b[0;34m\u001b[0m\u001b[0;34m\u001b[0m\u001b[0;34m\u001b[0m\u001b[0m\n",
            "\u001b[0;32m<ipython-input-140-f05574306065>\u001b[0m in \u001b[0;36mclassifiers\u001b[0;34m(X_design, Y_design, X_test, Y_test)\u001b[0m\n\u001b[1;32m     90\u001b[0m \u001b[0;34m\u001b[0m\u001b[0m\n\u001b[1;32m     91\u001b[0m     \u001b[0;31m#Gettin accuracy, AUC and f1-score\u001b[0m\u001b[0;34m\u001b[0m\u001b[0;34m\u001b[0m\u001b[0;34m\u001b[0m\u001b[0m\n\u001b[0;32m---> 92\u001b[0;31m     \u001b[0maccuracy_test\u001b[0m \u001b[0;34m=\u001b[0m \u001b[0maccuracy_score\u001b[0m\u001b[0;34m(\u001b[0m\u001b[0mY_test\u001b[0m\u001b[0;34m,\u001b[0m \u001b[0mpred_test\u001b[0m\u001b[0;34m)\u001b[0m\u001b[0;34m\u001b[0m\u001b[0;34m\u001b[0m\u001b[0m\n\u001b[0m\u001b[1;32m     93\u001b[0m     \u001b[0mauc_test\u001b[0m \u001b[0;34m=\u001b[0m \u001b[0mroc_auc_score\u001b[0m\u001b[0;34m(\u001b[0m\u001b[0mY_test\u001b[0m\u001b[0;34m,\u001b[0m \u001b[0mpred_test\u001b[0m\u001b[0;34m)\u001b[0m\u001b[0;34m\u001b[0m\u001b[0;34m\u001b[0m\u001b[0m\n\u001b[1;32m     94\u001b[0m     \u001b[0mf1_test\u001b[0m \u001b[0;34m=\u001b[0m \u001b[0mf1_score\u001b[0m\u001b[0;34m(\u001b[0m\u001b[0mY_test\u001b[0m\u001b[0;34m,\u001b[0m \u001b[0mpred_test\u001b[0m\u001b[0;34m)\u001b[0m\u001b[0;34m\u001b[0m\u001b[0;34m\u001b[0m\u001b[0m\n",
            "\u001b[0;32m/usr/local/lib/python3.6/dist-packages/sklearn/metrics/_classification.py\u001b[0m in \u001b[0;36maccuracy_score\u001b[0;34m(y_true, y_pred, normalize, sample_weight)\u001b[0m\n\u001b[1;32m    183\u001b[0m \u001b[0;34m\u001b[0m\u001b[0m\n\u001b[1;32m    184\u001b[0m     \u001b[0;31m# Compute accuracy for each possible representation\u001b[0m\u001b[0;34m\u001b[0m\u001b[0;34m\u001b[0m\u001b[0;34m\u001b[0m\u001b[0m\n\u001b[0;32m--> 185\u001b[0;31m     \u001b[0my_type\u001b[0m\u001b[0;34m,\u001b[0m \u001b[0my_true\u001b[0m\u001b[0;34m,\u001b[0m \u001b[0my_pred\u001b[0m \u001b[0;34m=\u001b[0m \u001b[0m_check_targets\u001b[0m\u001b[0;34m(\u001b[0m\u001b[0my_true\u001b[0m\u001b[0;34m,\u001b[0m \u001b[0my_pred\u001b[0m\u001b[0;34m)\u001b[0m\u001b[0;34m\u001b[0m\u001b[0;34m\u001b[0m\u001b[0m\n\u001b[0m\u001b[1;32m    186\u001b[0m     \u001b[0mcheck_consistent_length\u001b[0m\u001b[0;34m(\u001b[0m\u001b[0my_true\u001b[0m\u001b[0;34m,\u001b[0m \u001b[0my_pred\u001b[0m\u001b[0;34m,\u001b[0m \u001b[0msample_weight\u001b[0m\u001b[0;34m)\u001b[0m\u001b[0;34m\u001b[0m\u001b[0;34m\u001b[0m\u001b[0m\n\u001b[1;32m    187\u001b[0m     \u001b[0;32mif\u001b[0m \u001b[0my_type\u001b[0m\u001b[0;34m.\u001b[0m\u001b[0mstartswith\u001b[0m\u001b[0;34m(\u001b[0m\u001b[0;34m'multilabel'\u001b[0m\u001b[0;34m)\u001b[0m\u001b[0;34m:\u001b[0m\u001b[0;34m\u001b[0m\u001b[0;34m\u001b[0m\u001b[0m\n",
            "\u001b[0;32m/usr/local/lib/python3.6/dist-packages/sklearn/metrics/_classification.py\u001b[0m in \u001b[0;36m_check_targets\u001b[0;34m(y_true, y_pred)\u001b[0m\n\u001b[1;32m     78\u001b[0m     \u001b[0my_pred\u001b[0m \u001b[0;34m:\u001b[0m \u001b[0marray\u001b[0m \u001b[0;32mor\u001b[0m \u001b[0mindicator\u001b[0m \u001b[0mmatrix\u001b[0m\u001b[0;34m\u001b[0m\u001b[0;34m\u001b[0m\u001b[0m\n\u001b[1;32m     79\u001b[0m     \"\"\"\n\u001b[0;32m---> 80\u001b[0;31m     \u001b[0mcheck_consistent_length\u001b[0m\u001b[0;34m(\u001b[0m\u001b[0my_true\u001b[0m\u001b[0;34m,\u001b[0m \u001b[0my_pred\u001b[0m\u001b[0;34m)\u001b[0m\u001b[0;34m\u001b[0m\u001b[0;34m\u001b[0m\u001b[0m\n\u001b[0m\u001b[1;32m     81\u001b[0m     \u001b[0mtype_true\u001b[0m \u001b[0;34m=\u001b[0m \u001b[0mtype_of_target\u001b[0m\u001b[0;34m(\u001b[0m\u001b[0my_true\u001b[0m\u001b[0;34m)\u001b[0m\u001b[0;34m\u001b[0m\u001b[0;34m\u001b[0m\u001b[0m\n\u001b[1;32m     82\u001b[0m     \u001b[0mtype_pred\u001b[0m \u001b[0;34m=\u001b[0m \u001b[0mtype_of_target\u001b[0m\u001b[0;34m(\u001b[0m\u001b[0my_pred\u001b[0m\u001b[0;34m)\u001b[0m\u001b[0;34m\u001b[0m\u001b[0;34m\u001b[0m\u001b[0m\n",
            "\u001b[0;32m/usr/local/lib/python3.6/dist-packages/sklearn/utils/validation.py\u001b[0m in \u001b[0;36mcheck_consistent_length\u001b[0;34m(*arrays)\u001b[0m\n\u001b[1;32m    210\u001b[0m     \u001b[0;32mif\u001b[0m \u001b[0mlen\u001b[0m\u001b[0;34m(\u001b[0m\u001b[0muniques\u001b[0m\u001b[0;34m)\u001b[0m \u001b[0;34m>\u001b[0m \u001b[0;36m1\u001b[0m\u001b[0;34m:\u001b[0m\u001b[0;34m\u001b[0m\u001b[0;34m\u001b[0m\u001b[0m\n\u001b[1;32m    211\u001b[0m         raise ValueError(\"Found input variables with inconsistent numbers of\"\n\u001b[0;32m--> 212\u001b[0;31m                          \" samples: %r\" % [int(l) for l in lengths])\n\u001b[0m\u001b[1;32m    213\u001b[0m \u001b[0;34m\u001b[0m\u001b[0m\n\u001b[1;32m    214\u001b[0m \u001b[0;34m\u001b[0m\u001b[0m\n",
            "\u001b[0;31mValueError\u001b[0m: Found input variables with inconsistent numbers of samples: [150, 17]"
          ]
        },
        {
          "output_type": "display_data",
          "data": {
            "image/png": "[encoded data removed]",
            "text/plain": [
              "<Figure size 432x288 with 1 Axes>"
            ]
          },
          "metadata": {
            "tags": []
          }
        }
      ]
    },
    {
      "cell_type": "code",
      "metadata": {
        "id": "RrcRetOJJGTz",
        "colab_type": "code",
        "colab": {
          "base_uri": "https://localhost:8080/",
          "height": 274
        },
        "outputId": "eb7c706a-aaba-4e65-d712-edfc5452facc"
      },
      "source": [
        "print(extractors)"
      ],
      "execution_count": 154,
      "outputs": [
        {
          "output_type": "stream",
          "text": [
            "{'umap_5': UMAP(a=None, angular_rp_forest=False, b=None, init='spectral',\n",
            "     learning_rate=1.0, local_connectivity=1.0, metric='euclidean',\n",
            "     metric_kwds=None, min_dist=0.1, n_components=12, n_epochs=None,\n",
            "     n_neighbors=5, negative_sample_rate=5, random_state=None,\n",
            "     repulsion_strength=1.0, set_op_mix_ratio=1.0, spread=1.0,\n",
            "     target_metric='categorical', target_metric_kwds=None,\n",
            "     target_n_neighbors=-1, target_weight=0.5, transform_queue_size=4.0,\n",
            "     transform_seed=42, verbose=False), 'pca_lin': KernelPCA(alpha=1.0, coef0=1, copy_X=True, degree=3, eigen_solver='auto',\n",
            "          fit_inverse_transform=False, gamma=None, kernel='linear',\n",
            "          kernel_params=None, max_iter=None, n_components=56, n_jobs=None,\n",
            "          random_state=None, remove_zero_eig=False, tol=0), 'pca_rbf': KernelPCA(alpha=1.0, coef0=1, copy_X=True, degree=3, eigen_solver='auto',\n",
            "          fit_inverse_transform=False, gamma=None, kernel='rbf',\n",
            "          kernel_params=None, max_iter=None, n_components=12, n_jobs=None,\n",
            "          random_state=None, remove_zero_eig=False, tol=0)}\n"
          ],
          "name": "stdout"
        }
      ]
    },
    {
      "cell_type": "markdown",
      "metadata": {
        "id": "qZ2Xmxyy4izP",
        "colab_type": "text"
      },
      "source": [
        "### Result"
      ]
    }
  ]
}