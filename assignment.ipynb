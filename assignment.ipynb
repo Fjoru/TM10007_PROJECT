{
  "nbformat": 4,
  "nbformat_minor": 0,
  "metadata": {
    "colab": {
      "name": "assignment.ipynb",
      "provenance": [],
      "collapsed_sections": [],
      "toc_visible": true,
      "include_colab_link": true
    },
    "kernelspec": {
      "name": "python3",
      "display_name": "Python 3"
    },
    "language_info": {
      "codemirror_mode": {
        "name": "ipython",
        "version": 3
      },
      "file_extension": ".py",
      "mimetype": "text/x-python",
      "name": "python",
      "nbconvert_exporter": "python",
      "pygments_lexer": "ipython3",
      "version": "3.7.4-final"
    }
  },
  "cells": [
    {
      "cell_type": "markdown",
      "metadata": {
        "id": "view-in-github",
        "colab_type": "text"
      },
      "source": [
        "<a href=\"https://colab.research.google.com/github/Fjoru/TM10007_PROJECT/blob/master/assignment.ipynb\" target=\"_parent\"><img src=\"https://colab.research.google.com/assets/colab-badge.svg\" alt=\"Open In Colab\"/></a>"
      ]
    },
    {
      "cell_type": "markdown",
      "metadata": {
        "colab_type": "text",
        "id": "7SXpaKwwGe5x"
      },
      "source": [
        "# TM10007 Assignment Prediction of tumor grade in brain cancer\n",
        "By Jessica Barends, Gonnie van Erp, Erik Kemper en Carlijn Oerlemans\n",
        "\n"
      ]
    },
    {
      "cell_type": "markdown",
      "metadata": {
        "id": "ZcXbVrrHA1sC",
        "colab_type": "text"
      },
      "source": [
        "## Set-up\n",
        "Getting the dataset and used packages."
      ]
    },
    {
      "cell_type": "code",
      "metadata": {
        "id": "3Xw_qQnScF4p",
        "colab_type": "code",
        "outputId": "1916e540-562b-494c-f810-20bcc60c0282",
        "colab": {
          "base_uri": "https://localhost:8080/",
          "height": 919
        }
      },
      "source": [
        "# Run install for use in colab environment\n",
        "!pip install --upgrade pip\n",
        "!pip install -q --upgrade git+https://github.com/Fjoru/TM10007_PROJECT\n",
        "!pip install ipdb -q\n",
        "!pip install seaborn\n",
        "!pip install tensorflow"
      ],
      "execution_count": 2,
      "outputs": [
        {
          "output_type": "stream",
          "text": [
            "Requirement already up-to-date: pip in /usr/local/lib/python3.6/dist-packages (20.0.2)\n",
            "  Building wheel for brats (setup.py) ... \u001b[?25l\u001b[?25hdone\n",
            "Requirement already satisfied: seaborn in /usr/local/lib/python3.6/dist-packages (0.10.0)\n",
            "Requirement already satisfied: numpy>=1.13.3 in /usr/local/lib/python3.6/dist-packages (from seaborn) (1.18.2)\n",
            "Requirement already satisfied: matplotlib>=2.1.2 in /usr/local/lib/python3.6/dist-packages (from seaborn) (3.2.1)\n",
            "Requirement already satisfied: pandas>=0.22.0 in /usr/local/lib/python3.6/dist-packages (from seaborn) (1.0.3)\n",
            "Requirement already satisfied: scipy>=1.0.1 in /usr/local/lib/python3.6/dist-packages (from seaborn) (1.4.1)\n",
            "Requirement already satisfied: cycler>=0.10 in /usr/local/lib/python3.6/dist-packages (from matplotlib>=2.1.2->seaborn) (0.10.0)\n",
            "Requirement already satisfied: pyparsing!=2.0.4,!=2.1.2,!=2.1.6,>=2.0.1 in /usr/local/lib/python3.6/dist-packages (from matplotlib>=2.1.2->seaborn) (2.4.6)\n",
            "Requirement already satisfied: kiwisolver>=1.0.1 in /usr/local/lib/python3.6/dist-packages (from matplotlib>=2.1.2->seaborn) (1.2.0)\n",
            "Requirement already satisfied: python-dateutil>=2.1 in /usr/local/lib/python3.6/dist-packages (from matplotlib>=2.1.2->seaborn) (2.8.1)\n",
            "Requirement already satisfied: pytz>=2017.2 in /usr/local/lib/python3.6/dist-packages (from pandas>=0.22.0->seaborn) (2018.9)\n",
            "Requirement already satisfied: six in /usr/local/lib/python3.6/dist-packages (from cycler>=0.10->matplotlib>=2.1.2->seaborn) (1.12.0)\n",
            "Requirement already satisfied: tensorflow in /usr/local/lib/python3.6/dist-packages (2.2.0rc2)\n",
            "Requirement already satisfied: numpy<2.0,>=1.16.0 in /usr/local/lib/python3.6/dist-packages (from tensorflow) (1.18.2)\n",
            "Requirement already satisfied: h5py<2.11.0,>=2.10.0 in /usr/local/lib/python3.6/dist-packages (from tensorflow) (2.10.0)\n",
            "Requirement already satisfied: gast==0.3.3 in /usr/local/lib/python3.6/dist-packages (from tensorflow) (0.3.3)\n",
            "Requirement already satisfied: tensorflow-estimator<2.3.0,>=2.2.0rc0 in /usr/local/lib/python3.6/dist-packages (from tensorflow) (2.2.0rc0)\n",
            "Requirement already satisfied: six>=1.12.0 in /usr/local/lib/python3.6/dist-packages (from tensorflow) (1.12.0)\n",
            "Requirement already satisfied: grpcio>=1.8.6 in /usr/local/lib/python3.6/dist-packages (from tensorflow) (1.27.2)\n",
            "Requirement already satisfied: termcolor>=1.1.0 in /usr/local/lib/python3.6/dist-packages (from tensorflow) (1.1.0)\n",
            "Requirement already satisfied: keras-preprocessing>=1.1.0 in /usr/local/lib/python3.6/dist-packages (from tensorflow) (1.1.0)\n",
            "Requirement already satisfied: astunparse==1.6.3 in /usr/local/lib/python3.6/dist-packages (from tensorflow) (1.6.3)\n",
            "Requirement already satisfied: absl-py>=0.7.0 in /usr/local/lib/python3.6/dist-packages (from tensorflow) (0.9.0)\n",
            "Requirement already satisfied: wheel>=0.26; python_version >= \"3\" in /usr/local/lib/python3.6/dist-packages (from tensorflow) (0.34.2)\n",
            "Requirement already satisfied: google-pasta>=0.1.8 in /usr/local/lib/python3.6/dist-packages (from tensorflow) (0.2.0)\n",
            "Requirement already satisfied: opt-einsum>=2.3.2 in /usr/local/lib/python3.6/dist-packages (from tensorflow) (3.2.0)\n",
            "Requirement already satisfied: wrapt>=1.11.1 in /usr/local/lib/python3.6/dist-packages (from tensorflow) (1.12.1)\n",
            "Requirement already satisfied: scipy==1.4.1; python_version >= \"3\" in /usr/local/lib/python3.6/dist-packages (from tensorflow) (1.4.1)\n",
            "Requirement already satisfied: tensorboard<2.3.0,>=2.2.0 in /usr/local/lib/python3.6/dist-packages (from tensorflow) (2.2.0)\n",
            "Requirement already satisfied: protobuf>=3.8.0 in /usr/local/lib/python3.6/dist-packages (from tensorflow) (3.10.0)\n",
            "Requirement already satisfied: requests<3,>=2.21.0 in /usr/local/lib/python3.6/dist-packages (from tensorboard<2.3.0,>=2.2.0->tensorflow) (2.21.0)\n",
            "Requirement already satisfied: markdown>=2.6.8 in /usr/local/lib/python3.6/dist-packages (from tensorboard<2.3.0,>=2.2.0->tensorflow) (3.2.1)\n",
            "Requirement already satisfied: tensorboard-plugin-wit>=1.6.0 in /usr/local/lib/python3.6/dist-packages (from tensorboard<2.3.0,>=2.2.0->tensorflow) (1.6.0.post2)\n",
            "Requirement already satisfied: setuptools>=41.0.0 in /usr/local/lib/python3.6/dist-packages (from tensorboard<2.3.0,>=2.2.0->tensorflow) (46.1.3)\n",
            "Requirement already satisfied: google-auth-oauthlib<0.5,>=0.4.1 in /usr/local/lib/python3.6/dist-packages (from tensorboard<2.3.0,>=2.2.0->tensorflow) (0.4.1)\n",
            "Requirement already satisfied: werkzeug>=0.11.15 in /usr/local/lib/python3.6/dist-packages (from tensorboard<2.3.0,>=2.2.0->tensorflow) (1.0.1)\n",
            "Requirement already satisfied: google-auth<2,>=1.6.3 in /usr/local/lib/python3.6/dist-packages (from tensorboard<2.3.0,>=2.2.0->tensorflow) (1.7.2)\n",
            "Requirement already satisfied: certifi>=2017.4.17 in /usr/local/lib/python3.6/dist-packages (from requests<3,>=2.21.0->tensorboard<2.3.0,>=2.2.0->tensorflow) (2019.11.28)\n",
            "Requirement already satisfied: urllib3<1.25,>=1.21.1 in /usr/local/lib/python3.6/dist-packages (from requests<3,>=2.21.0->tensorboard<2.3.0,>=2.2.0->tensorflow) (1.24.3)\n",
            "Requirement already satisfied: idna<2.9,>=2.5 in /usr/local/lib/python3.6/dist-packages (from requests<3,>=2.21.0->tensorboard<2.3.0,>=2.2.0->tensorflow) (2.8)\n",
            "Requirement already satisfied: chardet<3.1.0,>=3.0.2 in /usr/local/lib/python3.6/dist-packages (from requests<3,>=2.21.0->tensorboard<2.3.0,>=2.2.0->tensorflow) (3.0.4)\n",
            "Requirement already satisfied: requests-oauthlib>=0.7.0 in /usr/local/lib/python3.6/dist-packages (from google-auth-oauthlib<0.5,>=0.4.1->tensorboard<2.3.0,>=2.2.0->tensorflow) (1.3.0)\n",
            "Requirement already satisfied: pyasn1-modules>=0.2.1 in /usr/local/lib/python3.6/dist-packages (from google-auth<2,>=1.6.3->tensorboard<2.3.0,>=2.2.0->tensorflow) (0.2.8)\n",
            "Requirement already satisfied: cachetools<3.2,>=2.0.0 in /usr/local/lib/python3.6/dist-packages (from google-auth<2,>=1.6.3->tensorboard<2.3.0,>=2.2.0->tensorflow) (3.1.1)\n",
            "Requirement already satisfied: rsa<4.1,>=3.1.4 in /usr/local/lib/python3.6/dist-packages (from google-auth<2,>=1.6.3->tensorboard<2.3.0,>=2.2.0->tensorflow) (4.0)\n",
            "Requirement already satisfied: oauthlib>=3.0.0 in /usr/local/lib/python3.6/dist-packages (from requests-oauthlib>=0.7.0->google-auth-oauthlib<0.5,>=0.4.1->tensorboard<2.3.0,>=2.2.0->tensorflow) (3.1.0)\n",
            "Requirement already satisfied: pyasn1<0.5.0,>=0.4.6 in /usr/local/lib/python3.6/dist-packages (from pyasn1-modules>=0.2.1->google-auth<2,>=1.6.3->tensorboard<2.3.0,>=2.2.0->tensorflow) (0.4.8)\n"
          ],
          "name": "stdout"
        }
      ]
    },
    {
      "cell_type": "markdown",
      "metadata": {
        "id": "MF9cuHLcdguY",
        "colab_type": "text"
      },
      "source": [
        "### Import section\n"
      ]
    },
    {
      "cell_type": "code",
      "metadata": {
        "id": "-6pgvYp3dGOO",
        "colab_type": "code",
        "outputId": "4073fb0f-57be-41d4-c9ab-f70cb6845810",
        "colab": {
          "base_uri": "https://localhost:8080/",
          "height": 54
        }
      },
      "source": [
        "import ipdb\n",
        "import pandas as pd\n",
        "import seaborn as sns\n",
        "import numpy as np\n",
        "import matplotlib.pyplot as plt\n",
        "from time import time\n",
        "import itertools\n",
        "\n",
        "# General\n",
        "from sklearn.model_selection import StratifiedKFold\n",
        "\n",
        "# Preprocessing\n",
        "from sklearn.preprocessing import RobustScaler\n",
        "from sklearn.experimental import enable_iterative_imputer\n",
        "from sklearn.impute import IterativeImputer\n",
        "\n",
        "# Feature selection\n",
        "from sklearn.feature_selection import RFECV\n",
        "\n",
        "# Feature extraction\n",
        "from sklearn.decomposition import PCA\n",
        "from sklearn.decomposition import KernelPCA\n",
        "from sklearn.decomposition import TruncatedSVD\n",
        "import umap\n",
        "\n",
        "# Classifiers used in random search\n",
        "from sklearn import svm\n",
        "from sklearn.discriminant_analysis import LinearDiscriminantAnalysis\n",
        "from sklearn.ensemble import RandomForestClassifier\n",
        "from sklearn.neighbors import KNeighborsClassifier\n",
        "from sklearn.model_selection import RandomizedSearchCV\n",
        "\n",
        "# Evaluation metrics used\n",
        "from sklearn.metrics import accuracy_score\n",
        "from sklearn.metrics import f1_score\n",
        "from sklearn.metrics import roc_auc_score\n",
        "from sklearn.metrics import make_scorer\n",
        "from sklearn.metrics import roc_curve\n",
        "\n",
        "from sklearn.model_selection import learning_curve\n",
        "# Optional \n",
        "#from sklearn import preprocessing\n",
        "#from sklearn.model_selection import cross_validate\n",
        "#from sklearn.model_selection import GridSearchCV\n",
        "#from sklearn.pipeline import Pipeline\n",
        "#from sklearn import model_selection"
      ],
      "execution_count": 3,
      "outputs": [
        {
          "output_type": "stream",
          "text": [
            "/usr/local/lib/python3.6/dist-packages/statsmodels/tools/_testing.py:19: FutureWarning: pandas.util.testing is deprecated. Use the functions in the public API at pandas.testing instead.\n",
            "  import pandas.util.testing as tm\n"
          ],
          "name": "stderr"
        }
      ]
    },
    {
      "cell_type": "markdown",
      "metadata": {
        "id": "115eK7LmEnpQ",
        "colab_type": "text"
      },
      "source": [
        "## Dataset processing\n",
        "Filter the dataset for better classification results."
      ]
    },
    {
      "cell_type": "markdown",
      "metadata": {
        "id": "Yuy9j8RkOv1D",
        "colab_type": "text"
      },
      "source": [
        "### Definition set\n",
        "Contains all used definitions for the prepocessing of the dataset."
      ]
    },
    {
      "cell_type": "markdown",
      "metadata": {
        "id": "MxniZ92VFN6n",
        "colab_type": "text"
      },
      "source": [
        "Load dataset"
      ]
    },
    {
      "cell_type": "code",
      "metadata": {
        "id": "a8emRaZt_jdS",
        "colab_type": "code",
        "colab": {}
      },
      "source": [
        "def load_data(splits):\n",
        "  '''\n",
        "  load brats database and split values from labels\n",
        "\n",
        "  '''\n",
        "  # Data loading functions.\n",
        "  from brats.load_data import load_data\n",
        "\n",
        "  data = load_data()\n",
        "  print('data loaded')\n",
        "  print(f'The number of samples: {len(data.index)}')\n",
        "  print(f'The number of columns: {len(data.columns)}')\n",
        "  data = pd.DataFrame(data)\n",
        "\n",
        "  # split labels and values\n",
        "  data_X = data.drop(columns=['label'])\n",
        "  data_Y = data[['label']]\n",
        "  \n",
        "  # data split index forming\n",
        "  Test_split = StratifiedKFold(n_splits=splits)\n",
        "  \n",
        "  return data_X, data_Y, Test_split"
      ],
      "execution_count": 0,
      "outputs": []
    },
    {
      "cell_type": "markdown",
      "metadata": {
        "id": "UhSsbH8KF2NX",
        "colab_type": "text"
      },
      "source": [
        "remove strings from data"
      ]
    },
    {
      "cell_type": "code",
      "metadata": {
        "id": "n35sNcHfBCoB",
        "colab_type": "code",
        "colab": {}
      },
      "source": [
        "def replace_str(i):\n",
        "    '''Function to set strings into NaN within a matrix'''\n",
        "\n",
        "    if isinstance(i, int):\n",
        "          return i\n",
        "    try:\n",
        "        float(i)\n",
        "        return float(i)\n",
        "    except:\n",
        "        return np.nan"
      ],
      "execution_count": 0,
      "outputs": []
    },
    {
      "cell_type": "markdown",
      "metadata": {
        "id": "C67a-vPzF5VX",
        "colab_type": "text"
      },
      "source": [
        "remove zeros and Inf from matrix"
      ]
    },
    {
      "cell_type": "code",
      "metadata": {
        "id": "vnV-w_kxGAlK",
        "colab_type": "code",
        "colab": {}
      },
      "source": [
        "def replace_inf(X_data):\n",
        "    # set 0.0 as NaN\n",
        "    X_data.replace(0, np.nan, inplace=True)\n",
        "\n",
        "    # set Inf as NaN\n",
        "    X_data.replace([np.inf, -np.inf], np.nan, inplace=True)\n",
        "    \n",
        "    return X_data"
      ],
      "execution_count": 0,
      "outputs": []
    },
    {
      "cell_type": "markdown",
      "metadata": {
        "id": "_SI_xLIAGpCT",
        "colab_type": "text"
      },
      "source": [
        "remove samples with less than 60% values"
      ]
    },
    {
      "cell_type": "code",
      "metadata": {
        "id": "ZQ95SKYvL2V_",
        "colab_type": "code",
        "colab": {}
      },
      "source": [
        "def remove_sample(X_data, Y_data, n_value):\n",
        "    # remove sample with less than n% values\n",
        "    X_data = X_data.dropna(thresh=round(X_data.shape[1]*n_value))\n",
        "    Y_data = Y_data.loc[X_data.index]\n",
        "\n",
        "    return X_data, Y_data"
      ],
      "execution_count": 0,
      "outputs": []
    },
    {
      "cell_type": "markdown",
      "metadata": {
        "id": "IgwiMUofHbEV",
        "colab_type": "text"
      },
      "source": [
        "remove samples without a label"
      ]
    },
    {
      "cell_type": "code",
      "metadata": {
        "id": "SIEGTSl7HfIU",
        "colab_type": "code",
        "colab": {}
      },
      "source": [
        "def remove_labeless(X_data, Y_data):\n",
        "    # remove samples without a label\n",
        "    Y_data['label'].replace(np.nan, '', inplace=True)\n",
        "    Y_data = Y_data[Y_data['label'].astype(bool)]\n",
        "    X_data = X_data.loc[Y_data.index]\n",
        "\n",
        "    return X_data, Y_data"
      ],
      "execution_count": 0,
      "outputs": []
    },
    {
      "cell_type": "markdown",
      "metadata": {
        "id": "HsyekXDuH9n2",
        "colab_type": "text"
      },
      "source": [
        "Impute missing value's"
      ]
    },
    {
      "cell_type": "code",
      "metadata": {
        "id": "Q_-jkYTdICrN",
        "colab_type": "code",
        "colab": {}
      },
      "source": [
        "def impute_data(X_data):\n",
        "    # Add missing value's \n",
        "    Imputer = IterativeImputer(sample_posterior=True, n_nearest_features=20, random_state=0)\n",
        "    X_data = Imputer.fit_transform(X_data)\n",
        "\n",
        "    return X_data, Imputer"
      ],
      "execution_count": 0,
      "outputs": []
    },
    {
      "cell_type": "markdown",
      "metadata": {
        "id": "Qbt7ql2IIkSD",
        "colab_type": "text"
      },
      "source": [
        "Scale value's"
      ]
    },
    {
      "cell_type": "code",
      "metadata": {
        "id": "l1vwgVLnIomF",
        "colab_type": "code",
        "colab": {}
      },
      "source": [
        "def scale_data(X_data):\n",
        "    # scaling of values\n",
        "    Scaler = RobustScaler()\n",
        "    X_data = Scaler.fit_transform(X_data)\n",
        "\n",
        "    return X_data, Scaler"
      ],
      "execution_count": 0,
      "outputs": []
    },
    {
      "cell_type": "markdown",
      "metadata": {
        "id": "liGM3L88KFlf",
        "colab_type": "text"
      },
      "source": [
        "### preform dataset processing\n",
        "Run all preset definitions."
      ]
    },
    {
      "cell_type": "code",
      "metadata": {
        "id": "YyRkeYMXnkN-",
        "colab_type": "code",
        "colab": {}
      },
      "source": [
        "def preprocessing_data(X_design, Y_design, X_test, Y_test):\n",
        "    '''\n",
        "    Preprocessing step Hyperparameters:\n",
        "    - Feature removal percentage\n",
        "    - Sample removal percentage\n",
        "    - Value imputer type\n",
        "    - Normalizer type\n",
        "    '''\n",
        "\n",
        "    # remove strings from data\n",
        "    X_design = X_design.applymap(func=replace_str)\n",
        "    X_test = X_test.applymap(func=replace_str)\n",
        "\n",
        "    # remove 0.0 and Inf from data\n",
        "    X_design = replace_inf(X_design)\n",
        "    X_test = replace_inf(X_test)\n",
        "    print('unusefull values removed')\n",
        "\n",
        "    # remove features with less than 60% values\n",
        "    X_design = X_design.dropna(thresh=round(X_design.shape[0]*0.6), axis='columns')\n",
        "    X_test = X_test[X_design.columns]\n",
        "\n",
        "    # remove features and samples with less than 60% values\n",
        "    X_design, Y_design = remove_sample(X_design, Y_design, n_value=0.6)\n",
        "    X_test, Y_test = remove_sample(X_test, Y_test, n_value=0.6)\n",
        "    print('features and samples with too little information removed')\n",
        "\n",
        "    # remove samples without a label\n",
        "    X_design, Y_design = remove_labeless(X_design, Y_design)    \n",
        "    X_test, Y_test = remove_labeless(X_test, Y_test)\n",
        "    print('labeless samples removed')\n",
        "\n",
        "    # impute missing data\n",
        "    X_design_imput, imputer = impute_data(X_design)\n",
        "    X_test_imput = imputer.transform(X_test)\n",
        "    print('remaining missing data imputed')\n",
        "\n",
        "    # plot distribution of 6 random features, run one time to check for outliers. Thefore chosen for RobustScaler()\n",
        "    # generate some integers\n",
        "    #values = np.random.randint(0, X_design.shape[1], 6)\n",
        "    #data_select = X_design.iloc[:,values]\n",
        "    #data_select = data_select.join(Y_design)\n",
        "\n",
        "    # plot resulting data\n",
        "    #f, (ax1, ax2, ax3) = plt.subplots(1, 3, figsize=(60, 20))\n",
        "    #sns.scatterplot(y=data_select.columns[0], x=data_select.columns[1], hue='label', data=data_select, ax=ax1)\n",
        "    #sns.scatterplot(y=data_select.columns[2], x=data_select.columns[3], hue='label', data=data_select, ax=ax2)\n",
        "    #sns.scatterplot(y=data_select.columns[4], x=data_select.columns[5], hue='label', data=data_select, ax=ax3)\n",
        "\n",
        "    # scale the data\n",
        "    X_design_scaled, scaler = scale_data(X_design_imput)\n",
        "    X_test_scaled = scaler.transform(X_test_imput)\n",
        "    print('data scaled')\n",
        "\n",
        "    # Getting back to Dataframe \n",
        "    X_design = pd.DataFrame(X_design_scaled, columns=X_design.columns, index=X_design.index)\n",
        "    X_test = pd.DataFrame(X_test_scaled, columns=X_test.columns, index=X_test.index)\n",
        "    print('preprocessing finished')\n",
        "    print(f'The number of samples: {len(X_design.index)+len(X_test.index)}')\n",
        "    print(f'The number of columns: {len(X_design.columns)}')\n",
        "\n",
        "    return X_design, Y_design, X_test, Y_test"
      ],
      "execution_count": 0,
      "outputs": []
    },
    {
      "cell_type": "markdown",
      "metadata": {
        "id": "I_wDK0aC_Xa2",
        "colab_type": "text"
      },
      "source": [
        "## Experimental feature orientation\n",
        "Determine possible options for feature selection and extraction"
      ]
    },
    {
      "cell_type": "markdown",
      "metadata": {
        "id": "ypidmjSURy-R",
        "colab_type": "text"
      },
      "source": [
        "### Load part of dataset\n",
        "Getting the design set of the data."
      ]
    },
    {
      "cell_type": "code",
      "metadata": {
        "id": "msYercldCfhv",
        "colab_type": "code",
        "outputId": "2a50a003-03fa-4f4a-a590-4d77ec657525",
        "colab": {
          "base_uri": "https://localhost:8080/",
          "height": 219
        }
      },
      "source": [
        "#load dataset\n",
        "data_X, data_Y, Test_split = load_data(splits=10)\n",
        "\n",
        "i = 0\n",
        "for design_index, test_index in Test_split.split(data_X, data_Y):\n",
        "\n",
        "    if i:\n",
        "      continue\n",
        "    i = 1\n",
        "\n",
        "    X_design = data_X.iloc[design_index]\n",
        "    Y_design = data_Y.iloc[design_index]\n",
        "    \n",
        "    X_test = data_X.iloc[test_index]\n",
        "    Y_test = data_Y.iloc[test_index]\n",
        "\n",
        "X_design, Y_design, X_test, Y_test = preprocessing_data(X_design, Y_design, X_test, Y_test)"
      ],
      "execution_count": 12,
      "outputs": [
        {
          "output_type": "stream",
          "text": [
            "data loaded\n",
            "The number of samples: 167\n",
            "The number of columns: 725\n",
            "unusefull values removed\n",
            "features and samples with too little information removed\n",
            "labeless samples removed\n",
            "remaining missing data imputed\n",
            "data scaled\n",
            "preprocessing finished\n",
            "The number of samples: 167\n",
            "The number of columns: 698\n"
          ],
          "name": "stdout"
        }
      ]
    },
    {
      "cell_type": "code",
      "metadata": {
        "id": "I9YWm7p2VYdw",
        "colab_type": "code",
        "outputId": "1c2a49f4-fd16-4572-8d47-b2546224aac2",
        "colab": {
          "base_uri": "https://localhost:8080/",
          "height": 550
        }
      },
      "source": [
        "print(X_design, Y_design)\n"
      ],
      "execution_count": 12,
      "outputs": [
        {
          "output_type": "stream",
          "text": [
            "              VOLUME_ET  VOLUME_NET  ...  TGM_Cog_Z_1   TGM_T_1\n",
            "ID                                   ...                       \n",
            "TCGA-02-0064   0.306650   -0.149335  ...    -0.409811  0.412749\n",
            "TCGA-02-0068  -0.131777   -0.098523  ...    -0.254765 -0.182429\n",
            "TCGA-02-0069  -0.006484    0.912666  ...     0.284368  2.705034\n",
            "TCGA-02-0070  -0.274249   -0.314443  ...     0.839935 -0.449039\n",
            "TCGA-02-0075  -0.109278    0.247846  ...     0.451606 -0.017942\n",
            "...                 ...         ...  ...          ...       ...\n",
            "TCGA-HT-8018  -0.506682   -0.179239  ...    -0.849962 -0.833459\n",
            "TCGA-HT-8111  -0.512206   -0.381408  ...     1.026131 -0.804997\n",
            "TCGA-HT-8114  -0.282298    3.740634  ...     0.526592 -0.757509\n",
            "TCGA-HT-8563  -0.181188   -0.367314  ...    -0.466627 -0.801878\n",
            "TCGA-HT-A61A   0.757504    1.082333  ...    -0.592295  0.330073\n",
            "\n",
            "[150 rows x 698 columns]              label\n",
            "ID                \n",
            "TCGA-02-0064   GBM\n",
            "TCGA-02-0068   GBM\n",
            "TCGA-02-0069   GBM\n",
            "TCGA-02-0070   GBM\n",
            "TCGA-02-0075   GBM\n",
            "...            ...\n",
            "TCGA-HT-8018   LGG\n",
            "TCGA-HT-8111   LGG\n",
            "TCGA-HT-8114   LGG\n",
            "TCGA-HT-8563   LGG\n",
            "TCGA-HT-A61A   LGG\n",
            "\n",
            "[150 rows x 1 columns]\n"
          ],
          "name": "stdout"
        }
      ]
    },
    {
      "cell_type": "markdown",
      "metadata": {
        "id": "KOyP-3v2aNK-",
        "colab_type": "text"
      },
      "source": [
        "### Pre-sets and Definition set\n",
        "Pre-set definitions to preform the experiments."
      ]
    },
    {
      "cell_type": "markdown",
      "metadata": {
        "id": "o971Z1NDNI89",
        "colab_type": "text"
      },
      "source": [
        "Pre-sets"
      ]
    },
    {
      "cell_type": "code",
      "metadata": {
        "id": "ZoDDIR8LMwic",
        "colab_type": "code",
        "colab": {}
      },
      "source": [
        "# Set parameters\n",
        "RFE_split = 5\n",
        "Train_split = 5\n",
        "\n",
        "# make labels binary\n",
        "Y_design_bin = Y_design.replace(['GBM', 'LGG'], [1, 0])\n",
        "\n",
        "# set validation-training split\n",
        "train_splitter = StratifiedKFold(n_splits=Train_split)"
      ],
      "execution_count": 0,
      "outputs": []
    },
    {
      "cell_type": "markdown",
      "metadata": {
        "id": "e0uXBFWaM-7z",
        "colab_type": "text"
      },
      "source": [
        "Selector"
      ]
    },
    {
      "cell_type": "code",
      "metadata": {
        "id": "FWfn_UAbMxHd",
        "colab_type": "code",
        "colab": {}
      },
      "source": [
        "# RFE estimator\n",
        "svc_linear = svm.SVC(kernel=\"linear\")\n",
        "\n",
        "# RFE type\n",
        "rfecv_svc = RFECV(\n",
        "                  estimator=svc_linear, step=1, \n",
        "                  cv=StratifiedKFold(n_splits=RFE_split), \n",
        "                  scoring='roc_auc')  \n",
        "\n",
        "# selector list                  \n",
        "selectors = ('no_rfecv', 'rfecv')         "
      ],
      "execution_count": 0,
      "outputs": []
    },
    {
      "cell_type": "markdown",
      "metadata": {
        "id": "Zrm9YW3xNA2W",
        "colab_type": "text"
      },
      "source": [
        "Extractors"
      ]
    },
    {
      "cell_type": "code",
      "metadata": {
        "id": "xcUhoKfsNDJg",
        "colab_type": "code",
        "colab": {}
      },
      "source": [
        "# extractors\n",
        "pca_lin = KernelPCA(kernel='linear')\n",
        "pca_poly = KernelPCA(kernel='poly')\n",
        "pca_rbf = KernelPCA(kernel='rbf')\n",
        "umapper_3 = umap.UMAP(n_neighbors=3)\n",
        "umapper_5 = umap.UMAP(n_neighbors=5)\n",
        "umapper_6 = umap.UMAP(n_neighbors=6)\n",
        "umapper_15 = umap.UMAP(n_neighbors=15)\n",
        "umapper_30 = umap.UMAP(n_neighbors=30)"
      ],
      "execution_count": 0,
      "outputs": []
    },
    {
      "cell_type": "markdown",
      "metadata": {
        "id": "pn4Fs3COaVBc",
        "colab_type": "text"
      },
      "source": [
        "Cross-validation test"
      ]
    },
    {
      "cell_type": "code",
      "metadata": {
        "id": "A4kzQnzJYkIQ",
        "colab_type": "code",
        "colab": {}
      },
      "source": [
        "def run_feature_test(X_design, Y_design_bin, train_splitter, para_options, extractors, selector):\n",
        "    # predefine variables\n",
        "    results = list()\n",
        "    i = 1\n",
        "    t0 = time()\n",
        "\n",
        "    # RFE types list                  \n",
        "    selectors = {'no_rfecv': 0, 'rfecv': 1}\n",
        "    \n",
        "    # create standard classifier\n",
        "    clf = svm.SVC()\n",
        "    \n",
        "    # run cross-validation validate, train set\n",
        "    for train_index, validate_index in train_splitter.split(X_design, Y_design_bin):\n",
        "        X_train = X_design.iloc[train_index]\n",
        "        Y_train = Y_design_bin.iloc[train_index]\n",
        "    \n",
        "        X_validate = X_design.iloc[validate_index]\n",
        "        Y_validate = Y_design_bin.iloc[validate_index]\n",
        "        Y_validate = np.array(Y_validate)\n",
        "        print(f'running split {i} of {Train_split}')\n",
        "        i += 1\n",
        "\n",
        "        # Run RFECV on split\n",
        "        X_train_selected = selector.fit_transform(X_train, Y_train['label'])\n",
        "        X_validate_selected = selector.transform(X_validate)\n",
        "        print(f'{X_train_selected.shape[1]} features left after selection')\n",
        "\n",
        "        for indez, row in para_options.iterrows():\n",
        "            extractor=extractors[row[1]]\n",
        "            component=row[2]\n",
        "        \n",
        "            # use selected or unselected data\n",
        "            if selectors[row[0]] and X_train_selected.shape[1] > component:\n",
        "                X_train_try = X_train_selected\n",
        "                X_validate_try = X_validate_selected\n",
        "                #print(f'rfecv done {extractor, component}')\n",
        "\n",
        "            else:\n",
        "                X_train_try = X_train\n",
        "                X_validate_try = X_validate\n",
        "                #print(f'no rfecv done {extractor, component}')\n",
        "          \n",
        "            # run selected extractor\n",
        "            extractor.set_params(n_components=component)\n",
        "            X_train_extracted = extractor.fit_transform(X_train_try)\n",
        "            X_validate_extracted = extractor.transform(X_validate_try)\n",
        "        \n",
        "            # fitting standard classifier\n",
        "            clf.fit(X_train_extracted, Y_train['label'])\n",
        "\n",
        "            # Test the classifier on the test data\n",
        "            scores = clf.predict(X_validate_extracted)\n",
        "\n",
        "            # Gettin accuracy, AUC and f1-score\n",
        "            accuracy = accuracy_score(Y_validate, scores)\n",
        "            auc = roc_auc_score(Y_validate, scores)\n",
        "            f1 = f1_score(Y_validate, scores)\n",
        "            results.append({\n",
        "                'accuracy': accuracy,\n",
        "                'AUC': auc,\n",
        "                'f1-score': f1,\n",
        "                'set': f'{indez}_test'\n",
        "            })\n",
        "\n",
        "            # Test the classifier on the training data\n",
        "            scores_training = clf.predict(X_train_extracted)\n",
        "\n",
        "            # Getting the accuracy, AUC and f1-score\n",
        "            accuracy = accuracy_score(Y_train, scores_training)\n",
        "            auc = roc_auc_score(Y_train, scores_training)\n",
        "            f1 = f1_score(Y_train, scores_training)\n",
        "            results.append({\n",
        "                'accuracy': accuracy,\n",
        "                'AUC': auc,\n",
        "                'f1-score': f1,\n",
        "                'set': f'{indez}_training'\n",
        "            })\n",
        "        print(f'calculated options')\n",
        "\n",
        "    # Create results dataframe\n",
        "    results = pd.DataFrame(results)\n",
        "    print(\"finished in %0.1fs\" % (time() - t0))\n",
        "    return results"
      ],
      "execution_count": 0,
      "outputs": []
    },
    {
      "cell_type": "markdown",
      "metadata": {
        "id": "fhVBSfiG3spL",
        "colab_type": "text"
      },
      "source": [
        "Calculate mean and std from cross-validation"
      ]
    },
    {
      "cell_type": "code",
      "metadata": {
        "id": "go1BHO3pAUfD",
        "colab_type": "code",
        "colab": {}
      },
      "source": [
        "def cal_means(data, stats):\n",
        "    stats_line = {\n",
        "    'ac mean': \"{:.3f}\".format(data[\"accuracy\"].mean()),\n",
        "    'ac std': \"{:.2f}\".format(data[\"accuracy\"].std()),\n",
        "    'AUC mean': \"{:.3f}\".format(data[\"AUC\"].mean()),\n",
        "    'AUC std': \"{:.2f}\".format(data[\"AUC\"].std()),\n",
        "    'f1 mean': \"{:.3f}\".format(data[\"f1-score\"].mean()),\n",
        "    'f1 std': \"{:.2f}\".format(data[\"f1-score\"].std())\n",
        "    }\n",
        "    stats_line = stats_line\n",
        "    stats.append(stats_line)\n",
        "    \n",
        "    return stats"
      ],
      "execution_count": 0,
      "outputs": []
    },
    {
      "cell_type": "markdown",
      "metadata": {
        "id": "VfOCMSHAj8uC",
        "colab_type": "text"
      },
      "source": [
        "Calculate results from cross-validation"
      ]
    },
    {
      "cell_type": "code",
      "metadata": {
        "id": "M6ouXeKijE-0",
        "colab_type": "code",
        "colab": {}
      },
      "source": [
        "def get_results(results, para_options):\n",
        "    # calculate the mean and std of each option\n",
        "    test_result_stat = list()\n",
        "    train_result_stat = list()\n",
        "\n",
        "    for i in range(0, para_options.shape[0]):\n",
        "\n",
        "        test_result = results[results['set'] == f'{i}_test']\n",
        "        test_result_stat = cal_means(test_result, test_result_stat)\n",
        "\n",
        "        train_result = results[results['set'] == f'{i}_train']\n",
        "        train_result_stat = cal_means(train_result, train_result_stat)\n",
        "\n",
        "    test_result_stat = pd.DataFrame(test_result_stat)\n",
        "    train_result_stat = pd.DataFrame(train_result_stat)\n",
        "\n",
        "    # order the results on AUC, accuracy and f1-score\n",
        "    test_result_stat.sort_values(by=['AUC mean', 'ac mean', 'f1 mean'],ascending=False, inplace=True)\n",
        "    test_result_stat = test_result_stat.join(para_options)\n",
        "\n",
        "    train_result_stat.sort_values(by=['AUC mean', 'ac mean', 'f1 mean'],ascending=False, inplace=True)\n",
        "    train_result_stat = train_result_stat.join(para_options)\n",
        "\n",
        "\n",
        "    return test_result_stat, train_result_stat"
      ],
      "execution_count": 0,
      "outputs": []
    },
    {
      "cell_type": "markdown",
      "metadata": {
        "id": "79v9EUDcaZ_C",
        "colab_type": "text"
      },
      "source": [
        "### Orientational Experiment\n",
        "Experiment with a wide variety of chosen extractors and parameters to find optima."
      ]
    },
    {
      "cell_type": "markdown",
      "metadata": {
        "id": "JgfZd2mYbIwb",
        "colab_type": "text"
      },
      "source": [
        "selected options"
      ]
    },
    {
      "cell_type": "code",
      "metadata": {
        "id": "ZrysKyfvbNME",
        "colab_type": "code",
        "colab": {}
      },
      "source": [
        "# extractor list\n",
        "extractors = {'umap_3': umapper_3, 'umap_5': umapper_5, 'umap_15': umapper_15, 'umap_30': umapper_30, 'pca_lin': pca_lin, 'pca_poly': pca_poly, 'pca_rbf': pca_rbf}\n",
        "\n",
        "#component parameters\n",
        "extract_components = (2, 6, 12, 24, 48, 92)"
      ],
      "execution_count": 0,
      "outputs": []
    },
    {
      "cell_type": "markdown",
      "metadata": {
        "id": "PRb1hVIGNbob",
        "colab_type": "text"
      },
      "source": [
        "preform feature selection and extraction test"
      ]
    },
    {
      "cell_type": "code",
      "metadata": {
        "id": "AReSukYSn2a0",
        "colab_type": "code",
        "outputId": "e33f0232-d174-4edf-d751-0b027f4ca1b6",
        "colab": {
          "base_uri": "https://localhost:8080/",
          "height": 733
        }
      },
      "source": [
        "#all options to test\n",
        "para_options = pd.DataFrame(list(itertools.product(selectors, extractors, extract_components)))\n",
        "print(f'{para_options.shape[0]} options to try')\n",
        "\n",
        "\n",
        "# Run experiment\n",
        "results = run_feature_test(X_design, Y_design_bin, train_splitter, para_options, extractors, rfecv_svc)"
      ],
      "execution_count": 20,
      "outputs": [
        {
          "output_type": "stream",
          "text": [
            "84 options to try\n",
            "running split 1 of 5\n",
            "126 features left after selection\n"
          ],
          "name": "stdout"
        },
        {
          "output_type": "stream",
          "text": [
            "/usr/local/lib/python3.6/dist-packages/umap/spectral.py:229: UserWarning: Embedding a total of 2 separate connected components using meta-embedding (experimental)\n",
            "  n_components\n",
            "/usr/local/lib/python3.6/dist-packages/umap/spectral.py:229: UserWarning: Embedding a total of 2 separate connected components using meta-embedding (experimental)\n",
            "  n_components\n",
            "/usr/local/lib/python3.6/dist-packages/umap/spectral.py:229: UserWarning: Embedding a total of 2 separate connected components using meta-embedding (experimental)\n",
            "  n_components\n",
            "/usr/local/lib/python3.6/dist-packages/umap/spectral.py:229: UserWarning: Embedding a total of 2 separate connected components using meta-embedding (experimental)\n",
            "  n_components\n",
            "/usr/local/lib/python3.6/dist-packages/umap/spectral.py:229: UserWarning: Embedding a total of 2 separate connected components using meta-embedding (experimental)\n",
            "  n_components\n",
            "/usr/local/lib/python3.6/dist-packages/umap/spectral.py:229: UserWarning: Embedding a total of 2 separate connected components using meta-embedding (experimental)\n",
            "  n_components\n"
          ],
          "name": "stderr"
        },
        {
          "output_type": "stream",
          "text": [
            "calulated options\n",
            "running split 2 of 5\n",
            "64 features left after selection\n"
          ],
          "name": "stdout"
        },
        {
          "output_type": "stream",
          "text": [
            "/usr/local/lib/python3.6/dist-packages/umap/spectral.py:229: UserWarning: Embedding a total of 2 separate connected components using meta-embedding (experimental)\n",
            "  n_components\n",
            "/usr/local/lib/python3.6/dist-packages/umap/spectral.py:229: UserWarning: Embedding a total of 2 separate connected components using meta-embedding (experimental)\n",
            "  n_components\n",
            "/usr/local/lib/python3.6/dist-packages/umap/spectral.py:229: UserWarning: Embedding a total of 2 separate connected components using meta-embedding (experimental)\n",
            "  n_components\n",
            "/usr/local/lib/python3.6/dist-packages/umap/spectral.py:229: UserWarning: Embedding a total of 2 separate connected components using meta-embedding (experimental)\n",
            "  n_components\n",
            "/usr/local/lib/python3.6/dist-packages/umap/spectral.py:229: UserWarning: Embedding a total of 2 separate connected components using meta-embedding (experimental)\n",
            "  n_components\n"
          ],
          "name": "stderr"
        },
        {
          "output_type": "stream",
          "text": [
            "calulated options\n",
            "running split 3 of 5\n",
            "114 features left after selection\n",
            "calulated options\n",
            "running split 4 of 5\n",
            "84 features left after selection\n",
            "calulated options\n",
            "running split 5 of 5\n",
            "55 features left after selection\n",
            "calulated options\n",
            "finished in 313.1s\n"
          ],
          "name": "stdout"
        }
      ]
    },
    {
      "cell_type": "markdown",
      "metadata": {
        "id": "TJEsMCyOQ3kI",
        "colab_type": "text"
      },
      "source": [
        "Plot results"
      ]
    },
    {
      "cell_type": "code",
      "metadata": {
        "id": "ni-788XftFEv",
        "colab_type": "code",
        "outputId": "5c245cad-9b0b-43d5-c68c-85197bc34e60",
        "colab": {
          "base_uri": "https://localhost:8080/",
          "height": 1000
        }
      },
      "source": [
        "# plot resulting data\n",
        "print('legend')\n",
        "print(para_options)\n",
        "\n",
        "f, axes = plt.subplots(3, 1, figsize=(30, 40))\n",
        "sns.boxplot(y='AUC', x='set', data=results, ax=axes[0])\n",
        "sns.boxplot(y='accuracy', x='set', data=results, ax=axes[1])\n",
        "sns.boxplot(y='f1-score', x='set', data=results, ax=axes[2])"
      ],
      "execution_count": 21,
      "outputs": [
        {
          "output_type": "stream",
          "text": [
            "legend\n",
            "           0        1   2\n",
            "0   no_rfecv   umap_3   2\n",
            "1   no_rfecv   umap_3   6\n",
            "2   no_rfecv   umap_3  12\n",
            "3   no_rfecv   umap_3  24\n",
            "4   no_rfecv   umap_3  48\n",
            "..       ...      ...  ..\n",
            "79     rfecv  pca_rbf   6\n",
            "80     rfecv  pca_rbf  12\n",
            "81     rfecv  pca_rbf  24\n",
            "82     rfecv  pca_rbf  48\n",
            "83     rfecv  pca_rbf  92\n",
            "\n",
            "[84 rows x 3 columns]\n"
          ],
          "name": "stdout"
        },
        {
          "output_type": "execute_result",
          "data": {
            "text/plain": [
              "<matplotlib.axes._subplots.AxesSubplot at 0x7f466aa94198>"
            ]
          },
          "metadata": {
            "tags": []
          },
          "execution_count": 21
        },
        {
          "output_type": "display_data",
          "data": {
            "image/png": "[encoded data removed]",
            "text/plain": [
              "<Figure size 2160x2880 with 3 Axes>"
            ]
          },
          "metadata": {
            "tags": []
          }
        }
      ]
    },
    {
      "cell_type": "markdown",
      "metadata": {
        "id": "dWGm2rSRQ9mN",
        "colab_type": "text"
      },
      "source": [
        "Determ the best options"
      ]
    },
    {
      "cell_type": "code",
      "metadata": {
        "id": "RoOLPIr7-GLB",
        "colab_type": "code",
        "outputId": "2fab34d8-1fb7-42e0-ea48-bd47e5ac7d89",
        "colab": {
          "base_uri": "https://localhost:8080/",
          "height": 421
        }
      },
      "source": [
        "test_result, train_result = get_results(results, para_options)\n",
        "print('Top 20 best scoring results')\n",
        "print(test_result.iloc[range(0,20)])\n"
      ],
      "execution_count": 22,
      "outputs": [
        {
          "output_type": "stream",
          "text": [
            "Top 20 best scoring results\n",
            "   ac mean ac std AUC mean AUC std f1 mean f1 std         0        1   2\n",
            "37   0.793   0.10    0.803    0.09   0.812   0.09  no_rfecv  pca_rbf   6\n",
            "70   0.820   0.07    0.782    0.07   0.865   0.05     rfecv  pca_lin  48\n",
            "39   0.760   0.08    0.778    0.08   0.776   0.08  no_rfecv  pca_rbf  24\n",
            "38   0.767   0.09    0.777    0.09   0.788   0.09  no_rfecv  pca_rbf  12\n",
            "69   0.813   0.07    0.772    0.08   0.861   0.05     rfecv  pca_lin  24\n",
            "71   0.813   0.08    0.769    0.09   0.865   0.05     rfecv  pca_lin  92\n",
            "79   0.740   0.11    0.768    0.11   0.745   0.12     rfecv  pca_rbf   6\n",
            "81   0.733   0.08    0.765    0.08   0.732   0.10     rfecv  pca_rbf  24\n",
            "68   0.800   0.06    0.756    0.07   0.853   0.05     rfecv  pca_lin  12\n",
            "7    0.800   0.03    0.752    0.03   0.855   0.03  no_rfecv   umap_5   6\n",
            "6    0.787   0.10    0.752    0.12   0.840   0.08  no_rfecv   umap_5   2\n",
            "67   0.787   0.07    0.745    0.07   0.841   0.05     rfecv  pca_lin   6\n",
            "80   0.713   0.08    0.739    0.08   0.719   0.09     rfecv  pca_rbf  12\n",
            "48   0.773   0.07    0.737    0.08   0.828   0.05     rfecv   umap_5   2\n",
            "78   0.713   0.11    0.732    0.10   0.725   0.12     rfecv  pca_rbf   2\n",
            "36   0.720   0.06    0.723    0.07   0.753   0.07  no_rfecv  pca_rbf   2\n",
            "8    0.767   0.04    0.719    0.05   0.831   0.03  no_rfecv   umap_5  12\n",
            "29   0.773   0.04    0.717    0.05   0.840   0.03  no_rfecv  pca_lin  92\n",
            "43   0.760   0.09    0.717    0.10   0.821   0.07     rfecv   umap_3   6\n",
            "9    0.767   0.04    0.716    0.05   0.833   0.03  no_rfecv   umap_5  24\n"
          ],
          "name": "stdout"
        }
      ]
    },
    {
      "cell_type": "markdown",
      "metadata": {
        "id": "UgErjNWFftnv",
        "colab_type": "text"
      },
      "source": [
        "After running the code above, the following conclusions where drawn:\n",
        "- There is difference between feature and no feature selection, but not similar for each option\n",
        "- the PCA with a rbf kernel and no rfecv provides the highest scores, but with a high std\n",
        "- the PCA with a linear kernel and rfecv also provide high scores and lower std, but only with more components\n",
        "- the UMAP with 5 neighbors provides second best scores, but with a smaller std\n",
        "- there is a optimum in the amount of components around the 6 and 12\n",
        "\n",
        "With this in mind the parameter for the second test are chosen."
      ]
    },
    {
      "cell_type": "markdown",
      "metadata": {
        "id": "6GFBpgwoa1ly",
        "colab_type": "text"
      },
      "source": [
        "### Localized Experiment\n",
        "Experiment with selected extractors and parameters around promising results of the Orientational Experiment."
      ]
    },
    {
      "cell_type": "markdown",
      "metadata": {
        "colab_type": "text",
        "id": "5meYru3udMGY"
      },
      "source": [
        "selected options"
      ]
    },
    {
      "cell_type": "code",
      "metadata": {
        "colab_type": "code",
        "id": "uEy802ukdMGp",
        "colab": {}
      },
      "source": [
        "# extractor list\n",
        "extractors = {'umap_5': umapper_5, 'pca_lin': pca_lin, 'pca_rbf': pca_rbf}\n",
        "\n",
        "#parameters\n",
        "extract_components = (4, 6, 8, 12, 45, 48, 52, 56)"
      ],
      "execution_count": 0,
      "outputs": []
    },
    {
      "cell_type": "markdown",
      "metadata": {
        "colab_type": "text",
        "id": "O7139y5fdMG-"
      },
      "source": [
        "preform feature selection and extraction test"
      ]
    },
    {
      "cell_type": "code",
      "metadata": {
        "colab_type": "code",
        "id": "YuMUX9dhdMHB",
        "outputId": "c527187e-bbdf-4e18-e112-2095814ca935",
        "colab": {
          "base_uri": "https://localhost:8080/",
          "height": 329
        }
      },
      "source": [
        "#all options to test\n",
        "para_options = pd.DataFrame(list(itertools.product(selectors, extractors, extract_components)))\n",
        "para_options = para_options.loc[[0,1,2,3,16,17,18,19,36,37,38,39]]\n",
        "para_options = para_options.reset_index(drop=True)\n",
        "print(f'{para_options.shape[0]} options to try')\n",
        "\n",
        "# Run experiment\n",
        "results = run_feature_test(X_design, Y_design_bin, train_splitter, para_options, extractors, rfecv_svc)"
      ],
      "execution_count": 24,
      "outputs": [
        {
          "output_type": "stream",
          "text": [
            "12 options to try\n",
            "running split 1 of 5\n",
            "126 features left after selection\n",
            "calulated options\n",
            "running split 2 of 5\n",
            "64 features left after selection\n",
            "calulated options\n",
            "running split 3 of 5\n",
            "114 features left after selection\n",
            "calulated options\n",
            "running split 4 of 5\n",
            "84 features left after selection\n",
            "calulated options\n",
            "running split 5 of 5\n",
            "55 features left after selection\n",
            "calulated options\n",
            "finished in 168.0s\n"
          ],
          "name": "stdout"
        }
      ]
    },
    {
      "cell_type": "markdown",
      "metadata": {
        "colab_type": "text",
        "id": "d374FPQgdMHQ"
      },
      "source": [
        "Plot results"
      ]
    },
    {
      "cell_type": "code",
      "metadata": {
        "colab_type": "code",
        "id": "-I_dMH8VdMHT",
        "outputId": "cc997429-7d30-4f72-aa57-34b4ba0e1db9",
        "colab": {
          "base_uri": "https://localhost:8080/",
          "height": 1000
        }
      },
      "source": [
        "# plot resulting data\n",
        "print('legend')\n",
        "print(para_options)\n",
        "\n",
        "f, axes = plt.subplots(3, 1, figsize=(30, 40))\n",
        "sns.boxplot(y='AUC', x='set', data=results, ax=axes[0])\n",
        "sns.boxplot(y='accuracy', x='set', data=results, ax=axes[1])\n",
        "sns.boxplot(y='f1-score', x='set', data=results, ax=axes[2])"
      ],
      "execution_count": 25,
      "outputs": [
        {
          "output_type": "stream",
          "text": [
            "legend\n",
            "           0        1   2\n",
            "0   no_rfecv   umap_5   4\n",
            "1   no_rfecv   umap_5   6\n",
            "2   no_rfecv   umap_5   8\n",
            "3   no_rfecv   umap_5  12\n",
            "4   no_rfecv  pca_rbf   4\n",
            "5   no_rfecv  pca_rbf   6\n",
            "6   no_rfecv  pca_rbf   8\n",
            "7   no_rfecv  pca_rbf  12\n",
            "8      rfecv  pca_lin  45\n",
            "9      rfecv  pca_lin  48\n",
            "10     rfecv  pca_lin  52\n",
            "11     rfecv  pca_lin  56\n"
          ],
          "name": "stdout"
        },
        {
          "output_type": "execute_result",
          "data": {
            "text/plain": [
              "<matplotlib.axes._subplots.AxesSubplot at 0x7f466824e390>"
            ]
          },
          "metadata": {
            "tags": []
          },
          "execution_count": 25
        },
        {
          "output_type": "display_data",
          "data": {
            "image/png": "[encoded data removed]",
            "text/plain": [
              "<Figure size 2160x2880 with 3 Axes>"
            ]
          },
          "metadata": {
            "tags": []
          }
        }
      ]
    },
    {
      "cell_type": "markdown",
      "metadata": {
        "colab_type": "text",
        "id": "q3oGRYoNdMHi"
      },
      "source": [
        "Determ the best options"
      ]
    },
    {
      "cell_type": "code",
      "metadata": {
        "colab_type": "code",
        "id": "nz_aUeCadMHs",
        "outputId": "31e81b77-ff1c-4011-d267-880cda427b12",
        "colab": {
          "base_uri": "https://localhost:8080/",
          "height": 256
        }
      },
      "source": [
        "test_result, train_result = get_results(results, para_options)\n",
        "print(test_result)"
      ],
      "execution_count": 26,
      "outputs": [
        {
          "output_type": "stream",
          "text": [
            "   ac mean ac std AUC mean AUC std f1 mean f1 std         0        1   2\n",
            "6    0.800   0.10    0.808    0.10   0.821   0.10  no_rfecv  pca_rbf   8\n",
            "5    0.793   0.10    0.803    0.09   0.812   0.09  no_rfecv  pca_rbf   6\n",
            "10   0.827   0.07    0.791    0.07   0.869   0.06     rfecv  pca_lin  52\n",
            "9    0.820   0.07    0.782    0.07   0.865   0.05     rfecv  pca_lin  48\n",
            "4    0.773   0.09    0.778    0.09   0.797   0.09  no_rfecv  pca_rbf   4\n",
            "7    0.767   0.09    0.777    0.09   0.788   0.09  no_rfecv  pca_rbf  12\n",
            "11   0.813   0.07    0.775    0.07   0.861   0.05     rfecv  pca_lin  56\n",
            "8    0.813   0.07    0.773    0.08   0.861   0.05     rfecv  pca_lin  45\n",
            "0    0.800   0.02    0.755    0.02   0.854   0.02  no_rfecv   umap_5   4\n",
            "1    0.773   0.04    0.725    0.04   0.836   0.03  no_rfecv   umap_5   6\n",
            "2    0.773   0.04    0.722    0.04   0.838   0.03  no_rfecv   umap_5   8\n",
            "3    0.773   0.05    0.718    0.06   0.840   0.04  no_rfecv   umap_5  12\n"
          ],
          "name": "stdout"
        }
      ]
    },
    {
      "cell_type": "markdown",
      "metadata": {
        "id": "sVoNGV8DjNNf",
        "colab_type": "text"
      },
      "source": [
        "Based on these results the following is concluded:\n",
        "- the PCA with rbf kernal and 6 or 8 components has the best AUC score, but still a high std\n",
        "- the PCA with linear kernal and 48/52 components has the best Accuracy and f1-score, with a lower std\n",
        "- the UMAP with 5 neighbors and 6 or 8 components has similar score for accuracy and f1, but a lower score for AUC and similar the std as the linear PCA.\n",
        "\n"
      ]
    },
    {
      "cell_type": "markdown",
      "metadata": {
        "id": "ktMWp3Y_lQ3e",
        "colab_type": "text"
      },
      "source": [
        "### Conclusion\n",
        "\n",
        "We will let the model optimization choose from:\n",
        "- PCA (Kernel:linear, Components:48/52, rfecv)\n",
        "- PCA (Kernel:rbf, Components:6/8)\n",
        "- UMAP (Neigbors:5, Components:8/12)"
      ]
    },
    {
      "cell_type": "markdown",
      "metadata": {
        "id": "LQ-dUjXUpFAG",
        "colab_type": "text"
      },
      "source": [
        "## Final machine learning pipeline\n",
        "Our resulting machine learning model for tumor grading in brain cancer.\n",
        "\n",
        "As described in the enclosed document are the following steps en parameter settings the by us found most optimale for optimising and classifing the given dataset."
      ]
    },
    {
      "cell_type": "markdown",
      "metadata": {
        "id": "ClBXawKAVfGD",
        "colab_type": "text"
      },
      "source": [
        "### Feature extraction\n",
        "\n",
        "Feature extraction with hyperparameters based on previous experiments"
      ]
    },
    {
      "cell_type": "markdown",
      "metadata": {
        "id": "hsqJmyjIvjkw",
        "colab_type": "text"
      },
      "source": [
        "Feature extraction"
      ]
    },
    {
      "cell_type": "code",
      "metadata": {
        "id": "i8o6DTQGVvjX",
        "colab_type": "code",
        "colab": {}
      },
      "source": [
        "def feature_extraction(X_design, Y_design, X_test, Y_test):\n",
        "    '''\n",
        "    preform feature extraction for final pipeline\n",
        "    '''\n",
        "\n",
        "    # generate binary labels \n",
        "    Y_design_bin = Y_design.replace(['GBM', 'LGG'], [1, 0])\n",
        "    Y_test_bin = Y_test.replace(['GBM', 'LGG'], [1, 0])\n",
        "    \n",
        "    # Create extraction models\n",
        "    Umapper_8 = umap.UMAP(n_neighbors=5, n_components=8)\n",
        "    Umapper_12 = umap.UMAP(n_neighbors=5, n_components=12)\n",
        "    pca_6 = KernelPCA(kernel='rbf', n_components=6)\n",
        "    pca_8 = KernelPCA(kernel='rbf', n_components=8)\n",
        "    pca_48 = KernelPCA(kernel='linear', n_components=48)\n",
        "    pca_52 = KernelPCA(kernel='linear', n_components=52)\n",
        "\n",
        "    # create look-up table\n",
        "    extractors = {'Umapper_8': Umapper_8, 'Umapper_12': Umapper_12, 'pca_6': pca_6, 'pca_8': pca_8, 'pca_48': pca_48, 'pca_52': pca_52}\n",
        "\n",
        "    # Set parameters\n",
        "    RFE_split = 3\n",
        "    Train_split = 5\n",
        "\n",
        "    # RFE estimator\n",
        "    svc_linear = svm.SVC(kernel=\"linear\")\n",
        "\n",
        "    # RFE type\n",
        "    rfecv_svc = RFECV(\n",
        "                      estimator=svc_linear, step=5, \n",
        "                      cv=StratifiedKFold(n_splits=RFE_split), \n",
        "                      scoring='roc_auc')           \n",
        "\n",
        "    # set validation-training split\n",
        "    train_splitter = StratifiedKFold(n_splits=Train_split)\n",
        "\n",
        "    # list extraction options\n",
        "    para_options = list()\n",
        "    para_options.append({'rfecv': 'no_rfecv', 'model': 'Umapper_8', 'component': 8})\n",
        "    para_options.append({'rfecv': 'no_rfecv', 'model': 'Umapper_12', 'component': 12})\n",
        "    para_options.append({'rfecv': 'no_rfecv', 'model': 'pca_6', 'component': 6})\n",
        "    para_options.append({'rfecv': 'no_rfecv', 'model': 'pca_8', 'component': 8})\n",
        "    para_options.append({'rfecv': 'rfecv', 'model': 'pca_48', 'component': 48})\n",
        "    para_options.append({'rfecv': 'rfecv', 'model': 'pca_52', 'component': 52})\n",
        "    para_options = pd.DataFrame(para_options)\n",
        "    print('running feature selection and extraction optimization')\n",
        "    print(f'{para_options.shape[0]} options to try')\n",
        "\n",
        "    # Run feature test\n",
        "    results = run_feature_test(X_design, Y_design_bin, train_splitter, para_options, extractors, rfecv_svc)\n",
        "\n",
        "    # Calculate mean and std of each option\n",
        "    test_results, train_results = get_results(results, para_options)\n",
        "    print(test_results)\n",
        "\n",
        "    # select best extractor\n",
        "    best_extractor = test_results.iloc[0]\n",
        "    extractor = extractors[best_extractor['model']]\n",
        "    print(f\"best extractor = {best_extractor['model']}\")\n",
        "\n",
        "    if best_extractor['rfecv'] == 'rfecv':\n",
        "      X_design = rfecv_svc.fit_transform(X_design, Y_design_bin['label'])\n",
        "      X_test = rfecv_svc.transform(X_test)\n",
        "\n",
        "    # Preform model fitting and transformation\n",
        "    X_design = extractor.fit_transform(X_design)\n",
        "    X_design = pd.DataFrame(X_design, index=Y_design.index)\n",
        "\n",
        "    X_test = extractor.transform(X_test)\n",
        "    X_test = pd.DataFrame(X_test, index=Y_test.index)\n",
        "    print('feature selection and extraction finished')\n",
        "\n",
        "    return X_design, Y_design_bin, X_test, Y_test_bin, best_extractor"
      ],
      "execution_count": 0,
      "outputs": []
    },
    {
      "cell_type": "markdown",
      "metadata": {
        "id": "QA8t3CO44WUt",
        "colab_type": "text"
      },
      "source": [
        "### Classifier"
      ]
    },
    {
      "cell_type": "code",
      "metadata": {
        "id": "xEWggJTqLWIn",
        "colab_type": "code",
        "colab": {}
      },
      "source": [
        "def classifiers (X_design, Y_design, X_test, Y_test, results_outer, estimator, feature_extractor):\n",
        "   \n",
        "    ## Example for Classifier hyperparameters selecting\n",
        "    clfs = {svm.SVC(probability=True): {'C': np.logspace(-2, 2, num=20), 'kernel': ['linear', 'poly', 'rbf', 'sigmoid'], 'degree': range(1,5,1)},\n",
        "            RandomForestClassifier(): {'n_estimators': range(100,300,10)},\n",
        "            KNeighborsClassifier() : {'n_neighbors': range(10,100,2), 'weights': ['uniform', 'distance']},\n",
        "            }\n",
        "    names = ['SVC', 'RandomForest', 'KNN']\n",
        "    results_inner = list()\n",
        "    n = 0\n",
        "\n",
        "    for clf, parameters in clfs.items():\n",
        "        # Perform Randomized search on classifiers and parameters.\n",
        "        scoring = {'AUC': 'roc_auc', 'Accuracy': make_scorer(accuracy_score), 'f1-score': make_scorer(f1_score)}\n",
        "        print('before RSCV')\n",
        "        random_search = RandomizedSearchCV(clf, parameters, scoring=scoring, refit='AUC') \n",
        "        print('after RSCV')\n",
        "        random_search.fit(X_design, Y_design['label'])\n",
        "        print('after fit')\n",
        "        # Get resulting classifier\n",
        "        clf_best_inner = random_search.best_estimator_\n",
        "    \n",
        "        # Getting the accuracy, AUC and f1-score\n",
        "        accuracy_inner = random_search.cv_results_['mean_test_Accuracy'][random_search.best_index_]\n",
        "        auc_inner = random_search.cv_results_['mean_test_AUC'][random_search.best_index_]\n",
        "        f1_inner = random_search.cv_results_['mean_test_f1-score'][random_search.best_index_]\n",
        "        results_inner.append({\n",
        "            'accuracy': accuracy_inner,\n",
        "            'AUC': auc_inner,\n",
        "            'f1-score': f1_inner,\n",
        "            'clf_name': names[n],\n",
        "            'clf': clf_best_inner, \n",
        "            'parameters': random_search.best_params_,\n",
        "            'set': 'validation'\n",
        "              })\n",
        "        \n",
        "        n += 1 \n",
        "    print('Finisched Randomized Search') \n",
        "\n",
        "    # Create results dataframe and plot it\n",
        "    results_inner = pd.DataFrame(results_inner)\n",
        "    results_inner.sort_values(by=['AUC', 'accuracy', 'f1-score'],ascending=False, inplace=True)\n",
        "    print(results_inner)\n",
        "\n",
        "    # Extracting classifier with best mean_score out of randomized search\n",
        "    index_best_classifier = results_inner[['AUC']].idxmax() \n",
        "    best_classifier_name = results_inner['clf_name'][index_best_classifier]\n",
        "    best_classifier_name = best_classifier_name.tolist()\n",
        "    best_classifier = results_inner['clf'][index_best_classifier]   \n",
        "    best_classifier = best_classifier.tolist()\n",
        "    best_parameters = results_inner['parameters'][index_best_classifier]\n",
        "    best_parameters = best_parameters.tolist()\n",
        "\n",
        "    # Train best classifier on whole training set\n",
        "    classifier_optimized = best_classifier[0].fit(X_design,Y_design['label'])\n",
        "    pred_train = classifier_optimized.predict(X_design)\n",
        "    pred_proba_train = classifier_optimized.predict_proba(X_design)[:,1]\n",
        "\n",
        "    # Gettin accuracy, AUC and f1-score of training set\n",
        "    accuracy_train = accuracy_score(Y_design, pred_train)\n",
        "    auc_train = roc_auc_score(Y_design, pred_proba_train)\n",
        "    f1_train = f1_score(Y_design, pred_train)\n",
        "    results_outer.append({\n",
        "        'clf_name': best_classifier_name[0],\n",
        "        'parameters': best_parameters[0],\n",
        "        'feature_extractor': feature_extractor['model'],\n",
        "        'accuracy': accuracy_train,\n",
        "        'AUC': auc_train,\n",
        "        'f1-score': f1_train,\n",
        "        'fpr': 'NaN', \n",
        "        'tpr': 'NaN', \n",
        "        'set': 'training'\n",
        "        })\n",
        "    \n",
        "    # Predict the labels of the test set\n",
        "    pred_test = classifier_optimized.predict(X_test)\n",
        "    pred_proba_test = classifier_optimized.predict_proba(X_test)[:,1]\n",
        "\n",
        "    # Gettin accuracy, AUC, f1-score, tpr, fpr of test set\n",
        "    accuracy_test = accuracy_score(Y_test, pred_test)\n",
        "    auc_test = roc_auc_score(Y_test, pred_proba_test)\n",
        "    f1_test = f1_score(Y_test, pred_test)\n",
        "    fpr,tpr,_ = roc_curve(Y_test, pred_proba_test, pos_label=1)\n",
        "    results_outer.append({\n",
        "        'clf_name': best_classifier_name[0],\n",
        "        'parameters': best_parameters[0],\n",
        "        'feature_extractor': feature_extractor['model'],\n",
        "        'accuracy': accuracy_test,\n",
        "        'AUC': auc_test,\n",
        "        'f1-score': f1_test,\n",
        "        'fpr': fpr,\n",
        "        'tpr': tpr,\n",
        "        'set': 'testing'\n",
        "        })\n",
        "    \n",
        "    estimator.append({\n",
        "        'estimator': classifier_optimized,\n",
        "        'clf_name': best_classifier_name[0],\n",
        "        'parameters': best_parameters[0]\n",
        "        }) \n",
        "\n",
        "    return results_outer, estimator"
      ],
      "execution_count": 0,
      "outputs": []
    },
    {
      "cell_type": "markdown",
      "metadata": {
        "id": "SCvSSrLSDGt3",
        "colab_type": "text"
      },
      "source": [
        "###Evaluation\n"
      ]
    },
    {
      "cell_type": "code",
      "metadata": {
        "id": "RrcRetOJJGTz",
        "colab_type": "code",
        "colab": {}
      },
      "source": [
        "def evaluation (results_outer, estimator):\n",
        "\n",
        "  # Making boxplots\n",
        "  f, (ax1, ax2, ax3) = plt.subplots(3, 1, figsize=(30, 40))\n",
        "  sns.boxplot(y='accuracy', x='set', data=results_outer, ax=ax1)\n",
        "  sns.boxplot(y='AUC', x='set', data=results_outer, ax=ax2)\n",
        "  sns.boxplot(y='f1-score', x='set', data=results_outer, ax=ax3)\n",
        "\n",
        "  # Extracting test-results only\n",
        "  results_test = results_outer.loc[results_outer['set'] == 'testing']\n",
        "\n",
        "  # Making ROC plot for all 5 classifiers\n",
        "  plt.figure()\n",
        "  i=1\n",
        "  for index, clf in results_test.iterrows():\n",
        "    fpr = clf['fpr']\n",
        "    tpr = clf['tpr']\n",
        "    AUC = clf['AUC']\n",
        "    clf_name = clf['clf_name']\n",
        "    plt.plot(fpr, tpr, lw=2, label= 'fold {} {} (area={:.2f})'.format(i,clf_name, AUC))\n",
        "    i+=1\n",
        "  plt.plot([0, 1], [0, 1], color='navy', lw=2, linestyle='--')\n",
        "  plt.xlim([-0.05, 1.0])\n",
        "  plt.ylim([0.0, 1.05])\n",
        "  plt.xlabel('False Positive Rate')\n",
        "  plt.ylabel('True Positive Rate')\n",
        "  plt.title(f'Receiver operating curve of all 5 classifiers')\n",
        "  plt.legend(loc=\"lower right\")\n",
        "  plt.show()\n",
        "\n",
        "  optimal_classifier_type = pd.DataFrame(results_test['clf_name'].value_counts())\n",
        "\n",
        "  if optimal_classifier_type['clf_name'][0] != optimal_classifier_type['clf_name'][1]:\n",
        "      optimal_classifier_type = results_test['clf_name'].value_counts().idxmax()\n",
        "      occurence = (results_test['clf_name'].value_counts().max())\n",
        "      print(f\"The optimal classifier type is a {optimal_classifier_type} with an occurence of {occurence} out of 5\")\n",
        "\n",
        "      results_optimal_classifier = results_test.loc[results_test['clf_name'] == optimal_classifier_type]\n",
        "\n",
        "      resulting_classifier = results_optimal_classifier.loc[results_optimal_classifier['AUC'].idxmax]\n",
        "      resulting_classifier_name = optimal_classifier_type\n",
        "      resulting_classifier_parameters = resulting_classifier['parameters'] \n",
        "      resulting_classifier_features = resulting_classifier['feature_extractor']\n",
        "      print(f'The optimal classifier (highest AUC: {resulting_classifier[\"AUC\"]}) is a {resulting_classifier_name} with paramaters: {resulting_classifier_parameters} and feature extractor: {resulting_classifier_features}')\n",
        "  else:\n",
        "      resulting_classifier = results_test.loc[results_test['AUC'].idxmax]\n",
        "      resulting_classifier_name = resulting_classifier['clf_name']\n",
        "      resulting_classifier_parameters = resulting_classifier['parameters'] \n",
        "      resulting_classifier_features = resulting_classifier['feature_extractor']\n",
        "      print('No Median Classifer found')\n",
        "      print(f'The optimal classifier (highest AUC: {resulting_classifier[\"AUC\"]}) is a {resulting_classifier_name} with paramaters: {resulting_classifier_parameters} and feature extractor: {resulting_classifier_features}')\n",
        "  \n",
        "  # Saving results \n",
        "  results_outer.to_csv('results_outer.csv')\n",
        "\n",
        "  # Extracting best estimator\n",
        "  estimator = estimator.loc[estimator['parameters'] == resulting_classifier_parameters]\n",
        "  estimator = estimator['estimator']\n",
        "\n",
        "  return resulting_classifier_name, estimator"
      ],
      "execution_count": 0,
      "outputs": []
    },
    {
      "cell_type": "markdown",
      "metadata": {
        "id": "-kNmfhh0OLba",
        "colab_type": "text"
      },
      "source": [
        "### Learning Curve\n",
        "\n",
        "https://scikit-learn.org/stable/auto_examples/model_selection/plot_learning_curve.html"
      ]
    },
    {
      "cell_type": "code",
      "metadata": {
        "id": "rcpN2ZvhOKzu",
        "colab_type": "code",
        "colab": {}
      },
      "source": [
        "def plot_learning_curve(estimator, title, X, y, axes=None, ylim=None, cv=None,\n",
        "                        n_jobs=None, train_sizes=np.linspace(.1, 1.0, 5)):\n",
        "  \n",
        "    if axes is None:\n",
        "        _, axes = plt.subplots(1, 3, figsize=(20, 5))\n",
        "\n",
        "    axes[0].set_title(title)\n",
        "    if ylim is not None:\n",
        "        axes[0].set_ylim(*ylim)\n",
        "    axes[0].set_xlabel(\"Training examples\")\n",
        "    axes[0].set_ylabel(\"Score\")\n",
        "\n",
        "    train_sizes, train_scores, test_scores, fit_times, _ = \\\n",
        "        learning_curve(estimator, X, y, cv=cv, n_jobs=n_jobs,\n",
        "                       train_sizes=train_sizes,\n",
        "                       return_times=True)\n",
        "    train_scores_mean = np.mean(train_scores, axis=1)\n",
        "    train_scores_std = np.std(train_scores, axis=1)\n",
        "    test_scores_mean = np.mean(test_scores, axis=1)\n",
        "    test_scores_std = np.std(test_scores, axis=1)\n",
        "    fit_times_mean = np.mean(fit_times, axis=1)\n",
        "    fit_times_std = np.std(fit_times, axis=1)\n",
        "\n",
        "    # Plot learning curve\n",
        "    axes[0].grid()\n",
        "    axes[0].fill_between(train_sizes, train_scores_mean - train_scores_std,\n",
        "                         train_scores_mean + train_scores_std, alpha=0.1,\n",
        "                         color=\"r\")\n",
        "    axes[0].fill_between(train_sizes, test_scores_mean - test_scores_std,\n",
        "                         test_scores_mean + test_scores_std, alpha=0.1,\n",
        "                         color=\"g\")\n",
        "    axes[0].plot(train_sizes, train_scores_mean, 'o-', color=\"r\",\n",
        "                 label=\"Training score\")\n",
        "    axes[0].plot(train_sizes, test_scores_mean, 'o-', color=\"g\",\n",
        "                 label=\"Cross-validation score\")\n",
        "    axes[0].legend(loc=\"best\")\n",
        "\n",
        "    # Plot n_samples vs fit_times\n",
        "    axes[1].grid()\n",
        "    axes[1].plot(train_sizes, fit_times_mean, 'o-')\n",
        "    axes[1].fill_between(train_sizes, fit_times_mean - fit_times_std,\n",
        "                         fit_times_mean + fit_times_std, alpha=0.1)\n",
        "    axes[1].set_xlabel(\"Training examples\")\n",
        "    axes[1].set_ylabel(\"fit_times\")\n",
        "    axes[1].set_title(\"Scalability of the model\")\n",
        "\n",
        "    # Plot fit_time vs score\n",
        "    axes[2].grid()\n",
        "    axes[2].plot(fit_times_mean, test_scores_mean, 'o-')\n",
        "    axes[2].fill_between(fit_times_mean, test_scores_mean - test_scores_std,\n",
        "                         test_scores_mean + test_scores_std, alpha=0.1)\n",
        "    axes[2].set_xlabel(\"fit_times\")\n",
        "    axes[2].set_ylabel(\"Score\")\n",
        "    axes[2].set_title(\"Performance of the model\")\n",
        "\n",
        "    return plt"
      ],
      "execution_count": 0,
      "outputs": []
    },
    {
      "cell_type": "markdown",
      "metadata": {
        "colab_type": "text",
        "id": "jCKzUBX7rpOj"
      },
      "source": [
        "### Pipeline"
      ]
    },
    {
      "cell_type": "code",
      "metadata": {
        "id": "1IYk4DjwcF48",
        "colab_type": "code",
        "outputId": "17d561c1-2870-4783-c94f-29b697fb0500",
        "colab": {
          "base_uri": "https://localhost:8080/",
          "height": 880
        }
      },
      "source": [
        "#load dataset\n",
        "data_X, data_Y, Test_split = load_data(splits=5)\n",
        "\n",
        "results_outer = list()\n",
        "estimator = list()\n",
        "i=0\n",
        "start_time = time()\n",
        "for design_index, test_index in Test_split.split(data_X, data_Y):\n",
        "    i += 1\n",
        "    print(f'Starting fold {i} of 5') \n",
        "    X_design = data_X.iloc[design_index]\n",
        "    Y_design = data_Y.iloc[design_index]\n",
        "    \n",
        "    X_test = data_X.iloc[test_index]\n",
        "    Y_test = data_Y.iloc[test_index]\n",
        "\n",
        "    # run preprocessing\n",
        "    X_design, Y_design, X_test, Y_test = preprocessing_data(X_design, Y_design, X_test, Y_test)\n",
        "\n",
        "    # run feature extraction\n",
        "    X_design, Y_design_bin, X_test, Y_test_bin, feature_extractor = feature_extraction(X_design, Y_design, X_test, Y_test)\n",
        "    print(f'after feature extraction {X_test.shape[1]} columns left')\n",
        "\n",
        "    # run classifier\n",
        "    results_outer, estimator = classifiers(X_design, Y_design_bin, X_test, Y_test_bin, results_outer, estimator, feature_extractor)\n",
        "\n",
        "    print(\"finished fold {} in {:.1f}s\".format(i, time()-start_time))\n",
        "\n",
        "results_outer = pd.DataFrame(results_outer)\n",
        "print(results_outer)\n",
        "estimator = pd.DataFrame(estimator)\n",
        "\n",
        "# run evaluation\n",
        "classifier_name, estimator = evaluation(results_outer, estimator)\n",
        "\n",
        "# plot learning curve\n",
        "plot_learning_curve(estimator.iloc[0], 'learning curve of best classifier', X_design, Y_design_bin['label'])\n",
        "plt.show()"
      ],
      "execution_count": 0,
      "outputs": [
        {
          "output_type": "stream",
          "text": [
            "data loaded\n",
            "The number of samples: 167\n",
            "The number of columns: 725\n",
            "Starting fold 1 of 5\n",
            "unusefull values removed\n",
            "features and samples with too little information removed\n",
            "labeless samples removed\n",
            "remaining missing data imputed\n",
            "data scaled\n",
            "preprocessing finished\n",
            "The number of samples: 167\n",
            "The number of columns: 698\n",
            "running feature selection and extraction optimization\n",
            "6 options to try\n",
            "running split 1 of 5\n",
            "538 features left after selection\n",
            "calculated options\n",
            "running split 2 of 5\n",
            "28 features left after selection\n",
            "calculated options\n",
            "running split 3 of 5\n",
            "693 features left after selection\n",
            "calculated options\n",
            "running split 4 of 5\n",
            "3 features left after selection\n",
            "calculated options\n",
            "running split 5 of 5\n",
            "3 features left after selection\n",
            "calculated options\n",
            "finished in 19.6s\n",
            "  ac mean ac std AUC mean AUC std  ... f1 std     rfecv       model component\n",
            "2   0.797   0.06    0.805    0.07  ...   0.05  no_rfecv       pca_6         6\n",
            "3   0.767   0.05    0.780    0.06  ...   0.04  no_rfecv       pca_8         8\n",
            "0   0.803   0.11    0.764    0.14  ...   0.08  no_rfecv   Umapper_8         8\n",
            "1   0.797   0.08    0.753    0.09  ...   0.05  no_rfecv  Umapper_12        12\n",
            "4   0.767   0.05    0.708    0.07  ...   0.03     rfecv      pca_48        48\n",
            "5   0.767   0.05    0.708    0.07  ...   0.03     rfecv      pca_52        52\n",
            "\n",
            "[6 rows x 9 columns]\n",
            "best extractor = pca_6\n",
            "feature selection and extraction finished\n",
            "after feature extraction 6 columns left\n",
            "before RSCV\n",
            "after RSCV\n",
            "after fit\n",
            "before RSCV\n",
            "after RSCV\n"
          ],
          "name": "stdout"
        }
      ]
    }
  ]
}