{
  "nbformat": 4,
  "nbformat_minor": 0,
  "metadata": {
    "colab": {
      "name": "assignment.ipynb",
      "provenance": [],
      "collapsed_sections": [],
      "include_colab_link": true
    },
    "kernelspec": {
      "display_name": "Python 3",
      "language": "python",
      "name": "python3"
    },
    "language_info": {
      "codemirror_mode": {
        "name": "ipython",
        "version": 3
      },
      "file_extension": ".py",
      "mimetype": "text/x-python",
      "name": "python",
      "nbconvert_exporter": "python",
      "pygments_lexer": "ipython3",
      "version": "3.7.4-final"
    }
  },
  "cells": [
    {
      "cell_type": "markdown",
      "metadata": {
        "id": "view-in-github",
        "colab_type": "text"
      },
      "source": [
        "<a href=\"https://colab.research.google.com/github/Fjoru/TM10007_PROJECT/blob/master/assignment.ipynb\" target=\"_parent\"><img src=\"https://colab.research.google.com/assets/colab-badge.svg\" alt=\"Open In Colab\"/></a>"
      ]
    },
    {
      "cell_type": "markdown",
      "metadata": {
        "colab_type": "text",
        "id": "7SXpaKwwGe5x"
      },
      "source": [
        "# TM10007 Assignment Prediction of tumor grade in brain cancer"
      ]
    },
    {
      "cell_type": "code",
      "metadata": {
        "id": "3Xw_qQnScF4p",
        "colab_type": "code",
        "colab": {}
      },
      "source": [
        "# Run this to use from colab environment\n",
        "!pip install -q --upgrade git+https://github.com/Fjoru/TM10007_PROJECT"
      ],
      "execution_count": 0,
      "outputs": []
    },
    {
      "cell_type": "markdown",
      "metadata": {
        "colab_type": "text",
        "id": "jCKzUBX7rpOj"
      },
      "source": [
        "## Data loading and cleaning\n",
        "\n",
        "Below are functions to load the dataset of your choice. After that, it is all up to you to create and evaluate a classification method. Beware, there may be missing values in these datasets. Good luck!"
      ]
    },
    {
      "cell_type": "code",
      "metadata": {
        "id": "1IYk4DjwcF48",
        "colab_type": "code",
        "colab": {},
        "outputId": "dd98c628-be68-492a-9020-441a28404a78"
      },
      "source": [
        "# Data loading functions. Uncomment the one you want to use\n",
        "from brats.load_data import load_data\n",
        "\n",
        "data = load_data()\n",
        "print(f'The number of samples: {len(data.index)}')\n",
        "print(f'The number of columns: {len(data.columns)}')\n"
      ],
      "execution_count": 0,
      "outputs": [
        {
          "output_type": "stream",
          "text": [
            "The number of samples: 167\n",
            "The number of columns: 725\n",
            "Index(['TCGA-02-0006', 'TCGA-02-0009', 'TCGA-02-0011', 'TCGA-02-0027',\n",
            "       'TCGA-02-0033', 'TCGA-02-0034', 'TCGA-02-0037', 'TCGA-02-0046',\n",
            "       'TCGA-02-0047', 'TCGA-02-0054',\n",
            "       ...\n",
            "       'TCGA-HT-7686', 'TCGA-HT-7690', 'TCGA-HT-7694', 'TCGA-HT-7879',\n",
            "       'TCGA-HT-7884', 'TCGA-HT-8018', 'TCGA-HT-8111', 'TCGA-HT-8114',\n",
            "       'TCGA-HT-8563', 'TCGA-HT-A61A'],\n",
            "      dtype='object', name='ID', length=167)\n"
          ],
          "name": "stdout"
        }
      ]
    },
    {
      "cell_type": "code",
      "metadata": {
        "id": "6p7689nYcF5H",
        "colab_type": "code",
        "colab": {}
      },
      "source": [
        "# Data preprocessing"
      ],
      "execution_count": 0,
      "outputs": []
    }
  ]
}