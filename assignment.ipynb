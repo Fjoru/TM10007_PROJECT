{
  "nbformat": 4,
  "nbformat_minor": 0,
  "metadata": {
    "colab": {
      "name": "assignment.ipynb",
      "provenance": [],
      "collapsed_sections": [],
      "toc_visible": true,
      "include_colab_link": true
    },
    "kernelspec": {
      "name": "python3",
      "display_name": "Python 3"
    },
    "language_info": {
      "codemirror_mode": {
        "name": "ipython",
        "version": 3
      },
      "file_extension": ".py",
      "mimetype": "text/x-python",
      "name": "python",
      "nbconvert_exporter": "python",
      "pygments_lexer": "ipython3",
      "version": "3.7.4-final"
    }
  },
  "cells": [
    {
      "cell_type": "markdown",
      "metadata": {
        "id": "view-in-github",
        "colab_type": "text"
      },
      "source": [
        "<a href=\"https://colab.research.google.com/github/Fjoru/TM10007_PROJECT/blob/master/assignment.ipynb\" target=\"_parent\"><img src=\"https://colab.research.google.com/assets/colab-badge.svg\" alt=\"Open In Colab\"/></a>"
      ]
    },
    {
      "cell_type": "markdown",
      "metadata": {
        "colab_type": "text",
        "id": "7SXpaKwwGe5x"
      },
      "source": [
        "# TM10007 Assignment Prediction of tumor grade in brain cancer\n",
        "By Jessica Barends, Gonnie van Erp, Erik Kemper en Carlijn Oerlemans\n",
        "\n"
      ]
    },
    {
      "cell_type": "markdown",
      "metadata": {
        "id": "ZcXbVrrHA1sC",
        "colab_type": "text"
      },
      "source": [
        "## Set-up\n",
        "Getting the dataset and used packages."
      ]
    },
    {
      "cell_type": "code",
      "metadata": {
        "id": "3Xw_qQnScF4p",
        "colab_type": "code",
        "outputId": "824dc4ce-05df-40ff-917c-5e6d366a5ced",
        "colab": {
          "base_uri": "https://localhost:8080/",
          "height": 1000
        }
      },
      "source": [
        "# Run install for use in colab environment\n",
        "!pip install --upgrade pip\n",
        "!pip install -q --upgrade git+https://github.com/Fjoru/TM10007_PROJECT\n",
        "!pip install ipdb -q\n",
        "!pip install seaborn\n",
        "!pip install tensorflow"
      ],
      "execution_count": 1,
      "outputs": [
        {
          "output_type": "stream",
          "text": [
            "Collecting pip\n",
            "\u001b[?25l  Downloading https://files.pythonhosted.org/packages/54/0c/d01aa759fdc501a58f431eb594a17495f15b88da142ce14b5845662c13f3/pip-20.0.2-py2.py3-none-any.whl (1.4MB)\n",
            "\u001b[K     |████████████████████████████████| 1.4MB 1.4MB/s \n",
            "\u001b[?25hInstalling collected packages: pip\n",
            "  Found existing installation: pip 19.3.1\n",
            "    Uninstalling pip-19.3.1:\n",
            "      Successfully uninstalled pip-19.3.1\n",
            "Successfully installed pip-20.0.2\n",
            "  Building wheel for brats (setup.py) ... \u001b[?25l\u001b[?25hdone\n",
            "  Building wheel for ipdb (setup.py) ... \u001b[?25l\u001b[?25hdone\n",
            "Requirement already satisfied: seaborn in /usr/local/lib/python3.6/dist-packages (0.10.0)\n",
            "Requirement already satisfied: matplotlib>=2.1.2 in /usr/local/lib/python3.6/dist-packages (from seaborn) (3.2.1)\n",
            "Requirement already satisfied: numpy>=1.13.3 in /usr/local/lib/python3.6/dist-packages (from seaborn) (1.18.2)\n",
            "Requirement already satisfied: scipy>=1.0.1 in /usr/local/lib/python3.6/dist-packages (from seaborn) (1.4.1)\n",
            "Requirement already satisfied: pandas>=0.22.0 in /usr/local/lib/python3.6/dist-packages (from seaborn) (1.0.3)\n",
            "Requirement already satisfied: pyparsing!=2.0.4,!=2.1.2,!=2.1.6,>=2.0.1 in /usr/local/lib/python3.6/dist-packages (from matplotlib>=2.1.2->seaborn) (2.4.6)\n",
            "Requirement already satisfied: python-dateutil>=2.1 in /usr/local/lib/python3.6/dist-packages (from matplotlib>=2.1.2->seaborn) (2.8.1)\n",
            "Requirement already satisfied: kiwisolver>=1.0.1 in /usr/local/lib/python3.6/dist-packages (from matplotlib>=2.1.2->seaborn) (1.2.0)\n",
            "Requirement already satisfied: cycler>=0.10 in /usr/local/lib/python3.6/dist-packages (from matplotlib>=2.1.2->seaborn) (0.10.0)\n",
            "Requirement already satisfied: pytz>=2017.2 in /usr/local/lib/python3.6/dist-packages (from pandas>=0.22.0->seaborn) (2018.9)\n",
            "Requirement already satisfied: six>=1.5 in /usr/local/lib/python3.6/dist-packages (from python-dateutil>=2.1->matplotlib>=2.1.2->seaborn) (1.12.0)\n",
            "Requirement already satisfied: tensorflow in /usr/local/lib/python3.6/dist-packages (2.2.0rc2)\n",
            "Requirement already satisfied: six>=1.12.0 in /usr/local/lib/python3.6/dist-packages (from tensorflow) (1.12.0)\n",
            "Requirement already satisfied: numpy<2.0,>=1.16.0 in /usr/local/lib/python3.6/dist-packages (from tensorflow) (1.18.2)\n",
            "Requirement already satisfied: termcolor>=1.1.0 in /usr/local/lib/python3.6/dist-packages (from tensorflow) (1.1.0)\n",
            "Requirement already satisfied: wrapt>=1.11.1 in /usr/local/lib/python3.6/dist-packages (from tensorflow) (1.12.1)\n",
            "Requirement already satisfied: tensorboard<2.3.0,>=2.2.0 in /usr/local/lib/python3.6/dist-packages (from tensorflow) (2.2.0)\n",
            "Requirement already satisfied: grpcio>=1.8.6 in /usr/local/lib/python3.6/dist-packages (from tensorflow) (1.27.2)\n",
            "Requirement already satisfied: h5py<2.11.0,>=2.10.0 in /usr/local/lib/python3.6/dist-packages (from tensorflow) (2.10.0)\n",
            "Requirement already satisfied: wheel>=0.26; python_version >= \"3\" in /usr/local/lib/python3.6/dist-packages (from tensorflow) (0.34.2)\n",
            "Requirement already satisfied: absl-py>=0.7.0 in /usr/local/lib/python3.6/dist-packages (from tensorflow) (0.9.0)\n",
            "Requirement already satisfied: scipy==1.4.1; python_version >= \"3\" in /usr/local/lib/python3.6/dist-packages (from tensorflow) (1.4.1)\n",
            "Requirement already satisfied: gast==0.3.3 in /usr/local/lib/python3.6/dist-packages (from tensorflow) (0.3.3)\n",
            "Requirement already satisfied: google-pasta>=0.1.8 in /usr/local/lib/python3.6/dist-packages (from tensorflow) (0.2.0)\n",
            "Requirement already satisfied: protobuf>=3.8.0 in /usr/local/lib/python3.6/dist-packages (from tensorflow) (3.10.0)\n",
            "Requirement already satisfied: tensorflow-estimator<2.3.0,>=2.2.0rc0 in /usr/local/lib/python3.6/dist-packages (from tensorflow) (2.2.0rc0)\n",
            "Requirement already satisfied: opt-einsum>=2.3.2 in /usr/local/lib/python3.6/dist-packages (from tensorflow) (3.2.0)\n",
            "Requirement already satisfied: astunparse==1.6.3 in /usr/local/lib/python3.6/dist-packages (from tensorflow) (1.6.3)\n",
            "Requirement already satisfied: keras-preprocessing>=1.1.0 in /usr/local/lib/python3.6/dist-packages (from tensorflow) (1.1.0)\n",
            "Requirement already satisfied: markdown>=2.6.8 in /usr/local/lib/python3.6/dist-packages (from tensorboard<2.3.0,>=2.2.0->tensorflow) (3.2.1)\n",
            "Requirement already satisfied: requests<3,>=2.21.0 in /usr/local/lib/python3.6/dist-packages (from tensorboard<2.3.0,>=2.2.0->tensorflow) (2.21.0)\n",
            "Requirement already satisfied: setuptools>=41.0.0 in /usr/local/lib/python3.6/dist-packages (from tensorboard<2.3.0,>=2.2.0->tensorflow) (46.1.3)\n",
            "Requirement already satisfied: google-auth<2,>=1.6.3 in /usr/local/lib/python3.6/dist-packages (from tensorboard<2.3.0,>=2.2.0->tensorflow) (1.7.2)\n",
            "Requirement already satisfied: google-auth-oauthlib<0.5,>=0.4.1 in /usr/local/lib/python3.6/dist-packages (from tensorboard<2.3.0,>=2.2.0->tensorflow) (0.4.1)\n",
            "Requirement already satisfied: werkzeug>=0.11.15 in /usr/local/lib/python3.6/dist-packages (from tensorboard<2.3.0,>=2.2.0->tensorflow) (1.0.1)\n",
            "Requirement already satisfied: tensorboard-plugin-wit>=1.6.0 in /usr/local/lib/python3.6/dist-packages (from tensorboard<2.3.0,>=2.2.0->tensorflow) (1.6.0.post2)\n",
            "Requirement already satisfied: certifi>=2017.4.17 in /usr/local/lib/python3.6/dist-packages (from requests<3,>=2.21.0->tensorboard<2.3.0,>=2.2.0->tensorflow) (2019.11.28)\n",
            "Requirement already satisfied: urllib3<1.25,>=1.21.1 in /usr/local/lib/python3.6/dist-packages (from requests<3,>=2.21.0->tensorboard<2.3.0,>=2.2.0->tensorflow) (1.24.3)\n",
            "Requirement already satisfied: chardet<3.1.0,>=3.0.2 in /usr/local/lib/python3.6/dist-packages (from requests<3,>=2.21.0->tensorboard<2.3.0,>=2.2.0->tensorflow) (3.0.4)\n",
            "Requirement already satisfied: idna<2.9,>=2.5 in /usr/local/lib/python3.6/dist-packages (from requests<3,>=2.21.0->tensorboard<2.3.0,>=2.2.0->tensorflow) (2.8)\n",
            "Requirement already satisfied: pyasn1-modules>=0.2.1 in /usr/local/lib/python3.6/dist-packages (from google-auth<2,>=1.6.3->tensorboard<2.3.0,>=2.2.0->tensorflow) (0.2.8)\n",
            "Requirement already satisfied: cachetools<3.2,>=2.0.0 in /usr/local/lib/python3.6/dist-packages (from google-auth<2,>=1.6.3->tensorboard<2.3.0,>=2.2.0->tensorflow) (3.1.1)\n",
            "Requirement already satisfied: rsa<4.1,>=3.1.4 in /usr/local/lib/python3.6/dist-packages (from google-auth<2,>=1.6.3->tensorboard<2.3.0,>=2.2.0->tensorflow) (4.0)\n",
            "Requirement already satisfied: requests-oauthlib>=0.7.0 in /usr/local/lib/python3.6/dist-packages (from google-auth-oauthlib<0.5,>=0.4.1->tensorboard<2.3.0,>=2.2.0->tensorflow) (1.3.0)\n",
            "Requirement already satisfied: pyasn1<0.5.0,>=0.4.6 in /usr/local/lib/python3.6/dist-packages (from pyasn1-modules>=0.2.1->google-auth<2,>=1.6.3->tensorboard<2.3.0,>=2.2.0->tensorflow) (0.4.8)\n",
            "Requirement already satisfied: oauthlib>=3.0.0 in /usr/local/lib/python3.6/dist-packages (from requests-oauthlib>=0.7.0->google-auth-oauthlib<0.5,>=0.4.1->tensorboard<2.3.0,>=2.2.0->tensorflow) (3.1.0)\n"
          ],
          "name": "stdout"
        }
      ]
    },
    {
      "cell_type": "markdown",
      "metadata": {
        "id": "MF9cuHLcdguY",
        "colab_type": "text"
      },
      "source": [
        "### Import section\n"
      ]
    },
    {
      "cell_type": "code",
      "metadata": {
        "id": "-6pgvYp3dGOO",
        "colab_type": "code",
        "colab": {}
      },
      "source": [
        "import ipdb\n",
        "import pandas as pd\n",
        "import seaborn as sns\n",
        "import numpy as np\n",
        "import matplotlib.pyplot as plt\n",
        "from time import time\n",
        "import itertools\n",
        "\n",
        "# General\n",
        "from sklearn.model_selection import StratifiedKFold\n",
        "\n",
        "# Preprocessing\n",
        "from sklearn.preprocessing import RobustScaler\n",
        "from sklearn.experimental import enable_iterative_imputer\n",
        "from sklearn.impute import IterativeImputer\n",
        "\n",
        "# Feature selection\n",
        "from sklearn.feature_selection import RFECV\n",
        "\n",
        "# Feature extraction\n",
        "from sklearn.decomposition import PCA\n",
        "from sklearn.decomposition import KernelPCA\n",
        "from sklearn.decomposition import TruncatedSVD\n",
        "import umap\n",
        "\n",
        "# Classifiers used in random search\n",
        "from sklearn import svm\n",
        "from sklearn.discriminant_analysis import LinearDiscriminantAnalysis\n",
        "from sklearn.ensemble import RandomForestClassifier\n",
        "from sklearn.neighbors import KNeighborsClassifier\n",
        "from sklearn.model_selection import RandomizedSearchCV\n",
        "\n",
        "# Evaluation metrics used\n",
        "from sklearn.metrics import accuracy_score\n",
        "from sklearn.metrics import f1_score\n",
        "from sklearn.metrics import roc_auc_score\n",
        "from sklearn.metrics import make_scorer\n",
        "\n",
        "# Optional \n",
        "#from sklearn import preprocessing\n",
        "#from sklearn.model_selection import cross_validate\n",
        "#from sklearn.model_selection import GridSearchCV\n",
        "#from sklearn.pipeline import Pipeline\n",
        "#from sklearn import model_selection"
      ],
      "execution_count": 0,
      "outputs": []
    },
    {
      "cell_type": "markdown",
      "metadata": {
        "id": "hRkslrxO-_mY",
        "colab_type": "text"
      },
      "source": [
        "### General definitions"
      ]
    },
    {
      "cell_type": "code",
      "metadata": {
        "id": "H5EOPRcBdErp",
        "colab_type": "code",
        "colab": {}
      },
      "source": [
        "def colorplot(clf, ax, x, y, h=100, precomputer=None):\n",
        "    '''\n",
        "    Overlay the decision areas as colors in an axes.\n",
        "    \n",
        "    Input:\n",
        "        clf: trained classifier\n",
        "        ax: axis to overlay color mesh on\n",
        "        x: feature on x-axis\n",
        "        y: feature on y-axis\n",
        "        h(optional): steps in the mesh\n",
        "    '''\n",
        "    # Create a meshgrid the size of the axis\n",
        "    xstep = (x.max() - x.min() ) / 20.0\n",
        "    ystep = (y.max() - y.min() ) / 20.0\n",
        "    x_min, x_max = x.min() - xstep, x.max() + xstep\n",
        "    y_min, y_max = y.min() - ystep, y.max() + ystep\n",
        "    h = max((x_max - x_min, y_max - y_min))/h\n",
        "    xx, yy = np.meshgrid(np.arange(x_min, x_max, h),\n",
        "                         np.arange(y_min, y_max, h))\n",
        "\n",
        "    features = np.c_[xx.ravel(), yy.ravel()]\n",
        "    if precomputer is not None:\n",
        "        if type(precomputer) is RBFSampler:\n",
        "            features = precomputer.transform(features)\n",
        "        elif precomputer is rbf_kernel:\n",
        "            features = rbf_kernel(features, X)\n",
        "            \n",
        "    # Plot the decision boundary. For that, we will assign a color to each\n",
        "    # point in the mesh [x_min, x_max]x[y_min, y_max].\n",
        "    if hasattr(clf, \"decision_function\"):\n",
        "        Z = clf.decision_function(features)\n",
        "    else:\n",
        "        Z = clf.predict_proba(features)\n",
        "    if len(Z.shape) > 1:\n",
        "        Z = Z[:, 1]\n",
        "    \n",
        "    # Put the result into a color plot\n",
        "    cm = plt.cm.RdBu_r\n",
        "    Z = Z.reshape(xx.shape)\n",
        "    ax.contourf(xx, yy, Z, cmap=cm, alpha=.8)\n",
        "    del xx, yy, x_min, x_max, y_min, y_max, Z, cm"
      ],
      "execution_count": 0,
      "outputs": []
    },
    {
      "cell_type": "markdown",
      "metadata": {
        "id": "115eK7LmEnpQ",
        "colab_type": "text"
      },
      "source": [
        "## Dataset processing\n",
        "Filter the dataset for better classification results."
      ]
    },
    {
      "cell_type": "markdown",
      "metadata": {
        "id": "Yuy9j8RkOv1D",
        "colab_type": "text"
      },
      "source": [
        "### Definition set\n",
        "Contains all used definitions for the prepocessing of the dataset."
      ]
    },
    {
      "cell_type": "markdown",
      "metadata": {
        "id": "MxniZ92VFN6n",
        "colab_type": "text"
      },
      "source": [
        "Load dataset"
      ]
    },
    {
      "cell_type": "code",
      "metadata": {
        "id": "a8emRaZt_jdS",
        "colab_type": "code",
        "colab": {}
      },
      "source": [
        "def load_data(splits):\n",
        "  '''\n",
        "  load brats database and split values from labels\n",
        "\n",
        "  '''\n",
        "  # Data loading functions.\n",
        "  from brats.load_data import load_data\n",
        "\n",
        "  data = load_data()\n",
        "  print('data loaded')\n",
        "  print(f'The number of samples: {len(data.index)}')\n",
        "  print(f'The number of columns: {len(data.columns)}')\n",
        "  data = pd.DataFrame(data)\n",
        "\n",
        "  # split labels and values\n",
        "  data_X = data.drop(columns=['label'])\n",
        "  data_Y = data[['label']]\n",
        "  \n",
        "  # data split index forming\n",
        "  Test_split = StratifiedKFold(n_splits=splits)\n",
        "  \n",
        "  return data_X, data_Y, Test_split"
      ],
      "execution_count": 0,
      "outputs": []
    },
    {
      "cell_type": "markdown",
      "metadata": {
        "id": "UhSsbH8KF2NX",
        "colab_type": "text"
      },
      "source": [
        "remove strings from data"
      ]
    },
    {
      "cell_type": "code",
      "metadata": {
        "id": "n35sNcHfBCoB",
        "colab_type": "code",
        "colab": {}
      },
      "source": [
        "def replace_str(i):\n",
        "    '''Function to set strings into NaN within a matrix'''\n",
        "\n",
        "    if isinstance(i, int):\n",
        "          return i\n",
        "    try:\n",
        "        float(i)\n",
        "        return float(i)\n",
        "    except:\n",
        "        return np.nan"
      ],
      "execution_count": 0,
      "outputs": []
    },
    {
      "cell_type": "markdown",
      "metadata": {
        "id": "C67a-vPzF5VX",
        "colab_type": "text"
      },
      "source": [
        "remove zeros and Inf from matrix"
      ]
    },
    {
      "cell_type": "code",
      "metadata": {
        "id": "vnV-w_kxGAlK",
        "colab_type": "code",
        "colab": {}
      },
      "source": [
        "def replace_inf(X_data):\n",
        "    # set 0.0 as NaN\n",
        "    X_data.replace(0, np.nan, inplace=True)\n",
        "\n",
        "    # set Inf as NaN\n",
        "    X_data.replace([np.inf, -np.inf], np.nan, inplace=True)\n",
        "    \n",
        "    return X_data"
      ],
      "execution_count": 0,
      "outputs": []
    },
    {
      "cell_type": "markdown",
      "metadata": {
        "id": "_SI_xLIAGpCT",
        "colab_type": "text"
      },
      "source": [
        "remove samples with less than 60% values"
      ]
    },
    {
      "cell_type": "code",
      "metadata": {
        "id": "ZQ95SKYvL2V_",
        "colab_type": "code",
        "colab": {}
      },
      "source": [
        "def remove_sample(X_data, Y_data, n_value):\n",
        "    # remove sample with less than n% values\n",
        "    X_data = X_data.dropna(thresh=round(X_data.shape[1]*n_value))\n",
        "    Y_data = Y_data.loc[X_data.index]\n",
        "\n",
        "    return X_data, Y_data"
      ],
      "execution_count": 0,
      "outputs": []
    },
    {
      "cell_type": "markdown",
      "metadata": {
        "id": "IgwiMUofHbEV",
        "colab_type": "text"
      },
      "source": [
        "remove samples without a label"
      ]
    },
    {
      "cell_type": "code",
      "metadata": {
        "id": "SIEGTSl7HfIU",
        "colab_type": "code",
        "colab": {}
      },
      "source": [
        "def remove_labeless(X_data, Y_data):\n",
        "    # remove samples without a label\n",
        "    Y_data['label'].replace(np.nan, '', inplace=True)\n",
        "    Y_data = Y_data[Y_data['label'].astype(bool)]\n",
        "    X_data = X_data.loc[Y_data.index]\n",
        "\n",
        "    return X_data, Y_data"
      ],
      "execution_count": 0,
      "outputs": []
    },
    {
      "cell_type": "markdown",
      "metadata": {
        "id": "HsyekXDuH9n2",
        "colab_type": "text"
      },
      "source": [
        "Impute missing value's"
      ]
    },
    {
      "cell_type": "code",
      "metadata": {
        "id": "Q_-jkYTdICrN",
        "colab_type": "code",
        "colab": {}
      },
      "source": [
        "def impute_data(X_data):\n",
        "    # Add missing value's \n",
        "    Imputer = IterativeImputer(sample_posterior=True, n_nearest_features=20, random_state=0)\n",
        "    X_data = Imputer.fit_transform(X_data)\n",
        "\n",
        "    return X_data, Imputer"
      ],
      "execution_count": 0,
      "outputs": []
    },
    {
      "cell_type": "markdown",
      "metadata": {
        "id": "Qbt7ql2IIkSD",
        "colab_type": "text"
      },
      "source": [
        "Scale value's"
      ]
    },
    {
      "cell_type": "code",
      "metadata": {
        "id": "l1vwgVLnIomF",
        "colab_type": "code",
        "colab": {}
      },
      "source": [
        "def scale_data(X_data):\n",
        "    # scaling of values\n",
        "    Scaler = RobustScaler()\n",
        "    X_data = Scaler.fit_transform(X_data)\n",
        "\n",
        "    return X_data, Scaler"
      ],
      "execution_count": 0,
      "outputs": []
    },
    {
      "cell_type": "markdown",
      "metadata": {
        "id": "liGM3L88KFlf",
        "colab_type": "text"
      },
      "source": [
        "### preform dataset processing\n",
        "Run all preset definitions."
      ]
    },
    {
      "cell_type": "code",
      "metadata": {
        "id": "YyRkeYMXnkN-",
        "colab_type": "code",
        "colab": {}
      },
      "source": [
        "def preprocessing_data(X_design, Y_design, X_test, Y_test):\n",
        "    '''\n",
        "    Preprocessing step Hyperparameters:\n",
        "    - Feature removal percentage\n",
        "    - Sample removal percentage\n",
        "    - Value imputer type\n",
        "    - Normalizer type\n",
        "    '''\n",
        "\n",
        "    # remove strings from data\n",
        "    X_design = X_design.applymap(func=replace_str)\n",
        "    X_test = X_test.applymap(func=replace_str)\n",
        "\n",
        "    # remove 0.0 and Inf from data\n",
        "    X_design = replace_inf(X_design)\n",
        "    X_test = replace_inf(X_test)\n",
        "    print('unusefull values removed')\n",
        "\n",
        "    # remove features with less than 60% values\n",
        "    X_design = X_design.dropna(thresh=round(X_design.shape[0]*0.6), axis='columns')\n",
        "    X_test = X_test[X_design.columns]\n",
        "\n",
        "    # remove features and samples with less than 60% values\n",
        "    X_design, Y_design = remove_sample(X_design, Y_design, n_value=0.6)\n",
        "    X_test, Y_test = remove_sample(X_test, Y_test, n_value=0.6)\n",
        "    print('features and samples with to little information removed')\n",
        "\n",
        "    # remove samples without a label\n",
        "    X_design, Y_design = remove_labeless(X_design, Y_design)    \n",
        "    X_test, Y_test = remove_labeless(X_test, Y_test)\n",
        "    print('labeless samples removed')\n",
        "\n",
        "    # impute missing data\n",
        "    X_design_imput, imputer = impute_data(X_design)\n",
        "    X_test_imput = imputer.transform(X_test)\n",
        "    print('remaining missing data imputed')\n",
        "\n",
        "    # scale the data\n",
        "    X_design_scaled, scaler = scale_data(X_design_imput)\n",
        "    X_test_scaled = scaler.transform(X_test_imput)\n",
        "    print('data scaled')\n",
        "\n",
        "    # Getting back to Dataframe \n",
        "    X_design = pd.DataFrame(X_design_scaled, columns=X_design.columns, index=X_design.index)\n",
        "    X_test = pd.DataFrame(X_test_scaled, columns=X_test.columns, index=X_test.index)\n",
        "    print('preprocessing finished')\n",
        "    print(f'The number of samples: {len(X_design.index)+len(X_test.index)}')\n",
        "    print(f'The number of columns: {len(X_design.columns)}')\n",
        "\n",
        "    return X_design, Y_design, X_test, Y_test"
      ],
      "execution_count": 0,
      "outputs": []
    },
    {
      "cell_type": "markdown",
      "metadata": {
        "id": "I_wDK0aC_Xa2",
        "colab_type": "text"
      },
      "source": [
        "## Experimental feature orientation\n",
        "Determine possible options for feature selection and extraction"
      ]
    },
    {
      "cell_type": "markdown",
      "metadata": {
        "id": "ypidmjSURy-R",
        "colab_type": "text"
      },
      "source": [
        "### Load part of dataset\n",
        "Getting the design set of the data."
      ]
    },
    {
      "cell_type": "code",
      "metadata": {
        "id": "msYercldCfhv",
        "colab_type": "code",
        "outputId": "6f481fe8-57a3-4085-de47-cca92701d289",
        "colab": {
          "base_uri": "https://localhost:8080/",
          "height": 219
        }
      },
      "source": [
        "#load dataset\n",
        "data_X, data_Y, Test_split = load_data(splits=10)\n",
        "\n",
        "i = 0\n",
        "\n",
        "for design_index, test_index in Test_split.split(data_X, data_Y):\n",
        "\n",
        "    if i:\n",
        "      continue\n",
        "    i = 1\n",
        "\n",
        "    X_design = data_X.iloc[design_index]\n",
        "    Y_design = data_Y.iloc[design_index]\n",
        "    \n",
        "    X_test = data_X.iloc[test_index]\n",
        "    Y_test = data_Y.iloc[test_index]\n",
        "\n",
        "X_design, Y_design, X_test, Y_test = preprocessing_data(X_design, Y_design, X_test, Y_test)"
      ],
      "execution_count": 13,
      "outputs": [
        {
          "output_type": "stream",
          "text": [
            "data loaded\n",
            "The number of samples: 167\n",
            "The number of columns: 725\n",
            "unusefull values removed\n",
            "features and samples with to little information removed\n",
            "labeless samples removed\n",
            "remaining missing data imputed\n",
            "data scaled\n",
            "preprocessing finished\n",
            "The number of samples: 167\n",
            "The number of columns: 698\n"
          ],
          "name": "stdout"
        }
      ]
    },
    {
      "cell_type": "code",
      "metadata": {
        "id": "I9YWm7p2VYdw",
        "colab_type": "code",
        "colab": {}
      },
      "source": [
        "print(X_design, Y_design)\n"
      ],
      "execution_count": 0,
      "outputs": []
    },
    {
      "cell_type": "markdown",
      "metadata": {
        "id": "KOyP-3v2aNK-",
        "colab_type": "text"
      },
      "source": [
        "### Pre-sets and Definition set\n",
        "Pre-set definitions to preform the experiments."
      ]
    },
    {
      "cell_type": "markdown",
      "metadata": {
        "id": "o971Z1NDNI89",
        "colab_type": "text"
      },
      "source": [
        "Pre-sets"
      ]
    },
    {
      "cell_type": "code",
      "metadata": {
        "id": "ZoDDIR8LMwic",
        "colab_type": "code",
        "colab": {}
      },
      "source": [
        "# Set paramters\n",
        "RFE_split = 5\n",
        "Train_split = 5\n",
        "\n",
        "# make labels binary\n",
        "Y_design_bin = Y_design.replace(['GBM', 'LGG'], [1, 0])\n",
        "\n",
        "# set validation-training split\n",
        "train_splitter = StratifiedKFold(n_splits=Train_split)"
      ],
      "execution_count": 0,
      "outputs": []
    },
    {
      "cell_type": "markdown",
      "metadata": {
        "id": "e0uXBFWaM-7z",
        "colab_type": "text"
      },
      "source": [
        "Selector"
      ]
    },
    {
      "cell_type": "code",
      "metadata": {
        "id": "FWfn_UAbMxHd",
        "colab_type": "code",
        "colab": {}
      },
      "source": [
        "# RFE estimator\n",
        "svc_linear = svm.SVC(kernel=\"linear\")\n",
        "\n",
        "# RFE type\n",
        "rfecv_svc = RFECV(\n",
        "                  estimator=svc_linear, step=1, \n",
        "                  cv=StratifiedKFold(n_splits=RFE_split), \n",
        "                  scoring='roc_auc')  \n",
        "\n",
        "# selector list                  \n",
        "selectors = ('no_rfecv', 'rfecv')         "
      ],
      "execution_count": 0,
      "outputs": []
    },
    {
      "cell_type": "markdown",
      "metadata": {
        "id": "Zrm9YW3xNA2W",
        "colab_type": "text"
      },
      "source": [
        "Extractors"
      ]
    },
    {
      "cell_type": "code",
      "metadata": {
        "id": "xcUhoKfsNDJg",
        "colab_type": "code",
        "colab": {}
      },
      "source": [
        "# extractors\n",
        "pca_lin = KernelPCA(kernel='linear')\n",
        "pca_poly = KernelPCA(kernel='poly')\n",
        "pca_rbf = KernelPCA(kernel='rbf')\n",
        "umapper_3 = umap.UMAP(n_neighbors=3)\n",
        "umapper_5 = umap.UMAP(n_neighbors=5)\n",
        "umapper_6 = umap.UMAP(n_neighbors=6)\n",
        "umapper_15 = umap.UMAP(n_neighbors=15)\n",
        "umapper_30 = umap.UMAP(n_neighbors=30)\n",
        "tsvd = TruncatedSVD()"
      ],
      "execution_count": 0,
      "outputs": []
    },
    {
      "cell_type": "markdown",
      "metadata": {
        "id": "pn4Fs3COaVBc",
        "colab_type": "text"
      },
      "source": [
        "Cross-validation test"
      ]
    },
    {
      "cell_type": "code",
      "metadata": {
        "id": "A4kzQnzJYkIQ",
        "colab_type": "code",
        "colab": {}
      },
      "source": [
        "def run_feature_test(X_design, Y_design_bin, train_splitter, para_options, extractors, selector):\n",
        "    # predefine variables\n",
        "    results = list()\n",
        "    i = 1\n",
        "    t0 = time()\n",
        "\n",
        "    # RFE types list                  \n",
        "    selectors = {'no_rfecv': 0, 'rfecv': 1}\n",
        "    \n",
        "    # create standard classifier\n",
        "    clf = svm.SVC()\n",
        "    \n",
        "    # run cross-validation validate, train set\n",
        "    for train_index, validate_index in train_splitter.split(X_design, Y_design_bin):\n",
        "        X_train = X_design.iloc[train_index]\n",
        "        Y_train = Y_design_bin.iloc[train_index]\n",
        "    \n",
        "        X_validate = X_design.iloc[validate_index]\n",
        "        Y_validate = Y_design_bin.iloc[validate_index]\n",
        "        Y_validate = np.array(Y_validate)\n",
        "        print(f'running split {i} of {Train_split}')\n",
        "        i += 1\n",
        "\n",
        "        # Run RFECV on split\n",
        "        X_train_selected = selector.fit_transform(X_train, Y_train['label'])\n",
        "        X_validate_selected = selector.transform(X_validate)\n",
        "        print(f'{X_train_selected.shape[1]} features left after selection')\n",
        "\n",
        "        for indez, row in para_options.iterrows():\n",
        "            extractor=extractors[row[1]]\n",
        "            component=row[2]\n",
        "        \n",
        "            # use selected or unselected data\n",
        "            if selectors[row[0]] and X_train_selected.shape[1] > component:\n",
        "                X_train_try = X_train_selected\n",
        "                X_validate_try = X_validate_selected\n",
        "                #print(f'rfecv done {extractor, component}')\n",
        "\n",
        "            else:\n",
        "                X_train_try = X_train\n",
        "                X_validate_try = X_validate\n",
        "                #print(f'no rfecv done {extractor, component}')\n",
        "          \n",
        "            # run selected extractor\n",
        "            extractor.set_params(n_components=component)\n",
        "            X_train_extracted = extractor.fit_transform(X_train_try)\n",
        "            X_validate_extracted = extractor.transform(X_validate_try)\n",
        "        \n",
        "            # fitting standard classifier\n",
        "            clf.fit(X_train_extracted, Y_train['label'])\n",
        "\n",
        "            # Test the classifier on the test data\n",
        "            scores = clf.predict(X_validate_extracted)\n",
        "\n",
        "            # Gettin accuracy, AUC and f1-score\n",
        "            accuracy = accuracy_score(Y_validate, scores)\n",
        "            auc = roc_auc_score(Y_validate, scores)\n",
        "            f1 = f1_score(Y_validate, scores)\n",
        "            results.append({\n",
        "                'accuracy': accuracy,\n",
        "                'AUC': auc,\n",
        "                'f1-score': f1,\n",
        "                'set': f'{indez}_test'\n",
        "            })\n",
        "\n",
        "            # Test the classifier on the training data\n",
        "            scores_training = clf.predict(X_train_extracted)\n",
        "\n",
        "            # Getting the accuracy, AUC and f1-score\n",
        "            accuracy = accuracy_score(Y_train, scores_training)\n",
        "            auc = roc_auc_score(Y_train, scores_training)\n",
        "            f1 = f1_score(Y_train, scores_training)\n",
        "            results.append({\n",
        "                'accuracy': accuracy,\n",
        "                'AUC': auc,\n",
        "                'f1-score': f1,\n",
        "                'set': f'{indez}_training'\n",
        "            })\n",
        "        print(f'calulated options')\n",
        "\n",
        "    # Create results dataframe\n",
        "    results = pd.DataFrame(results)\n",
        "    print(\"finished in %0.3fs\" % (time() - t0))\n",
        "    return results"
      ],
      "execution_count": 0,
      "outputs": []
    },
    {
      "cell_type": "markdown",
      "metadata": {
        "id": "fhVBSfiG3spL",
        "colab_type": "text"
      },
      "source": [
        "Calculate mean and std from cross-validation"
      ]
    },
    {
      "cell_type": "code",
      "metadata": {
        "id": "go1BHO3pAUfD",
        "colab_type": "code",
        "colab": {}
      },
      "source": [
        "def cal_means(data, stats):\n",
        "    stats_line = {\n",
        "    'ac mean': \"{:.3f}\".format(data[\"accuracy\"].mean()),\n",
        "    'ac std': \"{:.2f}\".format(data[\"accuracy\"].std()),\n",
        "    'AUC mean': \"{:.3f}\".format(data[\"AUC\"].mean()),\n",
        "    'AUC std': \"{:.2f}\".format(data[\"AUC\"].std()),\n",
        "    'f1 mean': \"{:.3f}\".format(data[\"f1-score\"].mean()),\n",
        "    'f1 std': \"{:.2f}\".format(data[\"f1-score\"].std())\n",
        "    }\n",
        "    stats_line = stats_line\n",
        "    stats.append(stats_line)\n",
        "    \n",
        "    return stats"
      ],
      "execution_count": 0,
      "outputs": []
    },
    {
      "cell_type": "markdown",
      "metadata": {
        "id": "VfOCMSHAj8uC",
        "colab_type": "text"
      },
      "source": [
        "Calulate results from cross-validation"
      ]
    },
    {
      "cell_type": "code",
      "metadata": {
        "id": "M6ouXeKijE-0",
        "colab_type": "code",
        "colab": {}
      },
      "source": [
        "def get_results(results, para_options):\n",
        "    # calculate the mean and std of each option\n",
        "    test_result_stat = list()\n",
        "    train_result_stat = list()\n",
        "\n",
        "    for i in range(0, para_options.shape[0]):\n",
        "\n",
        "        test_result = results[results['set'] == f'{i}_test']\n",
        "        test_result_stat = cal_means(test_result, test_result_stat)\n",
        "\n",
        "        train_result = results[results['set'] == f'{i}_train']\n",
        "        train_result_stat = cal_means(train_result, train_result_stat)\n",
        "\n",
        "    test_result_stat = pd.DataFrame(test_result_stat)\n",
        "    train_result_stat = pd.DataFrame(train_result_stat)\n",
        "\n",
        "    # order the results on AUC, accuracy and f1-score\n",
        "    test_result_stat.sort_values(by=['AUC mean', 'ac mean', 'f1 mean'],ascending=False, inplace=True)\n",
        "    test_result_stat = test_result_stat.join(para_options)\n",
        "\n",
        "    train_result_stat.sort_values(by=['AUC mean', 'ac mean', 'f1 mean'],ascending=False, inplace=True)\n",
        "    train_result_stat = train_result_stat.join(para_options)\n",
        "\n",
        "\n",
        "    return test_result_stat, train_result_stat"
      ],
      "execution_count": 0,
      "outputs": []
    },
    {
      "cell_type": "markdown",
      "metadata": {
        "id": "79v9EUDcaZ_C",
        "colab_type": "text"
      },
      "source": [
        "### Orientational Experiment\n",
        "Experiment with a wide variety of chosen extractors and parameters to find optima."
      ]
    },
    {
      "cell_type": "markdown",
      "metadata": {
        "id": "JgfZd2mYbIwb",
        "colab_type": "text"
      },
      "source": [
        "selected options"
      ]
    },
    {
      "cell_type": "code",
      "metadata": {
        "id": "ZrysKyfvbNME",
        "colab_type": "code",
        "colab": {}
      },
      "source": [
        "# extractor list\n",
        "extractors = {'umap_3': umapper_3, 'umap_5': umapper_5, 'umap_15': umapper_15, 'umap_30': umapper_30, 'pca_lin': pca_lin, 'pca_poly': pca_poly, 'pca_rbf': pca_rbf, 'tsvd': tsvd}\n",
        "\n",
        "#component parameters\n",
        "extract_components = (2, 6, 12, 24, 48, 92)"
      ],
      "execution_count": 0,
      "outputs": []
    },
    {
      "cell_type": "markdown",
      "metadata": {
        "id": "PRb1hVIGNbob",
        "colab_type": "text"
      },
      "source": [
        "preform feature selection and extraction test"
      ]
    },
    {
      "cell_type": "code",
      "metadata": {
        "id": "AReSukYSn2a0",
        "colab_type": "code",
        "outputId": "92724fa6-a7e8-4721-f01e-7e16ac7f3d7e",
        "colab": {
          "base_uri": "https://localhost:8080/",
          "height": 733
        }
      },
      "source": [
        "#all options to test\n",
        "para_options = pd.DataFrame(list(itertools.product(selectors, extractors, extract_components)))\n",
        "print(f'{para_options.shape[0]} options to try')\n",
        "\n",
        "\n",
        "# Run experiment\n",
        "results = run_feature_test(X_design, Y_design_bin, train_splitter, para_options, extractors, rfecv_svc)"
      ],
      "execution_count": 25,
      "outputs": [
        {
          "output_type": "stream",
          "text": [
            "96 options to try\n",
            "running split 1 of 5\n",
            "126 features left after selection\n"
          ],
          "name": "stdout"
        },
        {
          "output_type": "stream",
          "text": [
            "/usr/local/lib/python3.6/dist-packages/umap/spectral.py:229: UserWarning: Embedding a total of 2 separate connected components using meta-embedding (experimental)\n",
            "  n_components\n",
            "/usr/local/lib/python3.6/dist-packages/umap/spectral.py:229: UserWarning: Embedding a total of 2 separate connected components using meta-embedding (experimental)\n",
            "  n_components\n",
            "/usr/local/lib/python3.6/dist-packages/umap/spectral.py:229: UserWarning: Embedding a total of 2 separate connected components using meta-embedding (experimental)\n",
            "  n_components\n",
            "/usr/local/lib/python3.6/dist-packages/umap/spectral.py:229: UserWarning: Embedding a total of 2 separate connected components using meta-embedding (experimental)\n",
            "  n_components\n",
            "/usr/local/lib/python3.6/dist-packages/umap/spectral.py:229: UserWarning: Embedding a total of 2 separate connected components using meta-embedding (experimental)\n",
            "  n_components\n",
            "/usr/local/lib/python3.6/dist-packages/umap/spectral.py:229: UserWarning: Embedding a total of 2 separate connected components using meta-embedding (experimental)\n",
            "  n_components\n"
          ],
          "name": "stderr"
        },
        {
          "output_type": "stream",
          "text": [
            "calulated options\n",
            "running split 2 of 5\n",
            "64 features left after selection\n"
          ],
          "name": "stdout"
        },
        {
          "output_type": "stream",
          "text": [
            "/usr/local/lib/python3.6/dist-packages/umap/spectral.py:229: UserWarning: Embedding a total of 2 separate connected components using meta-embedding (experimental)\n",
            "  n_components\n",
            "/usr/local/lib/python3.6/dist-packages/umap/spectral.py:229: UserWarning: Embedding a total of 2 separate connected components using meta-embedding (experimental)\n",
            "  n_components\n",
            "/usr/local/lib/python3.6/dist-packages/umap/spectral.py:229: UserWarning: Embedding a total of 2 separate connected components using meta-embedding (experimental)\n",
            "  n_components\n",
            "/usr/local/lib/python3.6/dist-packages/umap/spectral.py:229: UserWarning: Embedding a total of 2 separate connected components using meta-embedding (experimental)\n",
            "  n_components\n",
            "/usr/local/lib/python3.6/dist-packages/umap/spectral.py:229: UserWarning: Embedding a total of 2 separate connected components using meta-embedding (experimental)\n",
            "  n_components\n"
          ],
          "name": "stderr"
        },
        {
          "output_type": "stream",
          "text": [
            "calulated options\n",
            "running split 3 of 5\n",
            "114 features left after selection\n",
            "calulated options\n",
            "running split 4 of 5\n",
            "84 features left after selection\n",
            "calulated options\n",
            "running split 5 of 5\n",
            "55 features left after selection\n",
            "calulated options\n",
            "finished in 303.182s\n"
          ],
          "name": "stdout"
        }
      ]
    },
    {
      "cell_type": "markdown",
      "metadata": {
        "id": "TJEsMCyOQ3kI",
        "colab_type": "text"
      },
      "source": [
        "Plot results"
      ]
    },
    {
      "cell_type": "code",
      "metadata": {
        "id": "ni-788XftFEv",
        "colab_type": "code",
        "outputId": "b12183dc-47d7-4015-a977-4f75148c28b0",
        "colab": {
          "base_uri": "https://localhost:8080/",
          "height": 1000
        }
      },
      "source": [
        "# plot resulting data\n",
        "print('legend')\n",
        "print(para_options)\n",
        "\n",
        "f, axes = plt.subplots(3, 1, figsize=(30, 40))\n",
        "sns.boxplot(y='AUC', x='set', data=results, ax=axes[0])\n",
        "sns.boxplot(y='accuracy', x='set', data=results, ax=axes[1])\n",
        "sns.boxplot(y='f1-score', x='set', data=results, ax=axes[2])"
      ],
      "execution_count": 26,
      "outputs": [
        {
          "output_type": "stream",
          "text": [
            "legend\n",
            "           0       1   2\n",
            "0   no_rfecv  umap_3   2\n",
            "1   no_rfecv  umap_3   6\n",
            "2   no_rfecv  umap_3  12\n",
            "3   no_rfecv  umap_3  24\n",
            "4   no_rfecv  umap_3  48\n",
            "..       ...     ...  ..\n",
            "91     rfecv    tsvd   6\n",
            "92     rfecv    tsvd  12\n",
            "93     rfecv    tsvd  24\n",
            "94     rfecv    tsvd  48\n",
            "95     rfecv    tsvd  92\n",
            "\n",
            "[96 rows x 3 columns]\n"
          ],
          "name": "stdout"
        },
        {
          "output_type": "execute_result",
          "data": {
            "text/plain": [
              "<matplotlib.axes._subplots.AxesSubplot at 0x7fb37b5d5cc0>"
            ]
          },
          "metadata": {
            "tags": []
          },
          "execution_count": 26
        },
        {
          "output_type": "display_data",
          "data": {
            "image/png": "[encoded data removed]",
            "text/plain": [
              "<Figure size 2160x2880 with 3 Axes>"
            ]
          },
          "metadata": {
            "tags": []
          }
        }
      ]
    },
    {
      "cell_type": "markdown",
      "metadata": {
        "id": "dWGm2rSRQ9mN",
        "colab_type": "text"
      },
      "source": [
        "Determ the best options"
      ]
    },
    {
      "cell_type": "code",
      "metadata": {
        "id": "RoOLPIr7-GLB",
        "colab_type": "code",
        "outputId": "028cbf00-dcc1-493c-c78b-dfc66f788cf2",
        "colab": {
          "base_uri": "https://localhost:8080/",
          "height": 421
        }
      },
      "source": [
        "test_result, train_result = get_results(results, para_options)\n",
        "print('Top 20 best scoring results')\n",
        "print(test_result.iloc[range(0,20)])\n"
      ],
      "execution_count": 40,
      "outputs": [
        {
          "output_type": "stream",
          "text": [
            "Top 20 best scoring results\n",
            "   ac mean ac std AUC mean AUC std f1 mean f1 std         0        1   2\n",
            "37   0.793   0.10    0.803    0.09   0.812   0.09  no_rfecv  pca_rbf   6\n",
            "76   0.820   0.07    0.782    0.07   0.865   0.05     rfecv  pca_lin  48\n",
            "94   0.820   0.07    0.782    0.07   0.865   0.05     rfecv     tsvd  48\n",
            "39   0.760   0.08    0.778    0.08   0.776   0.08  no_rfecv  pca_rbf  24\n",
            "38   0.767   0.09    0.777    0.09   0.788   0.09  no_rfecv  pca_rbf  12\n",
            "75   0.813   0.07    0.772    0.08   0.861   0.05     rfecv  pca_lin  24\n",
            "77   0.813   0.08    0.769    0.09   0.865   0.05     rfecv  pca_lin  92\n",
            "95   0.813   0.08    0.769    0.09   0.865   0.05     rfecv     tsvd  92\n",
            "85   0.740   0.11    0.768    0.11   0.745   0.12     rfecv  pca_rbf   6\n",
            "87   0.733   0.08    0.765    0.08   0.732   0.10     rfecv  pca_rbf  24\n",
            "93   0.807   0.07    0.764    0.08   0.857   0.05     rfecv     tsvd  24\n",
            "74   0.800   0.06    0.756    0.07   0.853   0.05     rfecv  pca_lin  12\n",
            "92   0.793   0.06    0.747    0.08   0.849   0.05     rfecv     tsvd  12\n",
            "73   0.787   0.07    0.745    0.07   0.841   0.05     rfecv  pca_lin   6\n",
            "91   0.787   0.07    0.745    0.07   0.841   0.05     rfecv     tsvd   6\n",
            "8    0.793   0.04    0.743    0.04   0.851   0.03  no_rfecv   umap_5  12\n",
            "86   0.713   0.08    0.739    0.08   0.719   0.09     rfecv  pca_rbf  12\n",
            "11   0.787   0.04    0.735    0.05   0.848   0.03  no_rfecv   umap_5  92\n",
            "84   0.713   0.11    0.732    0.10   0.725   0.12     rfecv  pca_rbf   2\n",
            "53   0.780   0.09    0.728    0.11   0.844   0.06     rfecv   umap_3  92\n"
          ],
          "name": "stdout"
        }
      ]
    },
    {
      "cell_type": "markdown",
      "metadata": {
        "id": "UgErjNWFftnv",
        "colab_type": "text"
      },
      "source": [
        "After running the code above, the following conclusions where drawn:\n",
        "- There is difference between feature and no feature selection, but not similar for each option\n",
        "- the PCA with a rbf kernel and no rfecv provides the highest scores, but with a high std\n",
        "- the PCA with a linear kernel and rfecv also provide high scores and lower std, but only with more components\n",
        "- the UMAP with 5 neighbors provides second best scores, but with a smaller std\n",
        "- there is a optimum in the amount of components around the 6 and 12\n",
        "\n",
        "With this in mind the parameter for the second test are chosen."
      ]
    },
    {
      "cell_type": "markdown",
      "metadata": {
        "id": "6GFBpgwoa1ly",
        "colab_type": "text"
      },
      "source": [
        "### Localized Experiment\n",
        "Experiment with selected extractors and parameters around promising results of the Orientational Experiment."
      ]
    },
    {
      "cell_type": "markdown",
      "metadata": {
        "colab_type": "text",
        "id": "5meYru3udMGY"
      },
      "source": [
        "selected options"
      ]
    },
    {
      "cell_type": "code",
      "metadata": {
        "colab_type": "code",
        "id": "uEy802ukdMGp",
        "colab": {}
      },
      "source": [
        "# extractor list\n",
        "extractors = {'umap_5': umapper_5, 'pca_lin': pca_lin, 'pca_rbf': pca_rbf}\n",
        "\n",
        "#parameters\n",
        "extract_components = (4, 6, 8, 12, 45, 48, 52, 56)"
      ],
      "execution_count": 0,
      "outputs": []
    },
    {
      "cell_type": "markdown",
      "metadata": {
        "colab_type": "text",
        "id": "O7139y5fdMG-"
      },
      "source": [
        "preform feature selection and extraction test"
      ]
    },
    {
      "cell_type": "code",
      "metadata": {
        "colab_type": "code",
        "id": "YuMUX9dhdMHB",
        "outputId": "5a32afdc-eb79-459d-8ce3-3d1e62908e88",
        "colab": {
          "base_uri": "https://localhost:8080/",
          "height": 329
        }
      },
      "source": [
        "#all options to test\n",
        "para_options = pd.DataFrame(list(itertools.product(selectors, extractors, extract_components)))\n",
        "para_options = para_options.loc[[0,1,2,3,16,17,18,19,36,37,38,39]]\n",
        "para_options = para_options.reset_index(drop=True)\n",
        "print(f'{para_options.shape[0]} options to try')\n",
        "\n",
        "# Run experiment\n",
        "results = run_feature_test(X_design, Y_design_bin, train_splitter, para_options, extractors, rfecv_svc)"
      ],
      "execution_count": 42,
      "outputs": [
        {
          "output_type": "stream",
          "text": [
            "12 options to try\n",
            "running split 1 of 5\n",
            "126 features left after selection\n",
            "calulated options\n",
            "running split 2 of 5\n",
            "64 features left after selection\n",
            "calulated options\n",
            "running split 3 of 5\n",
            "114 features left after selection\n",
            "calulated options\n",
            "running split 4 of 5\n",
            "84 features left after selection\n",
            "calulated options\n",
            "running split 5 of 5\n",
            "55 features left after selection\n",
            "calulated options\n",
            "finished in 156.358s\n"
          ],
          "name": "stdout"
        }
      ]
    },
    {
      "cell_type": "markdown",
      "metadata": {
        "colab_type": "text",
        "id": "d374FPQgdMHQ"
      },
      "source": [
        "Plot results"
      ]
    },
    {
      "cell_type": "code",
      "metadata": {
        "colab_type": "code",
        "id": "-I_dMH8VdMHT",
        "outputId": "62eb4263-c5f9-4445-f0c9-5f40e4c279af",
        "colab": {
          "base_uri": "https://localhost:8080/",
          "height": 1000
        }
      },
      "source": [
        "# plot resulting data\n",
        "print('legend')\n",
        "print(para_options)\n",
        "\n",
        "f, axes = plt.subplots(3, 1, figsize=(30, 40))\n",
        "sns.boxplot(y='AUC', x='set', data=results, ax=axes[0])\n",
        "sns.boxplot(y='accuracy', x='set', data=results, ax=axes[1])\n",
        "sns.boxplot(y='f1-score', x='set', data=results, ax=axes[2])"
      ],
      "execution_count": 43,
      "outputs": [
        {
          "output_type": "stream",
          "text": [
            "legend\n",
            "           0        1   2\n",
            "0   no_rfecv   umap_5   4\n",
            "1   no_rfecv   umap_5   6\n",
            "2   no_rfecv   umap_5   8\n",
            "3   no_rfecv   umap_5  12\n",
            "4   no_rfecv  pca_rbf   4\n",
            "5   no_rfecv  pca_rbf   6\n",
            "6   no_rfecv  pca_rbf   8\n",
            "7   no_rfecv  pca_rbf  12\n",
            "8      rfecv  pca_lin  45\n",
            "9      rfecv  pca_lin  48\n",
            "10     rfecv  pca_lin  52\n",
            "11     rfecv  pca_lin  56\n"
          ],
          "name": "stdout"
        },
        {
          "output_type": "execute_result",
          "data": {
            "text/plain": [
              "<matplotlib.axes._subplots.AxesSubplot at 0x7fb376ed7c18>"
            ]
          },
          "metadata": {
            "tags": []
          },
          "execution_count": 43
        },
        {
          "output_type": "display_data",
          "data": {
            "image/png": "[encoded data removed]",
            "text/plain": [
              "<Figure size 2160x2880 with 3 Axes>"
            ]
          },
          "metadata": {
            "tags": []
          }
        }
      ]
    },
    {
      "cell_type": "markdown",
      "metadata": {
        "colab_type": "text",
        "id": "q3oGRYoNdMHi"
      },
      "source": [
        "Determ the best options"
      ]
    },
    {
      "cell_type": "code",
      "metadata": {
        "colab_type": "code",
        "id": "nz_aUeCadMHs",
        "outputId": "831d0fb1-cf6c-4765-91c6-5172f51b5679",
        "colab": {
          "base_uri": "https://localhost:8080/",
          "height": 256
        }
      },
      "source": [
        "test_result, train_result = get_results(results, para_options)\n",
        "print(test_result)"
      ],
      "execution_count": 45,
      "outputs": [
        {
          "output_type": "stream",
          "text": [
            "   ac mean ac std AUC mean AUC std f1 mean f1 std         0        1   2\n",
            "6    0.800   0.10    0.808    0.10   0.821   0.10  no_rfecv  pca_rbf   8\n",
            "5    0.793   0.10    0.803    0.09   0.812   0.09  no_rfecv  pca_rbf   6\n",
            "10   0.827   0.07    0.791    0.07   0.869   0.06     rfecv  pca_lin  52\n",
            "9    0.820   0.07    0.782    0.07   0.865   0.05     rfecv  pca_lin  48\n",
            "4    0.773   0.09    0.778    0.09   0.797   0.09  no_rfecv  pca_rbf   4\n",
            "7    0.767   0.09    0.777    0.09   0.788   0.09  no_rfecv  pca_rbf  12\n",
            "11   0.813   0.07    0.775    0.07   0.861   0.05     rfecv  pca_lin  56\n",
            "8    0.813   0.07    0.773    0.08   0.861   0.05     rfecv  pca_lin  45\n",
            "2    0.787   0.04    0.735    0.05   0.848   0.03  no_rfecv   umap_5   8\n",
            "0    0.773   0.04    0.722    0.05   0.838   0.03  no_rfecv   umap_5   4\n",
            "1    0.767   0.06    0.716    0.07   0.833   0.04  no_rfecv   umap_5   6\n",
            "3    0.747   0.05    0.694    0.05   0.818   0.04  no_rfecv   umap_5  12\n"
          ],
          "name": "stdout"
        }
      ]
    },
    {
      "cell_type": "markdown",
      "metadata": {
        "id": "sVoNGV8DjNNf",
        "colab_type": "text"
      },
      "source": [
        "Based on these results the following is concluded:\n",
        "- the PCA with rbf kernal and 6 or 8 components has the best AUC score, but still a high std\n",
        "- the PCA with linear kernal and 48/52 components has the best Accuracy and f1-score, with a lower std\n",
        "- the UMAP with 5 neighbors and 6 or 8 components has similar score for accuracy and f1, but a lower score for AUC and similar the std as the linear PCA.\n",
        "\n"
      ]
    },
    {
      "cell_type": "markdown",
      "metadata": {
        "id": "ktMWp3Y_lQ3e",
        "colab_type": "text"
      },
      "source": [
        "### Conclusion\n",
        "\n",
        "We will let the model optimization choose from:\n",
        "- PCA (Kernel:linear, Components:48/52, rfecv)\n",
        "- PCA (Kernel:rbf, Components:6/8)\n",
        "- UMAP (Neigbors:5, Components:8/12)"
      ]
    },
    {
      "cell_type": "markdown",
      "metadata": {
        "id": "LQ-dUjXUpFAG",
        "colab_type": "text"
      },
      "source": [
        "## Final machine learning pipeline\n",
        "Our resulting machine learning model for tumor grading in brain cancer.\n",
        "\n",
        "As described in the enclosed document are the following steps en parameter settings the by us found most optimale for optimising and classifing the given dataset."
      ]
    },
    {
      "cell_type": "markdown",
      "metadata": {
        "id": "ClBXawKAVfGD",
        "colab_type": "text"
      },
      "source": [
        "### Feature extraction\n",
        "\n",
        "Feature extraction with hyperparameters based on previous experiments"
      ]
    },
    {
      "cell_type": "markdown",
      "metadata": {
        "id": "hsqJmyjIvjkw",
        "colab_type": "text"
      },
      "source": [
        "Feature extraction"
      ]
    },
    {
      "cell_type": "code",
      "metadata": {
        "id": "i8o6DTQGVvjX",
        "colab_type": "code",
        "colab": {}
      },
      "source": [
        "def feature_extraction(X_design, Y_design, X_test, Y_test):\n",
        "    '''\n",
        "    preform feature extraction for final pipeline\n",
        "    '''\n",
        "\n",
        "    # generate binary labels \n",
        "    Y_design_bin = Y_design.replace(['GBM', 'LGG'], [1, 0])\n",
        "    Y_test_bin = Y_test.replace(['GBM', 'LGG'], [1, 0])\n",
        "    \n",
        "    # Create extraction models\n",
        "    Umapper_8 = umap.UMAP(n_neighbors=5, n_components=8)\n",
        "    Umapper_12 = umap.UMAP(n_neighbors=5, n_components=12)\n",
        "    pca_6 = KernelPCA(kernel='rbf', n_components=6)\n",
        "    pca_8 = KernelPCA(kernel='rbf', n_components=8)\n",
        "    pca_48 = KernelPCA(kernel='linear', n_components=48)\n",
        "    pca_52 = KernelPCA(kernel='linear', n_components=52)\n",
        "\n",
        "    # create look-up table\n",
        "    extractors = {'Umapper_8': Umapper_8, 'Umapper_12': Umapper_12, 'pca_6': pca_6, 'pca_8': pca_8, 'pca_48': pca_48, 'pca_52': pca_52}\n",
        "\n",
        "    # Set paramters\n",
        "    RFE_split = 5\n",
        "    Train_split = 5\n",
        "\n",
        "    # RFE estimator\n",
        "    svc_linear = svm.SVC(kernel=\"linear\")\n",
        "\n",
        "    # RFE type\n",
        "    rfecv_svc = RFECV(\n",
        "                      estimator=svc_linear, step=1, \n",
        "                      cv=StratifiedKFold(n_splits=RFE_split), \n",
        "                      scoring='roc_auc')           \n",
        "\n",
        "    # set validation-training split\n",
        "    train_splitter = StratifiedKFold(n_splits=Train_split)\n",
        "\n",
        "    # list extraction options\n",
        "    para_options = list()\n",
        "    para_options.append({'rfecv': 'no_rfecv', 'model': 'Umapper_8', 'component': 8})\n",
        "    para_options.append({'rfecv': 'no_rfecv', 'model': 'Umapper_12', 'component': 12})\n",
        "    para_options.append({'rfecv': 'no_rfecv', 'model': 'pca_6', 'component': 6})\n",
        "    para_options.append({'rfecv': 'no_rfecv', 'model': 'pca_8', 'component': 8})\n",
        "    para_options.append({'rfecv': 'rfecv', 'model': 'pca_48', 'component': 48})\n",
        "    para_options.append({'rfecv': 'rfecv', 'model': 'pca_52', 'component': 52})\n",
        "    para_options = pd.DataFrame(para_options)\n",
        "    print('running feature selection and extraction optimization')\n",
        "    print(f'{para_options.shape[0]} options to try')\n",
        "\n",
        "    # Run feature test\n",
        "    results = run_feature_test(X_design, Y_design_bin, train_splitter, para_options, extractors, rfecv_svc)\n",
        "\n",
        "    # Calculate mean and std of each option\n",
        "    test_results, train_results = get_results(results, para_options)\n",
        "    print(test_results)\n",
        "\n",
        "\n",
        "    # select best extractor\n",
        "    best_extractor = test_results.iloc[0]\n",
        "    extractor = extractors[best_extractor['model']]\n",
        "    print(f'best extractor = {best_extractor}')\n",
        "\n",
        "    if best_extractor['rfecv'] == 'rfecv':\n",
        "      X_design = rfecv_svc.fit_transform(X_design)\n",
        "      X_test = rfecv_svc.transform(X_test)\n",
        "      print('rfecv done')\n",
        "\n",
        "\n",
        "    # Preform model fitting and transformation\n",
        "    X_design = extractor.fit_transform(X_design)\n",
        "    X_design = pd.DataFrame(X_design, index=Y_design.index)\n",
        "\n",
        "    X_test = extractor.transform(X_test)\n",
        "    X_test = pd.DataFrame(X_test, index=Y_test.index)\n",
        "    print('feature selection and extraction finished')\n",
        "\n",
        "    return X_design, Y_design_bin, X_test, Y_test_bin, best_extractor"
      ],
      "execution_count": 0,
      "outputs": []
    },
    {
      "cell_type": "markdown",
      "metadata": {
        "id": "QA8t3CO44WUt",
        "colab_type": "text"
      },
      "source": [
        "### Classifier"
      ]
    },
    {
      "cell_type": "code",
      "metadata": {
        "id": "xEWggJTqLWIn",
        "colab_type": "code",
        "colab": {}
      },
      "source": [
        "def classifiers (X_design, Y_design, X_test, Y_test):\n",
        "    global results\n",
        "    global best_parameters\n",
        "   \n",
        "    ## Example for Classifier hyperparameters selecting\n",
        "    clfs = {svm.SVC(probability=True): {'kernel': ['linear', 'poly', 'rbf', 'sigmoid'], 'degree': range(1,5,1)},\n",
        "            RandomForestClassifier(): {'n_estimators':range(1,400,5)},\n",
        "            KNeighborsClassifier() : {'n_neighbors': range(1,100,2), 'weights': ['uniform', 'distance']},\n",
        "            LinearDiscriminantAnalysis():{}\n",
        "            }\n",
        "    names = ['SVC', 'RandomForest', 'KNN', 'LinearDiscriminant']\n",
        "    n = 0\n",
        "\n",
        "    for clf, parameters in clfs.items():\n",
        "        \n",
        "        scoring = {'AUC': 'roc_auc', 'Accuracy': make_scorer(accuracy_score), 'f1-score': make_scorer(f1_score)}\n",
        "\n",
        "        random_search = RandomizedSearchCV(clf, parameters, scoring=scoring, refit='AUC', cv=None) ## hierin zit al de crossvalidatie, dus opnieuw een k-fold split hoeft niet #keuze om score voor alle classifiers gelijk te houden of per classifier te definieren\n",
        "        random_search.fit(X_design, Y_design['label'])\n",
        "        \n",
        "        # Get resulting classifier\n",
        "        clf_best = random_search.best_estimator_\n",
        "        print(f'Best classifier: parameters={random_search.best_params_}')\n",
        "        best_parameters.append(random_search.best_params_)   #per fold best classifier will be appended\n",
        "        scores = random_search.best_score_\n",
        "        \n",
        "        print(random_search.cv_results_)\n",
        "        print (scores)\n",
        "\n",
        "        if n == 0:\n",
        "          clf_name = names[0]\n",
        "        elif n % 4 == 1:\n",
        "          clf_name = names[1]\n",
        "        elif n % 4 == 2:\n",
        "          clf_name = names[2]\n",
        "        elif n % 4 == 3:\n",
        "          clf_name = names[3]\n",
        "        elif n % 4 == 0:\n",
        "          clf_name = names[0]\n",
        "        n += 1 \n",
        "    \n",
        "        # Getting the accuracy, AUC and f1-score\n",
        "        accuracy = random_search.cv_results_['mean_test_Accuracy'][random_search.best_index_]\n",
        "        auc = random_search.cv_results_['mean_test_AUC'][random_search.best_index_]\n",
        "        f1 = random_search.cv_results_['mean_test_f1-score'][random_search.best_index_]\n",
        "        mean_score = (accuracy + auc + f1)/3\n",
        "        results.append({\n",
        "            'accuracy': accuracy,\n",
        "            'AUC': auc,\n",
        "            'f1-score': f1,\n",
        "            'mean_score': mean_score,\n",
        "            'clf_name': clf_name,\n",
        "            'clf': clf_best, \n",
        "            'parameters': random_search.best_params_,\n",
        "            'set': 'validation'\n",
        "              })\n",
        "        \n",
        "    # Create results dataframe and plot it\n",
        "    results = pd.DataFrame(results)\n",
        "    print(results)\n",
        "    sns.boxplot(y='AUC', x='clf_name', data=results)\n",
        "    sns.boxplot(y='accuracy', x='clf_name', data=results)\n",
        "    sns.boxplot(y='f1-score', x='clf_name', data=results)\n",
        "\n",
        "    index_best_classifier = results[['mean_score']].idxmax() \n",
        "    print(f'index_best_classifier={index_best_classifier}')\n",
        "    best_classifier_name = results['clf_name'][index_best_classifier]\n",
        "    best_classifier_name = best_classifier_name.tolist()\n",
        "    best_classifier = results['clf'][index_best_classifier]   \n",
        "    best_classifier = best_classifier.tolist()\n",
        "    print(f'best_classifier={best_classifier}')\n",
        "\n",
        "    # Train best classifier on total testdata\n",
        "    classifier_optimized = best_classifier[0].fit(X_design,Y_design['label'])\n",
        "    pred_train = classifier_optimized.predict(X_design)\n",
        "\n",
        "    #Gettin accuracy, AUC and f1-score\n",
        "    accuracy_train = accuracy_score(Y_design, pred_train)\n",
        "    auc_train = roc_auc_score(Y_design, pred_train)\n",
        "    f1_train = f1_score(Y_design, pred_train)\n",
        "    results_outer.append({\n",
        "        'accuracy': accuracy_train,\n",
        "        'AUC': auc_train,\n",
        "        'f1-score': f1_train,\n",
        "        'clf': best_classifier[0],\n",
        "        'clf_name': best_classifier_name[0],\n",
        "        'set': 'training'\n",
        "        })\n",
        "    \n",
        "    #Test the classifier on the test data\n",
        "    pred_test = classifier_optimized.predict(X_test)\n",
        "\n",
        "    #Gettin accuracy, AUC and f1-score\n",
        "    accuracy_test = accuracy_score(Y_test, pred_test)\n",
        "    auc_test = roc_auc_score(Y_test, pred_test)\n",
        "    f1_test = f1_score(Y_test, pred_test)\n",
        "    results_outer.append({\n",
        "        'accuracy': accuracy_test,\n",
        "        'AUC': auc_test,\n",
        "        'f1-score': f1_test,\n",
        "        'clf': best_classifier[0],\n",
        "        'clf_name': best_classifier_name[0],\n",
        "        'set': 'testing'\n",
        "        })\n",
        "\n",
        "    \n",
        "    return results, results_outer"
      ],
      "execution_count": 0,
      "outputs": []
    },
    {
      "cell_type": "markdown",
      "metadata": {
        "colab_type": "text",
        "id": "jCKzUBX7rpOj"
      },
      "source": [
        "### Pipeline"
      ]
    },
    {
      "cell_type": "code",
      "metadata": {
        "id": "1IYk4DjwcF48",
        "colab_type": "code",
        "colab": {
          "base_uri": "https://localhost:8080/",
          "height": 1000
        },
        "outputId": "6fda5734-1b5d-4349-e80b-4c05da6574bf"
      },
      "source": [
        "#load dataset\n",
        "data_X, data_Y, Test_split = load_data(splits=10)\n",
        "\n",
        "results = list()\n",
        "best_parameters = list()\n",
        "results_outer = list()\n",
        "i=0\n",
        "for design_index, test_index in Test_split.split(data_X, data_Y):\n",
        "    if i:\n",
        "      continue\n",
        "    i += 1\n",
        "\n",
        "    X_design = data_X.iloc[design_index]\n",
        "    Y_design = data_Y.iloc[design_index]\n",
        "    \n",
        "    X_test = data_X.iloc[test_index]\n",
        "    Y_test = data_Y.iloc[test_index]\n",
        "\n",
        "    # run preprocessing\n",
        "    X_design, Y_design, X_test, Y_test = preprocessing_data(X_design, Y_design, X_test, Y_test)\n",
        "\n",
        "    #run feature extraction\n",
        "    X_design, Y_design_bin, X_test, Y_test_bin, feature_extractor = feature_extraction(X_design, Y_design, X_test, Y_test)\n",
        "    print(f'after feature extraction {X_test.shape[1]} columns left')\n",
        "    print(X_design, Y_design_bin)\n",
        "\n",
        "    # run classifier\n",
        "    results, results_outer = classifiers (X_design, Y_design_bin, X_test, Y_test_bin)\n",
        "  \n",
        "# Selecting best overall classifier   \n",
        "results_outer = pd.DataFrame(results_outer)\n",
        "print(results_outer)\n",
        "\n",
        "optimal_classifier = str(results_outer.median['clf_name'])\n",
        "print(f\"The optimal classifier={optimal_classifier}\")\n",
        "\n",
        "# save data to csv for manual check\n",
        "#X_design.to_csv('data_X.csv')\n",
        "#Y_design.to_csv('data_Y.csv')\n",
        "\n"
      ],
      "execution_count": 74,
      "outputs": [
        {
          "output_type": "stream",
          "text": [
            "data loaded\n",
            "The number of samples: 167\n",
            "The number of columns: 725\n",
            "unusefull values removed\n",
            "features and samples with to little information removed\n",
            "labeless samples removed\n",
            "remaining missing data imputed\n",
            "data scaled\n",
            "preprocessing finished\n",
            "The number of samples: 167\n",
            "The number of columns: 698\n",
            "running feature selection and extraction optimization\n",
            "6 options to try\n",
            "running split 1 of 5\n",
            "126 features left after selection\n",
            "calulated options\n",
            "running split 2 of 5\n",
            "64 features left after selection\n",
            "calulated options\n",
            "running split 3 of 5\n",
            "114 features left after selection\n",
            "calulated options\n",
            "running split 4 of 5\n",
            "84 features left after selection\n",
            "calulated options\n",
            "running split 5 of 5\n",
            "55 features left after selection\n",
            "calulated options\n",
            "finished in 155.201s\n",
            "  ac mean ac std AUC mean AUC std  ... f1 std     rfecv       model component\n",
            "3   0.800   0.10    0.808    0.10  ...   0.10  no_rfecv       pca_8         8\n",
            "2   0.793   0.10    0.803    0.09  ...   0.09  no_rfecv       pca_6         6\n",
            "5   0.827   0.07    0.791    0.07  ...   0.06     rfecv      pca_52        52\n",
            "4   0.820   0.07    0.782    0.07  ...   0.05     rfecv      pca_48        48\n",
            "1   0.800   0.03    0.752    0.03  ...   0.03  no_rfecv  Umapper_12        12\n",
            "0   0.767   0.05    0.713    0.06  ...   0.04  no_rfecv   Umapper_8         8\n",
            "\n",
            "[6 rows x 9 columns]\n",
            "best extractor = ac mean         0.800\n",
            "ac std           0.10\n",
            "AUC mean        0.808\n",
            "AUC std          0.10\n",
            "f1 mean         0.821\n",
            "f1 std           0.10\n",
            "rfecv        no_rfecv\n",
            "model           pca_8\n",
            "component           8\n",
            "Name: 3, dtype: object\n",
            "feature selection and extraction finished\n",
            "after feature extraction 8 columns left\n",
            "                     0         1         2  ...         5         6         7\n",
            "ID                                          ...                              \n",
            "TCGA-02-0064  0.438135 -0.007831  0.161963  ...  0.019163  0.030153 -0.033789\n",
            "TCGA-02-0068  0.449925 -0.034891 -0.040808  ... -0.048417  0.024201  0.062844\n",
            "TCGA-02-0069  0.099950  0.262372 -0.091552  ... -0.099388  0.095788 -0.005910\n",
            "TCGA-02-0070  0.289757 -0.022243  0.129407  ... -0.051349 -0.032267  0.158809\n",
            "TCGA-02-0075  0.125471  0.525530 -0.376994  ...  0.029906 -0.002597  0.029757\n",
            "...                ...       ...       ...  ...       ...       ...       ...\n",
            "TCGA-HT-8018  0.159530 -0.022880  0.093725  ... -0.239066  0.212968  0.204332\n",
            "TCGA-HT-8111 -0.227242 -0.065840 -0.001671  ... -0.198651  0.089011 -0.017582\n",
            "TCGA-HT-8114 -0.258664 -0.030478 -0.005565  ...  0.023008 -0.044553 -0.051211\n",
            "TCGA-HT-8563  0.018236 -0.138093 -0.113703  ... -0.202607  0.078445  0.014140\n",
            "TCGA-HT-A61A -0.258664 -0.030478 -0.005565  ...  0.023008 -0.044553 -0.051211\n",
            "\n",
            "[150 rows x 8 columns]               label\n",
            "ID                 \n",
            "TCGA-02-0064      1\n",
            "TCGA-02-0068      1\n",
            "TCGA-02-0069      1\n",
            "TCGA-02-0070      1\n",
            "TCGA-02-0075      1\n",
            "...             ...\n",
            "TCGA-HT-8018      0\n",
            "TCGA-HT-8111      0\n",
            "TCGA-HT-8114      0\n",
            "TCGA-HT-8563      0\n",
            "TCGA-HT-A61A      0\n",
            "\n",
            "[150 rows x 1 columns]\n",
            "Best classifier: parameters={'kernel': 'rbf', 'degree': 1}\n",
            "{'mean_fit_time': array([0.0054491 , 0.00398636, 0.00384607, 0.00430903, 0.00276217,\n",
            "       0.00395246, 0.00430617, 0.00347877, 0.00273995, 0.00397429]), 'std_fit_time': array([1.71793079e-04, 6.73306056e-04, 8.09162951e-04, 2.35715207e-04,\n",
            "       5.65406230e-05, 7.58465524e-05, 1.42570531e-04, 9.22119725e-05,\n",
            "       3.37455875e-05, 1.78515796e-04]), 'mean_score_time': array([0.0051692 , 0.00420971, 0.00397315, 0.00347371, 0.00334153,\n",
            "       0.00342612, 0.00363441, 0.00337372, 0.00334315, 0.00342736]), 'std_score_time': array([1.08365837e-04, 7.43058993e-04, 1.23579606e-03, 2.94059719e-05,\n",
            "       4.71706444e-05, 4.21116058e-05, 2.07518216e-04, 3.77616495e-05,\n",
            "       4.48547411e-05, 1.34968806e-04]), 'param_kernel': masked_array(data=['poly', 'poly', 'poly', 'sigmoid', 'linear', 'rbf',\n",
            "                   'sigmoid', 'poly', 'linear', 'rbf'],\n",
            "             mask=[False, False, False, False, False, False, False, False,\n",
            "                   False, False],\n",
            "       fill_value='?',\n",
            "            dtype=object), 'param_degree': masked_array(data=[2, 1, 3, 3, 3, 1, 1, 4, 4, 3],\n",
            "             mask=[False, False, False, False, False, False, False, False,\n",
            "                   False, False],\n",
            "       fill_value='?',\n",
            "            dtype=object), 'params': [{'kernel': 'poly', 'degree': 2}, {'kernel': 'poly', 'degree': 1}, {'kernel': 'poly', 'degree': 3}, {'kernel': 'sigmoid', 'degree': 3}, {'kernel': 'linear', 'degree': 3}, {'kernel': 'rbf', 'degree': 1}, {'kernel': 'sigmoid', 'degree': 1}, {'kernel': 'poly', 'degree': 4}, {'kernel': 'linear', 'degree': 4}, {'kernel': 'rbf', 'degree': 3}], 'split0_test_AUC': array([0.8277512 , 0.9569378 , 0.88995215, 0.94258373, 0.97129187,\n",
            "       0.9569378 , 0.94258373, 0.77511962, 0.97129187, 0.9569378 ]), 'split1_test_AUC': array([0.68981481, 0.62962963, 0.71759259, 0.68518519, 0.66203704,\n",
            "       0.81018519, 0.68518519, 0.69907407, 0.66203704, 0.81018519]), 'split2_test_AUC': array([0.97685185, 0.95833333, 0.98611111, 0.9212963 , 0.91666667,\n",
            "       0.97685185, 0.9212963 , 0.92592593, 0.91666667, 0.97685185]), 'split3_test_AUC': array([0.6712963 , 0.82175926, 0.7962963 , 0.85648148, 0.82638889,\n",
            "       0.75925926, 0.85648148, 0.69907407, 0.82638889, 0.75925926]), 'split4_test_AUC': array([0.85185185, 0.8287037 , 0.83796296, 0.81481481, 0.85648148,\n",
            "       0.8287037 , 0.81481481, 0.65277778, 0.85648148, 0.8287037 ]), 'mean_test_AUC': array([0.8035132 , 0.83907274, 0.84558302, 0.8440723 , 0.84657319,\n",
            "       0.86638756, 0.8440723 , 0.75039429, 0.84657319, 0.86638756]), 'std_test_AUC': array([0.11258688, 0.12032369, 0.09009502, 0.09156763, 0.10490664,\n",
            "       0.08538965, 0.09156763, 0.0961449 , 0.10490664, 0.08538965]), 'rank_test_AUC': array([ 9,  8,  5,  6,  3,  1,  6, 10,  3,  1], dtype=int32), 'split0_test_Accuracy': array([0.73333333, 0.9       , 0.8       , 0.86666667, 0.9       ,\n",
            "       0.83333333, 0.86666667, 0.6       , 0.9       , 0.83333333]), 'split1_test_Accuracy': array([0.6       , 0.63333333, 0.66666667, 0.63333333, 0.63333333,\n",
            "       0.66666667, 0.63333333, 0.56666667, 0.63333333, 0.66666667]), 'split2_test_Accuracy': array([0.83333333, 0.9       , 0.83333333, 0.86666667, 0.8       ,\n",
            "       0.93333333, 0.86666667, 0.73333333, 0.8       , 0.93333333]), 'split3_test_Accuracy': array([0.56666667, 0.73333333, 0.73333333, 0.76666667, 0.76666667,\n",
            "       0.76666667, 0.76666667, 0.63333333, 0.76666667, 0.76666667]), 'split4_test_Accuracy': array([0.8       , 0.73333333, 0.7       , 0.83333333, 0.73333333,\n",
            "       0.8       , 0.83333333, 0.53333333, 0.73333333, 0.8       ]), 'mean_test_Accuracy': array([0.70666667, 0.78      , 0.74666667, 0.79333333, 0.76666667,\n",
            "       0.8       , 0.79333333, 0.61333333, 0.76666667, 0.8       ]), 'std_test_Accuracy': array([0.10624918, 0.10456258, 0.06182412, 0.08793937, 0.0869227 ,\n",
            "       0.0869227 , 0.08793937, 0.06863753, 0.0869227 , 0.0869227 ]), 'rank_test_Accuracy': array([ 9,  5,  8,  3,  6,  1,  3, 10,  6,  1], dtype=int32), 'split0_test_f1-score': array([0.76470588, 0.91891892, 0.83333333, 0.88888889, 0.91891892,\n",
            "       0.86486486, 0.88888889, 0.57142857, 0.91891892, 0.86486486]), 'split1_test_f1-score': array([0.57142857, 0.64516129, 0.66666667, 0.64516129, 0.64516129,\n",
            "       0.6875    , 0.64516129, 0.51851852, 0.64516129, 0.6875    ]), 'split2_test_f1-score': array([0.83870968, 0.90909091, 0.83870968, 0.875     , 0.8       ,\n",
            "       0.94117647, 0.875     , 0.71428571, 0.8       , 0.94117647]), 'split3_test_f1-score': array([0.60606061, 0.75      , 0.75      , 0.77419355, 0.77419355,\n",
            "       0.8       , 0.77419355, 0.62068966, 0.77419355, 0.8       ]), 'split4_test_f1-score': array([0.82352941, 0.76470588, 0.70967742, 0.85714286, 0.75      ,\n",
            "       0.83333333, 0.85714286, 0.41666667, 0.75      , 0.83333333]), 'mean_test_f1-score': array([0.72088683, 0.7975754 , 0.75967742, 0.80807732, 0.77765475,\n",
            "       0.82537493, 0.80807732, 0.56831783, 0.77765475, 0.82537493]), 'std_test_f1-score': array([0.11123009, 0.10366662, 0.06769925, 0.09067119, 0.08807515,\n",
            "       0.08329006, 0.09067119, 0.09953608, 0.08807515, 0.08329006]), 'rank_test_f1-score': array([ 9,  5,  8,  3,  6,  1,  3, 10,  6,  1], dtype=int32)}\n",
            "0.8663875598086126\n",
            "Best classifier: parameters={'n_estimators': 226}\n",
            "{'mean_fit_time': array([0.28217463, 0.22459898, 0.39186606, 0.29233952, 0.05972557,\n",
            "       0.22918005, 0.47085738, 0.03960156, 0.08938475, 0.03369608]), 'std_fit_time': array([0.0040774 , 0.00295063, 0.00405479, 0.00604299, 0.00363794,\n",
            "       0.0021704 , 0.00364593, 0.00023275, 0.00219624, 0.00030365]), 'mean_score_time': array([0.0356051 , 0.02931781, 0.0486074 , 0.03945208, 0.01076932,\n",
            "       0.03104959, 0.0572989 , 0.00837069, 0.01408715, 0.00768709]), 'std_score_time': array([2.34641851e-04, 1.96788760e-04, 3.79835305e-04, 4.46448147e-03,\n",
            "       3.73848707e-04, 2.10032186e-03, 5.67387551e-04, 1.13192283e-04,\n",
            "       2.41622352e-04, 7.23525559e-05]), 'param_n_estimators': masked_array(data=[226, 181, 316, 236, 46, 186, 381, 31, 71, 26],\n",
            "             mask=[False, False, False, False, False, False, False, False,\n",
            "                   False, False],\n",
            "       fill_value='?',\n",
            "            dtype=object), 'params': [{'n_estimators': 226}, {'n_estimators': 181}, {'n_estimators': 316}, {'n_estimators': 236}, {'n_estimators': 46}, {'n_estimators': 186}, {'n_estimators': 381}, {'n_estimators': 31}, {'n_estimators': 71}, {'n_estimators': 26}], 'split0_test_AUC': array([0.84688995, 0.84688995, 0.81818182, 0.86602871, 0.80143541,\n",
            "       0.84688995, 0.84210526, 0.83971292, 0.83732057, 0.8492823 ]), 'split1_test_AUC': array([0.76851852, 0.7662037 , 0.76157407, 0.77083333, 0.74768519,\n",
            "       0.77083333, 0.78009259, 0.79166667, 0.78935185, 0.76157407]), 'split2_test_AUC': array([0.98611111, 0.98611111, 0.98148148, 0.97222222, 0.96064815,\n",
            "       0.97222222, 0.98148148, 1.        , 0.97222222, 0.96296296]), 'split3_test_AUC': array([0.87268519, 0.87268519, 0.87037037, 0.86574074, 0.88888889,\n",
            "       0.85648148, 0.875     , 0.85416667, 0.86342593, 0.85416667]), 'split4_test_AUC': array([0.87962963, 0.875     , 0.86342593, 0.85185185, 0.85416667,\n",
            "       0.87731481, 0.85648148, 0.80092593, 0.8912037 , 0.87962963]), 'mean_test_AUC': array([0.87076688, 0.86937799, 0.85900673, 0.86533537, 0.85056486,\n",
            "       0.86474836, 0.86703216, 0.85729444, 0.87070486, 0.86152313]), 'std_test_AUC': array([0.06987325, 0.07045539, 0.07253761, 0.06409038, 0.07293554,\n",
            "       0.06467742, 0.06550311, 0.07505756, 0.06084699, 0.06451613]), 'rank_test_AUC': array([ 1,  3,  8,  5, 10,  6,  4,  9,  2,  7], dtype=int32), 'split0_test_Accuracy': array([0.83333333, 0.83333333, 0.83333333, 0.83333333, 0.83333333,\n",
            "       0.83333333, 0.83333333, 0.8       , 0.83333333, 0.76666667]), 'split1_test_Accuracy': array([0.66666667, 0.7       , 0.66666667, 0.66666667, 0.66666667,\n",
            "       0.7       , 0.66666667, 0.73333333, 0.66666667, 0.66666667]), 'split2_test_Accuracy': array([0.93333333, 0.9       , 0.9       , 0.9       , 0.86666667,\n",
            "       0.9       , 0.9       , 1.        , 0.83333333, 0.93333333]), 'split3_test_Accuracy': array([0.8       , 0.8       , 0.8       , 0.8       , 0.83333333,\n",
            "       0.8       , 0.8       , 0.8       , 0.8       , 0.8       ]), 'split4_test_Accuracy': array([0.83333333, 0.8       , 0.8       , 0.8       , 0.83333333,\n",
            "       0.8       , 0.83333333, 0.8       , 0.8       , 0.83333333]), 'mean_test_Accuracy': array([0.81333333, 0.80666667, 0.8       , 0.8       , 0.80666667,\n",
            "       0.80666667, 0.80666667, 0.82666667, 0.78666667, 0.8       ]), 'std_test_Accuracy': array([0.08589399, 0.06463573, 0.0760117 , 0.0760117 , 0.07118052,\n",
            "       0.06463573, 0.07717225, 0.09043107, 0.06182412, 0.0869227 ]), 'rank_test_Accuracy': array([ 2,  3,  7,  7,  3,  3,  3,  1, 10,  7], dtype=int32), 'split0_test_f1-score': array([0.87804878, 0.87804878, 0.87804878, 0.87804878, 0.87804878,\n",
            "       0.87804878, 0.87804878, 0.85      , 0.87804878, 0.82051282]), 'split1_test_f1-score': array([0.72222222, 0.75675676, 0.72222222, 0.72222222, 0.72222222,\n",
            "       0.75675676, 0.72222222, 0.77777778, 0.72222222, 0.72222222]), 'split2_test_f1-score': array([0.94444444, 0.91891892, 0.91891892, 0.91891892, 0.89473684,\n",
            "       0.91891892, 0.91891892, 1.        , 0.87179487, 0.94444444]), 'split3_test_f1-score': array([0.83333333, 0.83333333, 0.83333333, 0.83333333, 0.86486486,\n",
            "       0.83333333, 0.83333333, 0.83333333, 0.83333333, 0.83333333]), 'split4_test_f1-score': array([0.86486486, 0.83333333, 0.83333333, 0.83333333, 0.86486486,\n",
            "       0.83333333, 0.86486486, 0.83333333, 0.84210526, 0.86486486]), 'mean_test_f1-score': array([0.84858273, 0.84407822, 0.83717132, 0.83717132, 0.84494751,\n",
            "       0.84407822, 0.84347762, 0.85888889, 0.82950089, 0.83707554]), 'std_test_f1-score': array([0.07283179, 0.05405751, 0.06572122, 0.06572122, 0.0623371 ,\n",
            "       0.05405751, 0.06655787, 0.07466799, 0.05626357, 0.07180521]), 'rank_test_f1-score': array([ 2,  4,  7,  7,  3,  4,  6,  1, 10,  9], dtype=int32)}\n",
            "0.8707668793195109\n",
            "Best classifier: parameters={'weights': 'distance', 'n_neighbors': 11}\n",
            "{'mean_fit_time': array([0.00169621, 0.00166731, 0.0014637 , 0.00171685, 0.00148044,\n",
            "       0.00170345, 0.00155416, 0.00142155, 0.00157542, 0.00189123]), 'std_fit_time': array([2.41267285e-04, 6.80188442e-05, 2.27133711e-05, 9.08912164e-05,\n",
            "       4.57725424e-05, 3.77468174e-04, 1.94252479e-05, 3.39059721e-05,\n",
            "       3.63778315e-05, 4.38879185e-04]), 'mean_score_time': array([0.00556545, 0.0047956 , 0.00604706, 0.00482435, 0.00584445,\n",
            "       0.00605159, 0.0056169 , 0.00510468, 0.00491238, 0.00579648]), 'std_score_time': array([1.37410984e-04, 1.78209517e-04, 1.81656146e-04, 2.64827193e-04,\n",
            "       1.52031555e-04, 9.47878660e-04, 5.51047181e-05, 3.64131912e-05,\n",
            "       1.61511158e-04, 1.32200070e-03]), 'param_weights': masked_array(data=['uniform', 'distance', 'uniform', 'distance',\n",
            "                   'uniform', 'distance', 'uniform', 'distance',\n",
            "                   'distance', 'distance'],\n",
            "             mask=[False, False, False, False, False, False, False, False,\n",
            "                   False, False],\n",
            "       fill_value='?',\n",
            "            dtype=object), 'param_n_neighbors': masked_array(data=[45, 29, 99, 11, 83, 85, 59, 91, 49, 41],\n",
            "             mask=[False, False, False, False, False, False, False, False,\n",
            "                   False, False],\n",
            "       fill_value='?',\n",
            "            dtype=object), 'params': [{'weights': 'uniform', 'n_neighbors': 45}, {'weights': 'distance', 'n_neighbors': 29}, {'weights': 'uniform', 'n_neighbors': 99}, {'weights': 'distance', 'n_neighbors': 11}, {'weights': 'uniform', 'n_neighbors': 83}, {'weights': 'distance', 'n_neighbors': 85}, {'weights': 'uniform', 'n_neighbors': 59}, {'weights': 'distance', 'n_neighbors': 91}, {'weights': 'distance', 'n_neighbors': 49}, {'weights': 'distance', 'n_neighbors': 41}], 'split0_test_AUC': array([0.97129187, 0.96650718, 0.73444976, 0.92822967, 0.82535885,\n",
            "       0.9569378 , 0.91148325, 0.95215311, 0.96650718, 0.98086124]), 'split1_test_AUC': array([0.6412037 , 0.78240741, 0.7337963 , 0.78240741, 0.66898148,\n",
            "       0.75925926, 0.58101852, 0.75462963, 0.74537037, 0.75      ]), 'split2_test_AUC': array([0.78472222, 0.86574074, 0.86805556, 0.94907407, 0.94444444,\n",
            "       0.88888889, 0.86574074, 0.875     , 0.89351852, 0.86111111]), 'split3_test_AUC': array([0.7962963 , 0.80555556, 0.80092593, 0.79166667, 0.7962963 ,\n",
            "       0.80324074, 0.7962963 , 0.80787037, 0.83333333, 0.81944444]), 'split4_test_AUC': array([0.81481481, 0.85185185, 0.83101852, 0.89814815, 0.81712963,\n",
            "       0.82407407, 0.69444444, 0.81944444, 0.84259259, 0.85185185]), 'mean_test_AUC': array([0.80166578, 0.85441255, 0.79364921, 0.86990519, 0.81044214,\n",
            "       0.84648015, 0.76979665, 0.84181951, 0.8562644 , 0.85265373]), 'std_test_AUC': array([0.10489032, 0.06367391, 0.05305217, 0.06963368, 0.08767562,\n",
            "       0.06925107, 0.11941334, 0.06712632, 0.07287191, 0.0750333 ]), 'rank_test_AUC': array([ 8,  3,  9,  1,  7,  5, 10,  6,  2,  4], dtype=int32), 'split0_test_Accuracy': array([0.9       , 0.9       , 0.63333333, 0.8       , 0.6       ,\n",
            "       0.86666667, 0.83333333, 0.86666667, 0.9       , 0.93333333]), 'split1_test_Accuracy': array([0.56666667, 0.63333333, 0.6       , 0.7       , 0.66666667,\n",
            "       0.63333333, 0.5       , 0.66666667, 0.56666667, 0.6       ]), 'split2_test_Accuracy': array([0.66666667, 0.73333333, 0.6       , 0.9       , 0.86666667,\n",
            "       0.8       , 0.7       , 0.7       , 0.76666667, 0.73333333]), 'split3_test_Accuracy': array([0.63333333, 0.73333333, 0.6       , 0.76666667, 0.73333333,\n",
            "       0.7       , 0.63333333, 0.7       , 0.66666667, 0.73333333]), 'split4_test_Accuracy': array([0.56666667, 0.73333333, 0.6       , 0.76666667, 0.63333333,\n",
            "       0.76666667, 0.63333333, 0.76666667, 0.6       , 0.63333333]), 'mean_test_Accuracy': array([0.66666667, 0.74666667, 0.60666667, 0.78666667, 0.7       ,\n",
            "       0.75333333, 0.66      , 0.74      , 0.7       , 0.72666667]), 'std_test_Accuracy': array([0.12292726, 0.08589399, 0.01333333, 0.06531973, 0.0942809 ,\n",
            "       0.08055364, 0.10832051, 0.07118052, 0.12110601, 0.11623731]), 'rank_test_Accuracy': array([ 8,  3, 10,  1,  6,  2,  9,  4,  6,  5], dtype=int32), 'split0_test_f1-score': array([0.91428571, 0.91891892, 0.7755102 , 0.84210526, 0.73913043,\n",
            "       0.88888889, 0.84848485, 0.89473684, 0.91428571, 0.94444444]), 'split1_test_f1-score': array([0.58064516, 0.66666667, 0.75      , 0.72727273, 0.6875    ,\n",
            "       0.66666667, 0.44444444, 0.70588235, 0.58064516, 0.625     ]), 'split2_test_f1-score': array([0.66666667, 0.76470588, 0.75      , 0.91428571, 0.88235294,\n",
            "       0.8125    , 0.66666667, 0.74285714, 0.77419355, 0.75      ]), 'split3_test_f1-score': array([0.59259259, 0.75      , 0.75      , 0.8       , 0.75      ,\n",
            "       0.72727273, 0.59259259, 0.72727273, 0.64285714, 0.73333333]), 'split4_test_f1-score': array([0.51851852, 0.75      , 0.75      , 0.8       , 0.76595745,\n",
            "       0.8       , 0.59259259, 0.8       , 0.57142857, 0.62068966]), 'mean_test_f1-score': array([0.65454173, 0.77005829, 0.75510204, 0.81673274, 0.76498816,\n",
            "       0.77906566, 0.62895623, 0.77414981, 0.69668203, 0.73469349]), 'std_test_f1-score': array([0.13814099, 0.08207635, 0.01020408, 0.06119381, 0.06430103,\n",
            "       0.07607008, 0.13138045, 0.06789198, 0.13069774, 0.11769549]), 'rank_test_f1-score': array([ 9,  4,  6,  1,  5,  2, 10,  3,  8,  7], dtype=int32)}\n",
            "0.8699051922736134\n",
            "Best classifier: parameters={}\n",
            "{'mean_fit_time': array([0.0020802]), 'std_fit_time': array([0.00011922]), 'mean_score_time': array([0.00344205]), 'std_score_time': array([0.0001171]), 'params': [{}], 'split0_test_AUC': array([0.89952153]), 'split1_test_AUC': array([0.62962963]), 'split2_test_AUC': array([1.]), 'split3_test_AUC': array([0.82407407]), 'split4_test_AUC': array([0.85185185]), 'mean_test_AUC': array([0.84101542]), 'std_test_AUC': array([0.12148041]), 'rank_test_AUC': array([1], dtype=int32), 'split0_test_Accuracy': array([0.83333333]), 'split1_test_Accuracy': array([0.63333333]), 'split2_test_Accuracy': array([0.86666667]), 'split3_test_Accuracy': array([0.7]), 'split4_test_Accuracy': array([0.73333333]), 'mean_test_Accuracy': array([0.75333333]), 'std_test_Accuracy': array([0.08589399]), 'rank_test_Accuracy': array([1], dtype=int32), 'split0_test_f1-score': array([0.86486486]), 'split1_test_f1-score': array([0.64516129]), 'split2_test_f1-score': array([0.875]), 'split3_test_f1-score': array([0.72727273]), 'split4_test_f1-score': array([0.76470588]), 'mean_test_f1-score': array([0.77540095]), 'std_test_f1-score': array([0.08639079]), 'rank_test_f1-score': array([1], dtype=int32)}\n",
            "0.8410154173312069\n",
            "   accuracy       AUC  ...                                  parameters         set\n",
            "0  0.800000  0.866388  ...              {'kernel': 'rbf', 'degree': 1}  validation\n",
            "1  0.813333  0.870767  ...                       {'n_estimators': 226}  validation\n",
            "2  0.786667  0.869905  ...  {'weights': 'distance', 'n_neighbors': 11}  validation\n",
            "3  0.753333  0.841015  ...                                          {}  validation\n",
            "\n",
            "[4 rows x 8 columns]\n",
            "index_best_classifier=mean_score    1\n",
            "dtype: int64\n",
            "best_classifier=[RandomForestClassifier(bootstrap=True, ccp_alpha=0.0, class_weight=None,\n",
            "                       criterion='gini', max_depth=None, max_features='auto',\n",
            "                       max_leaf_nodes=None, max_samples=None,\n",
            "                       min_impurity_decrease=0.0, min_impurity_split=None,\n",
            "                       min_samples_leaf=1, min_samples_split=2,\n",
            "                       min_weight_fraction_leaf=0.0, n_estimators=226,\n",
            "                       n_jobs=None, oob_score=False, random_state=None,\n",
            "                       verbose=0, warm_start=False)]\n"
          ],
          "name": "stdout"
        },
        {
          "output_type": "stream",
          "text": [
            "/usr/local/lib/python3.6/dist-packages/sklearn/model_selection/_search.py:281: UserWarning: The total space of parameters 1 is smaller than n_iter=10. Running 1 iterations. For exhaustive searches, use GridSearchCV.\n",
            "  % (grid_size, self.n_iter, grid_size), UserWarning)\n"
          ],
          "name": "stderr"
        },
        {
          "output_type": "stream",
          "text": [
            "   accuracy       AUC  ...      clf_name       set\n",
            "0  0.973333  0.978022  ...  RandomForest  training\n",
            "1  0.882353  0.833333  ...  RandomForest   testing\n",
            "\n",
            "[2 rows x 6 columns]\n"
          ],
          "name": "stdout"
        },
        {
          "output_type": "error",
          "ename": "TypeError",
          "evalue": "ignored",
          "traceback": [
            "\u001b[0;31m---------------------------------------------------------------------------\u001b[0m",
            "\u001b[0;31mTypeError\u001b[0m                                 Traceback (most recent call last)",
            "\u001b[0;32m<ipython-input-74-f8626197f570>\u001b[0m in \u001b[0;36m<module>\u001b[0;34m()\u001b[0m\n\u001b[1;32m     31\u001b[0m \u001b[0mprint\u001b[0m\u001b[0;34m(\u001b[0m\u001b[0mresults_outer\u001b[0m\u001b[0;34m)\u001b[0m\u001b[0;34m\u001b[0m\u001b[0;34m\u001b[0m\u001b[0m\n\u001b[1;32m     32\u001b[0m \u001b[0;34m\u001b[0m\u001b[0m\n\u001b[0;32m---> 33\u001b[0;31m \u001b[0moptimal_classifier\u001b[0m \u001b[0;34m=\u001b[0m \u001b[0mstr\u001b[0m\u001b[0;34m(\u001b[0m\u001b[0mresults_outer\u001b[0m\u001b[0;34m.\u001b[0m\u001b[0mmedian\u001b[0m\u001b[0;34m[\u001b[0m\u001b[0;34m'clf_name'\u001b[0m\u001b[0;34m]\u001b[0m\u001b[0;34m)\u001b[0m\u001b[0;34m\u001b[0m\u001b[0;34m\u001b[0m\u001b[0m\n\u001b[0m\u001b[1;32m     34\u001b[0m \u001b[0mprint\u001b[0m\u001b[0;34m(\u001b[0m\u001b[0;34mf\"The optimal classifier={optimal_classifier}\"\u001b[0m\u001b[0;34m)\u001b[0m\u001b[0;34m\u001b[0m\u001b[0;34m\u001b[0m\u001b[0m\n\u001b[1;32m     35\u001b[0m \u001b[0;34m\u001b[0m\u001b[0m\n",
            "\u001b[0;31mTypeError\u001b[0m: 'method' object is not subscriptable"
          ]
        },
        {
          "output_type": "display_data",
          "data": {
            "image/png": "[encoded data removed]",
            "text/plain": [
              "<Figure size 432x288 with 1 Axes>"
            ]
          },
          "metadata": {
            "tags": []
          }
        }
      ]
    },
    {
      "cell_type": "code",
      "metadata": {
        "id": "RrcRetOJJGTz",
        "colab_type": "code",
        "colab": {
          "base_uri": "https://localhost:8080/",
          "height": 146
        },
        "outputId": "a71df200-ef31-49a9-9864-1e3b6e086142"
      },
      "source": [
        ""
      ],
      "execution_count": 71,
      "outputs": [
        {
          "output_type": "stream",
          "text": [
            "   accuracy       AUC  ...                                  parameters         set\n",
            "0  0.800000  0.866388  ...              {'kernel': 'rbf', 'degree': 3}  validation\n",
            "1  0.800000  0.868421  ...                       {'n_estimators': 361}  validation\n",
            "2  0.753333  0.857591  ...  {'weights': 'distance', 'n_neighbors': 77}  validation\n",
            "3  0.753333  0.841015  ...                                          {}  validation\n",
            "\n",
            "[4 rows x 8 columns]\n"
          ],
          "name": "stdout"
        }
      ]
    },
    {
      "cell_type": "markdown",
      "metadata": {
        "id": "qZ2Xmxyy4izP",
        "colab_type": "text"
      },
      "source": [
        "### Result"
      ]
    }
  ]
}