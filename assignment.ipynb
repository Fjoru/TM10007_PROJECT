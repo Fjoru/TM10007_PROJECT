{
  "nbformat": 4,
  "nbformat_minor": 0,
  "metadata": {
    "colab": {
      "name": "assignment.ipynb",
      "provenance": [],
      "collapsed_sections": [],
      "toc_visible": true,
      "include_colab_link": true
    },
    "kernelspec": {
      "name": "python3",
      "display_name": "Python 3"
    },
    "language_info": {
      "codemirror_mode": {
        "name": "ipython",
        "version": 3
      },
      "file_extension": ".py",
      "mimetype": "text/x-python",
      "name": "python",
      "nbconvert_exporter": "python",
      "pygments_lexer": "ipython3",
      "version": "3.7.4-final"
    }
  },
  "cells": [
    {
      "cell_type": "markdown",
      "metadata": {
        "id": "view-in-github",
        "colab_type": "text"
      },
      "source": [
        "<a href=\"https://colab.research.google.com/github/Fjoru/TM10007_PROJECT/blob/master/assignment.ipynb\" target=\"_parent\"><img src=\"https://colab.research.google.com/assets/colab-badge.svg\" alt=\"Open In Colab\"/></a>"
      ]
    },
    {
      "cell_type": "markdown",
      "metadata": {
        "colab_type": "text",
        "id": "7SXpaKwwGe5x"
      },
      "source": [
        "# TM10007 Assignment Prediction of tumor grade in brain cancer\n",
        "By Jessica Barends, Gonnie van Erp, Erik Kemper en Carlijn Oerlemans\n",
        "\n"
      ]
    },
    {
      "cell_type": "markdown",
      "metadata": {
        "id": "ZcXbVrrHA1sC",
        "colab_type": "text"
      },
      "source": [
        "## Set-up\n",
        "Getting the dataset and used packages."
      ]
    },
    {
      "cell_type": "code",
      "metadata": {
        "id": "3Xw_qQnScF4p",
        "colab_type": "code",
        "outputId": "ea221ff0-902a-4f8d-9410-a6d20665d85f",
        "colab": {
          "base_uri": "https://localhost:8080/",
          "height": 1000
        }
      },
      "source": [
        "# Run install for use in colab environment\n",
        "!pip install --upgrade pip\n",
        "!pip install -q --upgrade git+https://github.com/Fjoru/TM10007_PROJECT\n",
        "!pip install ipdb -q\n",
        "!pip install seaborn\n",
        "!pip install tensorflow"
      ],
      "execution_count": 1,
      "outputs": [
        {
          "output_type": "stream",
          "text": [
            "Collecting pip\n",
            "\u001b[?25l  Downloading https://files.pythonhosted.org/packages/54/0c/d01aa759fdc501a58f431eb594a17495f15b88da142ce14b5845662c13f3/pip-20.0.2-py2.py3-none-any.whl (1.4MB)\n",
            "\u001b[K     |████████████████████████████████| 1.4MB 2.8MB/s \n",
            "\u001b[?25hInstalling collected packages: pip\n",
            "  Found existing installation: pip 19.3.1\n",
            "    Uninstalling pip-19.3.1:\n",
            "      Successfully uninstalled pip-19.3.1\n",
            "Successfully installed pip-20.0.2\n",
            "  Building wheel for brats (setup.py) ... \u001b[?25l\u001b[?25hdone\n",
            "  Building wheel for ipdb (setup.py) ... \u001b[?25l\u001b[?25hdone\n",
            "Requirement already satisfied: seaborn in /usr/local/lib/python3.6/dist-packages (0.10.0)\n",
            "Requirement already satisfied: matplotlib>=2.1.2 in /usr/local/lib/python3.6/dist-packages (from seaborn) (3.2.1)\n",
            "Requirement already satisfied: numpy>=1.13.3 in /usr/local/lib/python3.6/dist-packages (from seaborn) (1.18.2)\n",
            "Requirement already satisfied: pandas>=0.22.0 in /usr/local/lib/python3.6/dist-packages (from seaborn) (1.0.3)\n",
            "Requirement already satisfied: scipy>=1.0.1 in /usr/local/lib/python3.6/dist-packages (from seaborn) (1.4.1)\n",
            "Requirement already satisfied: kiwisolver>=1.0.1 in /usr/local/lib/python3.6/dist-packages (from matplotlib>=2.1.2->seaborn) (1.2.0)\n",
            "Requirement already satisfied: cycler>=0.10 in /usr/local/lib/python3.6/dist-packages (from matplotlib>=2.1.2->seaborn) (0.10.0)\n",
            "Requirement already satisfied: pyparsing!=2.0.4,!=2.1.2,!=2.1.6,>=2.0.1 in /usr/local/lib/python3.6/dist-packages (from matplotlib>=2.1.2->seaborn) (2.4.6)\n",
            "Requirement already satisfied: python-dateutil>=2.1 in /usr/local/lib/python3.6/dist-packages (from matplotlib>=2.1.2->seaborn) (2.8.1)\n",
            "Requirement already satisfied: pytz>=2017.2 in /usr/local/lib/python3.6/dist-packages (from pandas>=0.22.0->seaborn) (2018.9)\n",
            "Requirement already satisfied: six in /usr/local/lib/python3.6/dist-packages (from cycler>=0.10->matplotlib>=2.1.2->seaborn) (1.12.0)\n",
            "Requirement already satisfied: tensorflow in /usr/local/lib/python3.6/dist-packages (2.2.0rc2)\n",
            "Requirement already satisfied: six>=1.12.0 in /usr/local/lib/python3.6/dist-packages (from tensorflow) (1.12.0)\n",
            "Requirement already satisfied: termcolor>=1.1.0 in /usr/local/lib/python3.6/dist-packages (from tensorflow) (1.1.0)\n",
            "Requirement already satisfied: absl-py>=0.7.0 in /usr/local/lib/python3.6/dist-packages (from tensorflow) (0.9.0)\n",
            "Requirement already satisfied: keras-preprocessing>=1.1.0 in /usr/local/lib/python3.6/dist-packages (from tensorflow) (1.1.0)\n",
            "Requirement already satisfied: wheel>=0.26; python_version >= \"3\" in /usr/local/lib/python3.6/dist-packages (from tensorflow) (0.34.2)\n",
            "Requirement already satisfied: scipy==1.4.1; python_version >= \"3\" in /usr/local/lib/python3.6/dist-packages (from tensorflow) (1.4.1)\n",
            "Requirement already satisfied: astunparse==1.6.3 in /usr/local/lib/python3.6/dist-packages (from tensorflow) (1.6.3)\n",
            "Requirement already satisfied: google-pasta>=0.1.8 in /usr/local/lib/python3.6/dist-packages (from tensorflow) (0.2.0)\n",
            "Requirement already satisfied: protobuf>=3.8.0 in /usr/local/lib/python3.6/dist-packages (from tensorflow) (3.10.0)\n",
            "Requirement already satisfied: tensorflow-estimator<2.3.0,>=2.2.0rc0 in /usr/local/lib/python3.6/dist-packages (from tensorflow) (2.2.0rc0)\n",
            "Requirement already satisfied: opt-einsum>=2.3.2 in /usr/local/lib/python3.6/dist-packages (from tensorflow) (3.2.0)\n",
            "Requirement already satisfied: gast==0.3.3 in /usr/local/lib/python3.6/dist-packages (from tensorflow) (0.3.3)\n",
            "Requirement already satisfied: h5py<2.11.0,>=2.10.0 in /usr/local/lib/python3.6/dist-packages (from tensorflow) (2.10.0)\n",
            "Requirement already satisfied: numpy<2.0,>=1.16.0 in /usr/local/lib/python3.6/dist-packages (from tensorflow) (1.18.2)\n",
            "Requirement already satisfied: tensorboard<2.3.0,>=2.2.0 in /usr/local/lib/python3.6/dist-packages (from tensorflow) (2.2.0)\n",
            "Requirement already satisfied: wrapt>=1.11.1 in /usr/local/lib/python3.6/dist-packages (from tensorflow) (1.12.1)\n",
            "Requirement already satisfied: grpcio>=1.8.6 in /usr/local/lib/python3.6/dist-packages (from tensorflow) (1.27.2)\n",
            "Requirement already satisfied: setuptools in /usr/local/lib/python3.6/dist-packages (from protobuf>=3.8.0->tensorflow) (46.1.3)\n",
            "Requirement already satisfied: google-auth-oauthlib<0.5,>=0.4.1 in /usr/local/lib/python3.6/dist-packages (from tensorboard<2.3.0,>=2.2.0->tensorflow) (0.4.1)\n",
            "Requirement already satisfied: google-auth<2,>=1.6.3 in /usr/local/lib/python3.6/dist-packages (from tensorboard<2.3.0,>=2.2.0->tensorflow) (1.7.2)\n",
            "Requirement already satisfied: requests<3,>=2.21.0 in /usr/local/lib/python3.6/dist-packages (from tensorboard<2.3.0,>=2.2.0->tensorflow) (2.21.0)\n",
            "Requirement already satisfied: markdown>=2.6.8 in /usr/local/lib/python3.6/dist-packages (from tensorboard<2.3.0,>=2.2.0->tensorflow) (3.2.1)\n",
            "Requirement already satisfied: werkzeug>=0.11.15 in /usr/local/lib/python3.6/dist-packages (from tensorboard<2.3.0,>=2.2.0->tensorflow) (1.0.1)\n",
            "Requirement already satisfied: tensorboard-plugin-wit>=1.6.0 in /usr/local/lib/python3.6/dist-packages (from tensorboard<2.3.0,>=2.2.0->tensorflow) (1.6.0.post2)\n",
            "Requirement already satisfied: requests-oauthlib>=0.7.0 in /usr/local/lib/python3.6/dist-packages (from google-auth-oauthlib<0.5,>=0.4.1->tensorboard<2.3.0,>=2.2.0->tensorflow) (1.3.0)\n",
            "Requirement already satisfied: cachetools<3.2,>=2.0.0 in /usr/local/lib/python3.6/dist-packages (from google-auth<2,>=1.6.3->tensorboard<2.3.0,>=2.2.0->tensorflow) (3.1.1)\n",
            "Requirement already satisfied: rsa<4.1,>=3.1.4 in /usr/local/lib/python3.6/dist-packages (from google-auth<2,>=1.6.3->tensorboard<2.3.0,>=2.2.0->tensorflow) (4.0)\n",
            "Requirement already satisfied: pyasn1-modules>=0.2.1 in /usr/local/lib/python3.6/dist-packages (from google-auth<2,>=1.6.3->tensorboard<2.3.0,>=2.2.0->tensorflow) (0.2.8)\n",
            "Requirement already satisfied: chardet<3.1.0,>=3.0.2 in /usr/local/lib/python3.6/dist-packages (from requests<3,>=2.21.0->tensorboard<2.3.0,>=2.2.0->tensorflow) (3.0.4)\n",
            "Requirement already satisfied: idna<2.9,>=2.5 in /usr/local/lib/python3.6/dist-packages (from requests<3,>=2.21.0->tensorboard<2.3.0,>=2.2.0->tensorflow) (2.8)\n",
            "Requirement already satisfied: urllib3<1.25,>=1.21.1 in /usr/local/lib/python3.6/dist-packages (from requests<3,>=2.21.0->tensorboard<2.3.0,>=2.2.0->tensorflow) (1.24.3)\n",
            "Requirement already satisfied: certifi>=2017.4.17 in /usr/local/lib/python3.6/dist-packages (from requests<3,>=2.21.0->tensorboard<2.3.0,>=2.2.0->tensorflow) (2019.11.28)\n",
            "Requirement already satisfied: oauthlib>=3.0.0 in /usr/local/lib/python3.6/dist-packages (from requests-oauthlib>=0.7.0->google-auth-oauthlib<0.5,>=0.4.1->tensorboard<2.3.0,>=2.2.0->tensorflow) (3.1.0)\n",
            "Requirement already satisfied: pyasn1>=0.1.3 in /usr/local/lib/python3.6/dist-packages (from rsa<4.1,>=3.1.4->google-auth<2,>=1.6.3->tensorboard<2.3.0,>=2.2.0->tensorflow) (0.4.8)\n"
          ],
          "name": "stdout"
        }
      ]
    },
    {
      "cell_type": "markdown",
      "metadata": {
        "id": "MF9cuHLcdguY",
        "colab_type": "text"
      },
      "source": [
        "### Import section\n"
      ]
    },
    {
      "cell_type": "code",
      "metadata": {
        "id": "-6pgvYp3dGOO",
        "colab_type": "code",
        "colab": {
          "base_uri": "https://localhost:8080/",
          "height": 54
        },
        "outputId": "382a4ce8-fc29-4c37-ca11-9b4dde91ef32"
      },
      "source": [
        "import ipdb\n",
        "import pandas as pd\n",
        "import seaborn as sns\n",
        "import numpy as np\n",
        "import matplotlib.pyplot as plt\n",
        "from time import time\n",
        "import itertools\n",
        "\n",
        "# General\n",
        "from sklearn.model_selection import StratifiedKFold\n",
        "\n",
        "# Preprocessing\n",
        "from sklearn.preprocessing import RobustScaler\n",
        "from sklearn.experimental import enable_iterative_imputer\n",
        "from sklearn.impute import IterativeImputer\n",
        "\n",
        "# Feature selection\n",
        "from sklearn.feature_selection import RFECV\n",
        "\n",
        "# Feature extraction\n",
        "from sklearn.decomposition import PCA\n",
        "from sklearn.decomposition import KernelPCA\n",
        "from sklearn.decomposition import TruncatedSVD\n",
        "import umap\n",
        "\n",
        "# Classifiers used in random search\n",
        "from sklearn import svm\n",
        "from sklearn.discriminant_analysis import LinearDiscriminantAnalysis\n",
        "from sklearn.ensemble import RandomForestClassifier\n",
        "from sklearn.neighbors import KNeighborsClassifier\n",
        "from sklearn.model_selection import RandomizedSearchCV\n",
        "\n",
        "# Evaluation metrics used\n",
        "from sklearn.metrics import accuracy_score\n",
        "from sklearn.metrics import f1_score\n",
        "from sklearn.metrics import roc_auc_score\n",
        "from sklearn.metrics import make_scorer\n",
        "from sklearn.metrics import roc_curve\n",
        "\n",
        "# Optional \n",
        "#from sklearn import preprocessing\n",
        "#from sklearn.model_selection import cross_validate\n",
        "#from sklearn.model_selection import GridSearchCV\n",
        "#from sklearn.pipeline import Pipeline\n",
        "#from sklearn import model_selection"
      ],
      "execution_count": 2,
      "outputs": [
        {
          "output_type": "stream",
          "text": [
            "/usr/local/lib/python3.6/dist-packages/statsmodels/tools/_testing.py:19: FutureWarning: pandas.util.testing is deprecated. Use the functions in the public API at pandas.testing instead.\n",
            "  import pandas.util.testing as tm\n"
          ],
          "name": "stderr"
        }
      ]
    },
    {
      "cell_type": "markdown",
      "metadata": {
        "id": "hRkslrxO-_mY",
        "colab_type": "text"
      },
      "source": [
        "### General definitions"
      ]
    },
    {
      "cell_type": "code",
      "metadata": {
        "id": "H5EOPRcBdErp",
        "colab_type": "code",
        "colab": {}
      },
      "source": [
        "def colorplot(clf, ax, x, y, h=100, precomputer=None):\n",
        "    '''\n",
        "    Overlay the decision areas as colors in an axes.\n",
        "    \n",
        "    Input:\n",
        "        clf: trained classifier\n",
        "        ax: axis to overlay color mesh on\n",
        "        x: feature on x-axis\n",
        "        y: feature on y-axis\n",
        "        h(optional): steps in the mesh\n",
        "    '''\n",
        "    # Create a meshgrid the size of the axis\n",
        "    xstep = (x.max() - x.min() ) / 20.0\n",
        "    ystep = (y.max() - y.min() ) / 20.0\n",
        "    x_min, x_max = x.min() - xstep, x.max() + xstep\n",
        "    y_min, y_max = y.min() - ystep, y.max() + ystep\n",
        "    h = max((x_max - x_min, y_max - y_min))/h\n",
        "    xx, yy = np.meshgrid(np.arange(x_min, x_max, h),\n",
        "                         np.arange(y_min, y_max, h))\n",
        "\n",
        "    features = np.c_[xx.ravel(), yy.ravel()]\n",
        "    if precomputer is not None:\n",
        "        if type(precomputer) is RBFSampler:\n",
        "            features = precomputer.transform(features)\n",
        "        elif precomputer is rbf_kernel:\n",
        "            features = rbf_kernel(features, X)\n",
        "            \n",
        "    # Plot the decision boundary. For that, we will assign a color to each\n",
        "    # point in the mesh [x_min, x_max]x[y_min, y_max].\n",
        "    if hasattr(clf, \"decision_function\"):\n",
        "        Z = clf.decision_function(features)\n",
        "    else:\n",
        "        Z = clf.predict_proba(features)\n",
        "    if len(Z.shape) > 1:\n",
        "        Z = Z[:, 1]\n",
        "    \n",
        "    # Put the result into a color plot\n",
        "    cm = plt.cm.RdBu_r\n",
        "    Z = Z.reshape(xx.shape)\n",
        "    ax.contourf(xx, yy, Z, cmap=cm, alpha=.8)\n",
        "    del xx, yy, x_min, x_max, y_min, y_max, Z, cm"
      ],
      "execution_count": 0,
      "outputs": []
    },
    {
      "cell_type": "markdown",
      "metadata": {
        "id": "115eK7LmEnpQ",
        "colab_type": "text"
      },
      "source": [
        "## Dataset processing\n",
        "Filter the dataset for better classification results."
      ]
    },
    {
      "cell_type": "markdown",
      "metadata": {
        "id": "Yuy9j8RkOv1D",
        "colab_type": "text"
      },
      "source": [
        "### Definition set\n",
        "Contains all used definitions for the prepocessing of the dataset."
      ]
    },
    {
      "cell_type": "markdown",
      "metadata": {
        "id": "MxniZ92VFN6n",
        "colab_type": "text"
      },
      "source": [
        "Load dataset"
      ]
    },
    {
      "cell_type": "code",
      "metadata": {
        "id": "a8emRaZt_jdS",
        "colab_type": "code",
        "colab": {}
      },
      "source": [
        "def load_data(splits):\n",
        "  '''\n",
        "  load brats database and split values from labels\n",
        "\n",
        "  '''\n",
        "  # Data loading functions.\n",
        "  from brats.load_data import load_data\n",
        "\n",
        "  data = load_data()\n",
        "  print('data loaded')\n",
        "  print(f'The number of samples: {len(data.index)}')\n",
        "  print(f'The number of columns: {len(data.columns)}')\n",
        "  data = pd.DataFrame(data)\n",
        "\n",
        "  # split labels and values\n",
        "  data_X = data.drop(columns=['label'])\n",
        "  data_Y = data[['label']]\n",
        "  \n",
        "  # data split index forming\n",
        "  Test_split = StratifiedKFold(n_splits=splits)\n",
        "  \n",
        "  return data_X, data_Y, Test_split"
      ],
      "execution_count": 0,
      "outputs": []
    },
    {
      "cell_type": "markdown",
      "metadata": {
        "id": "UhSsbH8KF2NX",
        "colab_type": "text"
      },
      "source": [
        "remove strings from data"
      ]
    },
    {
      "cell_type": "code",
      "metadata": {
        "id": "n35sNcHfBCoB",
        "colab_type": "code",
        "colab": {}
      },
      "source": [
        "def replace_str(i):\n",
        "    '''Function to set strings into NaN within a matrix'''\n",
        "\n",
        "    if isinstance(i, int):\n",
        "          return i\n",
        "    try:\n",
        "        float(i)\n",
        "        return float(i)\n",
        "    except:\n",
        "        return np.nan"
      ],
      "execution_count": 0,
      "outputs": []
    },
    {
      "cell_type": "markdown",
      "metadata": {
        "id": "C67a-vPzF5VX",
        "colab_type": "text"
      },
      "source": [
        "remove zeros and Inf from matrix"
      ]
    },
    {
      "cell_type": "code",
      "metadata": {
        "id": "vnV-w_kxGAlK",
        "colab_type": "code",
        "colab": {}
      },
      "source": [
        "def replace_inf(X_data):\n",
        "    # set 0.0 as NaN\n",
        "    X_data.replace(0, np.nan, inplace=True)\n",
        "\n",
        "    # set Inf as NaN\n",
        "    X_data.replace([np.inf, -np.inf], np.nan, inplace=True)\n",
        "    \n",
        "    return X_data"
      ],
      "execution_count": 0,
      "outputs": []
    },
    {
      "cell_type": "markdown",
      "metadata": {
        "id": "_SI_xLIAGpCT",
        "colab_type": "text"
      },
      "source": [
        "remove samples with less than 60% values"
      ]
    },
    {
      "cell_type": "code",
      "metadata": {
        "id": "ZQ95SKYvL2V_",
        "colab_type": "code",
        "colab": {}
      },
      "source": [
        "def remove_sample(X_data, Y_data, n_value):\n",
        "    # remove sample with less than n% values\n",
        "    X_data = X_data.dropna(thresh=round(X_data.shape[1]*n_value))\n",
        "    Y_data = Y_data.loc[X_data.index]\n",
        "\n",
        "    return X_data, Y_data"
      ],
      "execution_count": 0,
      "outputs": []
    },
    {
      "cell_type": "markdown",
      "metadata": {
        "id": "IgwiMUofHbEV",
        "colab_type": "text"
      },
      "source": [
        "remove samples without a label"
      ]
    },
    {
      "cell_type": "code",
      "metadata": {
        "id": "SIEGTSl7HfIU",
        "colab_type": "code",
        "colab": {}
      },
      "source": [
        "def remove_labeless(X_data, Y_data):\n",
        "    # remove samples without a label\n",
        "    Y_data['label'].replace(np.nan, '', inplace=True)\n",
        "    Y_data = Y_data[Y_data['label'].astype(bool)]\n",
        "    X_data = X_data.loc[Y_data.index]\n",
        "\n",
        "    return X_data, Y_data"
      ],
      "execution_count": 0,
      "outputs": []
    },
    {
      "cell_type": "markdown",
      "metadata": {
        "id": "HsyekXDuH9n2",
        "colab_type": "text"
      },
      "source": [
        "Impute missing value's"
      ]
    },
    {
      "cell_type": "code",
      "metadata": {
        "id": "Q_-jkYTdICrN",
        "colab_type": "code",
        "colab": {}
      },
      "source": [
        "def impute_data(X_data):\n",
        "    # Add missing value's \n",
        "    Imputer = IterativeImputer(sample_posterior=True, n_nearest_features=20, random_state=0)\n",
        "    X_data = Imputer.fit_transform(X_data)\n",
        "\n",
        "    return X_data, Imputer"
      ],
      "execution_count": 0,
      "outputs": []
    },
    {
      "cell_type": "markdown",
      "metadata": {
        "id": "Qbt7ql2IIkSD",
        "colab_type": "text"
      },
      "source": [
        "Scale value's"
      ]
    },
    {
      "cell_type": "code",
      "metadata": {
        "id": "l1vwgVLnIomF",
        "colab_type": "code",
        "colab": {}
      },
      "source": [
        "def scale_data(X_data):\n",
        "    # scaling of values\n",
        "    Scaler = RobustScaler()\n",
        "    X_data = Scaler.fit_transform(X_data)\n",
        "\n",
        "    return X_data, Scaler"
      ],
      "execution_count": 0,
      "outputs": []
    },
    {
      "cell_type": "markdown",
      "metadata": {
        "id": "liGM3L88KFlf",
        "colab_type": "text"
      },
      "source": [
        "### preform dataset processing\n",
        "Run all preset definitions."
      ]
    },
    {
      "cell_type": "code",
      "metadata": {
        "id": "YyRkeYMXnkN-",
        "colab_type": "code",
        "colab": {}
      },
      "source": [
        "def preprocessing_data(X_design, Y_design, X_test, Y_test):\n",
        "    '''\n",
        "    Preprocessing step Hyperparameters:\n",
        "    - Feature removal percentage\n",
        "    - Sample removal percentage\n",
        "    - Value imputer type\n",
        "    - Normalizer type\n",
        "    '''\n",
        "\n",
        "    # remove strings from data\n",
        "    X_design = X_design.applymap(func=replace_str)\n",
        "    X_test = X_test.applymap(func=replace_str)\n",
        "\n",
        "    # remove 0.0 and Inf from data\n",
        "    X_design = replace_inf(X_design)\n",
        "    X_test = replace_inf(X_test)\n",
        "    print('unusefull values removed')\n",
        "\n",
        "    # remove features with less than 60% values\n",
        "    X_design = X_design.dropna(thresh=round(X_design.shape[0]*0.6), axis='columns')\n",
        "    X_test = X_test[X_design.columns]\n",
        "\n",
        "    # remove features and samples with less than 60% values\n",
        "    X_design, Y_design = remove_sample(X_design, Y_design, n_value=0.6)\n",
        "    X_test, Y_test = remove_sample(X_test, Y_test, n_value=0.6)\n",
        "    print('features and samples with to little information removed')\n",
        "\n",
        "    # remove samples without a label\n",
        "    X_design, Y_design = remove_labeless(X_design, Y_design)    \n",
        "    X_test, Y_test = remove_labeless(X_test, Y_test)\n",
        "    print('labeless samples removed')\n",
        "\n",
        "    # impute missing data\n",
        "    X_design_imput, imputer = impute_data(X_design)\n",
        "    X_test_imput = imputer.transform(X_test)\n",
        "    print('remaining missing data imputed')\n",
        "\n",
        "    # scale the data\n",
        "    X_design_scaled, scaler = scale_data(X_design_imput)\n",
        "    X_test_scaled = scaler.transform(X_test_imput)\n",
        "    print('data scaled')\n",
        "\n",
        "    # Getting back to Dataframe \n",
        "    X_design = pd.DataFrame(X_design_scaled, columns=X_design.columns, index=X_design.index)\n",
        "    X_test = pd.DataFrame(X_test_scaled, columns=X_test.columns, index=X_test.index)\n",
        "    print('preprocessing finished')\n",
        "    print(f'The number of samples: {len(X_design.index)+len(X_test.index)}')\n",
        "    print(f'The number of columns: {len(X_design.columns)}')\n",
        "\n",
        "    return X_design, Y_design, X_test, Y_test"
      ],
      "execution_count": 0,
      "outputs": []
    },
    {
      "cell_type": "markdown",
      "metadata": {
        "id": "I_wDK0aC_Xa2",
        "colab_type": "text"
      },
      "source": [
        "## Experimental feature orientation\n",
        "Determine possible options for feature selection and extraction"
      ]
    },
    {
      "cell_type": "markdown",
      "metadata": {
        "id": "ypidmjSURy-R",
        "colab_type": "text"
      },
      "source": [
        "### Load part of dataset\n",
        "Getting the design set of the data."
      ]
    },
    {
      "cell_type": "code",
      "metadata": {
        "id": "msYercldCfhv",
        "colab_type": "code",
        "outputId": "a4f9765c-3ed5-46ef-e891-7e75794eef15",
        "colab": {
          "base_uri": "https://localhost:8080/",
          "height": 219
        }
      },
      "source": [
        "#load dataset\n",
        "data_X, data_Y, Test_split = load_data(splits=10)\n",
        "\n",
        "i = 0\n",
        "\n",
        "for design_index, test_index in Test_split.split(data_X, data_Y):\n",
        "\n",
        "    if i:\n",
        "      continue\n",
        "    i = 1\n",
        "\n",
        "    X_design = data_X.iloc[design_index]\n",
        "    Y_design = data_Y.iloc[design_index]\n",
        "    \n",
        "    X_test = data_X.iloc[test_index]\n",
        "    Y_test = data_Y.iloc[test_index]\n",
        "\n",
        "X_design, Y_design, X_test, Y_test = preprocessing_data(X_design, Y_design, X_test, Y_test)"
      ],
      "execution_count": 12,
      "outputs": [
        {
          "output_type": "stream",
          "text": [
            "data loaded\n",
            "The number of samples: 167\n",
            "The number of columns: 725\n",
            "unusefull values removed\n",
            "features and samples with to little information removed\n",
            "labeless samples removed\n",
            "remaining missing data imputed\n",
            "data scaled\n",
            "preprocessing finished\n",
            "The number of samples: 167\n",
            "The number of columns: 698\n"
          ],
          "name": "stdout"
        }
      ]
    },
    {
      "cell_type": "code",
      "metadata": {
        "id": "I9YWm7p2VYdw",
        "colab_type": "code",
        "colab": {
          "base_uri": "https://localhost:8080/",
          "height": 550
        },
        "outputId": "bc855306-ff66-4420-a28f-462cb5473ec6"
      },
      "source": [
        "print(X_design, Y_design)\n"
      ],
      "execution_count": 13,
      "outputs": [
        {
          "output_type": "stream",
          "text": [
            "              VOLUME_ET  VOLUME_NET  ...  TGM_Cog_Z_1   TGM_T_1\n",
            "ID                                   ...                       \n",
            "TCGA-02-0064   0.306650   -0.149335  ...    -0.409811  0.412749\n",
            "TCGA-02-0068  -0.131777   -0.098523  ...    -0.254765 -0.182429\n",
            "TCGA-02-0069  -0.006484    0.912666  ...     0.284368  2.705034\n",
            "TCGA-02-0070  -0.274249   -0.314443  ...     0.839935 -0.449039\n",
            "TCGA-02-0075  -0.109278    0.247846  ...     0.451606 -0.017942\n",
            "...                 ...         ...  ...          ...       ...\n",
            "TCGA-HT-8018  -0.506682   -0.179239  ...    -0.849962 -0.833459\n",
            "TCGA-HT-8111  -0.512206   -0.381408  ...     1.026131 -0.804997\n",
            "TCGA-HT-8114  -0.282298    3.740634  ...     0.526592 -0.757509\n",
            "TCGA-HT-8563  -0.181188   -0.367314  ...    -0.466627 -0.801878\n",
            "TCGA-HT-A61A   0.757504    1.082333  ...    -0.592295  0.330073\n",
            "\n",
            "[150 rows x 698 columns]              label\n",
            "ID                \n",
            "TCGA-02-0064   GBM\n",
            "TCGA-02-0068   GBM\n",
            "TCGA-02-0069   GBM\n",
            "TCGA-02-0070   GBM\n",
            "TCGA-02-0075   GBM\n",
            "...            ...\n",
            "TCGA-HT-8018   LGG\n",
            "TCGA-HT-8111   LGG\n",
            "TCGA-HT-8114   LGG\n",
            "TCGA-HT-8563   LGG\n",
            "TCGA-HT-A61A   LGG\n",
            "\n",
            "[150 rows x 1 columns]\n"
          ],
          "name": "stdout"
        }
      ]
    },
    {
      "cell_type": "markdown",
      "metadata": {
        "id": "KOyP-3v2aNK-",
        "colab_type": "text"
      },
      "source": [
        "### Pre-sets and Definition set\n",
        "Pre-set definitions to preform the experiments."
      ]
    },
    {
      "cell_type": "markdown",
      "metadata": {
        "id": "o971Z1NDNI89",
        "colab_type": "text"
      },
      "source": [
        "Pre-sets"
      ]
    },
    {
      "cell_type": "code",
      "metadata": {
        "id": "ZoDDIR8LMwic",
        "colab_type": "code",
        "colab": {}
      },
      "source": [
        "# Set parameters\n",
        "RFE_split = 5\n",
        "Train_split = 5\n",
        "\n",
        "# make labels binary\n",
        "Y_design_bin = Y_design.replace(['GBM', 'LGG'], [1, 0])\n",
        "\n",
        "# set validation-training split\n",
        "train_splitter = StratifiedKFold(n_splits=Train_split)"
      ],
      "execution_count": 0,
      "outputs": []
    },
    {
      "cell_type": "markdown",
      "metadata": {
        "id": "e0uXBFWaM-7z",
        "colab_type": "text"
      },
      "source": [
        "Selector"
      ]
    },
    {
      "cell_type": "code",
      "metadata": {
        "id": "FWfn_UAbMxHd",
        "colab_type": "code",
        "colab": {}
      },
      "source": [
        "# RFE estimator\n",
        "svc_linear = svm.SVC(kernel=\"linear\")\n",
        "\n",
        "# RFE type\n",
        "rfecv_svc = RFECV(\n",
        "                  estimator=svc_linear, step=1, \n",
        "                  cv=StratifiedKFold(n_splits=RFE_split), \n",
        "                  scoring='roc_auc')  \n",
        "\n",
        "# selector list                  \n",
        "selectors = ('no_rfecv', 'rfecv')         "
      ],
      "execution_count": 0,
      "outputs": []
    },
    {
      "cell_type": "markdown",
      "metadata": {
        "id": "Zrm9YW3xNA2W",
        "colab_type": "text"
      },
      "source": [
        "Extractors"
      ]
    },
    {
      "cell_type": "code",
      "metadata": {
        "id": "xcUhoKfsNDJg",
        "colab_type": "code",
        "colab": {}
      },
      "source": [
        "# extractors\n",
        "pca_lin = KernelPCA(kernel='linear')\n",
        "pca_poly = KernelPCA(kernel='poly')\n",
        "pca_rbf = KernelPCA(kernel='rbf')\n",
        "umapper_3 = umap.UMAP(n_neighbors=3)\n",
        "umapper_5 = umap.UMAP(n_neighbors=5)\n",
        "umapper_6 = umap.UMAP(n_neighbors=6)\n",
        "umapper_15 = umap.UMAP(n_neighbors=15)\n",
        "umapper_30 = umap.UMAP(n_neighbors=30)\n",
        "tsvd = TruncatedSVD()"
      ],
      "execution_count": 0,
      "outputs": []
    },
    {
      "cell_type": "markdown",
      "metadata": {
        "id": "pn4Fs3COaVBc",
        "colab_type": "text"
      },
      "source": [
        "Cross-validation test"
      ]
    },
    {
      "cell_type": "code",
      "metadata": {
        "id": "A4kzQnzJYkIQ",
        "colab_type": "code",
        "colab": {}
      },
      "source": [
        "def run_feature_test(X_design, Y_design_bin, train_splitter, para_options, extractors, selector):\n",
        "    # predefine variables\n",
        "    results = list()\n",
        "    i = 1\n",
        "    t0 = time()\n",
        "\n",
        "    # RFE types list                  \n",
        "    selectors = {'no_rfecv': 0, 'rfecv': 1}\n",
        "    \n",
        "    # create standard classifier\n",
        "    clf = svm.SVC()\n",
        "    \n",
        "    # run cross-validation validate, train set\n",
        "    for train_index, validate_index in train_splitter.split(X_design, Y_design_bin):\n",
        "        X_train = X_design.iloc[train_index]\n",
        "        Y_train = Y_design_bin.iloc[train_index]\n",
        "    \n",
        "        X_validate = X_design.iloc[validate_index]\n",
        "        Y_validate = Y_design_bin.iloc[validate_index]\n",
        "        Y_validate = np.array(Y_validate)\n",
        "        print(f'running split {i} of {Train_split}')\n",
        "        i += 1\n",
        "\n",
        "        # Run RFECV on split\n",
        "        X_train_selected = selector.fit_transform(X_train, Y_train['label'])\n",
        "        X_validate_selected = selector.transform(X_validate)\n",
        "        print(f'{X_train_selected.shape[1]} features left after selection')\n",
        "\n",
        "        for indez, row in para_options.iterrows():\n",
        "            extractor=extractors[row[1]]\n",
        "            component=row[2]\n",
        "        \n",
        "            # use selected or unselected data\n",
        "            if selectors[row[0]] and X_train_selected.shape[1] > component:\n",
        "                X_train_try = X_train_selected\n",
        "                X_validate_try = X_validate_selected\n",
        "                #print(f'rfecv done {extractor, component}')\n",
        "\n",
        "            else:\n",
        "                X_train_try = X_train\n",
        "                X_validate_try = X_validate\n",
        "                #print(f'no rfecv done {extractor, component}')\n",
        "          \n",
        "            # run selected extractor\n",
        "            extractor.set_params(n_components=component)\n",
        "            X_train_extracted = extractor.fit_transform(X_train_try)\n",
        "            X_validate_extracted = extractor.transform(X_validate_try)\n",
        "        \n",
        "            # fitting standard classifier\n",
        "            clf.fit(X_train_extracted, Y_train['label'])\n",
        "\n",
        "            # Test the classifier on the test data\n",
        "            scores = clf.predict(X_validate_extracted)\n",
        "\n",
        "            # Gettin accuracy, AUC and f1-score\n",
        "            accuracy = accuracy_score(Y_validate, scores)\n",
        "            auc = roc_auc_score(Y_validate, scores)\n",
        "            f1 = f1_score(Y_validate, scores)\n",
        "            results.append({\n",
        "                'accuracy': accuracy,\n",
        "                'AUC': auc,\n",
        "                'f1-score': f1,\n",
        "                'set': f'{indez}_test'\n",
        "            })\n",
        "\n",
        "            # Test the classifier on the training data\n",
        "            scores_training = clf.predict(X_train_extracted)\n",
        "\n",
        "            # Getting the accuracy, AUC and f1-score\n",
        "            accuracy = accuracy_score(Y_train, scores_training)\n",
        "            auc = roc_auc_score(Y_train, scores_training)\n",
        "            f1 = f1_score(Y_train, scores_training)\n",
        "            results.append({\n",
        "                'accuracy': accuracy,\n",
        "                'AUC': auc,\n",
        "                'f1-score': f1,\n",
        "                'set': f'{indez}_training'\n",
        "            })\n",
        "        print(f'calulated options')\n",
        "\n",
        "    # Create results dataframe\n",
        "    results = pd.DataFrame(results)\n",
        "    print(\"finished in %0.3fs\" % (time() - t0))\n",
        "    return results"
      ],
      "execution_count": 0,
      "outputs": []
    },
    {
      "cell_type": "markdown",
      "metadata": {
        "id": "fhVBSfiG3spL",
        "colab_type": "text"
      },
      "source": [
        "Calculate mean and std from cross-validation"
      ]
    },
    {
      "cell_type": "code",
      "metadata": {
        "id": "go1BHO3pAUfD",
        "colab_type": "code",
        "colab": {}
      },
      "source": [
        "def cal_means(data, stats):\n",
        "    stats_line = {\n",
        "    'ac mean': \"{:.3f}\".format(data[\"accuracy\"].mean()),\n",
        "    'ac std': \"{:.2f}\".format(data[\"accuracy\"].std()),\n",
        "    'AUC mean': \"{:.3f}\".format(data[\"AUC\"].mean()),\n",
        "    'AUC std': \"{:.2f}\".format(data[\"AUC\"].std()),\n",
        "    'f1 mean': \"{:.3f}\".format(data[\"f1-score\"].mean()),\n",
        "    'f1 std': \"{:.2f}\".format(data[\"f1-score\"].std())\n",
        "    }\n",
        "    stats_line = stats_line\n",
        "    stats.append(stats_line)\n",
        "    \n",
        "    return stats"
      ],
      "execution_count": 0,
      "outputs": []
    },
    {
      "cell_type": "markdown",
      "metadata": {
        "id": "VfOCMSHAj8uC",
        "colab_type": "text"
      },
      "source": [
        "Calulate results from cross-validation"
      ]
    },
    {
      "cell_type": "code",
      "metadata": {
        "id": "M6ouXeKijE-0",
        "colab_type": "code",
        "colab": {}
      },
      "source": [
        "def get_results(results, para_options):\n",
        "    # calculate the mean and std of each option\n",
        "    test_result_stat = list()\n",
        "    train_result_stat = list()\n",
        "\n",
        "    for i in range(0, para_options.shape[0]):\n",
        "\n",
        "        test_result = results[results['set'] == f'{i}_test']\n",
        "        test_result_stat = cal_means(test_result, test_result_stat)\n",
        "\n",
        "        train_result = results[results['set'] == f'{i}_train']\n",
        "        train_result_stat = cal_means(train_result, train_result_stat)\n",
        "\n",
        "    test_result_stat = pd.DataFrame(test_result_stat)\n",
        "    train_result_stat = pd.DataFrame(train_result_stat)\n",
        "\n",
        "    # order the results on AUC, accuracy and f1-score\n",
        "    test_result_stat.sort_values(by=['AUC mean', 'ac mean', 'f1 mean'],ascending=False, inplace=True)\n",
        "    test_result_stat = test_result_stat.join(para_options)\n",
        "\n",
        "    train_result_stat.sort_values(by=['AUC mean', 'ac mean', 'f1 mean'],ascending=False, inplace=True)\n",
        "    train_result_stat = train_result_stat.join(para_options)\n",
        "\n",
        "\n",
        "    return test_result_stat, train_result_stat"
      ],
      "execution_count": 0,
      "outputs": []
    },
    {
      "cell_type": "markdown",
      "metadata": {
        "id": "79v9EUDcaZ_C",
        "colab_type": "text"
      },
      "source": [
        "### Orientational Experiment\n",
        "Experiment with a wide variety of chosen extractors and parameters to find optima."
      ]
    },
    {
      "cell_type": "markdown",
      "metadata": {
        "id": "JgfZd2mYbIwb",
        "colab_type": "text"
      },
      "source": [
        "selected options"
      ]
    },
    {
      "cell_type": "code",
      "metadata": {
        "id": "ZrysKyfvbNME",
        "colab_type": "code",
        "colab": {}
      },
      "source": [
        "# extractor list\n",
        "extractors = {'umap_3': umapper_3, 'umap_5': umapper_5, 'umap_15': umapper_15, 'umap_30': umapper_30, 'pca_lin': pca_lin, 'pca_poly': pca_poly, 'pca_rbf': pca_rbf, 'tsvd': tsvd}\n",
        "\n",
        "#component parameters\n",
        "extract_components = (2, 6, 12, 24, 48, 92)"
      ],
      "execution_count": 0,
      "outputs": []
    },
    {
      "cell_type": "markdown",
      "metadata": {
        "id": "PRb1hVIGNbob",
        "colab_type": "text"
      },
      "source": [
        "preform feature selection and extraction test"
      ]
    },
    {
      "cell_type": "code",
      "metadata": {
        "id": "AReSukYSn2a0",
        "colab_type": "code",
        "outputId": "946e52dd-b8dc-41df-d685-a45e65c602da",
        "colab": {
          "base_uri": "https://localhost:8080/",
          "height": 733
        }
      },
      "source": [
        "#all options to test\n",
        "para_options = pd.DataFrame(list(itertools.product(selectors, extractors, extract_components)))\n",
        "print(f'{para_options.shape[0]} options to try')\n",
        "\n",
        "\n",
        "# Run experiment\n",
        "results = run_feature_test(X_design, Y_design_bin, train_splitter, para_options, extractors, rfecv_svc)"
      ],
      "execution_count": 21,
      "outputs": [
        {
          "output_type": "stream",
          "text": [
            "96 options to try\n",
            "running split 1 of 5\n",
            "126 features left after selection\n"
          ],
          "name": "stdout"
        },
        {
          "output_type": "stream",
          "text": [
            "/usr/local/lib/python3.6/dist-packages/umap/spectral.py:229: UserWarning: Embedding a total of 2 separate connected components using meta-embedding (experimental)\n",
            "  n_components\n",
            "/usr/local/lib/python3.6/dist-packages/umap/spectral.py:229: UserWarning: Embedding a total of 2 separate connected components using meta-embedding (experimental)\n",
            "  n_components\n",
            "/usr/local/lib/python3.6/dist-packages/umap/spectral.py:229: UserWarning: Embedding a total of 2 separate connected components using meta-embedding (experimental)\n",
            "  n_components\n",
            "/usr/local/lib/python3.6/dist-packages/umap/spectral.py:229: UserWarning: Embedding a total of 2 separate connected components using meta-embedding (experimental)\n",
            "  n_components\n",
            "/usr/local/lib/python3.6/dist-packages/umap/spectral.py:229: UserWarning: Embedding a total of 2 separate connected components using meta-embedding (experimental)\n",
            "  n_components\n",
            "/usr/local/lib/python3.6/dist-packages/umap/spectral.py:229: UserWarning: Embedding a total of 2 separate connected components using meta-embedding (experimental)\n",
            "  n_components\n"
          ],
          "name": "stderr"
        },
        {
          "output_type": "stream",
          "text": [
            "calulated options\n",
            "running split 2 of 5\n",
            "64 features left after selection\n"
          ],
          "name": "stdout"
        },
        {
          "output_type": "stream",
          "text": [
            "/usr/local/lib/python3.6/dist-packages/umap/spectral.py:229: UserWarning: Embedding a total of 2 separate connected components using meta-embedding (experimental)\n",
            "  n_components\n",
            "/usr/local/lib/python3.6/dist-packages/umap/spectral.py:229: UserWarning: Embedding a total of 2 separate connected components using meta-embedding (experimental)\n",
            "  n_components\n",
            "/usr/local/lib/python3.6/dist-packages/umap/spectral.py:229: UserWarning: Embedding a total of 2 separate connected components using meta-embedding (experimental)\n",
            "  n_components\n",
            "/usr/local/lib/python3.6/dist-packages/umap/spectral.py:229: UserWarning: Embedding a total of 2 separate connected components using meta-embedding (experimental)\n",
            "  n_components\n",
            "/usr/local/lib/python3.6/dist-packages/umap/spectral.py:229: UserWarning: Embedding a total of 2 separate connected components using meta-embedding (experimental)\n",
            "  n_components\n"
          ],
          "name": "stderr"
        },
        {
          "output_type": "stream",
          "text": [
            "calulated options\n",
            "running split 3 of 5\n",
            "114 features left after selection\n",
            "calulated options\n",
            "running split 4 of 5\n",
            "84 features left after selection\n",
            "calulated options\n",
            "running split 5 of 5\n",
            "55 features left after selection\n",
            "calulated options\n",
            "finished in 304.714s\n"
          ],
          "name": "stdout"
        }
      ]
    },
    {
      "cell_type": "markdown",
      "metadata": {
        "id": "TJEsMCyOQ3kI",
        "colab_type": "text"
      },
      "source": [
        "Plot results"
      ]
    },
    {
      "cell_type": "code",
      "metadata": {
        "id": "ni-788XftFEv",
        "colab_type": "code",
        "outputId": "360b7853-0ae9-42c2-e4d8-bf1147defc41",
        "colab": {
          "base_uri": "https://localhost:8080/",
          "height": 1000
        }
      },
      "source": [
        "# plot resulting data\n",
        "print('legend')\n",
        "print(para_options)\n",
        "\n",
        "f, axes = plt.subplots(3, 1, figsize=(30, 40))\n",
        "sns.boxplot(y='AUC', x='set', data=results, ax=axes[0])\n",
        "sns.boxplot(y='accuracy', x='set', data=results, ax=axes[1])\n",
        "sns.boxplot(y='f1-score', x='set', data=results, ax=axes[2])"
      ],
      "execution_count": 22,
      "outputs": [
        {
          "output_type": "stream",
          "text": [
            "legend\n",
            "           0       1   2\n",
            "0   no_rfecv  umap_3   2\n",
            "1   no_rfecv  umap_3   6\n",
            "2   no_rfecv  umap_3  12\n",
            "3   no_rfecv  umap_3  24\n",
            "4   no_rfecv  umap_3  48\n",
            "..       ...     ...  ..\n",
            "91     rfecv    tsvd   6\n",
            "92     rfecv    tsvd  12\n",
            "93     rfecv    tsvd  24\n",
            "94     rfecv    tsvd  48\n",
            "95     rfecv    tsvd  92\n",
            "\n",
            "[96 rows x 3 columns]\n"
          ],
          "name": "stdout"
        },
        {
          "output_type": "execute_result",
          "data": {
            "text/plain": [
              "<matplotlib.axes._subplots.AxesSubplot at 0x7f4c8d1c9160>"
            ]
          },
          "metadata": {
            "tags": []
          },
          "execution_count": 22
        },
        {
          "output_type": "display_data",
          "data": {
            "image/png": "[encoded data removed]",
            "text/plain": [
              "<Figure size 2160x2880 with 3 Axes>"
            ]
          },
          "metadata": {
            "tags": []
          }
        }
      ]
    },
    {
      "cell_type": "markdown",
      "metadata": {
        "id": "dWGm2rSRQ9mN",
        "colab_type": "text"
      },
      "source": [
        "Determ the best options"
      ]
    },
    {
      "cell_type": "code",
      "metadata": {
        "id": "RoOLPIr7-GLB",
        "colab_type": "code",
        "outputId": "468d716f-74c7-4c3f-fca2-673ad955062b",
        "colab": {
          "base_uri": "https://localhost:8080/",
          "height": 421
        }
      },
      "source": [
        "test_result, train_result = get_results(results, para_options)\n",
        "print('Top 20 best scoring results')\n",
        "print(test_result.iloc[range(0,20)])\n"
      ],
      "execution_count": 23,
      "outputs": [
        {
          "output_type": "stream",
          "text": [
            "Top 20 best scoring results\n",
            "   ac mean ac std AUC mean AUC std f1 mean f1 std         0        1   2\n",
            "37   0.793   0.10    0.803    0.09   0.812   0.09  no_rfecv  pca_rbf   6\n",
            "76   0.820   0.07    0.782    0.07   0.865   0.05     rfecv  pca_lin  48\n",
            "94   0.820   0.07    0.782    0.07   0.865   0.05     rfecv     tsvd  48\n",
            "39   0.760   0.08    0.778    0.08   0.776   0.08  no_rfecv  pca_rbf  24\n",
            "38   0.767   0.09    0.777    0.09   0.788   0.09  no_rfecv  pca_rbf  12\n",
            "75   0.813   0.07    0.772    0.08   0.861   0.05     rfecv  pca_lin  24\n",
            "77   0.813   0.08    0.769    0.09   0.865   0.05     rfecv  pca_lin  92\n",
            "95   0.813   0.08    0.769    0.09   0.865   0.05     rfecv     tsvd  92\n",
            "9    0.813   0.06    0.768    0.07   0.864   0.05  no_rfecv   umap_5  24\n",
            "85   0.740   0.11    0.768    0.11   0.745   0.12     rfecv  pca_rbf   6\n",
            "87   0.733   0.08    0.765    0.08   0.732   0.10     rfecv  pca_rbf  24\n",
            "93   0.807   0.07    0.764    0.08   0.857   0.05     rfecv     tsvd  24\n",
            "74   0.800   0.06    0.756    0.07   0.853   0.05     rfecv  pca_lin  12\n",
            "92   0.793   0.06    0.747    0.08   0.849   0.05     rfecv     tsvd  12\n",
            "73   0.787   0.07    0.745    0.07   0.841   0.05     rfecv  pca_lin   6\n",
            "91   0.787   0.07    0.745    0.07   0.841   0.05     rfecv     tsvd   6\n",
            "86   0.713   0.08    0.739    0.08   0.719   0.09     rfecv  pca_rbf  12\n",
            "84   0.713   0.11    0.732    0.10   0.725   0.12     rfecv  pca_rbf   2\n",
            "2    0.767   0.07    0.730    0.07   0.823   0.05  no_rfecv   umap_3  12\n",
            "49   0.767   0.09    0.728    0.11   0.825   0.07     rfecv   umap_3   6\n"
          ],
          "name": "stdout"
        }
      ]
    },
    {
      "cell_type": "markdown",
      "metadata": {
        "id": "UgErjNWFftnv",
        "colab_type": "text"
      },
      "source": [
        "After running the code above, the following conclusions where drawn:\n",
        "- There is difference between feature and no feature selection, but not similar for each option\n",
        "- the PCA with a rbf kernel and no rfecv provides the highest scores, but with a high std\n",
        "- the PCA with a linear kernel and rfecv also provide high scores and lower std, but only with more components\n",
        "- the UMAP with 5 neighbors provides second best scores, but with a smaller std\n",
        "- there is a optimum in the amount of components around the 6 and 12\n",
        "\n",
        "With this in mind the parameter for the second test are chosen."
      ]
    },
    {
      "cell_type": "markdown",
      "metadata": {
        "id": "6GFBpgwoa1ly",
        "colab_type": "text"
      },
      "source": [
        "### Localized Experiment\n",
        "Experiment with selected extractors and parameters around promising results of the Orientational Experiment."
      ]
    },
    {
      "cell_type": "markdown",
      "metadata": {
        "colab_type": "text",
        "id": "5meYru3udMGY"
      },
      "source": [
        "selected options"
      ]
    },
    {
      "cell_type": "code",
      "metadata": {
        "colab_type": "code",
        "id": "uEy802ukdMGp",
        "colab": {}
      },
      "source": [
        "# extractor list\n",
        "extractors = {'umap_5': umapper_5, 'pca_lin': pca_lin, 'pca_rbf': pca_rbf}\n",
        "\n",
        "#parameters\n",
        "extract_components = (4, 6, 8, 12, 45, 48, 52, 56)"
      ],
      "execution_count": 0,
      "outputs": []
    },
    {
      "cell_type": "markdown",
      "metadata": {
        "colab_type": "text",
        "id": "O7139y5fdMG-"
      },
      "source": [
        "preform feature selection and extraction test"
      ]
    },
    {
      "cell_type": "code",
      "metadata": {
        "colab_type": "code",
        "id": "YuMUX9dhdMHB",
        "outputId": "f365a810-7ccf-470c-e5da-7667dbfe98f5",
        "colab": {
          "base_uri": "https://localhost:8080/",
          "height": 329
        }
      },
      "source": [
        "#all options to test\n",
        "para_options = pd.DataFrame(list(itertools.product(selectors, extractors, extract_components)))\n",
        "para_options = para_options.loc[[0,1,2,3,16,17,18,19,36,37,38,39]]\n",
        "para_options = para_options.reset_index(drop=True)\n",
        "print(f'{para_options.shape[0]} options to try')\n",
        "\n",
        "# Run experiment\n",
        "results = run_feature_test(X_design, Y_design_bin, train_splitter, para_options, extractors, rfecv_svc)"
      ],
      "execution_count": 25,
      "outputs": [
        {
          "output_type": "stream",
          "text": [
            "12 options to try\n",
            "running split 1 of 5\n",
            "126 features left after selection\n",
            "calulated options\n",
            "running split 2 of 5\n",
            "64 features left after selection\n",
            "calulated options\n",
            "running split 3 of 5\n",
            "114 features left after selection\n",
            "calulated options\n",
            "running split 4 of 5\n",
            "84 features left after selection\n",
            "calulated options\n",
            "running split 5 of 5\n",
            "55 features left after selection\n",
            "calulated options\n",
            "finished in 162.083s\n"
          ],
          "name": "stdout"
        }
      ]
    },
    {
      "cell_type": "markdown",
      "metadata": {
        "colab_type": "text",
        "id": "d374FPQgdMHQ"
      },
      "source": [
        "Plot results"
      ]
    },
    {
      "cell_type": "code",
      "metadata": {
        "colab_type": "code",
        "id": "-I_dMH8VdMHT",
        "outputId": "24a31a35-31fc-4cc9-e9cc-009357b87925",
        "colab": {
          "base_uri": "https://localhost:8080/",
          "height": 1000
        }
      },
      "source": [
        "# plot resulting data\n",
        "print('legend')\n",
        "print(para_options)\n",
        "\n",
        "f, axes = plt.subplots(3, 1, figsize=(30, 40))\n",
        "sns.boxplot(y='AUC', x='set', data=results, ax=axes[0])\n",
        "sns.boxplot(y='accuracy', x='set', data=results, ax=axes[1])\n",
        "sns.boxplot(y='f1-score', x='set', data=results, ax=axes[2])"
      ],
      "execution_count": 26,
      "outputs": [
        {
          "output_type": "stream",
          "text": [
            "legend\n",
            "           0        1   2\n",
            "0   no_rfecv   umap_5   4\n",
            "1   no_rfecv   umap_5   6\n",
            "2   no_rfecv   umap_5   8\n",
            "3   no_rfecv   umap_5  12\n",
            "4   no_rfecv  pca_rbf   4\n",
            "5   no_rfecv  pca_rbf   6\n",
            "6   no_rfecv  pca_rbf   8\n",
            "7   no_rfecv  pca_rbf  12\n",
            "8      rfecv  pca_lin  45\n",
            "9      rfecv  pca_lin  48\n",
            "10     rfecv  pca_lin  52\n",
            "11     rfecv  pca_lin  56\n"
          ],
          "name": "stdout"
        },
        {
          "output_type": "execute_result",
          "data": {
            "text/plain": [
              "<matplotlib.axes._subplots.AxesSubplot at 0x7f4c8a4f76a0>"
            ]
          },
          "metadata": {
            "tags": []
          },
          "execution_count": 26
        },
        {
          "output_type": "display_data",
          "data": {
            "image/png": "[encoded data removed]",
            "text/plain": [
              "<Figure size 2160x2880 with 3 Axes>"
            ]
          },
          "metadata": {
            "tags": []
          }
        }
      ]
    },
    {
      "cell_type": "markdown",
      "metadata": {
        "colab_type": "text",
        "id": "q3oGRYoNdMHi"
      },
      "source": [
        "Determ the best options"
      ]
    },
    {
      "cell_type": "code",
      "metadata": {
        "colab_type": "code",
        "id": "nz_aUeCadMHs",
        "outputId": "3630817a-9c94-4527-be58-510e9df20fde",
        "colab": {
          "base_uri": "https://localhost:8080/",
          "height": 256
        }
      },
      "source": [
        "test_result, train_result = get_results(results, para_options)\n",
        "print(test_result)"
      ],
      "execution_count": 27,
      "outputs": [
        {
          "output_type": "stream",
          "text": [
            "   ac mean ac std AUC mean AUC std f1 mean f1 std         0        1   2\n",
            "6    0.800   0.10    0.808    0.10   0.821   0.10  no_rfecv  pca_rbf   8\n",
            "5    0.793   0.10    0.803    0.09   0.812   0.09  no_rfecv  pca_rbf   6\n",
            "10   0.827   0.07    0.791    0.07   0.869   0.06     rfecv  pca_lin  52\n",
            "9    0.820   0.07    0.782    0.07   0.865   0.05     rfecv  pca_lin  48\n",
            "4    0.773   0.09    0.778    0.09   0.797   0.09  no_rfecv  pca_rbf   4\n",
            "7    0.767   0.09    0.777    0.09   0.788   0.09  no_rfecv  pca_rbf  12\n",
            "11   0.813   0.07    0.775    0.07   0.861   0.05     rfecv  pca_lin  56\n",
            "8    0.813   0.07    0.773    0.08   0.861   0.05     rfecv  pca_lin  45\n",
            "2    0.787   0.04    0.738    0.05   0.846   0.03  no_rfecv   umap_5   8\n",
            "0    0.780   0.02    0.730    0.02   0.842   0.02  no_rfecv   umap_5   4\n",
            "3    0.780   0.04    0.730    0.04   0.842   0.03  no_rfecv   umap_5  12\n",
            "1    0.767   0.06    0.716    0.07   0.833   0.04  no_rfecv   umap_5   6\n"
          ],
          "name": "stdout"
        }
      ]
    },
    {
      "cell_type": "markdown",
      "metadata": {
        "id": "sVoNGV8DjNNf",
        "colab_type": "text"
      },
      "source": [
        "Based on these results the following is concluded:\n",
        "- the PCA with rbf kernal and 6 or 8 components has the best AUC score, but still a high std\n",
        "- the PCA with linear kernal and 48/52 components has the best Accuracy and f1-score, with a lower std\n",
        "- the UMAP with 5 neighbors and 6 or 8 components has similar score for accuracy and f1, but a lower score for AUC and similar the std as the linear PCA.\n",
        "\n"
      ]
    },
    {
      "cell_type": "markdown",
      "metadata": {
        "id": "ktMWp3Y_lQ3e",
        "colab_type": "text"
      },
      "source": [
        "### Conclusion\n",
        "\n",
        "We will let the model optimization choose from:\n",
        "- PCA (Kernel:linear, Components:48/52, rfecv)\n",
        "- PCA (Kernel:rbf, Components:6/8)\n",
        "- UMAP (Neigbors:5, Components:8/12)"
      ]
    },
    {
      "cell_type": "markdown",
      "metadata": {
        "id": "LQ-dUjXUpFAG",
        "colab_type": "text"
      },
      "source": [
        "## Final machine learning pipeline\n",
        "Our resulting machine learning model for tumor grading in brain cancer.\n",
        "\n",
        "As described in the enclosed document are the following steps en parameter settings the by us found most optimale for optimising and classifing the given dataset."
      ]
    },
    {
      "cell_type": "markdown",
      "metadata": {
        "id": "ClBXawKAVfGD",
        "colab_type": "text"
      },
      "source": [
        "### Feature extraction\n",
        "\n",
        "Feature extraction with hyperparameters based on previous experiments"
      ]
    },
    {
      "cell_type": "markdown",
      "metadata": {
        "id": "hsqJmyjIvjkw",
        "colab_type": "text"
      },
      "source": [
        "Feature extraction"
      ]
    },
    {
      "cell_type": "code",
      "metadata": {
        "id": "i8o6DTQGVvjX",
        "colab_type": "code",
        "colab": {}
      },
      "source": [
        "def feature_extraction(X_design, Y_design, X_test, Y_test):\n",
        "    '''\n",
        "    preform feature extraction for final pipeline\n",
        "    '''\n",
        "\n",
        "    # generate binary labels \n",
        "    Y_design_bin = Y_design.replace(['GBM', 'LGG'], [1, 0])\n",
        "    Y_test_bin = Y_test.replace(['GBM', 'LGG'], [1, 0])\n",
        "    \n",
        "    # Create extraction models\n",
        "    Umapper_8 = umap.UMAP(n_neighbors=5, n_components=8)\n",
        "    Umapper_12 = umap.UMAP(n_neighbors=5, n_components=12)\n",
        "    pca_6 = KernelPCA(kernel='rbf', n_components=6)\n",
        "    pca_8 = KernelPCA(kernel='rbf', n_components=8)\n",
        "    pca_48 = KernelPCA(kernel='linear', n_components=48)\n",
        "    pca_52 = KernelPCA(kernel='linear', n_components=52)\n",
        "\n",
        "    # create look-up table\n",
        "    extractors = {'Umapper_8': Umapper_8, 'Umapper_12': Umapper_12, 'pca_6': pca_6, 'pca_8': pca_8, 'pca_48': pca_48, 'pca_52': pca_52}\n",
        "\n",
        "    # Set parameters\n",
        "    RFE_split = 3\n",
        "    Train_split = 5\n",
        "\n",
        "    # RFE estimator\n",
        "    svc_linear = svm.SVC(kernel=\"linear\")\n",
        "    rf = RandomForestClassifier(max_depth=3)\n",
        "\n",
        "    # RFE type\n",
        "    rfecv_svc = RFECV(\n",
        "                      estimator=svc_linear, step=5, \n",
        "                      cv=StratifiedKFold(n_splits=RFE_split), \n",
        "                      scoring='roc_auc')           \n",
        "\n",
        "    # set validation-training split\n",
        "    train_splitter = StratifiedKFold(n_splits=Train_split)\n",
        "\n",
        "    # list extraction options\n",
        "    para_options = list()\n",
        "    para_options.append({'rfecv': 'no_rfecv', 'model': 'Umapper_8', 'component': 8})\n",
        "    para_options.append({'rfecv': 'no_rfecv', 'model': 'Umapper_12', 'component': 12})\n",
        "    para_options.append({'rfecv': 'no_rfecv', 'model': 'pca_6', 'component': 6})\n",
        "    para_options.append({'rfecv': 'no_rfecv', 'model': 'pca_8', 'component': 8})\n",
        "    para_options.append({'rfecv': 'rfecv', 'model': 'pca_48', 'component': 48})\n",
        "    para_options.append({'rfecv': 'rfecv', 'model': 'pca_52', 'component': 52})\n",
        "    para_options = pd.DataFrame(para_options)\n",
        "    print('running feature selection and extraction optimization')\n",
        "    print(f'{para_options.shape[0]} options to try')\n",
        "\n",
        "    # Run feature test\n",
        "    results = run_feature_test(X_design, Y_design_bin, train_splitter, para_options, extractors, rfecv_svc)\n",
        "\n",
        "    # Calculate mean and std of each option\n",
        "    test_results, train_results = get_results(results, para_options)\n",
        "    print(test_results)\n",
        "\n",
        "    # select best extractor\n",
        "    best_extractor = test_results.iloc[0]\n",
        "    extractor = extractors[best_extractor['model']]\n",
        "    print(f'best extractor = {best_extractor}')\n",
        "\n",
        "    if best_extractor['rfecv'] == 'rfecv':\n",
        "      X_design = rfecv_svc.fit_transform(X_design)\n",
        "      X_test = rfecv_svc.transform(X_test)\n",
        "      print('rfecv done')\n",
        "\n",
        "\n",
        "    # Preform model fitting and transformation\n",
        "    X_design = extractor.fit_transform(X_design)\n",
        "    X_design = pd.DataFrame(X_design, index=Y_design.index)\n",
        "\n",
        "    X_test = extractor.transform(X_test)\n",
        "    X_test = pd.DataFrame(X_test, index=Y_test.index)\n",
        "    print('feature selection and extraction finished')\n",
        "\n",
        "    return X_design, Y_design_bin, X_test, Y_test_bin, best_extractor"
      ],
      "execution_count": 0,
      "outputs": []
    },
    {
      "cell_type": "markdown",
      "metadata": {
        "id": "QA8t3CO44WUt",
        "colab_type": "text"
      },
      "source": [
        "### Classifier"
      ]
    },
    {
      "cell_type": "code",
      "metadata": {
        "id": "xEWggJTqLWIn",
        "colab_type": "code",
        "colab": {}
      },
      "source": [
        "def classifiers (X_design, Y_design, X_test, Y_test, results_outer, feature_extractor):\n",
        "   \n",
        "    ## Example for Classifier hyperparameters selecting\n",
        "    clfs = {svm.SVC(probability=True): {'kernel': ['linear', 'poly', 'rbf', 'sigmoid'], 'degree': range(1,5,1)},\n",
        "            RandomForestClassifier(): {'n_estimators':range(1,400,5)},\n",
        "            KNeighborsClassifier() : {'n_neighbors': range(1,100,2), 'weights': ['uniform', 'distance']},\n",
        "            LinearDiscriminantAnalysis():{}\n",
        "            }\n",
        "    names = ['SVC', 'RandomForest', 'KNN', 'LinearDiscriminant']\n",
        "    results = list()\n",
        "    n = 0\n",
        "\n",
        "    for clf, parameters in clfs.items():\n",
        "        # Perform Randomized search on classifiers and parameters.\n",
        "        scoring = {'AUC': 'roc_auc', 'Accuracy': make_scorer(accuracy_score), 'f1-score': make_scorer(f1_score)}\n",
        "        random_search = RandomizedSearchCV(clf, parameters, scoring=scoring, refit='AUC') \n",
        "        random_search.fit(X_design, Y_design['label'])\n",
        "        \n",
        "        # Get resulting classifier\n",
        "        clf_best = random_search.best_estimator_\n",
        "        print(f'Best classifier: parameters={random_search.best_params_}')   \n",
        "    \n",
        "        # Getting the accuracy, AUC and f1-score\n",
        "        accuracy = random_search.cv_results_['mean_test_Accuracy'][random_search.best_index_]\n",
        "        auc = random_search.cv_results_['mean_test_AUC'][random_search.best_index_]\n",
        "        f1 = random_search.cv_results_['mean_test_f1-score'][random_search.best_index_]\n",
        "        mean_score = (accuracy + auc + f1)/3 \n",
        "        results.append({\n",
        "            'accuracy': accuracy,\n",
        "            'AUC': auc,\n",
        "            'f1-score': f1,\n",
        "            'mean_score': mean_score,\n",
        "            'clf_name': names[n],\n",
        "            'clf': clf_best, \n",
        "            'parameters': random_search.best_params_,\n",
        "            'set': 'validation'\n",
        "              })\n",
        "        \n",
        "        n += 1 \n",
        "    print('Finisched Randomized Search') \n",
        "\n",
        "    # Create results dataframe and plot it\n",
        "    results = pd.DataFrame(results)\n",
        "\n",
        "    # Extracting classifier with best mean_score out of randomized search\n",
        "    index_best_classifier = results[['mean_score']].idxmax() \n",
        "    print(f'index_best_classifier={index_best_classifier}')\n",
        "    best_classifier_name = results['clf_name'][index_best_classifier]\n",
        "    best_classifier_name = best_classifier_name.tolist()\n",
        "    best_classifier = results['clf'][index_best_classifier]   \n",
        "    best_classifier = best_classifier.tolist()\n",
        "    best_parameters = results['parameters'][index_best_classifier]\n",
        "    best_parameters = best_parameters.tolist()\n",
        "    print(f'best_classifier={best_classifier}')\n",
        "\n",
        "    # Train best classifier on total testdata\n",
        "    classifier_optimized = best_classifier[0].fit(X_design,Y_design['label'])\n",
        "    pred_train = classifier_optimized.predict(X_design)\n",
        "\n",
        "    #Gettin accuracy, AUC and f1-score of training set and append to results\n",
        "    accuracy_train = accuracy_score(Y_design, pred_train)\n",
        "    auc_train = roc_auc_score(Y_design, pred_train)\n",
        "    f1_train = f1_score(Y_design, pred_train)\n",
        "    results_outer.append({\n",
        "        'clf_name': best_classifier_name[0],\n",
        "        'parameters': best_parameters[0],\n",
        "        'feature_extractor': feature_extractor,\n",
        "        'accuracy': accuracy_train,\n",
        "        'AUC': auc_train,\n",
        "        'f1-score': f1_train,\n",
        "        'fpr': 'NaN',\n",
        "        'tpr': 'NaN',\n",
        "        'set': 'training'\n",
        "        })\n",
        "    \n",
        "    #Test the classifier on the test data\n",
        "    pred_test = classifier_optimized.predict(X_test)\n",
        "\n",
        "    #Gettin accuracy, AUC, f1-score, tpr, fpr of test-set and append the results\n",
        "    accuracy_test = accuracy_score(Y_test, pred_test)\n",
        "    auc_test = roc_auc_score(Y_test, pred_test)\n",
        "    f1_test = f1_score(Y_test, pred_test)\n",
        "    fpr,tpr,_ = roc_curve(Y_test, pred_test, pos_label=1)\n",
        "    results_outer.append({\n",
        "        'clf_name': best_classifier_name[0],\n",
        "        'parameters': best_parameters[0],\n",
        "        'feature_extracor': feature_extractor,\n",
        "        'accuracy': accuracy_test,\n",
        "        'AUC': auc_test,\n",
        "        'f1-score': f1_test,\n",
        "        'fpr': fpr,\n",
        "        'tpr': tpr,\n",
        "        'set': 'testing'\n",
        "        })\n",
        "\n",
        "    return results_outer"
      ],
      "execution_count": 0,
      "outputs": []
    },
    {
      "cell_type": "markdown",
      "metadata": {
        "id": "SCvSSrLSDGt3",
        "colab_type": "text"
      },
      "source": [
        "###Evaluation\n"
      ]
    },
    {
      "cell_type": "code",
      "metadata": {
        "id": "RrcRetOJJGTz",
        "colab_type": "code",
        "colab": {}
      },
      "source": [
        "def evaluation (results_outer):\n",
        "  results_outer = pd.DataFrame(results_outer)\n",
        "  print(results_outer)\n",
        "\n",
        "  # Making boxplots\n",
        "  f, axes = plt.subplots(3, 1, figsize=(30, 40))\n",
        "  sns.boxplot(y='accuracy', x='clf_name', hue='set', data=results_outer, ax=axes[0])\n",
        "  sns.boxplot(y='AUC', x='clf_name', hue='set', data=results_outer, ax=axes[1])\n",
        "  sns.boxplot(y='f1-score', x='clf_name', hue='set', data=results_outer, ax=axes[2])\n",
        "\n",
        "  # Extracting the type of classifier most selected in the pipeline\n",
        "  optimal_classifier_type = results_outer['clf_name'].value_counts().idxmax()\n",
        "  occurence = (results_outer['clf_name'].value_counts().max())/2\n",
        "  print(f\"The optimal classifier type is a {optimal_classifier_type} with an occurence of {occurence} out of 10\")\n",
        "\n",
        "  # Selecting the classifier parameters which leaded to the best AUC result within the classifier most selected\n",
        "  results_optimal_classifier = results_outer.loc[results_outer['clf_name'] == optimal_classifier_type]\n",
        "  resulting_classifier = results_optimal_classifier.loc[results_optimal_classifier['AUC'].idxmax]\n",
        "  resulting_classifier_parameters = resulting_classifier['parameters'] \n",
        "  print(f'The optimal classifier (highest AUC) is a {optimal_classifier_type} with paramaters:{resulting_classifier_parameters}')\n",
        "\n",
        "  fpr = resulting_classifier['fpr']\n",
        "  tpr = resulting_classifier['tpr']\n",
        "  AUC = resulting_classifier['AUC']\n",
        "  #print(resulting_classifier)\n",
        "\n",
        "  # Plot ROC curve of the classifier with the highest AUC\n",
        "  plt.figure()\n",
        "  plt.plot(fpr, tpr, color='darkorange', lw=2, label=f'ROC curve (area={AUC})')\n",
        "  plt.plot([0, 1], [0, 1], color='navy', lw=2, linestyle='--')\n",
        "  plt.xlim([0.0, 1.0])\n",
        "  plt.ylim([0.0, 1.05])\n",
        "  plt.xlabel('False Positive Rate')\n",
        "  plt.ylabel('True Positive Rate')\n",
        "  plt.title(f'Receiver operating curve of the {optimal_classifier_type}{resulting_classifier_parameters} with the highest AUC')\n",
        "  plt.legend(loc=\"lower right\")\n",
        "  plt.show()\n",
        "\n",
        "  # Saving results \n",
        "  results_outer.to_csv('results_outer.csv')"
      ],
      "execution_count": 0,
      "outputs": []
    },
    {
      "cell_type": "markdown",
      "metadata": {
        "colab_type": "text",
        "id": "jCKzUBX7rpOj"
      },
      "source": [
        "### Pipeline"
      ]
    },
    {
      "cell_type": "code",
      "metadata": {
        "id": "1IYk4DjwcF48",
        "colab_type": "code",
        "outputId": "c6cabce4-ca83-479e-90f7-e4cf1efce4df",
        "colab": {
          "base_uri": "https://localhost:8080/",
          "height": 1000
        }
      },
      "source": [
        "#load dataset\n",
        "data_X, data_Y, Test_split = load_data(splits=10)\n",
        "\n",
        "results_outer = list()\n",
        "i=0\n",
        "for design_index, test_index in Test_split.split(data_X, data_Y):\n",
        "    #if i==2:\n",
        "    #  continue\n",
        "    #i += 1\n",
        "\n",
        "    X_design = data_X.iloc[design_index]\n",
        "    Y_design = data_Y.iloc[design_index]\n",
        "    \n",
        "    X_test = data_X.iloc[test_index]\n",
        "    Y_test = data_Y.iloc[test_index]\n",
        "\n",
        "    # run preprocessing\n",
        "    X_design, Y_design, X_test, Y_test = preprocessing_data(X_design, Y_design, X_test, Y_test)\n",
        "\n",
        "    # run feature extraction\n",
        "    X_design, Y_design_bin, X_test, Y_test_bin, feature_extractor = feature_extraction(X_design, Y_design, X_test, Y_test)\n",
        "    print(f'after feature extraction {X_test.shape[1]} columns left')\n",
        "    #print(X_design, Y_design_bin)\n",
        "\n",
        "    # run classifier\n",
        "    results_outer = classifiers (X_design, Y_design_bin, X_test, Y_test_bin, results_outer, feature_extractor)\n",
        "\n",
        "# run evaluation\n",
        "evaluation(results_outer)\n",
        "\n",
        "\n",
        "\n",
        "# save data to csv for manual check\n",
        "#X_design.to_csv('data_X.csv')\n",
        "#Y_design.to_csv('data_Y.csv')\n",
        "\n",
        "\n"
      ],
      "execution_count": 56,
      "outputs": [
        {
          "output_type": "stream",
          "text": [
            "data loaded\n",
            "The number of samples: 167\n",
            "The number of columns: 725\n",
            "unusefull values removed\n",
            "features and samples with to little information removed\n",
            "labeless samples removed\n",
            "remaining missing data imputed\n",
            "data scaled\n",
            "preprocessing finished\n",
            "The number of samples: 167\n",
            "The number of columns: 698\n",
            "running feature selection and extraction optimization\n",
            "6 options to try\n",
            "running split 1 of 5\n",
            "33 features left after selection\n",
            "calulated options\n",
            "running split 2 of 5\n",
            "28 features left after selection\n",
            "calulated options\n",
            "running split 3 of 5\n",
            "18 features left after selection\n",
            "calulated options\n",
            "running split 4 of 5\n",
            "68 features left after selection\n",
            "calulated options\n",
            "running split 5 of 5\n",
            "113 features left after selection\n",
            "calulated options\n",
            "finished in 23.890s\n",
            "  ac mean ac std AUC mean AUC std  ... f1 std     rfecv       model component\n",
            "3   0.800   0.10    0.808    0.10  ...   0.10  no_rfecv       pca_8         8\n",
            "2   0.793   0.10    0.803    0.09  ...   0.09  no_rfecv       pca_6         6\n",
            "4   0.793   0.05    0.750    0.07  ...   0.03     rfecv      pca_48        48\n",
            "5   0.793   0.05    0.750    0.07  ...   0.03     rfecv      pca_52        52\n",
            "0   0.793   0.04    0.746    0.05  ...   0.03  no_rfecv   Umapper_8         8\n",
            "1   0.773   0.04    0.722    0.05  ...   0.03  no_rfecv  Umapper_12        12\n",
            "\n",
            "[6 rows x 9 columns]\n",
            "best extractor = ac mean         0.800\n",
            "ac std           0.10\n",
            "AUC mean        0.808\n",
            "AUC std          0.10\n",
            "f1 mean         0.821\n",
            "f1 std           0.10\n",
            "rfecv        no_rfecv\n",
            "model           pca_8\n",
            "component           8\n",
            "Name: 3, dtype: object\n",
            "feature selection and extraction finished\n",
            "after feature extraction 8 columns left\n",
            "                     0         1         2  ...         5         6         7\n",
            "ID                                          ...                              \n",
            "TCGA-02-0064  0.438135 -0.007831  0.161963  ...  0.019163  0.030153 -0.033789\n",
            "TCGA-02-0068  0.449925 -0.034891 -0.040808  ... -0.048417  0.024201  0.062844\n",
            "TCGA-02-0069  0.099950  0.262372 -0.091552  ... -0.099388  0.095788 -0.005910\n",
            "TCGA-02-0070  0.289757 -0.022243  0.129407  ... -0.051349 -0.032267  0.158809\n",
            "TCGA-02-0075  0.125471  0.525530 -0.376994  ...  0.029906 -0.002597  0.029757\n",
            "...                ...       ...       ...  ...       ...       ...       ...\n",
            "TCGA-HT-8018  0.159530 -0.022880  0.093725  ... -0.239066  0.212968  0.204332\n",
            "TCGA-HT-8111 -0.227242 -0.065840 -0.001671  ... -0.198651  0.089011 -0.017582\n",
            "TCGA-HT-8114 -0.258664 -0.030478 -0.005565  ...  0.023008 -0.044553 -0.051211\n",
            "TCGA-HT-8563  0.018236 -0.138093 -0.113703  ... -0.202607  0.078445  0.014140\n",
            "TCGA-HT-A61A -0.258664 -0.030478 -0.005565  ...  0.023008 -0.044553 -0.051211\n",
            "\n",
            "[150 rows x 8 columns]               label\n",
            "ID                 \n",
            "TCGA-02-0064      1\n",
            "TCGA-02-0068      1\n",
            "TCGA-02-0069      1\n",
            "TCGA-02-0070      1\n",
            "TCGA-02-0075      1\n",
            "...             ...\n",
            "TCGA-HT-8018      0\n",
            "TCGA-HT-8111      0\n",
            "TCGA-HT-8114      0\n",
            "TCGA-HT-8563      0\n",
            "TCGA-HT-A61A      0\n",
            "\n",
            "[150 rows x 1 columns]\n",
            "Best classifier: parameters={'kernel': 'rbf', 'degree': 4}\n",
            "Best classifier: parameters={'n_estimators': 146}\n",
            "Best classifier: parameters={'weights': 'uniform', 'n_neighbors': 9}\n",
            "Best classifier: parameters={}\n",
            "Finisched Randomized Search\n",
            "index_best_classifier=mean_score    1\n",
            "dtype: int64\n",
            "best_classifier=[RandomForestClassifier(bootstrap=True, ccp_alpha=0.0, class_weight=None,\n",
            "                       criterion='gini', max_depth=None, max_features='auto',\n",
            "                       max_leaf_nodes=None, max_samples=None,\n",
            "                       min_impurity_decrease=0.0, min_impurity_split=None,\n",
            "                       min_samples_leaf=1, min_samples_split=2,\n",
            "                       min_weight_fraction_leaf=0.0, n_estimators=146,\n",
            "                       n_jobs=None, oob_score=False, random_state=None,\n",
            "                       verbose=0, warm_start=False)]\n"
          ],
          "name": "stdout"
        },
        {
          "output_type": "stream",
          "text": [
            "/usr/local/lib/python3.6/dist-packages/sklearn/model_selection/_search.py:281: UserWarning: The total space of parameters 1 is smaller than n_iter=10. Running 1 iterations. For exhaustive searches, use GridSearchCV.\n",
            "  % (grid_size, self.n_iter, grid_size), UserWarning)\n"
          ],
          "name": "stderr"
        },
        {
          "output_type": "stream",
          "text": [
            "unusefull values removed\n",
            "features and samples with to little information removed\n",
            "labeless samples removed\n",
            "remaining missing data imputed\n",
            "data scaled\n",
            "preprocessing finished\n",
            "The number of samples: 167\n",
            "The number of columns: 700\n",
            "running feature selection and extraction optimization\n",
            "6 options to try\n",
            "running split 1 of 5\n",
            "355 features left after selection\n",
            "calulated options\n",
            "running split 2 of 5\n",
            "50 features left after selection\n",
            "calulated options\n",
            "running split 3 of 5\n",
            "70 features left after selection\n",
            "calulated options\n",
            "running split 4 of 5\n",
            "385 features left after selection\n",
            "calulated options\n",
            "running split 5 of 5\n",
            "20 features left after selection\n",
            "calulated options\n",
            "finished in 21.721s\n",
            "  ac mean ac std AUC mean AUC std  ... f1 std     rfecv       model component\n",
            "3   0.787   0.10    0.794    0.10  ...   0.10  no_rfecv       pca_8         8\n",
            "2   0.773   0.07    0.780    0.07  ...   0.07  no_rfecv       pca_6         6\n",
            "5   0.813   0.04    0.768    0.05  ...   0.03     rfecv      pca_52        52\n",
            "4   0.807   0.04    0.765    0.05  ...   0.04     rfecv      pca_48        48\n",
            "1   0.740   0.05    0.681    0.07  ...   0.02  no_rfecv  Umapper_12        12\n",
            "0   0.727   0.04    0.664    0.06  ...   0.03  no_rfecv   Umapper_8         8\n",
            "\n",
            "[6 rows x 9 columns]\n",
            "best extractor = ac mean         0.787\n",
            "ac std           0.10\n",
            "AUC mean        0.794\n",
            "AUC std          0.10\n",
            "f1 mean         0.809\n",
            "f1 std           0.10\n",
            "rfecv        no_rfecv\n",
            "model           pca_8\n",
            "component           8\n",
            "Name: 3, dtype: object\n",
            "feature selection and extraction finished\n",
            "after feature extraction 8 columns left\n",
            "                     0         1         2  ...         5         6         7\n",
            "ID                                          ...                              \n",
            "TCGA-02-0006 -0.236692 -0.077159  0.024189  ... -0.126355  0.033214 -0.056998\n",
            "TCGA-02-0009 -0.241845 -0.028333 -0.007240  ...  0.018791 -0.028552 -0.024577\n",
            "TCGA-02-0011 -0.258474  0.195271 -0.242986  ...  0.078049 -0.023825  0.176730\n",
            "TCGA-02-0027  0.436044  0.109534  0.226713  ...  0.058311 -0.075328  0.009525\n",
            "TCGA-02-0033  0.325025 -0.155370 -0.100100  ... -0.044061  0.016194  0.063676\n",
            "...                ...       ...       ...  ...       ...       ...       ...\n",
            "TCGA-HT-8018  0.209599 -0.026178  0.076651  ... -0.218034  0.177901  0.227623\n",
            "TCGA-HT-8111 -0.223552 -0.084174  0.013013  ... -0.159977  0.051587 -0.034072\n",
            "TCGA-HT-8114 -0.243217 -0.048108  0.008109  ...  0.015150 -0.032103 -0.039496\n",
            "TCGA-HT-8563  0.005412 -0.141385 -0.098687  ... -0.170830  0.057806  0.096485\n",
            "TCGA-HT-A61A -0.243217 -0.048108  0.008109  ...  0.015150 -0.032103 -0.039496\n",
            "\n",
            "[150 rows x 8 columns]               label\n",
            "ID                 \n",
            "TCGA-02-0006      1\n",
            "TCGA-02-0009      1\n",
            "TCGA-02-0011      1\n",
            "TCGA-02-0027      1\n",
            "TCGA-02-0033      1\n",
            "...             ...\n",
            "TCGA-HT-8018      0\n",
            "TCGA-HT-8111      0\n",
            "TCGA-HT-8114      0\n",
            "TCGA-HT-8563      0\n",
            "TCGA-HT-A61A      0\n",
            "\n",
            "[150 rows x 1 columns]\n",
            "Best classifier: parameters={'kernel': 'rbf', 'degree': 2}\n",
            "Best classifier: parameters={'n_estimators': 211}\n",
            "Best classifier: parameters={'weights': 'uniform', 'n_neighbors': 7}\n",
            "Best classifier: parameters={}\n",
            "Finisched Randomized Search\n",
            "index_best_classifier=mean_score    1\n",
            "dtype: int64\n",
            "best_classifier=[RandomForestClassifier(bootstrap=True, ccp_alpha=0.0, class_weight=None,\n",
            "                       criterion='gini', max_depth=None, max_features='auto',\n",
            "                       max_leaf_nodes=None, max_samples=None,\n",
            "                       min_impurity_decrease=0.0, min_impurity_split=None,\n",
            "                       min_samples_leaf=1, min_samples_split=2,\n",
            "                       min_weight_fraction_leaf=0.0, n_estimators=211,\n",
            "                       n_jobs=None, oob_score=False, random_state=None,\n",
            "                       verbose=0, warm_start=False)]\n"
          ],
          "name": "stdout"
        },
        {
          "output_type": "stream",
          "text": [
            "/usr/local/lib/python3.6/dist-packages/sklearn/model_selection/_search.py:281: UserWarning: The total space of parameters 1 is smaller than n_iter=10. Running 1 iterations. For exhaustive searches, use GridSearchCV.\n",
            "  % (grid_size, self.n_iter, grid_size), UserWarning)\n"
          ],
          "name": "stderr"
        },
        {
          "output_type": "stream",
          "text": [
            "unusefull values removed\n",
            "features and samples with to little information removed\n",
            "labeless samples removed\n",
            "remaining missing data imputed\n",
            "data scaled\n",
            "preprocessing finished\n",
            "The number of samples: 167\n",
            "The number of columns: 699\n",
            "running feature selection and extraction optimization\n",
            "6 options to try\n",
            "running split 1 of 5\n",
            "274 features left after selection\n",
            "calulated options\n",
            "running split 2 of 5\n",
            "629 features left after selection\n",
            "calulated options\n",
            "running split 3 of 5\n",
            "339 features left after selection\n",
            "calulated options\n",
            "running split 4 of 5\n",
            "14 features left after selection\n",
            "calulated options\n",
            "running split 5 of 5\n",
            "114 features left after selection\n",
            "calulated options\n",
            "finished in 21.953s\n",
            "  ac mean ac std AUC mean AUC std  ... f1 std     rfecv       model component\n",
            "3   0.787   0.08    0.801    0.07  ...   0.07  no_rfecv       pca_8         8\n",
            "2   0.780   0.09    0.793    0.09  ...   0.08  no_rfecv       pca_6         6\n",
            "5   0.800   0.06    0.758    0.07  ...   0.04     rfecv      pca_52        52\n",
            "4   0.793   0.06    0.750    0.07  ...   0.05     rfecv      pca_48        48\n",
            "0   0.793   0.05    0.742    0.06  ...   0.03  no_rfecv   Umapper_8         8\n",
            "1   0.773   0.05    0.720    0.07  ...   0.03  no_rfecv  Umapper_12        12\n",
            "\n",
            "[6 rows x 9 columns]\n",
            "best extractor = ac mean         0.787\n",
            "ac std           0.08\n",
            "AUC mean        0.801\n",
            "AUC std          0.07\n",
            "f1 mean         0.808\n",
            "f1 std           0.07\n",
            "rfecv        no_rfecv\n",
            "model           pca_8\n",
            "component           8\n",
            "Name: 3, dtype: object\n",
            "feature selection and extraction finished\n",
            "after feature extraction 8 columns left\n",
            "                     0         1         2  ...         5         6         7\n",
            "ID                                          ...                              \n",
            "TCGA-02-0006 -0.246839 -0.071169 -0.010307  ... -0.190942  0.114304 -0.085165\n",
            "TCGA-02-0009 -0.238727  0.007030 -0.019967  ...  0.019619 -0.025451 -0.025243\n",
            "TCGA-02-0011 -0.208472  0.337092 -0.265331  ...  0.025502  0.006541  0.066260\n",
            "TCGA-02-0027  0.387987  0.017475  0.231547  ...  0.029551 -0.056803 -0.075769\n",
            "TCGA-02-0033  0.348267 -0.174250 -0.111335  ... -0.063648 -0.069427  0.069536\n",
            "...                ...       ...       ...  ...       ...       ...       ...\n",
            "TCGA-HT-8018  0.209154 -0.029905  0.098211  ... -0.342695  0.055445  0.273086\n",
            "TCGA-HT-8111 -0.227777 -0.076192 -0.024786  ... -0.215469  0.099848 -0.046763\n",
            "TCGA-HT-8114 -0.254905 -0.036004 -0.002368  ...  0.038056 -0.004628 -0.031629\n",
            "TCGA-HT-8563 -0.006660 -0.126158 -0.141706  ... -0.167061  0.014391  0.090407\n",
            "TCGA-HT-A61A -0.254905 -0.036004 -0.002368  ...  0.038056 -0.004628 -0.031629\n",
            "\n",
            "[150 rows x 8 columns]               label\n",
            "ID                 \n",
            "TCGA-02-0006      1\n",
            "TCGA-02-0009      1\n",
            "TCGA-02-0011      1\n",
            "TCGA-02-0027      1\n",
            "TCGA-02-0033      1\n",
            "...             ...\n",
            "TCGA-HT-8018      0\n",
            "TCGA-HT-8111      0\n",
            "TCGA-HT-8114      0\n",
            "TCGA-HT-8563      0\n",
            "TCGA-HT-A61A      0\n",
            "\n",
            "[150 rows x 1 columns]\n",
            "Best classifier: parameters={'kernel': 'rbf', 'degree': 3}\n",
            "Best classifier: parameters={'n_estimators': 46}\n",
            "Best classifier: parameters={'weights': 'distance', 'n_neighbors': 9}\n",
            "Best classifier: parameters={}\n",
            "Finisched Randomized Search\n",
            "index_best_classifier=mean_score    1\n",
            "dtype: int64\n",
            "best_classifier=[RandomForestClassifier(bootstrap=True, ccp_alpha=0.0, class_weight=None,\n",
            "                       criterion='gini', max_depth=None, max_features='auto',\n",
            "                       max_leaf_nodes=None, max_samples=None,\n",
            "                       min_impurity_decrease=0.0, min_impurity_split=None,\n",
            "                       min_samples_leaf=1, min_samples_split=2,\n",
            "                       min_weight_fraction_leaf=0.0, n_estimators=46,\n",
            "                       n_jobs=None, oob_score=False, random_state=None,\n",
            "                       verbose=0, warm_start=False)]\n"
          ],
          "name": "stdout"
        },
        {
          "output_type": "stream",
          "text": [
            "/usr/local/lib/python3.6/dist-packages/sklearn/model_selection/_search.py:281: UserWarning: The total space of parameters 1 is smaller than n_iter=10. Running 1 iterations. For exhaustive searches, use GridSearchCV.\n",
            "  % (grid_size, self.n_iter, grid_size), UserWarning)\n"
          ],
          "name": "stderr"
        },
        {
          "output_type": "stream",
          "text": [
            "unusefull values removed\n",
            "features and samples with to little information removed\n",
            "labeless samples removed\n",
            "remaining missing data imputed\n",
            "data scaled\n",
            "preprocessing finished\n",
            "The number of samples: 167\n",
            "The number of columns: 698\n",
            "running feature selection and extraction optimization\n",
            "6 options to try\n",
            "running split 1 of 5\n",
            "38 features left after selection\n",
            "calulated options\n",
            "running split 2 of 5\n",
            "248 features left after selection\n",
            "calulated options\n",
            "running split 3 of 5\n",
            "18 features left after selection\n",
            "calulated options\n",
            "running split 4 of 5\n",
            "1 features left after selection\n",
            "calulated options\n",
            "running split 5 of 5\n",
            "43 features left after selection\n",
            "calulated options\n",
            "finished in 24.530s\n",
            "  ac mean ac std AUC mean AUC std  ... f1 std     rfecv       model component\n",
            "3   0.813   0.03    0.815    0.04  ...   0.03  no_rfecv       pca_8         8\n",
            "2   0.793   0.05    0.791    0.05  ...   0.04  no_rfecv       pca_6         6\n",
            "0   0.793   0.05    0.743    0.05  ...   0.04  no_rfecv   Umapper_8         8\n",
            "4   0.793   0.04    0.735    0.04  ...   0.03     rfecv      pca_48        48\n",
            "5   0.793   0.04    0.735    0.04  ...   0.03     rfecv      pca_52        52\n",
            "1   0.773   0.04    0.716    0.04  ...   0.03  no_rfecv  Umapper_12        12\n",
            "\n",
            "[6 rows x 9 columns]\n",
            "best extractor = ac mean         0.813\n",
            "ac std           0.03\n",
            "AUC mean        0.815\n",
            "AUC std          0.04\n",
            "f1 mean         0.842\n",
            "f1 std           0.03\n",
            "rfecv        no_rfecv\n",
            "model           pca_8\n",
            "component           8\n",
            "Name: 3, dtype: object\n",
            "feature selection and extraction finished\n",
            "after feature extraction 8 columns left\n",
            "                     0         1         2  ...         5         6         7\n",
            "ID                                          ...                              \n",
            "TCGA-02-0006 -0.243393 -0.068899  0.014302  ... -0.154656  0.007600  0.130918\n",
            "TCGA-02-0009 -0.246471 -0.000440 -0.015808  ...  0.030103 -0.028476 -0.040005\n",
            "TCGA-02-0011 -0.207957  0.351802 -0.254745  ...  0.037520  0.121456  0.000610\n",
            "TCGA-02-0027  0.439899  0.030869  0.263587  ...  0.082953  0.005558 -0.001061\n",
            "TCGA-02-0033  0.353186 -0.172382 -0.130123  ... -0.102060  0.005902 -0.026082\n",
            "...                ...       ...       ...  ...       ...       ...       ...\n",
            "TCGA-HT-8018  0.183685 -0.036186  0.073858  ... -0.326758  0.243142 -0.141530\n",
            "TCGA-HT-8111 -0.229734 -0.073829 -0.001384  ... -0.189354  0.018105  0.126854\n",
            "TCGA-HT-8114 -0.259524 -0.036555 -0.003453  ...  0.037344 -0.026904 -0.034304\n",
            "TCGA-HT-8563 -0.011572 -0.130368 -0.125261  ... -0.182241  0.062721 -0.062360\n",
            "TCGA-HT-A61A -0.259524 -0.036555 -0.003453  ...  0.037344 -0.026904 -0.034304\n",
            "\n",
            "[150 rows x 8 columns]               label\n",
            "ID                 \n",
            "TCGA-02-0006      1\n",
            "TCGA-02-0009      1\n",
            "TCGA-02-0011      1\n",
            "TCGA-02-0027      1\n",
            "TCGA-02-0033      1\n",
            "...             ...\n",
            "TCGA-HT-8018      0\n",
            "TCGA-HT-8111      0\n",
            "TCGA-HT-8114      0\n",
            "TCGA-HT-8563      0\n",
            "TCGA-HT-A61A      0\n",
            "\n",
            "[150 rows x 1 columns]\n",
            "Best classifier: parameters={'kernel': 'poly', 'degree': 1}\n",
            "Best classifier: parameters={'n_estimators': 146}\n",
            "Best classifier: parameters={'weights': 'distance', 'n_neighbors': 79}\n",
            "Best classifier: parameters={}\n",
            "Finisched Randomized Search\n",
            "index_best_classifier=mean_score    0\n",
            "dtype: int64\n",
            "best_classifier=[SVC(C=1.0, break_ties=False, cache_size=200, class_weight=None, coef0=0.0,\n",
            "    decision_function_shape='ovr', degree=1, gamma='scale', kernel='poly',\n",
            "    max_iter=-1, probability=True, random_state=None, shrinking=True, tol=0.001,\n",
            "    verbose=False)]\n"
          ],
          "name": "stdout"
        },
        {
          "output_type": "stream",
          "text": [
            "/usr/local/lib/python3.6/dist-packages/sklearn/model_selection/_search.py:281: UserWarning: The total space of parameters 1 is smaller than n_iter=10. Running 1 iterations. For exhaustive searches, use GridSearchCV.\n",
            "  % (grid_size, self.n_iter, grid_size), UserWarning)\n"
          ],
          "name": "stderr"
        },
        {
          "output_type": "stream",
          "text": [
            "unusefull values removed\n",
            "features and samples with to little information removed\n",
            "labeless samples removed\n",
            "remaining missing data imputed\n",
            "data scaled\n",
            "preprocessing finished\n",
            "The number of samples: 167\n",
            "The number of columns: 700\n",
            "running feature selection and extraction optimization\n",
            "6 options to try\n",
            "running split 1 of 5\n",
            "5 features left after selection\n",
            "calulated options\n",
            "running split 2 of 5\n",
            "15 features left after selection\n",
            "calulated options\n",
            "running split 3 of 5\n",
            "10 features left after selection\n",
            "calulated options\n",
            "running split 4 of 5\n",
            "35 features left after selection\n",
            "calulated options\n",
            "running split 5 of 5\n",
            "55 features left after selection\n",
            "calulated options\n",
            "finished in 30.355s\n",
            "  ac mean ac std AUC mean AUC std  ... f1 std     rfecv       model component\n",
            "2   0.800   0.03    0.809    0.03  ...   0.04  no_rfecv       pca_6         6\n",
            "3   0.787   0.04    0.799    0.04  ...   0.05  no_rfecv       pca_8         8\n",
            "4   0.760   0.04    0.706    0.06  ...   0.03     rfecv      pca_48        48\n",
            "5   0.760   0.04    0.706    0.06  ...   0.03     rfecv      pca_52        52\n",
            "0   0.733   0.06    0.671    0.08  ...   0.04  no_rfecv   Umapper_8         8\n",
            "1   0.727   0.08    0.652    0.09  ...   0.04  no_rfecv  Umapper_12        12\n",
            "\n",
            "[6 rows x 9 columns]\n",
            "best extractor = ac mean         0.800\n",
            "ac std           0.03\n",
            "AUC mean        0.809\n",
            "AUC std          0.03\n",
            "f1 mean         0.824\n",
            "f1 std           0.04\n",
            "rfecv        no_rfecv\n",
            "model           pca_6\n",
            "component           6\n",
            "Name: 2, dtype: object\n",
            "feature selection and extraction finished\n",
            "after feature extraction 6 columns left\n",
            "                     0         1         2         3         4         5\n",
            "ID                                                                      \n",
            "TCGA-02-0006 -0.242487 -0.076081  0.015999 -0.076472 -0.029958  0.141546\n",
            "TCGA-02-0009 -0.244452 -0.017141 -0.010984 -0.009049  0.022830 -0.023249\n",
            "TCGA-02-0011 -0.260740  0.249886 -0.189321 -0.156312  0.133841 -0.072418\n",
            "TCGA-02-0027  0.418696  0.050724  0.308224 -0.120169  0.057991 -0.057625\n",
            "TCGA-02-0033  0.329272 -0.113192 -0.110268 -0.093299  0.072249  0.074134\n",
            "...                ...       ...       ...       ...       ...       ...\n",
            "TCGA-HT-8018  0.167016 -0.022172  0.077536  0.101594  0.043131  0.371604\n",
            "TCGA-HT-8111 -0.232319 -0.075728  0.002441 -0.071159 -0.059179  0.147997\n",
            "TCGA-HT-8114 -0.248974 -0.055195  0.001843  0.015252 -0.000398 -0.029900\n",
            "TCGA-HT-8563  0.000342 -0.113412 -0.129510 -0.129432 -0.255064  0.235076\n",
            "TCGA-HT-A61A -0.248974 -0.055195  0.001843  0.015252 -0.000398 -0.029900\n",
            "\n",
            "[150 rows x 6 columns]               label\n",
            "ID                 \n",
            "TCGA-02-0006      1\n",
            "TCGA-02-0009      1\n",
            "TCGA-02-0011      1\n",
            "TCGA-02-0027      1\n",
            "TCGA-02-0033      1\n",
            "...             ...\n",
            "TCGA-HT-8018      0\n",
            "TCGA-HT-8111      0\n",
            "TCGA-HT-8114      0\n",
            "TCGA-HT-8563      0\n",
            "TCGA-HT-A61A      0\n",
            "\n",
            "[150 rows x 1 columns]\n",
            "Best classifier: parameters={'kernel': 'sigmoid', 'degree': 4}\n",
            "Best classifier: parameters={'n_estimators': 321}\n",
            "Best classifier: parameters={'weights': 'distance', 'n_neighbors': 83}\n",
            "Best classifier: parameters={}\n",
            "Finisched Randomized Search\n",
            "index_best_classifier=mean_score    1\n",
            "dtype: int64\n",
            "best_classifier=[RandomForestClassifier(bootstrap=True, ccp_alpha=0.0, class_weight=None,\n",
            "                       criterion='gini', max_depth=None, max_features='auto',\n",
            "                       max_leaf_nodes=None, max_samples=None,\n",
            "                       min_impurity_decrease=0.0, min_impurity_split=None,\n",
            "                       min_samples_leaf=1, min_samples_split=2,\n",
            "                       min_weight_fraction_leaf=0.0, n_estimators=321,\n",
            "                       n_jobs=None, oob_score=False, random_state=None,\n",
            "                       verbose=0, warm_start=False)]\n"
          ],
          "name": "stdout"
        },
        {
          "output_type": "stream",
          "text": [
            "/usr/local/lib/python3.6/dist-packages/sklearn/model_selection/_search.py:281: UserWarning: The total space of parameters 1 is smaller than n_iter=10. Running 1 iterations. For exhaustive searches, use GridSearchCV.\n",
            "  % (grid_size, self.n_iter, grid_size), UserWarning)\n"
          ],
          "name": "stderr"
        },
        {
          "output_type": "stream",
          "text": [
            "unusefull values removed\n",
            "features and samples with to little information removed\n",
            "labeless samples removed\n",
            "remaining missing data imputed\n",
            "data scaled\n",
            "preprocessing finished\n",
            "The number of samples: 167\n",
            "The number of columns: 698\n",
            "running feature selection and extraction optimization\n",
            "6 options to try\n",
            "running split 1 of 5\n",
            "23 features left after selection\n",
            "calulated options\n",
            "running split 2 of 5\n",
            "28 features left after selection\n",
            "calulated options\n",
            "running split 3 of 5\n",
            "8 features left after selection\n",
            "calulated options\n",
            "running split 4 of 5\n",
            "13 features left after selection\n",
            "calulated options\n",
            "running split 5 of 5\n",
            "28 features left after selection\n",
            "calulated options\n",
            "finished in 23.642s\n",
            "  ac mean ac std AUC mean AUC std  ... f1 std     rfecv       model component\n",
            "2   0.807   0.06    0.806    0.07  ...   0.05  no_rfecv       pca_6         6\n",
            "3   0.767   0.06    0.770    0.07  ...   0.06  no_rfecv       pca_8         8\n",
            "4   0.760   0.06    0.696    0.07  ...   0.04     rfecv      pca_48        48\n",
            "5   0.760   0.06    0.696    0.07  ...   0.04     rfecv      pca_52        52\n",
            "0   0.720   0.10    0.649    0.12  ...   0.06  no_rfecv   Umapper_8         8\n",
            "1   0.713   0.11    0.641    0.13  ...   0.06  no_rfecv  Umapper_12        12\n",
            "\n",
            "[6 rows x 9 columns]\n",
            "best extractor = ac mean         0.807\n",
            "ac std           0.06\n",
            "AUC mean        0.806\n",
            "AUC std          0.07\n",
            "f1 mean         0.837\n",
            "f1 std           0.05\n",
            "rfecv        no_rfecv\n",
            "model           pca_6\n",
            "component           6\n",
            "Name: 2, dtype: object\n",
            "feature selection and extraction finished\n",
            "after feature extraction 6 columns left\n",
            "                     0         1         2         3         4         5\n",
            "ID                                                                      \n",
            "TCGA-02-0006 -0.237157 -0.082118  0.041469  0.205240 -0.060842 -0.115651\n",
            "TCGA-02-0009 -0.251023 -0.013158 -0.020305 -0.015795 -0.007673  0.023767\n",
            "TCGA-02-0011 -0.218443  0.345247 -0.245339  0.116426 -0.134042  0.170539\n",
            "TCGA-02-0027  0.396618  0.089756  0.302278  0.006851 -0.086969  0.047336\n",
            "TCGA-02-0033  0.366880 -0.146080 -0.085416  0.054486 -0.122624  0.012525\n",
            "...                ...       ...       ...       ...       ...       ...\n",
            "TCGA-HT-8018  0.208653 -0.017014  0.074816 -0.063796 -0.203322 -0.210423\n",
            "TCGA-HT-8111 -0.213499 -0.090949  0.032322  0.238442 -0.016029 -0.157841\n",
            "TCGA-HT-8114 -0.256769 -0.037791 -0.012198 -0.026262  0.014425  0.010951\n",
            "TCGA-HT-8563  0.036087 -0.137077 -0.062951  0.283649  0.149690 -0.145436\n",
            "TCGA-HT-A61A -0.256769 -0.037791 -0.012198 -0.026262  0.014425  0.010951\n",
            "\n",
            "[150 rows x 6 columns]               label\n",
            "ID                 \n",
            "TCGA-02-0006      1\n",
            "TCGA-02-0009      1\n",
            "TCGA-02-0011      1\n",
            "TCGA-02-0027      1\n",
            "TCGA-02-0033      1\n",
            "...             ...\n",
            "TCGA-HT-8018      0\n",
            "TCGA-HT-8111      0\n",
            "TCGA-HT-8114      0\n",
            "TCGA-HT-8563      0\n",
            "TCGA-HT-A61A      0\n",
            "\n",
            "[150 rows x 1 columns]\n",
            "Best classifier: parameters={'kernel': 'rbf', 'degree': 3}\n",
            "Best classifier: parameters={'n_estimators': 131}\n",
            "Best classifier: parameters={'weights': 'distance', 'n_neighbors': 81}\n",
            "Best classifier: parameters={}\n",
            "Finisched Randomized Search\n",
            "index_best_classifier=mean_score    1\n",
            "dtype: int64\n",
            "best_classifier=[RandomForestClassifier(bootstrap=True, ccp_alpha=0.0, class_weight=None,\n",
            "                       criterion='gini', max_depth=None, max_features='auto',\n",
            "                       max_leaf_nodes=None, max_samples=None,\n",
            "                       min_impurity_decrease=0.0, min_impurity_split=None,\n",
            "                       min_samples_leaf=1, min_samples_split=2,\n",
            "                       min_weight_fraction_leaf=0.0, n_estimators=131,\n",
            "                       n_jobs=None, oob_score=False, random_state=None,\n",
            "                       verbose=0, warm_start=False)]\n"
          ],
          "name": "stdout"
        },
        {
          "output_type": "stream",
          "text": [
            "/usr/local/lib/python3.6/dist-packages/sklearn/model_selection/_search.py:281: UserWarning: The total space of parameters 1 is smaller than n_iter=10. Running 1 iterations. For exhaustive searches, use GridSearchCV.\n",
            "  % (grid_size, self.n_iter, grid_size), UserWarning)\n"
          ],
          "name": "stderr"
        },
        {
          "output_type": "stream",
          "text": [
            "unusefull values removed\n",
            "features and samples with to little information removed\n",
            "labeless samples removed\n",
            "remaining missing data imputed\n",
            "data scaled\n",
            "preprocessing finished\n",
            "The number of samples: 167\n",
            "The number of columns: 700\n",
            "running feature selection and extraction optimization\n",
            "6 options to try\n",
            "running split 1 of 5\n",
            "75 features left after selection\n",
            "calulated options\n",
            "running split 2 of 5\n",
            "50 features left after selection\n",
            "calulated options\n",
            "running split 3 of 5\n",
            "35 features left after selection\n",
            "calulated options\n",
            "running split 4 of 5\n",
            "40 features left after selection\n",
            "calulated options\n",
            "running split 5 of 5\n",
            "215 features left after selection\n",
            "calulated options\n",
            "finished in 26.268s\n",
            "  ac mean ac std AUC mean AUC std  ... f1 std     rfecv       model component\n",
            "3   0.780   0.06    0.792    0.06  ...   0.06  no_rfecv       pca_8         8\n",
            "2   0.773   0.04    0.787    0.05  ...   0.04  no_rfecv       pca_6         6\n",
            "4   0.767   0.04    0.721    0.06  ...   0.02     rfecv      pca_48        48\n",
            "1   0.760   0.11    0.696    0.14  ...   0.07  no_rfecv  Umapper_12        12\n",
            "5   0.747   0.06    0.694    0.10  ...   0.03     rfecv      pca_52        52\n",
            "0   0.707   0.09    0.634    0.11  ...   0.06  no_rfecv   Umapper_8         8\n",
            "\n",
            "[6 rows x 9 columns]\n",
            "best extractor = ac mean         0.780\n",
            "ac std           0.06\n",
            "AUC mean        0.792\n",
            "AUC std          0.06\n",
            "f1 mean         0.803\n",
            "f1 std           0.06\n",
            "rfecv        no_rfecv\n",
            "model           pca_8\n",
            "component           8\n",
            "Name: 3, dtype: object\n",
            "feature selection and extraction finished\n",
            "after feature extraction 8 columns left\n",
            "                     0         1         2  ...         5         6         7\n",
            "ID                                          ...                              \n",
            "TCGA-02-0006 -0.254112 -0.062277  0.008149  ... -0.171003 -0.111074  0.007610\n",
            "TCGA-02-0009 -0.241854  0.008678 -0.015907  ...  0.005507  0.019156  0.001305\n",
            "TCGA-02-0011 -0.213280  0.328978 -0.249758  ...  0.113234  0.011962 -0.050406\n",
            "TCGA-02-0027  0.425710  0.048626  0.277517  ...  0.001457 -0.004700  0.008430\n",
            "TCGA-02-0033  0.341674 -0.167623 -0.095285  ... -0.049220  0.014858 -0.041119\n",
            "...                ...       ...       ...  ...       ...       ...       ...\n",
            "TCGA-HT-8018  0.194755 -0.037888  0.059300  ... -0.178910  0.021542 -0.095974\n",
            "TCGA-HT-8111 -0.241834 -0.067464 -0.004136  ... -0.198446 -0.115469 -0.000163\n",
            "TCGA-HT-8114 -0.258134 -0.037430  0.000992  ...  0.005427 -0.011849  0.034896\n",
            "TCGA-HT-8563 -0.012731 -0.144205 -0.123363  ... -0.184935 -0.082277 -0.032847\n",
            "TCGA-HT-A61A -0.258134 -0.037430  0.000992  ...  0.005427 -0.011849  0.034896\n",
            "\n",
            "[150 rows x 8 columns]               label\n",
            "ID                 \n",
            "TCGA-02-0006      1\n",
            "TCGA-02-0009      1\n",
            "TCGA-02-0011      1\n",
            "TCGA-02-0027      1\n",
            "TCGA-02-0033      1\n",
            "...             ...\n",
            "TCGA-HT-8018      0\n",
            "TCGA-HT-8111      0\n",
            "TCGA-HT-8114      0\n",
            "TCGA-HT-8563      0\n",
            "TCGA-HT-A61A      0\n",
            "\n",
            "[150 rows x 1 columns]\n",
            "Best classifier: parameters={'kernel': 'rbf', 'degree': 4}\n",
            "Best classifier: parameters={'n_estimators': 376}\n",
            "Best classifier: parameters={'weights': 'distance', 'n_neighbors': 77}\n",
            "Best classifier: parameters={}\n",
            "Finisched Randomized Search\n",
            "index_best_classifier=mean_score    1\n",
            "dtype: int64\n",
            "best_classifier=[RandomForestClassifier(bootstrap=True, ccp_alpha=0.0, class_weight=None,\n",
            "                       criterion='gini', max_depth=None, max_features='auto',\n",
            "                       max_leaf_nodes=None, max_samples=None,\n",
            "                       min_impurity_decrease=0.0, min_impurity_split=None,\n",
            "                       min_samples_leaf=1, min_samples_split=2,\n",
            "                       min_weight_fraction_leaf=0.0, n_estimators=376,\n",
            "                       n_jobs=None, oob_score=False, random_state=None,\n",
            "                       verbose=0, warm_start=False)]\n"
          ],
          "name": "stdout"
        },
        {
          "output_type": "stream",
          "text": [
            "/usr/local/lib/python3.6/dist-packages/sklearn/model_selection/_search.py:281: UserWarning: The total space of parameters 1 is smaller than n_iter=10. Running 1 iterations. For exhaustive searches, use GridSearchCV.\n",
            "  % (grid_size, self.n_iter, grid_size), UserWarning)\n"
          ],
          "name": "stderr"
        },
        {
          "output_type": "stream",
          "text": [
            "unusefull values removed\n",
            "features and samples with to little information removed\n",
            "labeless samples removed\n",
            "remaining missing data imputed\n",
            "data scaled\n",
            "preprocessing finished\n",
            "The number of samples: 167\n",
            "The number of columns: 700\n",
            "running feature selection and extraction optimization\n",
            "6 options to try\n",
            "running split 1 of 5\n",
            "540 features left after selection\n",
            "calulated options\n",
            "running split 2 of 5\n",
            "600 features left after selection\n",
            "calulated options\n",
            "running split 3 of 5\n",
            "5 features left after selection\n",
            "calulated options\n",
            "running split 4 of 5\n",
            "10 features left after selection\n",
            "calulated options\n",
            "running split 5 of 5\n",
            "180 features left after selection\n",
            "calulated options\n",
            "finished in 22.298s\n",
            "  ac mean ac std AUC mean AUC std  ... f1 std     rfecv       model component\n",
            "3   0.801   0.05    0.809    0.05  ...   0.04  no_rfecv       pca_8         8\n",
            "2   0.808   0.04    0.808    0.05  ...   0.04  no_rfecv       pca_6         6\n",
            "4   0.775   0.06    0.719    0.08  ...   0.03     rfecv      pca_48        48\n",
            "5   0.775   0.06    0.719    0.08  ...   0.03     rfecv      pca_52        52\n",
            "1   0.768   0.04    0.715    0.05  ...   0.03  no_rfecv  Umapper_12        12\n",
            "0   0.768   0.04    0.712    0.05  ...   0.03  no_rfecv   Umapper_8         8\n",
            "\n",
            "[6 rows x 9 columns]\n",
            "best extractor = ac mean         0.801\n",
            "ac std           0.05\n",
            "AUC mean        0.809\n",
            "AUC std          0.05\n",
            "f1 mean         0.825\n",
            "f1 std           0.04\n",
            "rfecv        no_rfecv\n",
            "model           pca_8\n",
            "component           8\n",
            "Name: 3, dtype: object\n",
            "feature selection and extraction finished\n",
            "after feature extraction 8 columns left\n",
            "                     0         1         2  ...         5         6         7\n",
            "ID                                          ...                              \n",
            "TCGA-02-0006 -0.249645 -0.073989  0.032228  ... -0.182478  0.045447 -0.021292\n",
            "TCGA-02-0009 -0.251665 -0.008753 -0.020324  ...  0.023033 -0.024576 -0.034841\n",
            "TCGA-02-0011 -0.254484  0.227508 -0.305559  ...  0.081923 -0.032608  0.114927\n",
            "TCGA-02-0027  0.410764  0.095942  0.228563  ...  0.046345 -0.069094 -0.010461\n",
            "TCGA-02-0033  0.327991 -0.182049 -0.080188  ... -0.061739  0.009729  0.073516\n",
            "...                ...       ...       ...  ...       ...       ...       ...\n",
            "TCGA-HT-8018  0.200065 -0.011286  0.072070  ... -0.271861  0.149797  0.224586\n",
            "TCGA-HT-8111 -0.237773 -0.078018  0.019696  ... -0.191143  0.050510 -0.015828\n",
            "TCGA-HT-8114 -0.259334 -0.039443  0.007792  ...  0.013417 -0.030366 -0.062762\n",
            "TCGA-HT-8563 -0.017491 -0.154722 -0.074724  ... -0.202064  0.054054  0.030494\n",
            "TCGA-HT-A61A -0.259334 -0.039443  0.007792  ...  0.013417 -0.030366 -0.062762\n",
            "\n",
            "[151 rows x 8 columns]               label\n",
            "ID                 \n",
            "TCGA-02-0006      1\n",
            "TCGA-02-0009      1\n",
            "TCGA-02-0011      1\n",
            "TCGA-02-0027      1\n",
            "TCGA-02-0033      1\n",
            "...             ...\n",
            "TCGA-HT-8018      0\n",
            "TCGA-HT-8111      0\n",
            "TCGA-HT-8114      0\n",
            "TCGA-HT-8563      0\n",
            "TCGA-HT-A61A      0\n",
            "\n",
            "[151 rows x 1 columns]\n",
            "Best classifier: parameters={'kernel': 'rbf', 'degree': 4}\n",
            "Best classifier: parameters={'n_estimators': 301}\n",
            "Best classifier: parameters={'weights': 'uniform', 'n_neighbors': 99}\n",
            "Best classifier: parameters={}\n",
            "Finisched Randomized Search\n",
            "index_best_classifier=mean_score    1\n",
            "dtype: int64\n",
            "best_classifier=[RandomForestClassifier(bootstrap=True, ccp_alpha=0.0, class_weight=None,\n",
            "                       criterion='gini', max_depth=None, max_features='auto',\n",
            "                       max_leaf_nodes=None, max_samples=None,\n",
            "                       min_impurity_decrease=0.0, min_impurity_split=None,\n",
            "                       min_samples_leaf=1, min_samples_split=2,\n",
            "                       min_weight_fraction_leaf=0.0, n_estimators=301,\n",
            "                       n_jobs=None, oob_score=False, random_state=None,\n",
            "                       verbose=0, warm_start=False)]\n"
          ],
          "name": "stdout"
        },
        {
          "output_type": "stream",
          "text": [
            "/usr/local/lib/python3.6/dist-packages/sklearn/model_selection/_search.py:281: UserWarning: The total space of parameters 1 is smaller than n_iter=10. Running 1 iterations. For exhaustive searches, use GridSearchCV.\n",
            "  % (grid_size, self.n_iter, grid_size), UserWarning)\n"
          ],
          "name": "stderr"
        },
        {
          "output_type": "stream",
          "text": [
            "unusefull values removed\n",
            "features and samples with to little information removed\n",
            "labeless samples removed\n",
            "remaining missing data imputed\n",
            "data scaled\n",
            "preprocessing finished\n",
            "The number of samples: 167\n",
            "The number of columns: 700\n",
            "running feature selection and extraction optimization\n",
            "6 options to try\n",
            "running split 1 of 5\n",
            "30 features left after selection\n",
            "calulated options\n",
            "running split 2 of 5\n",
            "40 features left after selection\n",
            "calulated options\n",
            "running split 3 of 5\n",
            "15 features left after selection\n",
            "calulated options\n",
            "running split 4 of 5\n",
            "60 features left after selection\n",
            "calulated options\n",
            "running split 5 of 5\n",
            "90 features left after selection\n",
            "calulated options\n",
            "finished in 24.143s\n",
            "  ac mean ac std AUC mean AUC std  ... f1 std     rfecv       model component\n",
            "2   0.788   0.06    0.798    0.07  ...   0.05  no_rfecv       pca_6         6\n",
            "3   0.755   0.06    0.771    0.07  ...   0.05  no_rfecv       pca_8         8\n",
            "4   0.795   0.07    0.747    0.10  ...   0.05     rfecv      pca_48        48\n",
            "5   0.795   0.07    0.747    0.10  ...   0.05     rfecv      pca_52        52\n",
            "1   0.775   0.03    0.724    0.03  ...   0.02  no_rfecv  Umapper_12        12\n",
            "0   0.768   0.05    0.715    0.05  ...   0.04  no_rfecv   Umapper_8         8\n",
            "\n",
            "[6 rows x 9 columns]\n",
            "best extractor = ac mean         0.788\n",
            "ac std           0.06\n",
            "AUC mean        0.798\n",
            "AUC std          0.07\n",
            "f1 mean         0.811\n",
            "f1 std           0.05\n",
            "rfecv        no_rfecv\n",
            "model           pca_6\n",
            "component           6\n",
            "Name: 2, dtype: object\n",
            "feature selection and extraction finished\n",
            "after feature extraction 6 columns left\n",
            "                     0         1         2         3         4         5\n",
            "ID                                                                      \n",
            "TCGA-02-0006 -0.242075 -0.059528  0.042530  0.140428 -0.040769 -0.175158\n",
            "TCGA-02-0009 -0.249864 -0.004796 -0.024417  0.003036  0.039849  0.017225\n",
            "TCGA-02-0011 -0.235131  0.206934 -0.258740  0.119524  0.184031 -0.007327\n",
            "TCGA-02-0027  0.413532  0.105347  0.262262  0.078902  0.079659  0.062852\n",
            "TCGA-02-0033  0.318116 -0.185487 -0.049068  0.067166  0.090940 -0.044936\n",
            "...                ...       ...       ...       ...       ...       ...\n",
            "TCGA-HT-8018  0.166305 -0.014789  0.116790 -0.086045  0.021604 -0.319114\n",
            "TCGA-HT-8111 -0.221612 -0.069890  0.020493  0.155523 -0.101501 -0.183913\n",
            "TCGA-HT-8114 -0.257144 -0.034311 -0.003915 -0.017080  0.003573  0.021623\n",
            "TCGA-HT-8563  0.011321 -0.147943 -0.091294  0.187648 -0.254823 -0.149768\n",
            "TCGA-HT-A61A -0.257144 -0.034311 -0.003915 -0.017080  0.003573  0.021623\n",
            "\n",
            "[151 rows x 6 columns]               label\n",
            "ID                 \n",
            "TCGA-02-0006      1\n",
            "TCGA-02-0009      1\n",
            "TCGA-02-0011      1\n",
            "TCGA-02-0027      1\n",
            "TCGA-02-0033      1\n",
            "...             ...\n",
            "TCGA-HT-8018      0\n",
            "TCGA-HT-8111      0\n",
            "TCGA-HT-8114      0\n",
            "TCGA-HT-8563      0\n",
            "TCGA-HT-A61A      0\n",
            "\n",
            "[151 rows x 1 columns]\n",
            "Best classifier: parameters={'kernel': 'rbf', 'degree': 1}\n",
            "Best classifier: parameters={'n_estimators': 191}\n",
            "Best classifier: parameters={'weights': 'distance', 'n_neighbors': 7}\n",
            "Best classifier: parameters={}\n",
            "Finisched Randomized Search\n",
            "index_best_classifier=mean_score    1\n",
            "dtype: int64\n",
            "best_classifier=[RandomForestClassifier(bootstrap=True, ccp_alpha=0.0, class_weight=None,\n",
            "                       criterion='gini', max_depth=None, max_features='auto',\n",
            "                       max_leaf_nodes=None, max_samples=None,\n",
            "                       min_impurity_decrease=0.0, min_impurity_split=None,\n",
            "                       min_samples_leaf=1, min_samples_split=2,\n",
            "                       min_weight_fraction_leaf=0.0, n_estimators=191,\n",
            "                       n_jobs=None, oob_score=False, random_state=None,\n",
            "                       verbose=0, warm_start=False)]\n"
          ],
          "name": "stdout"
        },
        {
          "output_type": "stream",
          "text": [
            "/usr/local/lib/python3.6/dist-packages/sklearn/model_selection/_search.py:281: UserWarning: The total space of parameters 1 is smaller than n_iter=10. Running 1 iterations. For exhaustive searches, use GridSearchCV.\n",
            "  % (grid_size, self.n_iter, grid_size), UserWarning)\n"
          ],
          "name": "stderr"
        },
        {
          "output_type": "stream",
          "text": [
            "unusefull values removed\n",
            "features and samples with to little information removed\n",
            "labeless samples removed\n",
            "remaining missing data imputed\n",
            "data scaled\n",
            "preprocessing finished\n",
            "The number of samples: 167\n",
            "The number of columns: 699\n",
            "running feature selection and extraction optimization\n",
            "6 options to try\n",
            "running split 1 of 5\n",
            "14 features left after selection\n",
            "calulated options\n",
            "running split 2 of 5\n",
            "44 features left after selection\n",
            "calulated options\n",
            "running split 3 of 5\n",
            "274 features left after selection\n",
            "calulated options\n",
            "running split 4 of 5\n",
            "109 features left after selection\n",
            "calulated options\n",
            "running split 5 of 5\n",
            "19 features left after selection\n",
            "calulated options\n",
            "finished in 23.719s\n",
            "  ac mean ac std AUC mean AUC std  ... f1 std     rfecv       model component\n",
            "2   0.801   0.03    0.812    0.03  ...   0.04  no_rfecv       pca_6         6\n",
            "3   0.788   0.04    0.807    0.03  ...   0.04  no_rfecv       pca_8         8\n",
            "4   0.801   0.06    0.753    0.09  ...   0.04     rfecv      pca_48        48\n",
            "5   0.801   0.06    0.753    0.09  ...   0.04     rfecv      pca_52        52\n",
            "0   0.775   0.04    0.728    0.06  ...   0.03  no_rfecv   Umapper_8         8\n",
            "1   0.755   0.03    0.705    0.03  ...   0.03  no_rfecv  Umapper_12        12\n",
            "\n",
            "[6 rows x 9 columns]\n",
            "best extractor = ac mean         0.801\n",
            "ac std           0.03\n",
            "AUC mean        0.812\n",
            "AUC std          0.03\n",
            "f1 mean         0.822\n",
            "f1 std           0.04\n",
            "rfecv        no_rfecv\n",
            "model           pca_6\n",
            "component           6\n",
            "Name: 2, dtype: object\n",
            "feature selection and extraction finished\n",
            "after feature extraction 6 columns left\n",
            "                     0         1         2         3         4         5\n",
            "ID                                                                      \n",
            "TCGA-02-0006 -0.245996 -0.050914 -0.031286 -0.083574 -0.045422 -0.166772\n",
            "TCGA-02-0009 -0.241476 -0.006135  0.019573 -0.019920  0.016914  0.010853\n",
            "TCGA-02-0011 -0.229554  0.176776  0.290490 -0.187000  0.204539  0.079440\n",
            "TCGA-02-0027  0.437799  0.105707 -0.246129 -0.114946  0.026426  0.036329\n",
            "TCGA-02-0033  0.340440 -0.197508  0.053325 -0.045400  0.102640 -0.039536\n",
            "...                ...       ...       ...       ...       ...       ...\n",
            "TCGA-HT-7680 -0.250720 -0.032167 -0.005422  0.006895 -0.022494  0.002944\n",
            "TCGA-HT-7686 -0.250720 -0.032167 -0.005422  0.006895 -0.022494  0.002944\n",
            "TCGA-HT-7690 -0.250774 -0.031834 -0.005775  0.009373 -0.021042  0.001767\n",
            "TCGA-HT-7694 -0.217650 -0.012426  0.011643  0.089037 -0.036605 -0.040194\n",
            "TCGA-HT-7879 -0.250720 -0.032167 -0.005422  0.006895 -0.022494  0.002944\n",
            "\n",
            "[151 rows x 6 columns]               label\n",
            "ID                 \n",
            "TCGA-02-0006      1\n",
            "TCGA-02-0009      1\n",
            "TCGA-02-0011      1\n",
            "TCGA-02-0027      1\n",
            "TCGA-02-0033      1\n",
            "...             ...\n",
            "TCGA-HT-7680      0\n",
            "TCGA-HT-7686      0\n",
            "TCGA-HT-7690      0\n",
            "TCGA-HT-7694      0\n",
            "TCGA-HT-7879      0\n",
            "\n",
            "[151 rows x 1 columns]\n",
            "Best classifier: parameters={'kernel': 'rbf', 'degree': 1}\n",
            "Best classifier: parameters={'n_estimators': 341}\n",
            "Best classifier: parameters={'weights': 'uniform', 'n_neighbors': 9}\n",
            "Best classifier: parameters={}\n",
            "Finisched Randomized Search\n",
            "index_best_classifier=mean_score    1\n",
            "dtype: int64\n",
            "best_classifier=[RandomForestClassifier(bootstrap=True, ccp_alpha=0.0, class_weight=None,\n",
            "                       criterion='gini', max_depth=None, max_features='auto',\n",
            "                       max_leaf_nodes=None, max_samples=None,\n",
            "                       min_impurity_decrease=0.0, min_impurity_split=None,\n",
            "                       min_samples_leaf=1, min_samples_split=2,\n",
            "                       min_weight_fraction_leaf=0.0, n_estimators=341,\n",
            "                       n_jobs=None, oob_score=False, random_state=None,\n",
            "                       verbose=0, warm_start=False)]\n"
          ],
          "name": "stdout"
        },
        {
          "output_type": "stream",
          "text": [
            "/usr/local/lib/python3.6/dist-packages/sklearn/model_selection/_search.py:281: UserWarning: The total space of parameters 1 is smaller than n_iter=10. Running 1 iterations. For exhaustive searches, use GridSearchCV.\n",
            "  % (grid_size, self.n_iter, grid_size), UserWarning)\n"
          ],
          "name": "stderr"
        },
        {
          "output_type": "stream",
          "text": [
            "        clf_name  ...                                   feature_extracor\n",
            "0   RandomForest  ...                                                NaN\n",
            "1   RandomForest  ...  ac mean         0.800\n",
            "ac std           0.10\n",
            "AU...\n",
            "2   RandomForest  ...                                                NaN\n",
            "3   RandomForest  ...  ac mean         0.787\n",
            "ac std           0.10\n",
            "AU...\n",
            "4   RandomForest  ...                                                NaN\n",
            "5   RandomForest  ...  ac mean         0.787\n",
            "ac std           0.08\n",
            "AU...\n",
            "6            SVC  ...                                                NaN\n",
            "7            SVC  ...  ac mean         0.813\n",
            "ac std           0.03\n",
            "AU...\n",
            "8   RandomForest  ...                                                NaN\n",
            "9   RandomForest  ...  ac mean         0.800\n",
            "ac std           0.03\n",
            "AU...\n",
            "10  RandomForest  ...                                                NaN\n",
            "11  RandomForest  ...  ac mean         0.807\n",
            "ac std           0.06\n",
            "AU...\n",
            "12  RandomForest  ...                                                NaN\n",
            "13  RandomForest  ...  ac mean         0.780\n",
            "ac std           0.06\n",
            "AU...\n",
            "14  RandomForest  ...                                                NaN\n",
            "15  RandomForest  ...  ac mean         0.801\n",
            "ac std           0.05\n",
            "AU...\n",
            "16  RandomForest  ...                                                NaN\n",
            "17  RandomForest  ...  ac mean         0.788\n",
            "ac std           0.06\n",
            "AU...\n",
            "18  RandomForest  ...                                                NaN\n",
            "19  RandomForest  ...  ac mean         0.801\n",
            "ac std           0.03\n",
            "AU...\n",
            "\n",
            "[20 rows x 10 columns]\n",
            "The optimal classifier type is a RandomForest with an occurence of 9.0 out of 10\n",
            "The optimal classifier (highest AUC) is a RandomForest with paramaters:{'n_estimators': 131}\n"
          ],
          "name": "stdout"
        },
        {
          "output_type": "display_data",
          "data": {
            "image/png": "[encoded data removed]",
            "text/plain": [
              "<Figure size 2160x2880 with 3 Axes>"
            ]
          },
          "metadata": {
            "tags": []
          }
        },
        {
          "output_type": "display_data",
          "data": {
            "image/png": "[encoded data removed]",
            "text/plain": [
              "<Figure size 432x288 with 1 Axes>"
            ]
          },
          "metadata": {
            "tags": []
          }
        }
      ]
    },
    {
      "cell_type": "code",
      "metadata": {
        "id": "LvmSdpId7jlG",
        "colab_type": "code",
        "colab": {
          "base_uri": "https://localhost:8080/",
          "height": 1000
        },
        "outputId": "46b00f03-d1d8-463a-eaf2-411fad00089a"
      },
      "source": [
        "results_outer"
      ],
      "execution_count": 58,
      "outputs": [
        {
          "output_type": "execute_result",
          "data": {
            "text/plain": [
              "[{'AUC': 0.9780219780219781,\n",
              "  'accuracy': 0.9733333333333334,\n",
              "  'clf_name': 'RandomForest',\n",
              "  'f1-score': 0.9775280898876404,\n",
              "  'feature_extractor': ac mean         0.800\n",
              "  ac std           0.10\n",
              "  AUC mean        0.808\n",
              "  AUC std          0.10\n",
              "  f1 mean         0.821\n",
              "  f1 std           0.10\n",
              "  rfecv        no_rfecv\n",
              "  model           pca_8\n",
              "  component           8\n",
              "  Name: 3, dtype: object,\n",
              "  'fpr': 'NaN',\n",
              "  'parameters': {'n_estimators': 146},\n",
              "  'set': 'training',\n",
              "  'tpr': 'NaN'},\n",
              " {'AUC': 0.6666666666666667,\n",
              "  'accuracy': 0.7647058823529411,\n",
              "  'clf_name': 'RandomForest',\n",
              "  'f1-score': 0.846153846153846,\n",
              "  'feature_extracor': ac mean         0.800\n",
              "  ac std           0.10\n",
              "  AUC mean        0.808\n",
              "  AUC std          0.10\n",
              "  f1 mean         0.821\n",
              "  f1 std           0.10\n",
              "  rfecv        no_rfecv\n",
              "  model           pca_8\n",
              "  component           8\n",
              "  Name: 3, dtype: object,\n",
              "  'fpr': array([0.        , 0.66666667, 1.        ]),\n",
              "  'parameters': {'n_estimators': 146},\n",
              "  'set': 'testing',\n",
              "  'tpr': array([0., 1., 1.])},\n",
              " {'AUC': 0.9780219780219781,\n",
              "  'accuracy': 0.9733333333333334,\n",
              "  'clf_name': 'RandomForest',\n",
              "  'f1-score': 0.9775280898876404,\n",
              "  'feature_extractor': ac mean         0.787\n",
              "  ac std           0.10\n",
              "  AUC mean        0.794\n",
              "  AUC std          0.10\n",
              "  f1 mean         0.809\n",
              "  f1 std           0.10\n",
              "  rfecv        no_rfecv\n",
              "  model           pca_8\n",
              "  component           8\n",
              "  Name: 3, dtype: object,\n",
              "  'fpr': 'NaN',\n",
              "  'parameters': {'n_estimators': 211},\n",
              "  'set': 'training',\n",
              "  'tpr': 'NaN'},\n",
              " {'AUC': 0.8257575757575759,\n",
              "  'accuracy': 0.8235294117647058,\n",
              "  'clf_name': 'RandomForest',\n",
              "  'f1-score': 0.8571428571428572,\n",
              "  'feature_extracor': ac mean         0.787\n",
              "  ac std           0.10\n",
              "  AUC mean        0.794\n",
              "  AUC std          0.10\n",
              "  f1 mean         0.809\n",
              "  f1 std           0.10\n",
              "  rfecv        no_rfecv\n",
              "  model           pca_8\n",
              "  component           8\n",
              "  Name: 3, dtype: object,\n",
              "  'fpr': array([0.        , 0.16666667, 1.        ]),\n",
              "  'parameters': {'n_estimators': 211},\n",
              "  'set': 'testing',\n",
              "  'tpr': array([0.        , 0.81818182, 1.        ])},\n",
              " {'AUC': 0.9782608695652174,\n",
              "  'accuracy': 0.9733333333333334,\n",
              "  'clf_name': 'RandomForest',\n",
              "  'f1-score': 0.9777777777777777,\n",
              "  'feature_extractor': ac mean         0.787\n",
              "  ac std           0.08\n",
              "  AUC mean        0.801\n",
              "  AUC std          0.07\n",
              "  f1 mean         0.808\n",
              "  f1 std           0.07\n",
              "  rfecv        no_rfecv\n",
              "  model           pca_8\n",
              "  component           8\n",
              "  Name: 3, dtype: object,\n",
              "  'fpr': 'NaN',\n",
              "  'parameters': {'n_estimators': 46},\n",
              "  'set': 'training',\n",
              "  'tpr': 'NaN'},\n",
              " {'AUC': 0.8571428571428572,\n",
              "  'accuracy': 0.8823529411764706,\n",
              "  'clf_name': 'RandomForest',\n",
              "  'f1-score': 0.9090909090909091,\n",
              "  'feature_extracor': ac mean         0.787\n",
              "  ac std           0.08\n",
              "  AUC mean        0.801\n",
              "  AUC std          0.07\n",
              "  f1 mean         0.808\n",
              "  f1 std           0.07\n",
              "  rfecv        no_rfecv\n",
              "  model           pca_8\n",
              "  component           8\n",
              "  Name: 3, dtype: object,\n",
              "  'fpr': array([0.        , 0.28571429, 1.        ]),\n",
              "  'parameters': {'n_estimators': 46},\n",
              "  'set': 'testing',\n",
              "  'tpr': array([0., 1., 1.])},\n",
              " {'AUC': 0.8581334332833583,\n",
              "  'accuracy': 0.8533333333333334,\n",
              "  'clf_name': 'SVC',\n",
              "  'f1-score': 0.875,\n",
              "  'feature_extractor': ac mean         0.813\n",
              "  ac std           0.03\n",
              "  AUC mean        0.815\n",
              "  AUC std          0.04\n",
              "  f1 mean         0.842\n",
              "  f1 std           0.03\n",
              "  rfecv        no_rfecv\n",
              "  model           pca_8\n",
              "  component           8\n",
              "  Name: 3, dtype: object,\n",
              "  'fpr': 'NaN',\n",
              "  'parameters': {'degree': 1, 'kernel': 'poly'},\n",
              "  'set': 'training',\n",
              "  'tpr': 'NaN'},\n",
              " {'AUC': 0.6571428571428573,\n",
              "  'accuracy': 0.6470588235294118,\n",
              "  'clf_name': 'SVC',\n",
              "  'f1-score': 0.6666666666666665,\n",
              "  'feature_extracor': ac mean         0.813\n",
              "  ac std           0.03\n",
              "  AUC mean        0.815\n",
              "  AUC std          0.04\n",
              "  f1 mean         0.842\n",
              "  f1 std           0.03\n",
              "  rfecv        no_rfecv\n",
              "  model           pca_8\n",
              "  component           8\n",
              "  Name: 3, dtype: object,\n",
              "  'fpr': array([0.        , 0.28571429, 1.        ]),\n",
              "  'parameters': {'degree': 1, 'kernel': 'poly'},\n",
              "  'set': 'testing',\n",
              "  'tpr': array([0. , 0.6, 1. ])},\n",
              " {'AUC': 0.9782608695652174,\n",
              "  'accuracy': 0.9733333333333334,\n",
              "  'clf_name': 'RandomForest',\n",
              "  'f1-score': 0.9777777777777777,\n",
              "  'feature_extractor': ac mean         0.800\n",
              "  ac std           0.03\n",
              "  AUC mean        0.809\n",
              "  AUC std          0.03\n",
              "  f1 mean         0.824\n",
              "  f1 std           0.04\n",
              "  rfecv        no_rfecv\n",
              "  model           pca_6\n",
              "  component           6\n",
              "  Name: 2, dtype: object,\n",
              "  'fpr': 'NaN',\n",
              "  'parameters': {'n_estimators': 321},\n",
              "  'set': 'training',\n",
              "  'tpr': 'NaN'},\n",
              " {'AUC': 0.95,\n",
              "  'accuracy': 0.9411764705882353,\n",
              "  'clf_name': 'RandomForest',\n",
              "  'f1-score': 0.9473684210526316,\n",
              "  'feature_extracor': ac mean         0.800\n",
              "  ac std           0.03\n",
              "  AUC mean        0.809\n",
              "  AUC std          0.03\n",
              "  f1 mean         0.824\n",
              "  f1 std           0.04\n",
              "  rfecv        no_rfecv\n",
              "  model           pca_6\n",
              "  component           6\n",
              "  Name: 2, dtype: object,\n",
              "  'fpr': array([0., 0., 1.]),\n",
              "  'parameters': {'n_estimators': 321},\n",
              "  'set': 'testing',\n",
              "  'tpr': array([0. , 0.9, 1. ])},\n",
              " {'AUC': 0.9782608695652174,\n",
              "  'accuracy': 0.9733333333333334,\n",
              "  'clf_name': 'RandomForest',\n",
              "  'f1-score': 0.9777777777777777,\n",
              "  'feature_extractor': ac mean         0.807\n",
              "  ac std           0.06\n",
              "  AUC mean        0.806\n",
              "  AUC std          0.07\n",
              "  f1 mean         0.837\n",
              "  f1 std           0.05\n",
              "  rfecv        no_rfecv\n",
              "  model           pca_6\n",
              "  component           6\n",
              "  Name: 2, dtype: object,\n",
              "  'fpr': 'NaN',\n",
              "  'parameters': {'n_estimators': 131},\n",
              "  'set': 'training',\n",
              "  'tpr': 'NaN'},\n",
              " {'AUC': 1.0,\n",
              "  'accuracy': 1.0,\n",
              "  'clf_name': 'RandomForest',\n",
              "  'f1-score': 1.0,\n",
              "  'feature_extracor': ac mean         0.807\n",
              "  ac std           0.06\n",
              "  AUC mean        0.806\n",
              "  AUC std          0.07\n",
              "  f1 mean         0.837\n",
              "  f1 std           0.05\n",
              "  rfecv        no_rfecv\n",
              "  model           pca_6\n",
              "  component           6\n",
              "  Name: 2, dtype: object,\n",
              "  'fpr': array([0., 0., 1.]),\n",
              "  'parameters': {'n_estimators': 131},\n",
              "  'set': 'testing',\n",
              "  'tpr': array([0., 1., 1.])},\n",
              " {'AUC': 0.9782608695652174,\n",
              "  'accuracy': 0.9733333333333334,\n",
              "  'clf_name': 'RandomForest',\n",
              "  'f1-score': 0.9777777777777777,\n",
              "  'feature_extractor': ac mean         0.780\n",
              "  ac std           0.06\n",
              "  AUC mean        0.792\n",
              "  AUC std          0.06\n",
              "  f1 mean         0.803\n",
              "  f1 std           0.06\n",
              "  rfecv        no_rfecv\n",
              "  model           pca_8\n",
              "  component           8\n",
              "  Name: 3, dtype: object,\n",
              "  'fpr': 'NaN',\n",
              "  'parameters': {'n_estimators': 376},\n",
              "  'set': 'training',\n",
              "  'tpr': 'NaN'},\n",
              " {'AUC': 0.8785714285714286,\n",
              "  'accuracy': 0.8823529411764706,\n",
              "  'clf_name': 'RandomForest',\n",
              "  'f1-score': 0.9,\n",
              "  'feature_extracor': ac mean         0.780\n",
              "  ac std           0.06\n",
              "  AUC mean        0.792\n",
              "  AUC std          0.06\n",
              "  f1 mean         0.803\n",
              "  f1 std           0.06\n",
              "  rfecv        no_rfecv\n",
              "  model           pca_8\n",
              "  component           8\n",
              "  Name: 3, dtype: object,\n",
              "  'fpr': array([0.        , 0.14285714, 1.        ]),\n",
              "  'parameters': {'n_estimators': 376},\n",
              "  'set': 'testing',\n",
              "  'tpr': array([0. , 0.9, 1. ])},\n",
              " {'AUC': 0.9891304347826086,\n",
              "  'accuracy': 0.9867549668874173,\n",
              "  'clf_name': 'RandomForest',\n",
              "  'f1-score': 0.989010989010989,\n",
              "  'feature_extractor': ac mean         0.801\n",
              "  ac std           0.05\n",
              "  AUC mean        0.809\n",
              "  AUC std          0.05\n",
              "  f1 mean         0.825\n",
              "  f1 std           0.04\n",
              "  rfecv        no_rfecv\n",
              "  model           pca_8\n",
              "  component           8\n",
              "  Name: 3, dtype: object,\n",
              "  'fpr': 'NaN',\n",
              "  'parameters': {'n_estimators': 301},\n",
              "  'set': 'training',\n",
              "  'tpr': 'NaN'},\n",
              " {'AUC': 0.5333333333333333,\n",
              "  'accuracy': 0.625,\n",
              "  'clf_name': 'RandomForest',\n",
              "  'f1-score': 0.75,\n",
              "  'feature_extracor': ac mean         0.801\n",
              "  ac std           0.05\n",
              "  AUC mean        0.809\n",
              "  AUC std          0.05\n",
              "  f1 mean         0.825\n",
              "  f1 std           0.04\n",
              "  rfecv        no_rfecv\n",
              "  model           pca_8\n",
              "  component           8\n",
              "  Name: 3, dtype: object,\n",
              "  'fpr': array([0.        , 0.83333333, 1.        ]),\n",
              "  'parameters': {'n_estimators': 301},\n",
              "  'set': 'testing',\n",
              "  'tpr': array([0. , 0.9, 1. ])},\n",
              " {'AUC': 0.9782608695652174,\n",
              "  'accuracy': 0.9735099337748344,\n",
              "  'clf_name': 'RandomForest',\n",
              "  'f1-score': 0.9777777777777777,\n",
              "  'feature_extractor': ac mean         0.788\n",
              "  ac std           0.06\n",
              "  AUC mean        0.798\n",
              "  AUC std          0.07\n",
              "  f1 mean         0.811\n",
              "  f1 std           0.05\n",
              "  rfecv        no_rfecv\n",
              "  model           pca_6\n",
              "  component           6\n",
              "  Name: 2, dtype: object,\n",
              "  'fpr': 'NaN',\n",
              "  'parameters': {'n_estimators': 191},\n",
              "  'set': 'training',\n",
              "  'tpr': 'NaN'},\n",
              " {'AUC': 0.95,\n",
              "  'accuracy': 0.9375,\n",
              "  'clf_name': 'RandomForest',\n",
              "  'f1-score': 0.9473684210526316,\n",
              "  'feature_extracor': ac mean         0.788\n",
              "  ac std           0.06\n",
              "  AUC mean        0.798\n",
              "  AUC std          0.07\n",
              "  f1 mean         0.811\n",
              "  f1 std           0.05\n",
              "  rfecv        no_rfecv\n",
              "  model           pca_6\n",
              "  component           6\n",
              "  Name: 2, dtype: object,\n",
              "  'fpr': array([0., 0., 1.]),\n",
              "  'parameters': {'n_estimators': 191},\n",
              "  'set': 'testing',\n",
              "  'tpr': array([0. , 0.9, 1. ])},\n",
              " {'AUC': 0.9836956521739131,\n",
              "  'accuracy': 0.9801324503311258,\n",
              "  'clf_name': 'RandomForest',\n",
              "  'f1-score': 0.9834254143646408,\n",
              "  'feature_extractor': ac mean         0.801\n",
              "  ac std           0.03\n",
              "  AUC mean        0.812\n",
              "  AUC std          0.03\n",
              "  f1 mean         0.822\n",
              "  f1 std           0.04\n",
              "  rfecv        no_rfecv\n",
              "  model           pca_6\n",
              "  component           6\n",
              "  Name: 2, dtype: object,\n",
              "  'fpr': 'NaN',\n",
              "  'parameters': {'n_estimators': 341},\n",
              "  'set': 'training',\n",
              "  'tpr': 'NaN'},\n",
              " {'AUC': 0.45,\n",
              "  'accuracy': 0.5625,\n",
              "  'clf_name': 'RandomForest',\n",
              "  'f1-score': 0.7200000000000001,\n",
              "  'feature_extracor': ac mean         0.801\n",
              "  ac std           0.03\n",
              "  AUC mean        0.812\n",
              "  AUC std          0.03\n",
              "  f1 mean         0.822\n",
              "  f1 std           0.04\n",
              "  rfecv        no_rfecv\n",
              "  model           pca_6\n",
              "  component           6\n",
              "  Name: 2, dtype: object,\n",
              "  'fpr': array([0., 1., 1.]),\n",
              "  'parameters': {'n_estimators': 341},\n",
              "  'set': 'testing',\n",
              "  'tpr': array([0. , 0.9, 1. ])}]"
            ]
          },
          "metadata": {
            "tags": []
          },
          "execution_count": 58
        }
      ]
    },
    {
      "cell_type": "markdown",
      "metadata": {
        "id": "qZ2Xmxyy4izP",
        "colab_type": "text"
      },
      "source": [
        "### Result"
      ]
    }
  ]
}