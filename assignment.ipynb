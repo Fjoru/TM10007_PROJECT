{
  "nbformat": 4,
  "nbformat_minor": 0,
  "metadata": {
    "colab": {
      "name": "assignment.ipynb",
      "provenance": [],
      "collapsed_sections": [],
      "include_colab_link": true
    },
    "kernelspec": {
      "name": "python3",
      "display_name": "Python 3"
    },
    "language_info": {
      "codemirror_mode": {
        "name": "ipython",
        "version": 3
      },
      "file_extension": ".py",
      "mimetype": "text/x-python",
      "name": "python",
      "nbconvert_exporter": "python",
      "pygments_lexer": "ipython3",
      "version": "3.7.4-final"
    },
    "accelerator": "GPU"
  },
  "cells": [
    {
      "cell_type": "markdown",
      "metadata": {
        "id": "view-in-github",
        "colab_type": "text"
      },
      "source": [
        "<a href=\"https://colab.research.google.com/github/Fjoru/TM10007_PROJECT/blob/Jessica/assignment.ipynb\" target=\"_parent\"><img src=\"https://colab.research.google.com/assets/colab-badge.svg\" alt=\"Open In Colab\"/></a>"
      ]
    },
    {
      "cell_type": "markdown",
      "metadata": {
        "colab_type": "text",
        "id": "7SXpaKwwGe5x"
      },
      "source": [
        "# TM10007 Assignment Prediction of tumor grade in brain cancer\n",
        "By Jessica Barends, Gonnie van Erp, Erik Kemper en Carlijn Oerlemans"
      ]
    },
    {
      "cell_type": "code",
      "metadata": {
        "id": "3Xw_qQnScF4p",
        "colab_type": "code",
        "outputId": "8ac4e2a4-4bfa-4a75-f845-5bcaa643804b",
        "colab": {
          "base_uri": "https://localhost:8080/",
          "height": 1000
        }
      },
      "source": [
        "# Run install for use in colab environment\n",
        "!pip install --upgrade pip\n",
        "!pip install -q --upgrade git+https://github.com/Fjoru/TM10007_PROJECT\n",
        "!pip install ipdb -q\n",
        "!pip install seaborn\n",
        "!pip install tensorflow"
      ],
      "execution_count": 2,
      "outputs": [
        {
          "output_type": "stream",
          "text": [
            "Collecting pip\n",
            "\u001b[?25l  Downloading https://files.pythonhosted.org/packages/54/0c/d01aa759fdc501a58f431eb594a17495f15b88da142ce14b5845662c13f3/pip-20.0.2-py2.py3-none-any.whl (1.4MB)\n",
            "\r\u001b[K     |▎                               | 10kB 21.8MB/s eta 0:00:01\r\u001b[K     |▌                               | 20kB 6.1MB/s eta 0:00:01\r\u001b[K     |▊                               | 30kB 7.2MB/s eta 0:00:01\r\u001b[K     |█                               | 40kB 5.6MB/s eta 0:00:01\r\u001b[K     |█▏                              | 51kB 6.0MB/s eta 0:00:01\r\u001b[K     |█▍                              | 61kB 7.1MB/s eta 0:00:01\r\u001b[K     |█▋                              | 71kB 7.6MB/s eta 0:00:01\r\u001b[K     |█▉                              | 81kB 8.5MB/s eta 0:00:01\r\u001b[K     |██                              | 92kB 9.4MB/s eta 0:00:01\r\u001b[K     |██▎                             | 102kB 8.2MB/s eta 0:00:01\r\u001b[K     |██▌                             | 112kB 8.2MB/s eta 0:00:01\r\u001b[K     |██▊                             | 122kB 8.2MB/s eta 0:00:01\r\u001b[K     |███                             | 133kB 8.2MB/s eta 0:00:01\r\u001b[K     |███▏                            | 143kB 8.2MB/s eta 0:00:01\r\u001b[K     |███▍                            | 153kB 8.2MB/s eta 0:00:01\r\u001b[K     |███▋                            | 163kB 8.2MB/s eta 0:00:01\r\u001b[K     |███▉                            | 174kB 8.2MB/s eta 0:00:01\r\u001b[K     |████                            | 184kB 8.2MB/s eta 0:00:01\r\u001b[K     |████▎                           | 194kB 8.2MB/s eta 0:00:01\r\u001b[K     |████▌                           | 204kB 8.2MB/s eta 0:00:01\r\u001b[K     |████▊                           | 215kB 8.2MB/s eta 0:00:01\r\u001b[K     |█████                           | 225kB 8.2MB/s eta 0:00:01\r\u001b[K     |█████▎                          | 235kB 8.2MB/s eta 0:00:01\r\u001b[K     |█████▌                          | 245kB 8.2MB/s eta 0:00:01\r\u001b[K     |█████▊                          | 256kB 8.2MB/s eta 0:00:01\r\u001b[K     |██████                          | 266kB 8.2MB/s eta 0:00:01\r\u001b[K     |██████▏                         | 276kB 8.2MB/s eta 0:00:01\r\u001b[K     |██████▍                         | 286kB 8.2MB/s eta 0:00:01\r\u001b[K     |██████▋                         | 296kB 8.2MB/s eta 0:00:01\r\u001b[K     |██████▉                         | 307kB 8.2MB/s eta 0:00:01\r\u001b[K     |███████                         | 317kB 8.2MB/s eta 0:00:01\r\u001b[K     |███████▎                        | 327kB 8.2MB/s eta 0:00:01\r\u001b[K     |███████▌                        | 337kB 8.2MB/s eta 0:00:01\r\u001b[K     |███████▊                        | 348kB 8.2MB/s eta 0:00:01\r\u001b[K     |████████                        | 358kB 8.2MB/s eta 0:00:01\r\u001b[K     |████████▏                       | 368kB 8.2MB/s eta 0:00:01\r\u001b[K     |████████▍                       | 378kB 8.2MB/s eta 0:00:01\r\u001b[K     |████████▋                       | 389kB 8.2MB/s eta 0:00:01\r\u001b[K     |████████▉                       | 399kB 8.2MB/s eta 0:00:01\r\u001b[K     |█████████                       | 409kB 8.2MB/s eta 0:00:01\r\u001b[K     |█████████▎                      | 419kB 8.2MB/s eta 0:00:01\r\u001b[K     |█████████▌                      | 430kB 8.2MB/s eta 0:00:01\r\u001b[K     |█████████▉                      | 440kB 8.2MB/s eta 0:00:01\r\u001b[K     |██████████                      | 450kB 8.2MB/s eta 0:00:01\r\u001b[K     |██████████▎                     | 460kB 8.2MB/s eta 0:00:01\r\u001b[K     |██████████▌                     | 471kB 8.2MB/s eta 0:00:01\r\u001b[K     |██████████▊                     | 481kB 8.2MB/s eta 0:00:01\r\u001b[K     |███████████                     | 491kB 8.2MB/s eta 0:00:01\r\u001b[K     |███████████▏                    | 501kB 8.2MB/s eta 0:00:01\r\u001b[K     |███████████▍                    | 512kB 8.2MB/s eta 0:00:01\r\u001b[K     |███████████▋                    | 522kB 8.2MB/s eta 0:00:01\r\u001b[K     |███████████▉                    | 532kB 8.2MB/s eta 0:00:01\r\u001b[K     |████████████                    | 542kB 8.2MB/s eta 0:00:01\r\u001b[K     |████████████▎                   | 552kB 8.2MB/s eta 0:00:01\r\u001b[K     |████████████▌                   | 563kB 8.2MB/s eta 0:00:01\r\u001b[K     |████████████▊                   | 573kB 8.2MB/s eta 0:00:01\r\u001b[K     |█████████████                   | 583kB 8.2MB/s eta 0:00:01\r\u001b[K     |█████████████▏                  | 593kB 8.2MB/s eta 0:00:01\r\u001b[K     |█████████████▍                  | 604kB 8.2MB/s eta 0:00:01\r\u001b[K     |█████████████▋                  | 614kB 8.2MB/s eta 0:00:01\r\u001b[K     |█████████████▉                  | 624kB 8.2MB/s eta 0:00:01\r\u001b[K     |██████████████                  | 634kB 8.2MB/s eta 0:00:01\r\u001b[K     |██████████████▎                 | 645kB 8.2MB/s eta 0:00:01\r\u001b[K     |██████████████▌                 | 655kB 8.2MB/s eta 0:00:01\r\u001b[K     |██████████████▉                 | 665kB 8.2MB/s eta 0:00:01\r\u001b[K     |███████████████                 | 675kB 8.2MB/s eta 0:00:01\r\u001b[K     |███████████████▎                | 686kB 8.2MB/s eta 0:00:01\r\u001b[K     |███████████████▌                | 696kB 8.2MB/s eta 0:00:01\r\u001b[K     |███████████████▊                | 706kB 8.2MB/s eta 0:00:01\r\u001b[K     |████████████████                | 716kB 8.2MB/s eta 0:00:01\r\u001b[K     |████████████████▏               | 727kB 8.2MB/s eta 0:00:01\r\u001b[K     |████████████████▍               | 737kB 8.2MB/s eta 0:00:01\r\u001b[K     |████████████████▋               | 747kB 8.2MB/s eta 0:00:01\r\u001b[K     |████████████████▉               | 757kB 8.2MB/s eta 0:00:01\r\u001b[K     |█████████████████               | 768kB 8.2MB/s eta 0:00:01\r\u001b[K     |█████████████████▎              | 778kB 8.2MB/s eta 0:00:01\r\u001b[K     |█████████████████▌              | 788kB 8.2MB/s eta 0:00:01\r\u001b[K     |█████████████████▊              | 798kB 8.2MB/s eta 0:00:01\r\u001b[K     |██████████████████              | 808kB 8.2MB/s eta 0:00:01\r\u001b[K     |██████████████████▏             | 819kB 8.2MB/s eta 0:00:01\r\u001b[K     |██████████████████▍             | 829kB 8.2MB/s eta 0:00:01\r\u001b[K     |██████████████████▋             | 839kB 8.2MB/s eta 0:00:01\r\u001b[K     |██████████████████▉             | 849kB 8.2MB/s eta 0:00:01\r\u001b[K     |███████████████████             | 860kB 8.2MB/s eta 0:00:01\r\u001b[K     |███████████████████▎            | 870kB 8.2MB/s eta 0:00:01\r\u001b[K     |███████████████████▋            | 880kB 8.2MB/s eta 0:00:01\r\u001b[K     |███████████████████▉            | 890kB 8.2MB/s eta 0:00:01\r\u001b[K     |████████████████████            | 901kB 8.2MB/s eta 0:00:01\r\u001b[K     |████████████████████▎           | 911kB 8.2MB/s eta 0:00:01\r\u001b[K     |████████████████████▌           | 921kB 8.2MB/s eta 0:00:01\r\u001b[K     |████████████████████▊           | 931kB 8.2MB/s eta 0:00:01\r\u001b[K     |█████████████████████           | 942kB 8.2MB/s eta 0:00:01\r\u001b[K     |█████████████████████▏          | 952kB 8.2MB/s eta 0:00:01\r\u001b[K     |█████████████████████▍          | 962kB 8.2MB/s eta 0:00:01\r\u001b[K     |█████████████████████▋          | 972kB 8.2MB/s eta 0:00:01\r\u001b[K     |█████████████████████▉          | 983kB 8.2MB/s eta 0:00:01\r\u001b[K     |██████████████████████          | 993kB 8.2MB/s eta 0:00:01\r\u001b[K     |██████████████████████▎         | 1.0MB 8.2MB/s eta 0:00:01\r\u001b[K     |██████████████████████▌         | 1.0MB 8.2MB/s eta 0:00:01\r\u001b[K     |██████████████████████▊         | 1.0MB 8.2MB/s eta 0:00:01\r\u001b[K     |███████████████████████         | 1.0MB 8.2MB/s eta 0:00:01\r\u001b[K     |███████████████████████▏        | 1.0MB 8.2MB/s eta 0:00:01\r\u001b[K     |███████████████████████▍        | 1.1MB 8.2MB/s eta 0:00:01\r\u001b[K     |███████████████████████▋        | 1.1MB 8.2MB/s eta 0:00:01\r\u001b[K     |███████████████████████▉        | 1.1MB 8.2MB/s eta 0:00:01\r\u001b[K     |████████████████████████        | 1.1MB 8.2MB/s eta 0:00:01\r\u001b[K     |████████████████████████▎       | 1.1MB 8.2MB/s eta 0:00:01\r\u001b[K     |████████████████████████▋       | 1.1MB 8.2MB/s eta 0:00:01\r\u001b[K     |████████████████████████▉       | 1.1MB 8.2MB/s eta 0:00:01\r\u001b[K     |█████████████████████████       | 1.1MB 8.2MB/s eta 0:00:01\r\u001b[K     |█████████████████████████▎      | 1.1MB 8.2MB/s eta 0:00:01\r\u001b[K     |█████████████████████████▌      | 1.1MB 8.2MB/s eta 0:00:01\r\u001b[K     |█████████████████████████▊      | 1.2MB 8.2MB/s eta 0:00:01\r\u001b[K     |██████████████████████████      | 1.2MB 8.2MB/s eta 0:00:01\r\u001b[K     |██████████████████████████▏     | 1.2MB 8.2MB/s eta 0:00:01\r\u001b[K     |██████████████████████████▍     | 1.2MB 8.2MB/s eta 0:00:01\r\u001b[K     |██████████████████████████▋     | 1.2MB 8.2MB/s eta 0:00:01\r\u001b[K     |██████████████████████████▉     | 1.2MB 8.2MB/s eta 0:00:01\r\u001b[K     |███████████████████████████     | 1.2MB 8.2MB/s eta 0:00:01\r\u001b[K     |███████████████████████████▎    | 1.2MB 8.2MB/s eta 0:00:01\r\u001b[K     |███████████████████████████▌    | 1.2MB 8.2MB/s eta 0:00:01\r\u001b[K     |███████████████████████████▊    | 1.2MB 8.2MB/s eta 0:00:01\r\u001b[K     |████████████████████████████    | 1.3MB 8.2MB/s eta 0:00:01\r\u001b[K     |████████████████████████████▏   | 1.3MB 8.2MB/s eta 0:00:01\r\u001b[K     |████████████████████████████▍   | 1.3MB 8.2MB/s eta 0:00:01\r\u001b[K     |████████████████████████████▋   | 1.3MB 8.2MB/s eta 0:00:01\r\u001b[K     |████████████████████████████▉   | 1.3MB 8.2MB/s eta 0:00:01\r\u001b[K     |█████████████████████████████   | 1.3MB 8.2MB/s eta 0:00:01\r\u001b[K     |█████████████████████████████▍  | 1.3MB 8.2MB/s eta 0:00:01\r\u001b[K     |█████████████████████████████▋  | 1.3MB 8.2MB/s eta 0:00:01\r\u001b[K     |█████████████████████████████▉  | 1.3MB 8.2MB/s eta 0:00:01\r\u001b[K     |██████████████████████████████  | 1.4MB 8.2MB/s eta 0:00:01\r\u001b[K     |██████████████████████████████▎ | 1.4MB 8.2MB/s eta 0:00:01\r\u001b[K     |██████████████████████████████▌ | 1.4MB 8.2MB/s eta 0:00:01\r\u001b[K     |██████████████████████████████▊ | 1.4MB 8.2MB/s eta 0:00:01\r\u001b[K     |███████████████████████████████ | 1.4MB 8.2MB/s eta 0:00:01\r\u001b[K     |███████████████████████████████▏| 1.4MB 8.2MB/s eta 0:00:01\r\u001b[K     |███████████████████████████████▍| 1.4MB 8.2MB/s eta 0:00:01\r\u001b[K     |███████████████████████████████▋| 1.4MB 8.2MB/s eta 0:00:01\r\u001b[K     |███████████████████████████████▉| 1.4MB 8.2MB/s eta 0:00:01\r\u001b[K     |████████████████████████████████| 1.4MB 8.2MB/s \n",
            "\u001b[?25hInstalling collected packages: pip\n",
            "  Found existing installation: pip 19.3.1\n",
            "    Uninstalling pip-19.3.1:\n",
            "      Successfully uninstalled pip-19.3.1\n",
            "Successfully installed pip-20.0.2\n",
            "  Building wheel for brats (setup.py) ... \u001b[?25l\u001b[?25hdone\n",
            "  Building wheel for ipdb (setup.py) ... \u001b[?25l\u001b[?25hdone\n",
            "Requirement already satisfied: seaborn in /usr/local/lib/python3.6/dist-packages (0.10.0)\n",
            "Requirement already satisfied: matplotlib>=2.1.2 in /usr/local/lib/python3.6/dist-packages (from seaborn) (3.2.1)\n",
            "Requirement already satisfied: pandas>=0.22.0 in /usr/local/lib/python3.6/dist-packages (from seaborn) (1.0.3)\n",
            "Requirement already satisfied: scipy>=1.0.1 in /usr/local/lib/python3.6/dist-packages (from seaborn) (1.4.1)\n",
            "Requirement already satisfied: numpy>=1.13.3 in /usr/local/lib/python3.6/dist-packages (from seaborn) (1.18.2)\n",
            "Requirement already satisfied: kiwisolver>=1.0.1 in /usr/local/lib/python3.6/dist-packages (from matplotlib>=2.1.2->seaborn) (1.1.0)\n",
            "Requirement already satisfied: python-dateutil>=2.1 in /usr/local/lib/python3.6/dist-packages (from matplotlib>=2.1.2->seaborn) (2.8.1)\n",
            "Requirement already satisfied: cycler>=0.10 in /usr/local/lib/python3.6/dist-packages (from matplotlib>=2.1.2->seaborn) (0.10.0)\n",
            "Requirement already satisfied: pyparsing!=2.0.4,!=2.1.2,!=2.1.6,>=2.0.1 in /usr/local/lib/python3.6/dist-packages (from matplotlib>=2.1.2->seaborn) (2.4.6)\n",
            "Requirement already satisfied: pytz>=2017.2 in /usr/local/lib/python3.6/dist-packages (from pandas>=0.22.0->seaborn) (2018.9)\n",
            "Requirement already satisfied: setuptools in /usr/local/lib/python3.6/dist-packages (from kiwisolver>=1.0.1->matplotlib>=2.1.2->seaborn) (46.0.0)\n",
            "Requirement already satisfied: six>=1.5 in /usr/local/lib/python3.6/dist-packages (from python-dateutil>=2.1->matplotlib>=2.1.2->seaborn) (1.12.0)\n",
            "Requirement already satisfied: tensorflow in /usr/local/lib/python3.6/dist-packages (2.2.0rc2)\n",
            "Requirement already satisfied: opt-einsum>=2.3.2 in /usr/local/lib/python3.6/dist-packages (from tensorflow) (3.2.0)\n",
            "Requirement already satisfied: h5py<2.11.0,>=2.10.0 in /usr/local/lib/python3.6/dist-packages (from tensorflow) (2.10.0)\n",
            "Requirement already satisfied: scipy==1.4.1; python_version >= \"3\" in /usr/local/lib/python3.6/dist-packages (from tensorflow) (1.4.1)\n",
            "Requirement already satisfied: astunparse==1.6.3 in /usr/local/lib/python3.6/dist-packages (from tensorflow) (1.6.3)\n",
            "Requirement already satisfied: numpy<2.0,>=1.16.0 in /usr/local/lib/python3.6/dist-packages (from tensorflow) (1.18.2)\n",
            "Requirement already satisfied: grpcio>=1.8.6 in /usr/local/lib/python3.6/dist-packages (from tensorflow) (1.27.2)\n",
            "Requirement already satisfied: tensorflow-estimator<2.3.0,>=2.2.0rc0 in /usr/local/lib/python3.6/dist-packages (from tensorflow) (2.2.0rc0)\n",
            "Requirement already satisfied: tensorboard<2.3.0,>=2.2.0 in /usr/local/lib/python3.6/dist-packages (from tensorflow) (2.2.0)\n",
            "Requirement already satisfied: gast==0.3.3 in /usr/local/lib/python3.6/dist-packages (from tensorflow) (0.3.3)\n",
            "Requirement already satisfied: termcolor>=1.1.0 in /usr/local/lib/python3.6/dist-packages (from tensorflow) (1.1.0)\n",
            "Requirement already satisfied: wheel>=0.26; python_version >= \"3\" in /usr/local/lib/python3.6/dist-packages (from tensorflow) (0.34.2)\n",
            "Requirement already satisfied: keras-preprocessing>=1.1.0 in /usr/local/lib/python3.6/dist-packages (from tensorflow) (1.1.0)\n",
            "Requirement already satisfied: six>=1.12.0 in /usr/local/lib/python3.6/dist-packages (from tensorflow) (1.12.0)\n",
            "Requirement already satisfied: wrapt>=1.11.1 in /usr/local/lib/python3.6/dist-packages (from tensorflow) (1.12.1)\n",
            "Requirement already satisfied: absl-py>=0.7.0 in /usr/local/lib/python3.6/dist-packages (from tensorflow) (0.9.0)\n",
            "Requirement already satisfied: protobuf>=3.8.0 in /usr/local/lib/python3.6/dist-packages (from tensorflow) (3.10.0)\n",
            "Requirement already satisfied: google-pasta>=0.1.8 in /usr/local/lib/python3.6/dist-packages (from tensorflow) (0.2.0)\n",
            "Requirement already satisfied: tensorboard-plugin-wit>=1.6.0 in /usr/local/lib/python3.6/dist-packages (from tensorboard<2.3.0,>=2.2.0->tensorflow) (1.6.0.post2)\n",
            "Requirement already satisfied: markdown>=2.6.8 in /usr/local/lib/python3.6/dist-packages (from tensorboard<2.3.0,>=2.2.0->tensorflow) (3.2.1)\n",
            "Requirement already satisfied: werkzeug>=0.11.15 in /usr/local/lib/python3.6/dist-packages (from tensorboard<2.3.0,>=2.2.0->tensorflow) (1.0.0)\n",
            "Requirement already satisfied: google-auth-oauthlib<0.5,>=0.4.1 in /usr/local/lib/python3.6/dist-packages (from tensorboard<2.3.0,>=2.2.0->tensorflow) (0.4.1)\n",
            "Requirement already satisfied: google-auth<2,>=1.6.3 in /usr/local/lib/python3.6/dist-packages (from tensorboard<2.3.0,>=2.2.0->tensorflow) (1.7.2)\n",
            "Requirement already satisfied: requests<3,>=2.21.0 in /usr/local/lib/python3.6/dist-packages (from tensorboard<2.3.0,>=2.2.0->tensorflow) (2.21.0)\n",
            "Requirement already satisfied: setuptools>=41.0.0 in /usr/local/lib/python3.6/dist-packages (from tensorboard<2.3.0,>=2.2.0->tensorflow) (46.0.0)\n",
            "Requirement already satisfied: requests-oauthlib>=0.7.0 in /usr/local/lib/python3.6/dist-packages (from google-auth-oauthlib<0.5,>=0.4.1->tensorboard<2.3.0,>=2.2.0->tensorflow) (1.3.0)\n",
            "Requirement already satisfied: rsa<4.1,>=3.1.4 in /usr/local/lib/python3.6/dist-packages (from google-auth<2,>=1.6.3->tensorboard<2.3.0,>=2.2.0->tensorflow) (4.0)\n",
            "Requirement already satisfied: pyasn1-modules>=0.2.1 in /usr/local/lib/python3.6/dist-packages (from google-auth<2,>=1.6.3->tensorboard<2.3.0,>=2.2.0->tensorflow) (0.2.8)\n",
            "Requirement already satisfied: cachetools<3.2,>=2.0.0 in /usr/local/lib/python3.6/dist-packages (from google-auth<2,>=1.6.3->tensorboard<2.3.0,>=2.2.0->tensorflow) (3.1.1)\n",
            "Requirement already satisfied: chardet<3.1.0,>=3.0.2 in /usr/local/lib/python3.6/dist-packages (from requests<3,>=2.21.0->tensorboard<2.3.0,>=2.2.0->tensorflow) (3.0.4)\n",
            "Requirement already satisfied: urllib3<1.25,>=1.21.1 in /usr/local/lib/python3.6/dist-packages (from requests<3,>=2.21.0->tensorboard<2.3.0,>=2.2.0->tensorflow) (1.24.3)\n",
            "Requirement already satisfied: idna<2.9,>=2.5 in /usr/local/lib/python3.6/dist-packages (from requests<3,>=2.21.0->tensorboard<2.3.0,>=2.2.0->tensorflow) (2.8)\n",
            "Requirement already satisfied: certifi>=2017.4.17 in /usr/local/lib/python3.6/dist-packages (from requests<3,>=2.21.0->tensorboard<2.3.0,>=2.2.0->tensorflow) (2019.11.28)\n",
            "Requirement already satisfied: oauthlib>=3.0.0 in /usr/local/lib/python3.6/dist-packages (from requests-oauthlib>=0.7.0->google-auth-oauthlib<0.5,>=0.4.1->tensorboard<2.3.0,>=2.2.0->tensorflow) (3.1.0)\n",
            "Requirement already satisfied: pyasn1>=0.1.3 in /usr/local/lib/python3.6/dist-packages (from rsa<4.1,>=3.1.4->google-auth<2,>=1.6.3->tensorboard<2.3.0,>=2.2.0->tensorflow) (0.4.8)\n"
          ],
          "name": "stdout"
        }
      ]
    },
    {
      "cell_type": "markdown",
      "metadata": {
        "id": "MF9cuHLcdguY",
        "colab_type": "text"
      },
      "source": [
        "## Import section\n"
      ]
    },
    {
      "cell_type": "code",
      "metadata": {
        "id": "-6pgvYp3dGOO",
        "colab_type": "code",
        "colab": {
          "base_uri": "https://localhost:8080/",
          "height": 71
        },
        "outputId": "7224f892-022d-43d1-9493-e3a8a03a5b4e"
      },
      "source": [
        "import ipdb\n",
        "import pandas as pd\n",
        "import seaborn as sns\n",
        "import numpy as np\n",
        "import matplotlib.pyplot as plt\n",
        "# import tensorflow as tf\n",
        "\n",
        "# Classifiers\n",
        "from sklearn import preprocessing\n",
        "from sklearn.preprocessing import RobustScaler\n",
        "from sklearn.preprocessing import QuantileTransformer\n",
        "#from sklearn.preprocessing import StandardScaler\n",
        "\n",
        "from sklearn.experimental import enable_iterative_imputer\n",
        "from sklearn.impute import IterativeImputer\n",
        "\n",
        "from sklearn.ensemble import ExtraTreesClassifier\n",
        "from sklearn.feature_selection import SelectFromModel\n",
        "\n",
        "from sklearn import model_selection\n",
        "from sklearn import metrics"
      ],
      "execution_count": 3,
      "outputs": [
        {
          "output_type": "stream",
          "text": [
            "/usr/local/lib/python3.6/dist-packages/statsmodels/tools/_testing.py:19: FutureWarning: pandas.util.testing is deprecated. Use the functions in the public API at pandas.testing instead.\n",
            "  import pandas.util.testing as tm\n"
          ],
          "name": "stderr"
        }
      ]
    },
    {
      "cell_type": "markdown",
      "metadata": {
        "id": "LQ-dUjXUpFAG",
        "colab_type": "text"
      },
      "source": [
        "## preprocessing"
      ]
    },
    {
      "cell_type": "code",
      "metadata": {
        "id": "YyRkeYMXnkN-",
        "colab_type": "code",
        "colab": {}
      },
      "source": [
        "def Replace(i):\n",
        "    if isinstance(i, int):\n",
        "          return i\n",
        "    try:\n",
        "        float(i)\n",
        "        return float(i)\n",
        "    except:\n",
        "        return np.nan\n",
        "\n",
        "def preprocessing_steps(X_design, Y_design, X_test, Y_test):\n",
        "    # training set\n",
        "    # remove strings from data\n",
        "    X_design = X_design.applymap(func=Replace)\n",
        "\n",
        "    # set 0.0 as NaN\n",
        "    X_design.replace(0, np.nan, inplace=True)\n",
        "\n",
        "    # set Inf as NaN\n",
        "    X_design.replace([np.inf, -np.inf], np.nan, inplace=True)\n",
        "\n",
        "    # remove features with less than 60% values\n",
        "    X_design = X_design.dropna(thresh=round(X_design.shape[0]*0.6), axis='columns')\n",
        "\n",
        "    # remove sample with less than 60% values\n",
        "    # join features and labels\n",
        "    XY_design = X_design.join(Y_design)\n",
        "    # remove samples with not enough values\n",
        "    XY_design = XY_design.dropna(thresh=round(XY_design.shape[1]*0.6))\n",
        "\n",
        "    # remove samples without a label\n",
        "    XY_design['label'].replace(np.nan, '', inplace=True)\n",
        "    XY_design = XY_design[XY_design['label'].astype(bool)]\n",
        "\n",
        "    # split features (X_data) and labels (Y_data)\n",
        "    X_design = XY_design.drop(columns=['label'])\n",
        "    Y_design = XY_design[['label']]\n",
        "    \n",
        "    # add missing value's \n",
        "    imputer = IterativeImputer(sample_posterior=True, n_nearest_features=20, random_state=0)\n",
        "    X_design_imputed = imputer.fit_transform(X_design)\n",
        "\n",
        "    # normalization of values\n",
        "    scaler = RobustScaler()\n",
        "    X_design_scaled = scaler.fit_transform(X_design_imputed)\n",
        "\n",
        "    # getting back to Dataframe \n",
        "    X_design = pd.DataFrame(X_design_scaled, columns=X_design.columns, index=X_design.index)\n",
        "\n",
        "    #X_data = pd.DataFrame(RobustScaler(quantile_range=(25, 75)).fit_transform(X_data), columns=X_data.index, index=X_data.columns)\n",
        "    #X_data = pd.DataFrame(QuantileTransformer(output_distribution='uniform').fit_transform(X_data), columns=X_data.columns, index=X_data.index) # output_distribution='normal'\n",
        "\n",
        "    # test set\n",
        "    # remove strings from data\n",
        "    X_test = X_test.applymap(func=Replace)\n",
        "\n",
        "    # set 0.0 as NaN\n",
        "    X_test.replace(0, np.nan, inplace=True)\n",
        "\n",
        "    # set Inf as NaN\n",
        "    X_test.replace([np.inf, -np.inf], np.nan, inplace=True)\n",
        "    \n",
        "    # remove the same features as the design set\n",
        "    features_design = X_design.columns\n",
        "    features_design = X_design.columns\n",
        "    \n",
        "    df_test = None\n",
        "    for feature in features_design:\n",
        "      df_test_single = pd.DataFrame(X_test[feature])\n",
        "      if df_test is None:\n",
        "        df_test = df_test_single\n",
        "      else:\n",
        "        df_test = df_test.join(df_test_single, how='outer')\n",
        "    \n",
        "    X_test = df_test\n",
        "    \n",
        "    # remove sample with less than 60% values\n",
        "    # join features and labels\n",
        "    XY_test = X_test.join(Y_test)\n",
        "    # remove samples with not enough values\n",
        "    XY_test = XY_test.dropna(thresh=round(XY_test.shape[1]*0.6))\n",
        "\n",
        "    # remove samples without a label\n",
        "    XY_test['label'].replace(np.nan, '', inplace=True)\n",
        "    XY_test = XY_test[XY_test['label'].astype(bool)]\n",
        "\n",
        "    # split features (X_test) and labels (Y_test)\n",
        "    X_test = XY_test.drop(columns=['label'])\n",
        "    Y_test = XY_test[['label']]\n",
        "    \n",
        "    # add missing value's \n",
        "    X_test_imputed = imputer.transform(X_test)\n",
        "\n",
        "    # normalization of values\n",
        "    X_test_scaled = scaler.transform(X_test_imputed)\n",
        "\n",
        "    # getting back to Dataframe \n",
        "    X_test = pd.DataFrame(X_test_scaled, columns=X_test.columns, index=X_test.index)\n",
        "\n",
        "    return X_design, Y_design, X_test, Y_test"
      ],
      "execution_count": 0,
      "outputs": []
    },
    {
      "cell_type": "markdown",
      "metadata": {
        "id": "ClBXawKAVfGD",
        "colab_type": "text"
      },
      "source": [
        "## Feature selection and extraction"
      ]
    },
    {
      "cell_type": "code",
      "metadata": {
        "id": "i8o6DTQGVvjX",
        "colab_type": "code",
        "colab": {}
      },
      "source": [
        "def feature_steps(X_data, Y_data):\n",
        "\n",
        "    impo_clf = ExtraTreesClassifier(n_estimators=50)\n",
        "    impo_clf = impo_clf.fit(X_data, Y_data)\n",
        "    impo_clf.feature_importances_\n",
        "\n",
        "    importances = impo_clf.feature_importances_\n",
        "    std = np.std([impo_clf.feature_importances_ for tree in impo_clf.estimators_], \n",
        "                 axis=0)\n",
        "    indices = np.argsort(importances)[::-1]\n",
        "\n",
        "\n",
        "    plt.figure()\n",
        "    plt.title(\"Feature importances\")\n",
        "    plt.bar(range(X_data.shape[1]), importances[indices],\n",
        "            color=\"r\", yerr=std[indices], align=\"center\")\n",
        "    plt.xticks(range(X_data.shape[1]), indices)\n",
        "    plt.xlim([-1, X_data.shape[1]])\n",
        "    plt.show()\n",
        "\n",
        "    model = SelectFromModel(impo_clf, prefit=True)\n",
        "    X_data = model.transform(X_data)\n",
        "\n",
        "    return X_data, Y_data"
      ],
      "execution_count": 0,
      "outputs": []
    },
    {
      "cell_type": "markdown",
      "metadata": {
        "colab_type": "text",
        "id": "jCKzUBX7rpOj"
      },
      "source": [
        "## Run Pipeline\n",
        "\n",
        "run all predefined steps"
      ]
    },
    {
      "cell_type": "code",
      "metadata": {
        "id": "1IYk4DjwcF48",
        "colab_type": "code",
        "outputId": "ea51310c-c630-4c84-c57e-43ebaab8be01",
        "colab": {
          "base_uri": "https://localhost:8080/",
          "height": 1000
        }
      },
      "source": [
        "# Data loading functions.\n",
        "from brats.load_data import load_data\n",
        "\n",
        "data = load_data()\n",
        "print(f'The number of samples: {len(data.index)}')\n",
        "print(f'The number of columns: {len(data.columns)}')\n",
        "data = pd.DataFrame(data)\n",
        "\n",
        "# split labels and values\n",
        "data_X = data.drop(columns=['label'])\n",
        "data_Y = data[['label']]\n",
        "\n",
        "# data split index forming\n",
        "Test_split = model_selection.StratifiedKFold(n_splits=10)\n",
        "i = 0\n",
        "for design_index, test_index in Test_split.split(data_X, data_Y):\n",
        "    if i:\n",
        "      continue\n",
        "    X_design = data_X.iloc[design_index]\n",
        "    Y_design = data_Y.iloc[design_index]\n",
        "    \n",
        "    X_test = data_X.iloc[test_index]\n",
        "    Y_test = data_Y.iloc[test_index]\n",
        "\n",
        "    # run preprocessing step\n",
        "    X_design, Y_design, X_test, Y_test = preprocessing_steps(X_design, Y_design, X_test, Y_test)\n",
        "    print(X_design)\n",
        "    print(f'The shape of the design set is: {X_design.shape}')\n",
        "    print(X_test)\n",
        "    print(f'The shape of the test set is: {X_test.shape}')\n",
        "\n",
        "    #run feature selection and extraction\n",
        "    X_design, Y_design = feature_steps(X_design, Y_design)\n",
        "\n",
        "    i = 1\n",
        "   \n",
        "\n",
        "# save data to csv for manual check\n",
        "#X_design.to_csv('data_X.csv')\n",
        "#Y_design.to_csv('data_Y.csv')\n",
        "\n"
      ],
      "execution_count": 11,
      "outputs": [
        {
          "output_type": "stream",
          "text": [
            "The number of samples: 167\n",
            "The number of columns: 725\n",
            "              VOLUME_ET  VOLUME_NET  ...  TGM_Cog_Z_1   TGM_T_1\n",
            "ID                                   ...                       \n",
            "TCGA-02-0064   0.423858   -0.149335  ...    -0.409811  0.412749\n",
            "TCGA-02-0068  -0.071461   -0.098523  ...    -0.254765 -0.182429\n",
            "TCGA-02-0069   0.070091    0.912666  ...     0.284368  2.705034\n",
            "TCGA-02-0070  -0.232420   -0.314443  ...     0.839935 -0.449039\n",
            "TCGA-02-0075  -0.046043    0.247846  ...     0.451606 -0.017942\n",
            "...                 ...         ...  ...          ...       ...\n",
            "TCGA-HT-8018  -0.495015   -0.179239  ...    -0.849962 -0.833459\n",
            "TCGA-HT-8111  -0.501256   -0.381408  ...     1.026131 -0.804997\n",
            "TCGA-HT-8114  -0.241514    3.740634  ...     0.526592 -0.757509\n",
            "TCGA-HT-8563  -0.127283   -0.367314  ...    -0.466627 -0.801878\n",
            "TCGA-HT-A61A   0.503820    1.082333  ...    -0.592295  0.330073\n",
            "\n",
            "[150 rows x 692 columns]\n",
            "shape of the design set is: (150, 692)\n",
            "              VOLUME_ET  VOLUME_NET  ...  TGM_Cog_Z_1   TGM_T_1\n",
            "ID                                   ...                       \n",
            "TCGA-02-0006  -0.511416   -0.382707  ...    -0.890534 -0.833459\n",
            "TCGA-02-0009  -0.408676   -0.285520  ...     0.187238 -0.330923\n",
            "TCGA-02-0011   0.696423    0.799424  ...     0.231266  0.685428\n",
            "TCGA-02-0027  -0.113699   -0.206152  ...     0.242535 -0.123141\n",
            "TCGA-02-0033   0.739574   -0.217182  ...     0.253519  0.507658\n",
            "TCGA-02-0034   1.141895    0.230320  ...     0.567091  0.095108\n",
            "TCGA-02-0037   1.075837   -0.068865  ...     0.738493  0.589536\n",
            "TCGA-02-0046   0.784589   -0.288878  ...    -0.451733 -0.025867\n",
            "TCGA-02-0047   1.343531   -0.100239  ...     0.080599 -0.003322\n",
            "TCGA-02-0054   0.082725   -0.172278  ...    -0.800229 -0.185861\n",
            "TCGA-02-0059   2.261682    0.270029  ...     0.374287  1.089250\n",
            "TCGA-CS-4942  -0.566134    0.176273  ...    -0.024841 -0.090812\n",
            "TCGA-CS-4944   0.886919    1.519395  ...    -0.432302  0.684608\n",
            "TCGA-CS-5393  -0.526104    2.323414  ...    -0.536527  0.966112\n",
            "TCGA-CS-5396   2.832725    1.894736  ...    -0.000135 -0.609331\n",
            "TCGA-CS-5397  -0.660033   -0.133354  ...    -0.781516 -0.032585\n",
            "TCGA-CS-6186  -0.476674   -0.355328  ...     0.970060 -0.817565\n",
            "\n",
            "[17 rows x 692 columns]\n",
            "shape of the test set is: (17, 692)\n"
          ],
          "name": "stdout"
        },
        {
          "output_type": "stream",
          "text": [
            "/usr/local/lib/python3.6/dist-packages/ipykernel_launcher.py:4: DataConversionWarning: A column-vector y was passed when a 1d array was expected. Please change the shape of y to (n_samples,), for example using ravel().\n",
            "  after removing the cwd from sys.path.\n"
          ],
          "name": "stderr"
        },
        {
          "output_type": "display_data",
          "data": {
            "image/png": "[encoded data removed]",
            "text/plain": [
              "<Figure size 432x288 with 1 Axes>"
            ]
          },
          "metadata": {
            "tags": []
          }
        }
      ]
    }
  ]
}